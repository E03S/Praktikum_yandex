{
 "cells": [
  {
   "cell_type": "markdown",
   "metadata": {},
   "source": [
    "# Исследование данных продаж игр"
   ]
  },
  {
   "cell_type": "markdown",
   "metadata": {},
   "source": [
    "**Цель: составить приметы популярных игр на 2017 год<br>\n",
    "Описание данных: датасет с данными о продажах магазина \"Стримчик\"<br>\n",
    "План: изучение данных, определение актуального периода, составление портрета потребителя, проверка гипотез о рынке игр.<br>**"
   ]
  },
  {
   "cell_type": "code",
   "execution_count": 1,
   "metadata": {},
   "outputs": [],
   "source": [
    "import pandas as pd\n",
    "import matplotlib.pyplot as plt"
   ]
  },
  {
   "cell_type": "code",
   "execution_count": 2,
   "metadata": {},
   "outputs": [],
   "source": [
    "data=pd.read_csv('/datasets/games.csv')"
   ]
  },
  {
   "cell_type": "markdown",
   "metadata": {},
   "source": [
    "## ***Раздел обработки данных***<br>\n",
    "В данном разделе происходит подготовка данных к анализу, убираются повторы и типы приводяться к более информативным"
   ]
  },
  {
   "cell_type": "markdown",
   "metadata": {},
   "source": [
    "### Обзор данных"
   ]
  },
  {
   "cell_type": "code",
   "execution_count": 3,
   "metadata": {},
   "outputs": [
    {
     "data": {
      "text/html": [
       "<div>\n",
       "<style scoped>\n",
       "    .dataframe tbody tr th:only-of-type {\n",
       "        vertical-align: middle;\n",
       "    }\n",
       "\n",
       "    .dataframe tbody tr th {\n",
       "        vertical-align: top;\n",
       "    }\n",
       "\n",
       "    .dataframe thead th {\n",
       "        text-align: right;\n",
       "    }\n",
       "</style>\n",
       "<table border=\"1\" class=\"dataframe\">\n",
       "  <thead>\n",
       "    <tr style=\"text-align: right;\">\n",
       "      <th></th>\n",
       "      <th>Name</th>\n",
       "      <th>Platform</th>\n",
       "      <th>Year_of_Release</th>\n",
       "      <th>Genre</th>\n",
       "      <th>NA_sales</th>\n",
       "      <th>EU_sales</th>\n",
       "      <th>JP_sales</th>\n",
       "      <th>Other_sales</th>\n",
       "      <th>Critic_Score</th>\n",
       "      <th>User_Score</th>\n",
       "      <th>Rating</th>\n",
       "    </tr>\n",
       "  </thead>\n",
       "  <tbody>\n",
       "    <tr>\n",
       "      <th>0</th>\n",
       "      <td>Wii Sports</td>\n",
       "      <td>Wii</td>\n",
       "      <td>2006.0</td>\n",
       "      <td>Sports</td>\n",
       "      <td>41.36</td>\n",
       "      <td>28.96</td>\n",
       "      <td>3.77</td>\n",
       "      <td>8.45</td>\n",
       "      <td>76.0</td>\n",
       "      <td>8</td>\n",
       "      <td>E</td>\n",
       "    </tr>\n",
       "    <tr>\n",
       "      <th>1</th>\n",
       "      <td>Super Mario Bros.</td>\n",
       "      <td>NES</td>\n",
       "      <td>1985.0</td>\n",
       "      <td>Platform</td>\n",
       "      <td>29.08</td>\n",
       "      <td>3.58</td>\n",
       "      <td>6.81</td>\n",
       "      <td>0.77</td>\n",
       "      <td>NaN</td>\n",
       "      <td>NaN</td>\n",
       "      <td>NaN</td>\n",
       "    </tr>\n",
       "    <tr>\n",
       "      <th>2</th>\n",
       "      <td>Mario Kart Wii</td>\n",
       "      <td>Wii</td>\n",
       "      <td>2008.0</td>\n",
       "      <td>Racing</td>\n",
       "      <td>15.68</td>\n",
       "      <td>12.76</td>\n",
       "      <td>3.79</td>\n",
       "      <td>3.29</td>\n",
       "      <td>82.0</td>\n",
       "      <td>8.3</td>\n",
       "      <td>E</td>\n",
       "    </tr>\n",
       "    <tr>\n",
       "      <th>3</th>\n",
       "      <td>Wii Sports Resort</td>\n",
       "      <td>Wii</td>\n",
       "      <td>2009.0</td>\n",
       "      <td>Sports</td>\n",
       "      <td>15.61</td>\n",
       "      <td>10.93</td>\n",
       "      <td>3.28</td>\n",
       "      <td>2.95</td>\n",
       "      <td>80.0</td>\n",
       "      <td>8</td>\n",
       "      <td>E</td>\n",
       "    </tr>\n",
       "    <tr>\n",
       "      <th>4</th>\n",
       "      <td>Pokemon Red/Pokemon Blue</td>\n",
       "      <td>GB</td>\n",
       "      <td>1996.0</td>\n",
       "      <td>Role-Playing</td>\n",
       "      <td>11.27</td>\n",
       "      <td>8.89</td>\n",
       "      <td>10.22</td>\n",
       "      <td>1.00</td>\n",
       "      <td>NaN</td>\n",
       "      <td>NaN</td>\n",
       "      <td>NaN</td>\n",
       "    </tr>\n",
       "    <tr>\n",
       "      <th>...</th>\n",
       "      <td>...</td>\n",
       "      <td>...</td>\n",
       "      <td>...</td>\n",
       "      <td>...</td>\n",
       "      <td>...</td>\n",
       "      <td>...</td>\n",
       "      <td>...</td>\n",
       "      <td>...</td>\n",
       "      <td>...</td>\n",
       "      <td>...</td>\n",
       "      <td>...</td>\n",
       "    </tr>\n",
       "    <tr>\n",
       "      <th>16710</th>\n",
       "      <td>Samurai Warriors: Sanada Maru</td>\n",
       "      <td>PS3</td>\n",
       "      <td>2016.0</td>\n",
       "      <td>Action</td>\n",
       "      <td>0.00</td>\n",
       "      <td>0.00</td>\n",
       "      <td>0.01</td>\n",
       "      <td>0.00</td>\n",
       "      <td>NaN</td>\n",
       "      <td>NaN</td>\n",
       "      <td>NaN</td>\n",
       "    </tr>\n",
       "    <tr>\n",
       "      <th>16711</th>\n",
       "      <td>LMA Manager 2007</td>\n",
       "      <td>X360</td>\n",
       "      <td>2006.0</td>\n",
       "      <td>Sports</td>\n",
       "      <td>0.00</td>\n",
       "      <td>0.01</td>\n",
       "      <td>0.00</td>\n",
       "      <td>0.00</td>\n",
       "      <td>NaN</td>\n",
       "      <td>NaN</td>\n",
       "      <td>NaN</td>\n",
       "    </tr>\n",
       "    <tr>\n",
       "      <th>16712</th>\n",
       "      <td>Haitaka no Psychedelica</td>\n",
       "      <td>PSV</td>\n",
       "      <td>2016.0</td>\n",
       "      <td>Adventure</td>\n",
       "      <td>0.00</td>\n",
       "      <td>0.00</td>\n",
       "      <td>0.01</td>\n",
       "      <td>0.00</td>\n",
       "      <td>NaN</td>\n",
       "      <td>NaN</td>\n",
       "      <td>NaN</td>\n",
       "    </tr>\n",
       "    <tr>\n",
       "      <th>16713</th>\n",
       "      <td>Spirits &amp; Spells</td>\n",
       "      <td>GBA</td>\n",
       "      <td>2003.0</td>\n",
       "      <td>Platform</td>\n",
       "      <td>0.01</td>\n",
       "      <td>0.00</td>\n",
       "      <td>0.00</td>\n",
       "      <td>0.00</td>\n",
       "      <td>NaN</td>\n",
       "      <td>NaN</td>\n",
       "      <td>NaN</td>\n",
       "    </tr>\n",
       "    <tr>\n",
       "      <th>16714</th>\n",
       "      <td>Winning Post 8 2016</td>\n",
       "      <td>PSV</td>\n",
       "      <td>2016.0</td>\n",
       "      <td>Simulation</td>\n",
       "      <td>0.00</td>\n",
       "      <td>0.00</td>\n",
       "      <td>0.01</td>\n",
       "      <td>0.00</td>\n",
       "      <td>NaN</td>\n",
       "      <td>NaN</td>\n",
       "      <td>NaN</td>\n",
       "    </tr>\n",
       "  </tbody>\n",
       "</table>\n",
       "<p>16715 rows × 11 columns</p>\n",
       "</div>"
      ],
      "text/plain": [
       "                                Name Platform  Year_of_Release         Genre  \\\n",
       "0                         Wii Sports      Wii           2006.0        Sports   \n",
       "1                  Super Mario Bros.      NES           1985.0      Platform   \n",
       "2                     Mario Kart Wii      Wii           2008.0        Racing   \n",
       "3                  Wii Sports Resort      Wii           2009.0        Sports   \n",
       "4           Pokemon Red/Pokemon Blue       GB           1996.0  Role-Playing   \n",
       "...                              ...      ...              ...           ...   \n",
       "16710  Samurai Warriors: Sanada Maru      PS3           2016.0        Action   \n",
       "16711               LMA Manager 2007     X360           2006.0        Sports   \n",
       "16712        Haitaka no Psychedelica      PSV           2016.0     Adventure   \n",
       "16713               Spirits & Spells      GBA           2003.0      Platform   \n",
       "16714            Winning Post 8 2016      PSV           2016.0    Simulation   \n",
       "\n",
       "       NA_sales  EU_sales  JP_sales  Other_sales  Critic_Score User_Score  \\\n",
       "0         41.36     28.96      3.77         8.45          76.0          8   \n",
       "1         29.08      3.58      6.81         0.77           NaN        NaN   \n",
       "2         15.68     12.76      3.79         3.29          82.0        8.3   \n",
       "3         15.61     10.93      3.28         2.95          80.0          8   \n",
       "4         11.27      8.89     10.22         1.00           NaN        NaN   \n",
       "...         ...       ...       ...          ...           ...        ...   \n",
       "16710      0.00      0.00      0.01         0.00           NaN        NaN   \n",
       "16711      0.00      0.01      0.00         0.00           NaN        NaN   \n",
       "16712      0.00      0.00      0.01         0.00           NaN        NaN   \n",
       "16713      0.01      0.00      0.00         0.00           NaN        NaN   \n",
       "16714      0.00      0.00      0.01         0.00           NaN        NaN   \n",
       "\n",
       "      Rating  \n",
       "0          E  \n",
       "1        NaN  \n",
       "2          E  \n",
       "3          E  \n",
       "4        NaN  \n",
       "...      ...  \n",
       "16710    NaN  \n",
       "16711    NaN  \n",
       "16712    NaN  \n",
       "16713    NaN  \n",
       "16714    NaN  \n",
       "\n",
       "[16715 rows x 11 columns]"
      ]
     },
     "metadata": {},
     "output_type": "display_data"
    },
    {
     "name": "stdout",
     "output_type": "stream",
     "text": [
      "<class 'pandas.core.frame.DataFrame'>\n",
      "RangeIndex: 16715 entries, 0 to 16714\n",
      "Data columns (total 11 columns):\n",
      " #   Column           Non-Null Count  Dtype  \n",
      "---  ------           --------------  -----  \n",
      " 0   Name             16713 non-null  object \n",
      " 1   Platform         16715 non-null  object \n",
      " 2   Year_of_Release  16446 non-null  float64\n",
      " 3   Genre            16713 non-null  object \n",
      " 4   NA_sales         16715 non-null  float64\n",
      " 5   EU_sales         16715 non-null  float64\n",
      " 6   JP_sales         16715 non-null  float64\n",
      " 7   Other_sales      16715 non-null  float64\n",
      " 8   Critic_Score     8137 non-null   float64\n",
      " 9   User_Score       10014 non-null  object \n",
      " 10  Rating           9949 non-null   object \n",
      "dtypes: float64(6), object(5)\n",
      "memory usage: 1.4+ MB\n"
     ]
    }
   ],
   "source": [
    "display(data)\n",
    "data.info()"
   ]
  },
  {
   "cell_type": "markdown",
   "metadata": {},
   "source": [
    "### Приведем таблицу к стнадартному виду, уберем явные дубликаты и заполним пропуски"
   ]
  },
  {
   "cell_type": "code",
   "execution_count": 4,
   "metadata": {},
   "outputs": [],
   "source": [
    "data.columns= data.columns.str.lower()"
   ]
  },
  {
   "cell_type": "code",
   "execution_count": 5,
   "metadata": {
    "scrolled": true
   },
   "outputs": [
    {
     "name": "stdout",
     "output_type": "stream",
     "text": [
      "name                  2\n",
      "platform              0\n",
      "year_of_release     269\n",
      "genre                 2\n",
      "na_sales              0\n",
      "eu_sales              0\n",
      "jp_sales              0\n",
      "other_sales           0\n",
      "critic_score       8578\n",
      "user_score         6701\n",
      "rating             6766\n",
      "dtype: int64\n",
      "name                  0\n",
      "platform              0\n",
      "year_of_release       0\n",
      "genre                 0\n",
      "na_sales              0\n",
      "eu_sales              0\n",
      "jp_sales              0\n",
      "other_sales           0\n",
      "critic_score       8461\n",
      "user_score         6605\n",
      "rating                0\n",
      "dtype: int64\n"
     ]
    }
   ],
   "source": [
    "print(data.isna().sum())\n",
    "\n",
    "data = data.drop(data[data['name'].isna()].index)\n",
    "data = data.drop_duplicates()\n",
    "data = data.drop(data[data['year_of_release'].isna()].index)\n",
    "data['rating'] = data['rating'].fillna('No_ESRB')\n",
    "\n",
    "print(data.isna().sum())"
   ]
  },
  {
   "cell_type": "markdown",
   "metadata": {},
   "source": [
    "Удалены игры без названия и игры без года выпуска. Удалены явные дубликаты и пропуски в колонке рейтинг заменены на No_ESRB"
   ]
  },
  {
   "cell_type": "code",
   "execution_count": 6,
   "metadata": {},
   "outputs": [],
   "source": [
    "data.columns=data.columns.str.lower()\n",
    "data['year_of_release'] = data['year_of_release'].astype('Int16')\n",
    "data['rating'] = data['rating'].astype('category')\n",
    "#data['genre'] = data['genre'].astype('category')\n",
    "data.loc[data['user_score']=='tbd', 'user_score']=None\n",
    "data['user_score'] = pd.to_numeric(data['user_score'], downcast='float',errors='ignore')\n",
    "#print(data['user_score'].unique())"
   ]
  },
  {
   "cell_type": "markdown",
   "metadata": {},
   "source": [
    "Заменены типы данных в столбцах годы на целочисленные, рейтинг ESRB на категориальные, жанр на категориальные, так же tbd было заменно на nan, и приведены оценки пользователей к числам с плавающей точкой, а оценки критиков к целым числам. "
   ]
  },
  {
   "cell_type": "code",
   "execution_count": 7,
   "metadata": {
    "scrolled": true
   },
   "outputs": [
    {
     "name": "stdout",
     "output_type": "stream",
     "text": [
      "<class 'pandas.core.frame.DataFrame'>\n",
      "Int64Index: 16444 entries, 0 to 16714\n",
      "Data columns (total 11 columns):\n",
      " #   Column           Non-Null Count  Dtype   \n",
      "---  ------           --------------  -----   \n",
      " 0   name             16444 non-null  object  \n",
      " 1   platform         16444 non-null  object  \n",
      " 2   year_of_release  16444 non-null  Int16   \n",
      " 3   genre            16444 non-null  object  \n",
      " 4   na_sales         16444 non-null  float64 \n",
      " 5   eu_sales         16444 non-null  float64 \n",
      " 6   jp_sales         16444 non-null  float64 \n",
      " 7   other_sales      16444 non-null  float64 \n",
      " 8   critic_score     7983 non-null   float64 \n",
      " 9   user_score       7463 non-null   float32 \n",
      " 10  rating           16444 non-null  category\n",
      "dtypes: Int16(1), category(1), float32(1), float64(5), object(3)\n",
      "memory usage: 1.3+ MB\n"
     ]
    }
   ],
   "source": [
    "data.info()"
   ]
  },
  {
   "cell_type": "markdown",
   "metadata": {},
   "source": [
    "Создадим колонку для общих продаж игр"
   ]
  },
  {
   "cell_type": "code",
   "execution_count": 8,
   "metadata": {},
   "outputs": [],
   "source": [
    "data['all_sales']=data['na_sales']+data['eu_sales']+data['jp_sales']+data['other_sales']"
   ]
  },
  {
   "cell_type": "code",
   "execution_count": 9,
   "metadata": {
    "scrolled": true
   },
   "outputs": [
    {
     "data": {
      "text/html": [
       "<div>\n",
       "<style scoped>\n",
       "    .dataframe tbody tr th:only-of-type {\n",
       "        vertical-align: middle;\n",
       "    }\n",
       "\n",
       "    .dataframe tbody tr th {\n",
       "        vertical-align: top;\n",
       "    }\n",
       "\n",
       "    .dataframe thead th {\n",
       "        text-align: right;\n",
       "    }\n",
       "</style>\n",
       "<table border=\"1\" class=\"dataframe\">\n",
       "  <thead>\n",
       "    <tr style=\"text-align: right;\">\n",
       "      <th></th>\n",
       "      <th>name</th>\n",
       "      <th>platform</th>\n",
       "      <th>year_of_release</th>\n",
       "      <th>genre</th>\n",
       "      <th>na_sales</th>\n",
       "      <th>eu_sales</th>\n",
       "      <th>jp_sales</th>\n",
       "      <th>other_sales</th>\n",
       "      <th>critic_score</th>\n",
       "      <th>user_score</th>\n",
       "      <th>rating</th>\n",
       "      <th>all_sales</th>\n",
       "    </tr>\n",
       "  </thead>\n",
       "  <tbody>\n",
       "    <tr>\n",
       "      <th>0</th>\n",
       "      <td>Wii Sports</td>\n",
       "      <td>Wii</td>\n",
       "      <td>2006</td>\n",
       "      <td>Sports</td>\n",
       "      <td>41.36</td>\n",
       "      <td>28.96</td>\n",
       "      <td>3.77</td>\n",
       "      <td>8.45</td>\n",
       "      <td>76.0</td>\n",
       "      <td>8.0</td>\n",
       "      <td>E</td>\n",
       "      <td>82.54</td>\n",
       "    </tr>\n",
       "    <tr>\n",
       "      <th>1</th>\n",
       "      <td>Super Mario Bros.</td>\n",
       "      <td>NES</td>\n",
       "      <td>1985</td>\n",
       "      <td>Platform</td>\n",
       "      <td>29.08</td>\n",
       "      <td>3.58</td>\n",
       "      <td>6.81</td>\n",
       "      <td>0.77</td>\n",
       "      <td>NaN</td>\n",
       "      <td>NaN</td>\n",
       "      <td>No_ESRB</td>\n",
       "      <td>40.24</td>\n",
       "    </tr>\n",
       "    <tr>\n",
       "      <th>2</th>\n",
       "      <td>Mario Kart Wii</td>\n",
       "      <td>Wii</td>\n",
       "      <td>2008</td>\n",
       "      <td>Racing</td>\n",
       "      <td>15.68</td>\n",
       "      <td>12.76</td>\n",
       "      <td>3.79</td>\n",
       "      <td>3.29</td>\n",
       "      <td>82.0</td>\n",
       "      <td>8.3</td>\n",
       "      <td>E</td>\n",
       "      <td>35.52</td>\n",
       "    </tr>\n",
       "    <tr>\n",
       "      <th>3</th>\n",
       "      <td>Wii Sports Resort</td>\n",
       "      <td>Wii</td>\n",
       "      <td>2009</td>\n",
       "      <td>Sports</td>\n",
       "      <td>15.61</td>\n",
       "      <td>10.93</td>\n",
       "      <td>3.28</td>\n",
       "      <td>2.95</td>\n",
       "      <td>80.0</td>\n",
       "      <td>8.0</td>\n",
       "      <td>E</td>\n",
       "      <td>32.77</td>\n",
       "    </tr>\n",
       "    <tr>\n",
       "      <th>4</th>\n",
       "      <td>Pokemon Red/Pokemon Blue</td>\n",
       "      <td>GB</td>\n",
       "      <td>1996</td>\n",
       "      <td>Role-Playing</td>\n",
       "      <td>11.27</td>\n",
       "      <td>8.89</td>\n",
       "      <td>10.22</td>\n",
       "      <td>1.00</td>\n",
       "      <td>NaN</td>\n",
       "      <td>NaN</td>\n",
       "      <td>No_ESRB</td>\n",
       "      <td>31.38</td>\n",
       "    </tr>\n",
       "    <tr>\n",
       "      <th>...</th>\n",
       "      <td>...</td>\n",
       "      <td>...</td>\n",
       "      <td>...</td>\n",
       "      <td>...</td>\n",
       "      <td>...</td>\n",
       "      <td>...</td>\n",
       "      <td>...</td>\n",
       "      <td>...</td>\n",
       "      <td>...</td>\n",
       "      <td>...</td>\n",
       "      <td>...</td>\n",
       "      <td>...</td>\n",
       "    </tr>\n",
       "    <tr>\n",
       "      <th>16710</th>\n",
       "      <td>Samurai Warriors: Sanada Maru</td>\n",
       "      <td>PS3</td>\n",
       "      <td>2016</td>\n",
       "      <td>Action</td>\n",
       "      <td>0.00</td>\n",
       "      <td>0.00</td>\n",
       "      <td>0.01</td>\n",
       "      <td>0.00</td>\n",
       "      <td>NaN</td>\n",
       "      <td>NaN</td>\n",
       "      <td>No_ESRB</td>\n",
       "      <td>0.01</td>\n",
       "    </tr>\n",
       "    <tr>\n",
       "      <th>16711</th>\n",
       "      <td>LMA Manager 2007</td>\n",
       "      <td>X360</td>\n",
       "      <td>2006</td>\n",
       "      <td>Sports</td>\n",
       "      <td>0.00</td>\n",
       "      <td>0.01</td>\n",
       "      <td>0.00</td>\n",
       "      <td>0.00</td>\n",
       "      <td>NaN</td>\n",
       "      <td>NaN</td>\n",
       "      <td>No_ESRB</td>\n",
       "      <td>0.01</td>\n",
       "    </tr>\n",
       "    <tr>\n",
       "      <th>16712</th>\n",
       "      <td>Haitaka no Psychedelica</td>\n",
       "      <td>PSV</td>\n",
       "      <td>2016</td>\n",
       "      <td>Adventure</td>\n",
       "      <td>0.00</td>\n",
       "      <td>0.00</td>\n",
       "      <td>0.01</td>\n",
       "      <td>0.00</td>\n",
       "      <td>NaN</td>\n",
       "      <td>NaN</td>\n",
       "      <td>No_ESRB</td>\n",
       "      <td>0.01</td>\n",
       "    </tr>\n",
       "    <tr>\n",
       "      <th>16713</th>\n",
       "      <td>Spirits &amp; Spells</td>\n",
       "      <td>GBA</td>\n",
       "      <td>2003</td>\n",
       "      <td>Platform</td>\n",
       "      <td>0.01</td>\n",
       "      <td>0.00</td>\n",
       "      <td>0.00</td>\n",
       "      <td>0.00</td>\n",
       "      <td>NaN</td>\n",
       "      <td>NaN</td>\n",
       "      <td>No_ESRB</td>\n",
       "      <td>0.01</td>\n",
       "    </tr>\n",
       "    <tr>\n",
       "      <th>16714</th>\n",
       "      <td>Winning Post 8 2016</td>\n",
       "      <td>PSV</td>\n",
       "      <td>2016</td>\n",
       "      <td>Simulation</td>\n",
       "      <td>0.00</td>\n",
       "      <td>0.00</td>\n",
       "      <td>0.01</td>\n",
       "      <td>0.00</td>\n",
       "      <td>NaN</td>\n",
       "      <td>NaN</td>\n",
       "      <td>No_ESRB</td>\n",
       "      <td>0.01</td>\n",
       "    </tr>\n",
       "  </tbody>\n",
       "</table>\n",
       "<p>16444 rows × 12 columns</p>\n",
       "</div>"
      ],
      "text/plain": [
       "                                name platform  year_of_release         genre  \\\n",
       "0                         Wii Sports      Wii             2006        Sports   \n",
       "1                  Super Mario Bros.      NES             1985      Platform   \n",
       "2                     Mario Kart Wii      Wii             2008        Racing   \n",
       "3                  Wii Sports Resort      Wii             2009        Sports   \n",
       "4           Pokemon Red/Pokemon Blue       GB             1996  Role-Playing   \n",
       "...                              ...      ...              ...           ...   \n",
       "16710  Samurai Warriors: Sanada Maru      PS3             2016        Action   \n",
       "16711               LMA Manager 2007     X360             2006        Sports   \n",
       "16712        Haitaka no Psychedelica      PSV             2016     Adventure   \n",
       "16713               Spirits & Spells      GBA             2003      Platform   \n",
       "16714            Winning Post 8 2016      PSV             2016    Simulation   \n",
       "\n",
       "       na_sales  eu_sales  jp_sales  other_sales  critic_score  user_score  \\\n",
       "0         41.36     28.96      3.77         8.45          76.0         8.0   \n",
       "1         29.08      3.58      6.81         0.77           NaN         NaN   \n",
       "2         15.68     12.76      3.79         3.29          82.0         8.3   \n",
       "3         15.61     10.93      3.28         2.95          80.0         8.0   \n",
       "4         11.27      8.89     10.22         1.00           NaN         NaN   \n",
       "...         ...       ...       ...          ...           ...         ...   \n",
       "16710      0.00      0.00      0.01         0.00           NaN         NaN   \n",
       "16711      0.00      0.01      0.00         0.00           NaN         NaN   \n",
       "16712      0.00      0.00      0.01         0.00           NaN         NaN   \n",
       "16713      0.01      0.00      0.00         0.00           NaN         NaN   \n",
       "16714      0.00      0.00      0.01         0.00           NaN         NaN   \n",
       "\n",
       "        rating  all_sales  \n",
       "0            E      82.54  \n",
       "1      No_ESRB      40.24  \n",
       "2            E      35.52  \n",
       "3            E      32.77  \n",
       "4      No_ESRB      31.38  \n",
       "...        ...        ...  \n",
       "16710  No_ESRB       0.01  \n",
       "16711  No_ESRB       0.01  \n",
       "16712  No_ESRB       0.01  \n",
       "16713  No_ESRB       0.01  \n",
       "16714  No_ESRB       0.01  \n",
       "\n",
       "[16444 rows x 12 columns]"
      ]
     },
     "metadata": {},
     "output_type": "display_data"
    }
   ],
   "source": [
    "display(data)"
   ]
  },
  {
   "cell_type": "markdown",
   "metadata": {},
   "source": [
    "Пропуски в коллонках отзывов могут появится по разным причинам игра только вышла или очень непопулярна, пропуски не заполнены по причине того что при обработке они все равно не будут учтены, а заполнять их медианными значениями для жанра тоже не имеет смысла и может только повредить анализу."
   ]
  },
  {
   "cell_type": "code",
   "execution_count": 10,
   "metadata": {},
   "outputs": [
    {
     "name": "stdout",
     "output_type": "stream",
     "text": [
      "<class 'pandas.core.frame.DataFrame'>\n",
      "Int64Index: 16444 entries, 0 to 16714\n",
      "Data columns (total 12 columns):\n",
      " #   Column           Non-Null Count  Dtype   \n",
      "---  ------           --------------  -----   \n",
      " 0   name             16444 non-null  object  \n",
      " 1   platform         16444 non-null  object  \n",
      " 2   year_of_release  16444 non-null  Int16   \n",
      " 3   genre            16444 non-null  object  \n",
      " 4   na_sales         16444 non-null  float64 \n",
      " 5   eu_sales         16444 non-null  float64 \n",
      " 6   jp_sales         16444 non-null  float64 \n",
      " 7   other_sales      16444 non-null  float64 \n",
      " 8   critic_score     7983 non-null   float64 \n",
      " 9   user_score       7463 non-null   float32 \n",
      " 10  rating           16444 non-null  category\n",
      " 11  all_sales        16444 non-null  float64 \n",
      "dtypes: Int16(1), category(1), float32(1), float64(6), object(3)\n",
      "memory usage: 1.4+ MB\n",
      "None\n",
      "-------------------------\n",
      "name [' Beyblade Burst' ' Fire Emblem Fates' \" Frozen: Olaf's Quest\" ...\n",
      " 'uDraw Studio' 'uDraw Studio: Instant Artist'\n",
      " '¡Shin Chan Flipa en colores!']\n",
      "name : кол-во NaN 0 , процент NaN 0.0 %\n",
      "-------------------------\n",
      "platform ['2600' '3DO' '3DS' 'DC' 'DS' 'GB' 'GBA' 'GC' 'GEN' 'GG' 'N64' 'NES' 'NG'\n",
      " 'PC' 'PCFX' 'PS' 'PS2' 'PS3' 'PS4' 'PSP' 'PSV' 'SAT' 'SCD' 'SNES' 'TG16'\n",
      " 'WS' 'Wii' 'WiiU' 'X360' 'XB' 'XOne']\n",
      "platform : кол-во NaN 0 , процент NaN 0.0 %\n",
      "-------------------------\n",
      "year_of_release <IntegerArray>\n",
      "[1980, 1981, 1982, 1983, 1984, 1985, 1986, 1987, 1988, 1989, 1990, 1991, 1992,\n",
      " 1993, 1994, 1995, 1996, 1997, 1998, 1999, 2000, 2001, 2002, 2003, 2004, 2005,\n",
      " 2006, 2007, 2008, 2009, 2010, 2011, 2012, 2013, 2014, 2015, 2016]\n",
      "Length: 37, dtype: Int16\n",
      "year_of_release : кол-во NaN 0 , процент NaN 0.0 %\n",
      "-------------------------\n",
      "genre ['Action' 'Adventure' 'Fighting' 'Misc' 'Platform' 'Puzzle' 'Racing'\n",
      " 'Role-Playing' 'Shooter' 'Simulation' 'Sports' 'Strategy']\n",
      "genre : кол-во NaN 0 , процент NaN 0.0 %\n",
      "-------------------------\n",
      "critic_score [13. 17. 19. 20. 21. 23. 24. 25. 26. 27. 28. 29. 30. 31. 32. 33. 34. 35.\n",
      " 36. 37. 38. 39. 40. 41. 42. 43. 44. 45. 46. 47. 48. 49. 50. 51. 52. 53.\n",
      " 54. 55. 56. 57. 58. 59. 60. 61. 62. 63. 64. 65. 66. 67. 68. 69. 70. 71.\n",
      " 72. 73. 74. 75. 76. 77. 78. 79. 80. 81. 82. 83. 84. 85. 86. 87. 88. 89.\n",
      " 90. 91. 92. 93. 94. 95. 96. 97. 98. nan]\n",
      "critic_score : кол-во NaN 8461 , процент NaN 51.45 %\n",
      "-------------------------\n",
      "user_score [0.  0.2 0.3 0.5 0.6 0.7 0.9 1.  1.1 1.2 1.3 1.4 1.5 1.6 1.7 1.8 1.9 2.\n",
      " 2.1 2.2 2.3 2.4 2.5 2.6 2.7 2.8 2.9 3.  3.1 3.2 3.3 3.4 3.5 3.6 3.7 3.8\n",
      " 3.9 4.  4.1 4.2 4.3 4.4 4.5 4.6 4.7 4.8 4.9 5.  5.1 5.2 5.3 5.4 5.5 5.6\n",
      " 5.7 5.8 5.9 6.  6.1 6.2 6.3 6.4 6.5 6.6 6.7 6.8 6.9 7.  7.1 7.2 7.3 7.4\n",
      " 7.5 7.6 7.7 7.8 7.9 8.  8.1 8.2 8.3 8.4 8.5 8.6 8.7 8.8 8.9 9.  9.1 9.2\n",
      " 9.3 9.4 9.5 9.6 9.7 nan]\n",
      "user_score : кол-во NaN 8981 , процент NaN 54.62 %\n",
      "-------------------------\n",
      "rating ['AO', 'E', 'E10+', 'EC', 'K-A', 'M', 'No_ESRB', 'RP', 'T']\n",
      "Categories (9, object): ['AO', 'E', 'E10+', 'EC', ..., 'M', 'No_ESRB', 'RP', 'T']\n",
      "rating : кол-во NaN 0 , процент NaN 0.0 %\n"
     ]
    }
   ],
   "source": [
    "# Комментарий ревьюера\n",
    "# Посмотрим, что у нас осталось\n",
    "temp = data.copy() \n",
    "list_c = ['name', 'platform', 'year_of_release', 'genre', 'critic_score', 'user_score', 'rating']\n",
    "print(temp.info())\n",
    "for col_l in list_c:\n",
    "  print('-'* 25)\n",
    "  print(col_l, temp[col_l].sort_values().unique())\n",
    "  print(col_l,': кол-во NaN',temp[col_l].isna().sum(),\n",
    "        ', процент NaN', round(temp[col_l].isna().sum()/len(temp)*100, 2),'%')"
   ]
  },
  {
   "cell_type": "markdown",
   "metadata": {},
   "source": [
    "**Данные готовы к обработке**"
   ]
  },
  {
   "cell_type": "markdown",
   "metadata": {},
   "source": [
    "## ***Раздел анализ данных***<br>\n",
    "В данном разделе ведется первичный анализ данных, ищутся общие закономерности и наглядно показываются данные"
   ]
  },
  {
   "cell_type": "markdown",
   "metadata": {},
   "source": [
    "### Визиулизируем данные о количестве игр за каждый год"
   ]
  },
  {
   "cell_type": "code",
   "execution_count": 11,
   "metadata": {},
   "outputs": [
    {
     "data": {
      "text/plain": [
       "<AxesSubplot:xlabel='year_of_release', ylabel='total number of games'>"
      ]
     },
     "execution_count": 11,
     "metadata": {},
     "output_type": "execute_result"
    },
    {
     "data": {
      "image/png": "[encoded data removed]",
      "text/plain": [
       "<Figure size 432x288 with 1 Axes>"
      ]
     },
     "metadata": {
      "needs_background": "light"
     },
     "output_type": "display_data"
    }
   ],
   "source": [
    "data.groupby('year_of_release')['name'].count().plot(ylabel='total number of games')"
   ]
  },
  {
   "cell_type": "markdown",
   "metadata": {},
   "source": [
    "Видно что количество выпущенных игр после 2008-2009 года пошло на спад, это скорее всего связанно с затратами на производство игр, новейшие технологии и требования пользователей увеличивают время разработки."
   ]
  },
  {
   "cell_type": "markdown",
   "metadata": {},
   "source": [
    "### Визиулизируем данные о количестве игр на каждой платформе"
   ]
  },
  {
   "cell_type": "code",
   "execution_count": 12,
   "metadata": {},
   "outputs": [
    {
     "data": {
      "text/plain": [
       "<AxesSubplot:xlabel='platform', ylabel='number of games'>"
      ]
     },
     "execution_count": 12,
     "metadata": {},
     "output_type": "execute_result"
    },
    {
     "data": {
      "image/png": "[encoded data removed]",
      "text/plain": [
       "<Figure size 432x288 with 1 Axes>"
      ]
     },
     "metadata": {
      "needs_background": "light"
     },
     "output_type": "display_data"
    }
   ],
   "source": [
    "data.groupby('platform').count().sort_values(by='name',ascending=False)['name'].plot(kind='bar',ylabel='number of games')"
   ]
  },
  {
   "cell_type": "markdown",
   "metadata": {},
   "source": [
    "Из этого графика о количество игр на каждой платформе, вижно что за все время на платформах PS2 и DS было сделано больше игр."
   ]
  },
  {
   "cell_type": "markdown",
   "metadata": {},
   "source": [
    "### Визиулизируем данные о количестве игр на каждой консоли за год <br>\n",
    "Это поможет нам найти актуальный период для прогнозирования 2017 года, и актуальные платформы"
   ]
  },
  {
   "cell_type": "code",
   "execution_count": 13,
   "metadata": {},
   "outputs": [
    {
     "data": {
      "image/png": "[encoded data removed]",
      "text/plain": [
       "<Figure size 720x5760 with 31 Axes>"
      ]
     },
     "metadata": {
      "needs_background": "light"
     },
     "output_type": "display_data"
    }
   ],
   "source": [
    "data_sub=data.copy()\n",
    "data_sub['year_of_release']=data_sub['year_of_release'].astype('category')\n",
    "fig, ax = plt.subplots(len(data_sub['platform'].unique()),figsize=(10,80))\n",
    "\n",
    "j=0\n",
    "for i in data_sub['platform'].unique():\n",
    "    ax[j].plot(list(data_sub[data_sub['platform']==i].groupby('year_of_release').count().index.values),\\\n",
    "               data_sub[data_sub['platform']==i].groupby('year_of_release').count()['name'].to_list())\n",
    "    ax[j].set_title(i)\n",
    "    ax[j].set_xlim([1980,2016])\n",
    "    j+=1\n",
    "    \n"
   ]
  },
  {
   "cell_type": "markdown",
   "metadata": {},
   "source": [
    "Можем заметить что консоли держаться в основном в промежутке от 5 до 15, самые популярные консоли лежат в рамках 6-10 лет, поэтому возьмем 4 года как актуальное для анализа время чтобы захватить растущие тренды и не взять угасающие.\n",
    "Из графиков видно что заканчивается эра PS3, 3DS, WiiU, и идет на спад PSVita, растут PS4, PC, Xbox One."
   ]
  },
  {
   "cell_type": "markdown",
   "metadata": {},
   "source": [
    "Выделим актуальный период, отбросив неактуальные данные"
   ]
  },
  {
   "cell_type": "code",
   "execution_count": 14,
   "metadata": {},
   "outputs": [],
   "source": [
    "data_act=data[data['year_of_release']>=2013]"
   ]
  },
  {
   "cell_type": "markdown",
   "metadata": {},
   "source": [
    "<font color='DarkBlue'><b>Комментарий ревьюера</b></font><br>\n",
    "<font color='Red'>🛠 Проект не структурирован, не понятно, что мы делаем и зачем, что получаем и какие делаем выводы из анализа.</font>"
   ]
  },
  {
   "cell_type": "markdown",
   "metadata": {},
   "source": [
    "### Визуализируем общие продажи по платформам с выделением медианы и верхней и нижней квантили"
   ]
  },
  {
   "cell_type": "code",
   "execution_count": 15,
   "metadata": {},
   "outputs": [
    {
     "data": {
      "text/plain": [
       "<AxesSubplot:title={'center':'all_sales'}, xlabel='platform'>"
      ]
     },
     "execution_count": 15,
     "metadata": {},
     "output_type": "execute_result"
    },
    {
     "data": {
      "image/png": "[encoded data removed]",
      "text/plain": [
       "<Figure size 720x720 with 1 Axes>"
      ]
     },
     "metadata": {
      "needs_background": "light"
     },
     "output_type": "display_data"
    }
   ],
   "source": [
    "data_act.boxplot(by='platform',column='all_sales',figsize=(10,10))\n",
    "#[data_act['year_of_release']==2016]"
   ]
  },
  {
   "cell_type": "code",
   "execution_count": 16,
   "metadata": {},
   "outputs": [
    {
     "data": {
      "text/plain": [
       "(0.0, 2.0)"
      ]
     },
     "execution_count": 16,
     "metadata": {},
     "output_type": "execute_result"
    },
    {
     "data": {
      "image/png": "[encoded data removed]",
      "text/plain": [
       "<Figure size 720x720 with 1 Axes>"
      ]
     },
     "metadata": {
      "needs_background": "light"
     },
     "output_type": "display_data"
    }
   ],
   "source": [
    "data_act.boxplot(by='platform',column='all_sales',figsize=(10,10)).set_ylim(0,2)"
   ]
  },
  {
   "cell_type": "markdown",
   "metadata": {},
   "source": [
    "Визуализирован разброс продаж по платформам, видно что лучше всех показывают себя PS4 X360 XOne, медиана и первая квантиль у них больше чем у остальных консолей"
   ]
  },
  {
   "cell_type": "markdown",
   "metadata": {},
   "source": [
    "### Визиулизируем зависимость продаж от отзывов критиков и пользователей"
   ]
  },
  {
   "cell_type": "code",
   "execution_count": 17,
   "metadata": {
    "scrolled": true
   },
   "outputs": [
    {
     "data": {
      "text/plain": [
       "<AxesSubplot:xlabel='user_score', ylabel='all_sales'>"
      ]
     },
     "execution_count": 17,
     "metadata": {},
     "output_type": "execute_result"
    },
    {
     "data": {
      "image/png": "[encoded data removed]",
      "text/plain": [
       "<Figure size 432x288 with 1 Axes>"
      ]
     },
     "metadata": {
      "needs_background": "light"
     },
     "output_type": "display_data"
    },
    {
     "data": {
      "image/png": "[encoded data removed]",
      "text/plain": [
       "<Figure size 432x288 with 1 Axes>"
      ]
     },
     "metadata": {
      "needs_background": "light"
     },
     "output_type": "display_data"
    }
   ],
   "source": [
    "data_act[data_act['platform']=='PS3'].plot.scatter(x='critic_score',y='all_sales')\n",
    "data_act[data_act['platform']=='PS3'].plot.scatter(x='user_score',y='all_sales')"
   ]
  },
  {
   "cell_type": "markdown",
   "metadata": {},
   "source": [
    "Из графиков видно, что у всех отлично продающихся игр хорошие оценки критиков, но не все игры с хорошими оценками хорошо продаются. "
   ]
  },
  {
   "cell_type": "code",
   "execution_count": 18,
   "metadata": {},
   "outputs": [
    {
     "name": "stdout",
     "output_type": "stream",
     "text": [
      "<class 'pandas.core.frame.DataFrame'>\n",
      "Int64Index: 2233 entries, 16 to 16714\n",
      "Data columns (total 12 columns):\n",
      " #   Column           Non-Null Count  Dtype   \n",
      "---  ------           --------------  -----   \n",
      " 0   name             2233 non-null   object  \n",
      " 1   platform         2233 non-null   object  \n",
      " 2   year_of_release  2233 non-null   Int16   \n",
      " 3   genre            2233 non-null   object  \n",
      " 4   na_sales         2233 non-null   float64 \n",
      " 5   eu_sales         2233 non-null   float64 \n",
      " 6   jp_sales         2233 non-null   float64 \n",
      " 7   other_sales      2233 non-null   float64 \n",
      " 8   critic_score     991 non-null    float64 \n",
      " 9   user_score       1192 non-null   float32 \n",
      " 10  rating           2233 non-null   category\n",
      " 11  all_sales        2233 non-null   float64 \n",
      "dtypes: Int16(1), category(1), float32(1), float64(6), object(3)\n",
      "memory usage: 192.3+ KB\n"
     ]
    }
   ],
   "source": [
    "data_act.info()"
   ]
  },
  {
   "cell_type": "markdown",
   "metadata": {},
   "source": [
    "### Вычислим корреляцию продаж и отзывов"
   ]
  },
  {
   "cell_type": "code",
   "execution_count": 19,
   "metadata": {},
   "outputs": [
    {
     "name": "stdout",
     "output_type": "stream",
     "text": [
      "0.3342853393371919\n",
      "0.002394400961844767\n"
     ]
    }
   ],
   "source": [
    "print(data_act[data_act['platform']=='PS3']['critic_score'].corr(data_act[data_act['platform']=='PS3']['all_sales']))\n",
    "print(data_act[data_act['platform']=='PS3']['user_score'].corr(data_act[data_act['platform']=='PS3']['all_sales']))"
   ]
  },
  {
   "cell_type": "markdown",
   "metadata": {},
   "source": [
    "на примере одной платформы посмотрим корреляцию продаж с оценками, можно заметить что корреляция слабая"
   ]
  },
  {
   "cell_type": "code",
   "execution_count": 20,
   "metadata": {},
   "outputs": [
    {
     "name": "stdout",
     "output_type": "stream",
     "text": [
      "0.3136995151027371\n",
      "-0.0026078138278985497\n"
     ]
    }
   ],
   "source": [
    "print(data_act['critic_score'].corr(data_act['all_sales']))\n",
    "print(data_act['user_score'].corr(data_act['all_sales']))"
   ]
  },
  {
   "cell_type": "markdown",
   "metadata": {},
   "source": [
    "взяв весь массив данных можно заметить что оценки критиков имеют больший вес чем у пользователей но это все еще малая корреляция."
   ]
  },
  {
   "cell_type": "code",
   "execution_count": 21,
   "metadata": {},
   "outputs": [
    {
     "data": {
      "text/plain": [
       "<AxesSubplot:xlabel='platform', ylabel='number of games for platform'>"
      ]
     },
     "execution_count": 21,
     "metadata": {},
     "output_type": "execute_result"
    },
    {
     "data": {
      "image/png": "[encoded data removed]",
      "text/plain": [
       "<Figure size 432x288 with 1 Axes>"
      ]
     },
     "metadata": {
      "needs_background": "light"
     },
     "output_type": "display_data"
    }
   ],
   "source": [
    "data_act.groupby('platform').count()['name'].plot(kind='bar',ylabel='number of games for platform')"
   ]
  },
  {
   "cell_type": "markdown",
   "metadata": {},
   "source": [
    "этот грфаик показывает что данных у DS PSP Wii слишком мало для учета их корреляции"
   ]
  },
  {
   "cell_type": "code",
   "execution_count": 22,
   "metadata": {},
   "outputs": [
    {
     "name": "stdout",
     "output_type": "stream",
     "text": [
      "PS3\n",
      "0.3342853393371919\n",
      "0.002394400961844767\n",
      "X360\n",
      "0.3503445460228664\n",
      "-0.011742173023024481\n",
      "PS4\n",
      "0.40656790206178095\n",
      "-0.031957109005188264\n",
      "3DS\n",
      "0.3570566142288103\n",
      "0.24150410134889128\n",
      "XOne\n",
      "0.4169983280084017\n",
      "-0.06892505319711206\n",
      "WiiU\n",
      "0.3764149065423912\n",
      "0.4193304906105183\n",
      "Wii\n",
      "nan\n",
      "0.682941697467419\n",
      "PC\n",
      "0.19603028294369382\n",
      "-0.09384187001471048\n",
      "PSV\n",
      "0.2547423503068656\n",
      "0.0009424392873698942\n",
      "DS\n",
      "nan\n",
      "nan\n",
      "PSP\n",
      "nan\n",
      "-0.9999999999999999\n"
     ]
    },
    {
     "name": "stderr",
     "output_type": "stream",
     "text": [
      "/opt/conda/lib/python3.9/site-packages/numpy/lib/function_base.py:2683: RuntimeWarning: Degrees of freedom <= 0 for slice\n",
      "  c = cov(x, y, rowvar, dtype=dtype)\n",
      "/opt/conda/lib/python3.9/site-packages/numpy/lib/function_base.py:2542: RuntimeWarning: divide by zero encountered in true_divide\n",
      "  c *= np.true_divide(1, fact)\n"
     ]
    }
   ],
   "source": [
    "for i in data_act['platform'].unique():\n",
    "    print(i)\n",
    "    print(data_act[data_act['platform']==i]['critic_score'].corr(data_act[data_act['platform']==i]['all_sales']))\n",
    "    print(data_act[data_act['platform']==i]['user_score'].corr(data_act[data_act['platform']==i]['all_sales']))"
   ]
  },
  {
   "cell_type": "markdown",
   "metadata": {},
   "source": [
    "просмотрев корреляции всех платформ можно выделить Xbox One, PS3, PS4, Xbox 360  с корреляцией критиков около 0.4 и WiiU с корреляцией 0.4 у пользователей.\n",
    "платформы DS PSP Wii не должны рассматриваться по причине малых данных или их отсутствия."
   ]
  },
  {
   "cell_type": "code",
   "execution_count": 23,
   "metadata": {
    "scrolled": true
   },
   "outputs": [
    {
     "data": {
      "image/png": "[encoded data removed]",
      "text/plain": [
       "<Figure size 2160x720 with 10 Axes>"
      ]
     },
     "metadata": {
      "needs_background": "light"
     },
     "output_type": "display_data"
    }
   ],
   "source": [
    "fig, ax = plt.subplots(2,5,figsize=(30,10))\n",
    "plat=data_act.groupby('platform').count()['name'].sort_values(ascending=False).head().index\n",
    "for i in range(5):    \n",
    "    ax[0,i].scatter(x=data_act[data_act['platform']==plat[i]]['critic_score'], y=data_act[data_act['platform']==plat[i]]['all_sales'])\n",
    "    ax[0,i].set_title(plat[i] + ' critics')\n",
    "    ax[0,i].set_ylabel('all sales')\n",
    "    ax[0,i].set_xlabel('critic score')\n",
    "    ax[1,i].scatter(x=data_act[data_act['platform']==plat[i]]['user_score'], y=data_act[data_act['platform']==plat[i]]['all_sales'])\n",
    "    ax[1,i].set_title(plat[i] + ' users')\n",
    "    ax[1,i].set_ylabel('all sales')\n",
    "    ax[1,i].set_xlabel('user score')"
   ]
  },
  {
   "cell_type": "markdown",
   "metadata": {},
   "source": [
    "по некоторым графикам можно заметить вид растущей экспоненты, но некоторые графики например отзывы критиков на игры PSV которые  не подчиняются данной закономерности, так что можно повторить вывод что обычно хорошо продающиеся игры хорошо оценены критиками, но не все игры которые хорошо оценены критиками хорошо продаются."
   ]
  },
  {
   "cell_type": "markdown",
   "metadata": {},
   "source": [
    "### Проанализируем данные по жанрам игр"
   ]
  },
  {
   "cell_type": "code",
   "execution_count": 24,
   "metadata": {},
   "outputs": [
    {
     "data": {
      "text/plain": [
       "<AxesSubplot:xlabel='genre', ylabel='number of games in genre'>"
      ]
     },
     "execution_count": 24,
     "metadata": {},
     "output_type": "execute_result"
    },
    {
     "data": {
      "image/png": "[encoded data removed]",
      "text/plain": [
       "<Figure size 432x288 with 1 Axes>"
      ]
     },
     "metadata": {
      "needs_background": "light"
     },
     "output_type": "display_data"
    }
   ],
   "source": [
    "#display(data_act.groupby('genre').count()['name'])\n",
    "data_act.groupby('genre').count()['name'].plot(kind='bar',ylabel='number of games in genre')"
   ]
  },
  {
   "cell_type": "code",
   "execution_count": 25,
   "metadata": {},
   "outputs": [
    {
     "data": {
      "text/plain": [
       "<AxesSubplot:xlabel='genre', ylabel='worldwide sales per genre'>"
      ]
     },
     "execution_count": 25,
     "metadata": {},
     "output_type": "execute_result"
    },
    {
     "data": {
      "image/png": "[encoded data removed]",
      "text/plain": [
       "<Figure size 432x288 with 1 Axes>"
      ]
     },
     "metadata": {
      "needs_background": "light"
     },
     "output_type": "display_data"
    }
   ],
   "source": [
    "data_act.groupby('genre').sum()['all_sales'].plot(kind='bar',ylabel='worldwide sales per genre')"
   ]
  },
  {
   "cell_type": "markdown",
   "metadata": {},
   "source": [
    "Из графиков можно наблюдать большое количество игр в жанре экшен и этот же жанр продается больше всего, \n",
    "хуже всех продаются жанры пазл и стратегии, так же заметно продаются шутеры и спортивные игры,\n",
    "а игры в жанре приключений продаются плохо не смотря на обилие жанра."
   ]
  },
  {
   "cell_type": "code",
   "execution_count": 26,
   "metadata": {},
   "outputs": [
    {
     "data": {
      "text/plain": [
       "(0.0, 2.0)"
      ]
     },
     "execution_count": 26,
     "metadata": {},
     "output_type": "execute_result"
    },
    {
     "data": {
      "image/png": "[encoded data removed]",
      "text/plain": [
       "<Figure size 720x720 with 1 Axes>"
      ]
     },
     "metadata": {
      "needs_background": "light"
     },
     "output_type": "display_data"
    }
   ],
   "source": [
    "data_act.boxplot(by='genre',column='all_sales',figsize=(10,10)).set_ylim(0,2)\n",
    "#plt.set_ylim(0, 2)\n",
    "#plt.show()"
   ]
  },
  {
   "cell_type": "markdown",
   "metadata": {},
   "source": [
    "Из диаграммы размаха можно увидеть что медиана и первая квантиль больше у игр в жанре шутеров спорт и платформеры"
   ]
  },
  {
   "cell_type": "markdown",
   "metadata": {},
   "source": [
    "### Вычислим абсолютное и относительное количество продаж копий игр по жанру"
   ]
  },
  {
   "cell_type": "code",
   "execution_count": 27,
   "metadata": {},
   "outputs": [
    {
     "name": "stdout",
     "output_type": "stream",
     "text": [
      "Action all copies in genre: 321.87000000000006 copies per game in genre: 0.4201958224543082\n",
      "Shooter all copies in genre: 232.98000000000002 copies per game in genre: 1.2458823529411767\n",
      "Role-Playing all copies in genre: 145.89 copies per game in genre: 0.4996232876712328\n",
      "Misc all copies in genre: 62.82000000000001 copies per game in genre: 0.40529032258064523\n",
      "Sports all copies in genre: 150.65 copies per game in genre: 0.7039719626168225\n",
      "Fighting all copies in genre: 35.309999999999995 copies per game in genre: 0.44137499999999996\n",
      "Racing all copies in genre: 39.88999999999999 copies per game in genre: 0.46929411764705875\n",
      "Simulation all copies in genre: 21.76000000000001 copies per game in genre: 0.350967741935484\n",
      "Platform all copies in genre: 42.629999999999995 copies per game in genre: 0.576081081081081\n",
      "Strategy all copies in genre: 10.080000000000002 copies per game in genre: 0.18000000000000002\n",
      "Adventure all copies in genre: 23.639999999999997 copies per game in genre: 0.09648979591836733\n",
      "Puzzle all copies in genre: 3.1700000000000004 copies per game in genre: 0.18647058823529414\n"
     ]
    }
   ],
   "source": [
    "for i in data_act['genre'].unique():\n",
    "    print(i,'all copies in genre:', data_act[data_act['genre']==i]['all_sales'].sum(), 'copies per game in genre:',\\\n",
    "         data_act[data_act['genre']==i]['all_sales'].sum()/data_act[data_act['genre']==i]['all_sales'].count())"
   ]
  },
  {
   "cell_type": "markdown",
   "metadata": {},
   "source": [
    "Так же я посчитал количество проданных копий на количество игр в каждой категории, относительные параметры таковы что лучше всего показали себя шутеры и платформеры, а хуже всех приключения пазлы и стратегии. В абсолютном плане лучше всех экшн игры."
   ]
  },
  {
   "cell_type": "markdown",
   "metadata": {},
   "source": [
    "**Из этого раздела можно сделать вывод что стоит обратить внимание на плафтормы PS4 и XOne, а так же игры с жанром шутеры и экшн**"
   ]
  },
  {
   "cell_type": "markdown",
   "metadata": {},
   "source": [
    "## ***Раздел составление портрета потребителя***<br>\n",
    "В этом разделе будут проанализированы данные и составлен портрет отражающий тенденции покупателей в разных регионах"
   ]
  },
  {
   "cell_type": "markdown",
   "metadata": {},
   "source": [
    "### Рассмотрим 5 самых популярных платформ и жанров "
   ]
  },
  {
   "cell_type": "code",
   "execution_count": 28,
   "metadata": {},
   "outputs": [
    {
     "data": {
      "image/png": "[encoded data removed]",
      "text/plain": [
       "<Figure size 1440x720 with 6 Axes>"
      ]
     },
     "metadata": {
      "needs_background": "light"
     },
     "output_type": "display_data"
    }
   ],
   "source": [
    "#display(data_act)\n",
    "fig, ax = plt.subplots(2,3,figsize=(20,10))\n",
    "\n",
    "reg=['na_sales','eu_sales','jp_sales']\n",
    "\n",
    "for i in range(3):\n",
    "    \n",
    "    curr_ax = ax[0,i]\n",
    "\n",
    "    curr_ax.bar(height=data_act.groupby('platform')[reg[i]].sum().sort_values(ascending=False).head().to_list(),\\\n",
    "                    x=data_act.groupby('platform')[reg[i]].sum().sort_values(ascending=False).head().index.values)\n",
    "    curr_ax.set_ylabel('ammount of platforms in'+ reg[i][:3])\n",
    "    \n",
    "    sec_ax = ax[1,i]\n",
    "    \n",
    "    sec_ax.bar(height=data_act.groupby('genre')[reg[i]].sum().sort_values(ascending=False).head().to_list(),\\\n",
    "                    x=data_act.groupby('genre')[reg[i]].sum().sort_values(ascending=False).head().index.values)\n",
    "    sec_ax.set_ylabel('ammount of games by genre in '+reg[i][:2])\n"
   ]
  },
  {
   "cell_type": "code",
   "execution_count": 29,
   "metadata": {},
   "outputs": [
    {
     "data": {
      "image/png": "[encoded data removed]",
      "text/plain": [
       "<Figure size 1440x720 with 6 Axes>"
      ]
     },
     "metadata": {},
     "output_type": "display_data"
    }
   ],
   "source": [
    "fig, ax = plt.subplots(2,3,figsize=(20,10))\n",
    "label=[]\n",
    "\n",
    "reg=['na_sales', 'eu_sales', 'jp_sales']\n",
    "\n",
    "for i in range(3):\n",
    "    total=data_act.groupby('platform')[reg[i]].sum().sum()\n",
    "    top5=data_act.groupby('platform')[reg[i]].sum().sort_values(ascending=False).head().values\n",
    "    perc=[x / total for x in top5]\n",
    "    perc.append((total - top5.sum())/total)\n",
    "    label=list(data_act.groupby('platform')[reg[i]].sum().sort_values(ascending=False).head().index.values)\n",
    "    label.append('other_platform')\n",
    "    ax[0,i].pie(perc, labels=label, autopct='%1.1f%%',normalize=True)\n",
    "    ax[0,i].set_title(reg[i][:2]+' platforms')\n",
    "    \n",
    "    total=data_act.groupby('genre')[reg[i]].sum().sum()\n",
    "    top5=data_act.groupby('genre')[reg[i]].sum().sort_values(ascending=False).head().values\n",
    "    perc=[x / total for x in top5]\n",
    "    perc.append((total - top5.sum())/total)\n",
    "    label=list(data_act.groupby('genre')[reg[i]].sum().sort_values(ascending=False).head().index.values)\n",
    "    label.append('other_genre')\n",
    "    ax[1,i].pie(perc, labels=label, autopct='%1.1f%%',normalize=True)\n",
    "    ax[1,i].set_title(reg[i][:2]+' genres')"
   ]
  },
  {
   "cell_type": "markdown",
   "metadata": {},
   "source": [
    "Для северной америки лучшие платформы это X360,Wii, PS3, DS, PS4 с доминирующей платформой x360\n",
    "Для европы ситуация аналогична в плане платформ но лидирует ps3, а в японии  PSP 3DS заменяют PS4 и X360 и лидирует DS и 3DS.\n",
    "по жанрам в северной америке доминирует экшн после идут шутеры, спорт, игры без категории, и рпг, в европе аналогично за исключением РПГ сменившихся на гонки, в японии лидируют рпг с отрывом потом идут экшн, без категории, спорт и приключения."
   ]
  },
  {
   "cell_type": "markdown",
   "metadata": {},
   "source": [
    "### Рассмотри распределение игр по рейтингу"
   ]
  },
  {
   "cell_type": "code",
   "execution_count": 30,
   "metadata": {},
   "outputs": [
    {
     "data": {
      "text/plain": [
       "<AxesSubplot:xlabel='rating', ylabel='number of games with such rating in Europe'>"
      ]
     },
     "execution_count": 30,
     "metadata": {},
     "output_type": "execute_result"
    },
    {
     "data": {
      "image/png": "[encoded data removed]",
      "text/plain": [
       "<Figure size 432x288 with 1 Axes>"
      ]
     },
     "metadata": {
      "needs_background": "light"
     },
     "output_type": "display_data"
    }
   ],
   "source": [
    "\n",
    "data_act.groupby('rating').sum()['eu_sales'].plot(kind='bar', ylabel='number of games with such rating in Europe')"
   ]
  },
  {
   "cell_type": "code",
   "execution_count": 31,
   "metadata": {},
   "outputs": [
    {
     "data": {
      "text/plain": [
       "<AxesSubplot:xlabel='rating', ylabel='number of games with such rating in North America'>"
      ]
     },
     "execution_count": 31,
     "metadata": {},
     "output_type": "execute_result"
    },
    {
     "data": {
      "image/png": "[encoded data removed]",
      "text/plain": [
       "<Figure size 432x288 with 1 Axes>"
      ]
     },
     "metadata": {
      "needs_background": "light"
     },
     "output_type": "display_data"
    }
   ],
   "source": [
    "data_act.groupby('rating').sum()['na_sales'].plot(kind='bar', ylabel='number of games with such rating in North America')"
   ]
  },
  {
   "cell_type": "code",
   "execution_count": 32,
   "metadata": {},
   "outputs": [
    {
     "data": {
      "text/plain": [
       "<AxesSubplot:xlabel='rating', ylabel='number of games with such rating in Japan'>"
      ]
     },
     "execution_count": 32,
     "metadata": {},
     "output_type": "execute_result"
    },
    {
     "data": {
      "image/png": "[encoded data removed]",
      "text/plain": [
       "<Figure size 432x288 with 1 Axes>"
      ]
     },
     "metadata": {
      "needs_background": "light"
     },
     "output_type": "display_data"
    }
   ],
   "source": [
    "data_act.groupby('rating').sum()['jp_sales'].plot(kind='bar', ylabel='number of games with such rating in Japan')"
   ]
  },
  {
   "cell_type": "markdown",
   "metadata": {},
   "source": [
    "Можно заметить что в америке продажи игр с рейтингом M mature то есть для взрослых продаются почти одинаково с рейтингом E for everyone, в европе и японии такие игры продаются хуже, хоть в европе такие игры занимают второе мести в японии они продаются почти в 2 раза меньше. Так же заметно большое количество игр без оценки в японии, скорее всего японские разработчики не используют рейтинг ESRB"
   ]
  },
  {
   "cell_type": "markdown",
   "metadata": {},
   "source": [
    "**В этом разделе мы подтвердили догадки о популярности PS4 и XOne, жанра экшн и шутеров, и рейтинга M для Европы и Северной Америки, для Японии ситуация отличается в этом регионе популярны РПГ и игры без рейтинга**"
   ]
  },
  {
   "cell_type": "markdown",
   "metadata": {},
   "source": [
    "## ***Раздел проверки гипотез*** <br>\n",
    "В этом разделе будут проверены гипотезы о связи рейтингов с платформами и жанрами"
   ]
  },
  {
   "cell_type": "markdown",
   "metadata": {},
   "source": [
    "### Проверка первой гипотезы <br>\n",
    "Гипотеза состоит в том что рейтинги игр на платформах Xbox One и PC одинаковы, альтернатива рейтинги разные"
   ]
  },
  {
   "cell_type": "code",
   "execution_count": 33,
   "metadata": {},
   "outputs": [
    {
     "name": "stdout",
     "output_type": "stream",
     "text": [
      "0.17882517015736454\n",
      "средние рейтинги одинаковые\n"
     ]
    }
   ],
   "source": [
    "from scipy import stats as st\n",
    "#xbox = data_act[(data_act['platform']=='XOne') & (data_act['user_score'].notna())]\n",
    "#pc = data_act[(data_act['platform']=='PC') & (data_act['user_score'].notna())]\n",
    "\n",
    "xbox = data_act[(data_act['platform']=='XOne')].dropna()\n",
    "pc = data_act[(data_act['platform']=='PC')].dropna()\n",
    "\n",
    "res = st.ttest_ind(xbox['user_score'],\\\n",
    "                  pc['user_score'],equal_var=False)\n",
    "alpha = 0.05\n",
    "print(res.pvalue)\n",
    "if res.pvalue<alpha:\n",
    "    print('Средние рейтинги разные')\n",
    "else:\n",
    "    print('средние рейтинги одинаковые')\n",
    "    "
   ]
  },
  {
   "cell_type": "markdown",
   "metadata": {},
   "source": [
    "### Проверка второй гипотезы <br>\n",
    "Гипотеза состоит в том что рейтинги игр в жанре экшн и спорт одинаковые, альтернатива рейтинги разные"
   ]
  },
  {
   "cell_type": "code",
   "execution_count": 34,
   "metadata": {},
   "outputs": [
    {
     "name": "stdout",
     "output_type": "stream",
     "text": [
      "1.0497430602483277e-13\n",
      "средние рейтинги одинаковые\n"
     ]
    }
   ],
   "source": [
    "action = data_act[(data_act['genre']=='Action')].dropna()\n",
    "#display()\n",
    "sport = data_act[(data_act['genre']=='Sports')].dropna()\n",
    "\n",
    "res = st.ttest_ind(action['user_score'],\\\n",
    "                  sport['user_score'],equal_var=False)\n",
    "alpha = 0.05\n",
    "print(res.pvalue)\n",
    "if res.pvalue<alpha:\n",
    "    print('средние рейтинги одинаковые')\n",
    "else:\n",
    "    print('Средние рейтинги разные')"
   ]
  },
  {
   "cell_type": "markdown",
   "metadata": {},
   "source": [
    "Формулировка гипотезы исходила из поставленной задачи, в первом случае сравнение рейтингов xbox one и PC легко составить 0 гипотезу о равенстве отзывов, соответственно альтернатива неравенство отызвов, во втором случае поступили аналогично, для проверки гипотез использовался двусторонний тест t-тест Стьюдента, так как нам нужно сравнить данные о средних двух совокупностей."
   ]
  },
  {
   "cell_type": "code",
   "execution_count": 35,
   "metadata": {},
   "outputs": [
    {
     "data": {
      "text/plain": [
       "(0.0, 10.0)"
      ]
     },
     "execution_count": 35,
     "metadata": {},
     "output_type": "execute_result"
    },
    {
     "data": {
      "image/png": "[encoded data removed]",
      "text/plain": [
       "<Figure size 432x288 with 1 Axes>"
      ]
     },
     "metadata": {
      "needs_background": "light"
     },
     "output_type": "display_data"
    }
   ],
   "source": [
    "data_act.groupby('platform')['user_score'].median().plot.bar(alpha=0.7).set_ylim(0,10)\n",
    "(data_act.groupby('platform')['critic_score'].median()/10).plot.bar(alpha=0.7).set_ylim(0,10)"
   ]
  },
  {
   "cell_type": "code",
   "execution_count": 36,
   "metadata": {},
   "outputs": [
    {
     "data": {
      "text/plain": [
       "(0.0, 10.0)"
      ]
     },
     "execution_count": 36,
     "metadata": {},
     "output_type": "execute_result"
    },
    {
     "data": {
      "image/png": "[encoded data removed]",
      "text/plain": [
       "<Figure size 432x288 with 1 Axes>"
      ]
     },
     "metadata": {
      "needs_background": "light"
     },
     "output_type": "display_data"
    }
   ],
   "source": [
    "data_act.groupby('genre')['user_score'].median().plot.bar(alpha=0.7).set_ylim(0,10)\n",
    "(data_act.groupby('genre')['critic_score'].median()/10).plot.bar(alpha=0.7).set_ylim(0,10)"
   ]
  },
  {
   "cell_type": "markdown",
   "metadata": {},
   "source": [
    "<font color='DarkBlue'><b>Комментарий ревьюера 4</b></font><br>\n",
    "<font color='DarkMagenta'>👉 Средние считаются по другому:</font>"
   ]
  },
  {
   "cell_type": "code",
   "execution_count": 37,
   "metadata": {},
   "outputs": [
    {
     "data": {
      "text/plain": [
       "(6.5381823, 6.3020267, 6.9362454, 5.6654553)"
      ]
     },
     "execution_count": 37,
     "metadata": {},
     "output_type": "execute_result"
    }
   ],
   "source": [
    "# Комментарий ревьюера 4\n",
    "xbox.user_score.mean(), pc.user_score.mean(), action.user_score.mean(), sport.user_score.mean()"
   ]
  },
  {
   "cell_type": "markdown",
   "metadata": {},
   "source": [
    "## **Вывод**<br>\n",
    "В результате работы была проведена обработка и анализ данных что позволило более информативно рассмотреть данные, впоследствии был получен портерты пользователей из разных регионов и были проверены гипотезы о рейтингах платформ и жанров.<br> \n",
    "Можно сказать что лучше всего в 2017 году в америке и европе покажут себя шутеры на PS4, данные  дают нам понять что шутер с рейтингом M достаточно популярный тип игр и продается обычно около миллиона копий, в японии доминируют рпг на 3DS, что поможет сделать региональную рекламную кампанию. Так же благодаря гипотезам стало понятно что рейтинги между жанрами схожи, но заметно что консоли Wii PSP DS сильно проседают по общим рейтингам. Насчет отзывов будет более безопасно если игра имеет хорошие отзывы от критиков, но это не гарантирует ее успех. "
   ]
  }
 ],
 "metadata": {
  "ExecuteTimeLog": [
   {
    "duration": 810,
    "start_time": "2022-11-04T18:58:33.104Z"
   },
   {
    "duration": 48,
    "start_time": "2022-11-04T18:58:35.353Z"
   },
   {
    "duration": 18,
    "start_time": "2022-11-04T18:58:36.560Z"
   },
   {
    "duration": 55,
    "start_time": "2022-11-04T18:58:53.910Z"
   },
   {
    "duration": 11,
    "start_time": "2022-11-04T18:59:20.316Z"
   },
   {
    "duration": 21,
    "start_time": "2022-11-04T19:00:02.862Z"
   },
   {
    "duration": 20,
    "start_time": "2022-11-04T19:00:09.206Z"
   },
   {
    "duration": 10,
    "start_time": "2022-11-04T19:00:17.257Z"
   },
   {
    "duration": 12,
    "start_time": "2022-11-04T19:00:19.790Z"
   },
   {
    "duration": 22,
    "start_time": "2022-11-04T19:00:30.227Z"
   },
   {
    "duration": 52,
    "start_time": "2022-11-06T19:19:06.684Z"
   },
   {
    "duration": 616,
    "start_time": "2022-11-06T19:19:09.562Z"
   },
   {
    "duration": 32,
    "start_time": "2022-11-06T19:19:10.180Z"
   },
   {
    "duration": 4,
    "start_time": "2022-11-06T19:19:10.368Z"
   },
   {
    "duration": 26,
    "start_time": "2022-11-06T19:19:12.456Z"
   },
   {
    "duration": 34,
    "start_time": "2022-11-06T19:19:46.134Z"
   },
   {
    "duration": 35,
    "start_time": "2022-11-06T19:20:30.638Z"
   },
   {
    "duration": 467,
    "start_time": "2022-11-08T19:59:39.632Z"
   },
   {
    "duration": 41,
    "start_time": "2022-11-08T19:59:40.101Z"
   },
   {
    "duration": 3,
    "start_time": "2022-11-08T19:59:41.217Z"
   },
   {
    "duration": 10,
    "start_time": "2022-11-08T19:59:43.179Z"
   },
   {
    "duration": 6,
    "start_time": "2022-11-08T19:59:44.830Z"
   },
   {
    "duration": 15,
    "start_time": "2022-11-08T19:59:45.449Z"
   },
   {
    "duration": 5,
    "start_time": "2022-11-08T19:59:46.060Z"
   },
   {
    "duration": 26,
    "start_time": "2022-11-08T19:59:46.613Z"
   },
   {
    "duration": 472,
    "start_time": "2022-11-08T19:59:47.068Z"
   },
   {
    "duration": 77,
    "start_time": "2022-11-08T20:00:27.197Z"
   },
   {
    "duration": 10,
    "start_time": "2022-11-08T20:01:02.079Z"
   },
   {
    "duration": 17,
    "start_time": "2022-11-08T20:01:18.055Z"
   },
   {
    "duration": 25,
    "start_time": "2022-11-08T20:01:28.307Z"
   },
   {
    "duration": 23,
    "start_time": "2022-11-08T20:02:49.348Z"
   },
   {
    "duration": 20,
    "start_time": "2022-11-08T20:02:55.497Z"
   },
   {
    "duration": 17,
    "start_time": "2022-11-08T20:04:42.179Z"
   },
   {
    "duration": 571,
    "start_time": "2022-11-08T20:05:00.792Z"
   },
   {
    "duration": 62,
    "start_time": "2022-11-09T17:09:44.859Z"
   },
   {
    "duration": 47,
    "start_time": "2022-11-09T17:09:55.126Z"
   },
   {
    "duration": 603,
    "start_time": "2022-11-09T17:09:59.259Z"
   },
   {
    "duration": 46,
    "start_time": "2022-11-09T17:09:59.864Z"
   },
   {
    "duration": 3,
    "start_time": "2022-11-09T17:10:01.313Z"
   },
   {
    "duration": 26,
    "start_time": "2022-11-09T17:10:02.277Z"
   },
   {
    "duration": 8,
    "start_time": "2022-11-09T17:11:05.124Z"
   },
   {
    "duration": 14,
    "start_time": "2022-11-09T17:11:06.015Z"
   },
   {
    "duration": 21,
    "start_time": "2022-11-09T17:12:51.059Z"
   },
   {
    "duration": 17,
    "start_time": "2022-11-09T17:12:54.726Z"
   },
   {
    "duration": 22,
    "start_time": "2022-11-09T17:13:08.972Z"
   },
   {
    "duration": 16,
    "start_time": "2022-11-09T17:16:21.708Z"
   },
   {
    "duration": 15,
    "start_time": "2022-11-09T17:16:23.500Z"
   },
   {
    "duration": 96,
    "start_time": "2022-11-09T17:16:57.150Z"
   },
   {
    "duration": 27,
    "start_time": "2022-11-09T17:16:57.302Z"
   },
   {
    "duration": 3,
    "start_time": "2022-11-09T17:16:57.792Z"
   },
   {
    "duration": 20,
    "start_time": "2022-11-09T17:16:58.728Z"
   },
   {
    "duration": 7,
    "start_time": "2022-11-09T17:16:59.548Z"
   },
   {
    "duration": 16,
    "start_time": "2022-11-09T17:17:00.079Z"
   },
   {
    "duration": 35,
    "start_time": "2022-11-09T17:17:16.236Z"
   },
   {
    "duration": 26,
    "start_time": "2022-11-09T17:17:29.849Z"
   },
   {
    "duration": 50,
    "start_time": "2022-11-09T17:17:32.509Z"
   },
   {
    "duration": 31,
    "start_time": "2022-11-09T17:17:32.774Z"
   },
   {
    "duration": 3,
    "start_time": "2022-11-09T17:17:33.975Z"
   },
   {
    "duration": 31,
    "start_time": "2022-11-09T17:17:35.809Z"
   },
   {
    "duration": 48,
    "start_time": "2022-11-09T17:18:00.955Z"
   },
   {
    "duration": 28,
    "start_time": "2022-11-09T17:18:01.099Z"
   },
   {
    "duration": 4,
    "start_time": "2022-11-09T17:18:01.537Z"
   },
   {
    "duration": 26,
    "start_time": "2022-11-09T17:18:02.094Z"
   },
   {
    "duration": 98,
    "start_time": "2022-11-09T17:18:53.292Z"
   },
   {
    "duration": 53,
    "start_time": "2022-11-09T17:18:57.975Z"
   },
   {
    "duration": 44,
    "start_time": "2022-11-09T17:19:15.392Z"
   },
   {
    "duration": 51,
    "start_time": "2022-11-09T17:19:23.165Z"
   },
   {
    "duration": 30,
    "start_time": "2022-11-09T17:21:29.536Z"
   },
   {
    "duration": 57,
    "start_time": "2022-11-09T17:21:35.320Z"
   },
   {
    "duration": 26,
    "start_time": "2022-11-09T17:21:35.487Z"
   },
   {
    "duration": 3,
    "start_time": "2022-11-09T17:21:35.652Z"
   },
   {
    "duration": 14,
    "start_time": "2022-11-09T17:21:36.236Z"
   },
   {
    "duration": 7,
    "start_time": "2022-11-09T17:21:43.017Z"
   },
   {
    "duration": 22,
    "start_time": "2022-11-09T17:21:43.352Z"
   },
   {
    "duration": 4,
    "start_time": "2022-11-09T17:21:44.034Z"
   },
   {
    "duration": 30,
    "start_time": "2022-11-09T17:21:44.318Z"
   },
   {
    "duration": 560,
    "start_time": "2022-11-09T17:21:44.639Z"
   },
   {
    "duration": 27,
    "start_time": "2022-11-09T18:36:41.409Z"
   },
   {
    "duration": 17,
    "start_time": "2022-11-09T18:36:52.024Z"
   },
   {
    "duration": 24,
    "start_time": "2022-11-09T18:37:20.499Z"
   },
   {
    "duration": 14,
    "start_time": "2022-11-09T18:37:28.263Z"
   },
   {
    "duration": 10,
    "start_time": "2022-11-09T18:37:55.004Z"
   },
   {
    "duration": 10,
    "start_time": "2022-11-09T18:38:06.714Z"
   },
   {
    "duration": 12,
    "start_time": "2022-11-09T18:47:04.566Z"
   },
   {
    "duration": 6359,
    "start_time": "2022-11-09T18:47:40.017Z"
   },
   {
    "duration": 390,
    "start_time": "2022-11-09T18:47:59.995Z"
   },
   {
    "duration": 570,
    "start_time": "2022-11-09T18:50:03.932Z"
   },
   {
    "duration": 121,
    "start_time": "2022-11-09T18:51:45.110Z"
   },
   {
    "duration": 377,
    "start_time": "2022-11-09T18:54:14.200Z"
   },
   {
    "duration": 380,
    "start_time": "2022-11-09T18:55:32.036Z"
   },
   {
    "duration": 642,
    "start_time": "2022-11-09T18:55:44.636Z"
   },
   {
    "duration": 638,
    "start_time": "2022-11-09T18:55:51.507Z"
   },
   {
    "duration": 424,
    "start_time": "2022-11-09T18:56:04.502Z"
   },
   {
    "duration": 399,
    "start_time": "2022-11-09T20:32:37.995Z"
   },
   {
    "duration": 16363,
    "start_time": "2022-11-09T20:32:43.132Z"
   },
   {
    "duration": 401,
    "start_time": "2022-11-09T20:34:18.539Z"
   },
   {
    "duration": 17,
    "start_time": "2022-11-09T20:37:14.623Z"
   },
   {
    "duration": 389,
    "start_time": "2022-11-09T20:37:18.356Z"
   },
   {
    "duration": 2696,
    "start_time": "2022-11-09T20:39:56.333Z"
   },
   {
    "duration": 2518,
    "start_time": "2022-11-09T20:40:10.276Z"
   },
   {
    "duration": 403,
    "start_time": "2022-11-09T20:40:17.890Z"
   },
   {
    "duration": 491,
    "start_time": "2022-11-09T20:41:25.543Z"
   },
   {
    "duration": 410,
    "start_time": "2022-11-09T20:51:35.719Z"
   },
   {
    "duration": 147,
    "start_time": "2022-11-09T20:52:38.454Z"
   },
   {
    "duration": 364,
    "start_time": "2022-11-09T20:58:35.252Z"
   },
   {
    "duration": 918,
    "start_time": "2022-11-11T16:18:54.719Z"
   },
   {
    "duration": 40,
    "start_time": "2022-11-11T16:18:55.639Z"
   },
   {
    "duration": 5,
    "start_time": "2022-11-11T16:18:55.681Z"
   },
   {
    "duration": 19,
    "start_time": "2022-11-11T16:18:55.688Z"
   },
   {
    "duration": 7,
    "start_time": "2022-11-11T16:18:55.708Z"
   },
   {
    "duration": 18,
    "start_time": "2022-11-11T16:18:55.942Z"
   },
   {
    "duration": 6,
    "start_time": "2022-11-11T16:18:56.357Z"
   },
   {
    "duration": 31,
    "start_time": "2022-11-11T16:18:56.724Z"
   },
   {
    "duration": 153,
    "start_time": "2022-11-11T16:18:57.122Z"
   },
   {
    "duration": 13,
    "start_time": "2022-11-11T16:18:57.568Z"
   },
   {
    "duration": 1863,
    "start_time": "2022-11-11T16:18:58.482Z"
   },
   {
    "duration": 1841,
    "start_time": "2022-11-11T16:20:48.955Z"
   },
   {
    "duration": 17,
    "start_time": "2022-11-11T16:21:09.548Z"
   },
   {
    "duration": 1904,
    "start_time": "2022-11-11T16:23:28.580Z"
   },
   {
    "duration": 16,
    "start_time": "2022-11-11T16:26:35.717Z"
   },
   {
    "duration": 9164,
    "start_time": "2022-11-11T16:26:45.087Z"
   },
   {
    "duration": 527,
    "start_time": "2022-11-11T16:27:01.391Z"
   },
   {
    "duration": 495,
    "start_time": "2022-11-11T16:27:46.355Z"
   },
   {
    "duration": 8786,
    "start_time": "2022-11-11T16:28:32.430Z"
   },
   {
    "duration": 9056,
    "start_time": "2022-11-11T16:29:09.437Z"
   },
   {
    "duration": 2165,
    "start_time": "2022-11-11T16:33:01.720Z"
   },
   {
    "duration": 12,
    "start_time": "2022-11-11T16:33:54.197Z"
   },
   {
    "duration": 77,
    "start_time": "2022-11-11T16:35:36.534Z"
   },
   {
    "duration": 1920,
    "start_time": "2022-11-11T16:35:41.157Z"
   },
   {
    "duration": 2645,
    "start_time": "2022-11-11T16:36:10.388Z"
   },
   {
    "duration": 22,
    "start_time": "2022-11-11T16:38:07.988Z"
   },
   {
    "duration": 21,
    "start_time": "2022-11-11T16:38:24.248Z"
   },
   {
    "duration": 2480,
    "start_time": "2022-11-11T16:38:49.099Z"
   },
   {
    "duration": 2559,
    "start_time": "2022-11-11T16:38:59.384Z"
   },
   {
    "duration": 2536,
    "start_time": "2022-11-11T16:39:05.288Z"
   },
   {
    "duration": 2609,
    "start_time": "2022-11-11T16:39:15.025Z"
   },
   {
    "duration": 3077,
    "start_time": "2022-11-11T16:39:23.681Z"
   },
   {
    "duration": 3013,
    "start_time": "2022-11-11T16:40:37.276Z"
   },
   {
    "duration": 12,
    "start_time": "2022-11-11T17:24:05.882Z"
   },
   {
    "duration": 14,
    "start_time": "2022-11-11T17:27:03.911Z"
   },
   {
    "duration": 57,
    "start_time": "2022-11-11T17:27:23.994Z"
   },
   {
    "duration": 44,
    "start_time": "2022-11-11T17:27:24.133Z"
   },
   {
    "duration": 4,
    "start_time": "2022-11-11T17:27:24.265Z"
   },
   {
    "duration": 16,
    "start_time": "2022-11-11T17:27:24.398Z"
   },
   {
    "duration": 7,
    "start_time": "2022-11-11T17:27:24.939Z"
   },
   {
    "duration": 16,
    "start_time": "2022-11-11T17:27:25.108Z"
   },
   {
    "duration": 5,
    "start_time": "2022-11-11T17:27:25.285Z"
   },
   {
    "duration": 29,
    "start_time": "2022-11-11T17:27:25.451Z"
   },
   {
    "duration": 145,
    "start_time": "2022-11-11T17:27:25.615Z"
   },
   {
    "duration": 12,
    "start_time": "2022-11-11T17:27:25.788Z"
   },
   {
    "duration": 3370,
    "start_time": "2022-11-11T17:27:26.051Z"
   },
   {
    "duration": 5,
    "start_time": "2022-11-11T17:27:29.423Z"
   },
   {
    "duration": 3335,
    "start_time": "2022-11-11T17:27:46.228Z"
   },
   {
    "duration": 49,
    "start_time": "2022-11-11T17:27:49.845Z"
   },
   {
    "duration": 33,
    "start_time": "2022-11-11T17:27:49.964Z"
   },
   {
    "duration": 3,
    "start_time": "2022-11-11T17:27:50.145Z"
   },
   {
    "duration": 16,
    "start_time": "2022-11-11T17:27:50.346Z"
   },
   {
    "duration": 8,
    "start_time": "2022-11-11T17:27:50.784Z"
   },
   {
    "duration": 15,
    "start_time": "2022-11-11T17:27:51.112Z"
   },
   {
    "duration": 5,
    "start_time": "2022-11-11T17:27:51.347Z"
   },
   {
    "duration": 27,
    "start_time": "2022-11-11T17:27:51.843Z"
   },
   {
    "duration": 152,
    "start_time": "2022-11-11T17:27:52.624Z"
   },
   {
    "duration": 13,
    "start_time": "2022-11-11T17:27:53.289Z"
   },
   {
    "duration": 3232,
    "start_time": "2022-11-11T17:27:57.000Z"
   },
   {
    "duration": 50,
    "start_time": "2022-11-11T17:28:11.538Z"
   },
   {
    "duration": 36,
    "start_time": "2022-11-11T17:28:11.703Z"
   },
   {
    "duration": 4,
    "start_time": "2022-11-11T17:28:11.869Z"
   },
   {
    "duration": 16,
    "start_time": "2022-11-11T17:28:12.028Z"
   },
   {
    "duration": 7,
    "start_time": "2022-11-11T17:28:12.368Z"
   },
   {
    "duration": 15,
    "start_time": "2022-11-11T17:28:12.527Z"
   },
   {
    "duration": 5,
    "start_time": "2022-11-11T17:28:12.702Z"
   },
   {
    "duration": 27,
    "start_time": "2022-11-11T17:28:13.077Z"
   },
   {
    "duration": 145,
    "start_time": "2022-11-11T17:28:13.433Z"
   },
   {
    "duration": 13,
    "start_time": "2022-11-11T17:28:14.198Z"
   },
   {
    "duration": 3408,
    "start_time": "2022-11-11T17:28:15.285Z"
   },
   {
    "duration": 2458,
    "start_time": "2022-11-11T17:29:36.951Z"
   },
   {
    "duration": 95,
    "start_time": "2022-11-11T17:30:05.905Z"
   },
   {
    "duration": 5838,
    "start_time": "2022-11-11T17:30:10.633Z"
   },
   {
    "duration": 3555,
    "start_time": "2022-11-11T17:31:18.042Z"
   },
   {
    "duration": 5,
    "start_time": "2022-11-11T17:32:22.416Z"
   },
   {
    "duration": 3510,
    "start_time": "2022-11-11T17:35:32.340Z"
   },
   {
    "duration": 74,
    "start_time": "2022-11-11T17:38:04.794Z"
   },
   {
    "duration": 867,
    "start_time": "2022-11-11T17:38:08.752Z"
   },
   {
    "duration": 926,
    "start_time": "2022-11-11T17:39:03.794Z"
   },
   {
    "duration": 3279,
    "start_time": "2022-11-11T17:39:23.406Z"
   },
   {
    "duration": 11,
    "start_time": "2022-11-11T17:42:11.512Z"
   },
   {
    "duration": 161,
    "start_time": "2022-11-11T17:42:19.375Z"
   },
   {
    "duration": 71,
    "start_time": "2022-11-11T17:43:39.066Z"
   },
   {
    "duration": 9,
    "start_time": "2022-11-11T17:43:42.603Z"
   },
   {
    "duration": 135,
    "start_time": "2022-11-11T17:43:59.895Z"
   },
   {
    "duration": 539,
    "start_time": "2022-11-11T17:45:28.314Z"
   },
   {
    "duration": 422,
    "start_time": "2022-11-11T17:46:13.869Z"
   },
   {
    "duration": 65,
    "start_time": "2022-11-11T17:46:42.333Z"
   },
   {
    "duration": 449,
    "start_time": "2022-11-11T17:46:46.629Z"
   },
   {
    "duration": 314,
    "start_time": "2022-11-11T17:47:18.054Z"
   },
   {
    "duration": 431,
    "start_time": "2022-11-11T17:47:40.145Z"
   },
   {
    "duration": 346,
    "start_time": "2022-11-11T17:54:31.559Z"
   },
   {
    "duration": 6,
    "start_time": "2022-11-11T17:56:45.140Z"
   },
   {
    "duration": 9,
    "start_time": "2022-11-11T17:57:03.372Z"
   },
   {
    "duration": 19,
    "start_time": "2022-11-11T17:57:38.971Z"
   },
   {
    "duration": 6,
    "start_time": "2022-11-11T17:58:19.644Z"
   },
   {
    "duration": 182,
    "start_time": "2022-11-11T17:59:22.165Z"
   },
   {
    "duration": 121,
    "start_time": "2022-11-11T17:59:27.445Z"
   },
   {
    "duration": 145,
    "start_time": "2022-11-11T18:01:06.698Z"
   },
   {
    "duration": 147,
    "start_time": "2022-11-11T18:01:28.631Z"
   },
   {
    "duration": 158,
    "start_time": "2022-11-11T18:01:35.528Z"
   },
   {
    "duration": 186,
    "start_time": "2022-11-11T18:02:13.945Z"
   },
   {
    "duration": 178,
    "start_time": "2022-11-11T18:03:40.241Z"
   },
   {
    "duration": 33,
    "start_time": "2022-11-11T18:05:29.078Z"
   },
   {
    "duration": 72,
    "start_time": "2022-11-11T18:07:24.068Z"
   },
   {
    "duration": 58,
    "start_time": "2022-11-11T18:12:47.587Z"
   },
   {
    "duration": 69,
    "start_time": "2022-11-11T18:12:52.825Z"
   },
   {
    "duration": 121,
    "start_time": "2022-11-11T18:13:15.009Z"
   },
   {
    "duration": 102,
    "start_time": "2022-11-11T18:13:20.691Z"
   },
   {
    "duration": 52,
    "start_time": "2022-11-11T18:13:43.721Z"
   },
   {
    "duration": 92,
    "start_time": "2022-11-11T18:15:02.211Z"
   },
   {
    "duration": 11,
    "start_time": "2022-11-11T18:15:04.433Z"
   },
   {
    "duration": 9,
    "start_time": "2022-11-11T18:15:10.357Z"
   },
   {
    "duration": 10,
    "start_time": "2022-11-11T18:15:13.799Z"
   },
   {
    "duration": 16,
    "start_time": "2022-11-11T18:16:23.461Z"
   },
   {
    "duration": 16,
    "start_time": "2022-11-11T18:16:39.895Z"
   },
   {
    "duration": 48,
    "start_time": "2022-11-11T18:16:51.065Z"
   },
   {
    "duration": 34,
    "start_time": "2022-11-11T18:16:51.115Z"
   },
   {
    "duration": 98,
    "start_time": "2022-11-11T18:16:51.151Z"
   },
   {
    "duration": 27,
    "start_time": "2022-11-11T18:16:51.251Z"
   },
   {
    "duration": 9,
    "start_time": "2022-11-11T18:16:51.281Z"
   },
   {
    "duration": 27,
    "start_time": "2022-11-11T18:16:51.292Z"
   },
   {
    "duration": 5,
    "start_time": "2022-11-11T18:16:51.321Z"
   },
   {
    "duration": 47,
    "start_time": "2022-11-11T18:16:51.327Z"
   },
   {
    "duration": 154,
    "start_time": "2022-11-11T18:16:51.375Z"
   },
   {
    "duration": 12,
    "start_time": "2022-11-11T18:16:51.531Z"
   },
   {
    "duration": 3386,
    "start_time": "2022-11-11T18:16:51.544Z"
   },
   {
    "duration": 6,
    "start_time": "2022-11-11T18:16:54.931Z"
   },
   {
    "duration": 424,
    "start_time": "2022-11-11T18:16:54.939Z"
   },
   {
    "duration": 301,
    "start_time": "2022-11-11T18:16:55.366Z"
   },
   {
    "duration": 19,
    "start_time": "2022-11-11T18:16:55.669Z"
   },
   {
    "duration": 6,
    "start_time": "2022-11-11T18:16:55.690Z"
   },
   {
    "duration": 145,
    "start_time": "2022-11-11T18:16:55.698Z"
   },
   {
    "duration": 179,
    "start_time": "2022-11-11T18:16:55.845Z"
   },
   {
    "duration": 61,
    "start_time": "2022-11-11T18:16:56.026Z"
   },
   {
    "duration": 51,
    "start_time": "2022-11-11T18:18:09.044Z"
   },
   {
    "duration": 31,
    "start_time": "2022-11-11T18:18:26.906Z"
   },
   {
    "duration": 73,
    "start_time": "2022-11-11T18:18:39.882Z"
   },
   {
    "duration": 26,
    "start_time": "2022-11-11T18:18:45.843Z"
   },
   {
    "duration": 16,
    "start_time": "2022-11-11T18:19:43.948Z"
   },
   {
    "duration": 30,
    "start_time": "2022-11-11T18:20:08.958Z"
   },
   {
    "duration": 30,
    "start_time": "2022-11-11T18:20:19.367Z"
   },
   {
    "duration": 43,
    "start_time": "2022-11-11T18:23:04.061Z"
   },
   {
    "duration": 33,
    "start_time": "2022-11-11T18:23:14.826Z"
   },
   {
    "duration": 4,
    "start_time": "2022-11-11T18:23:21.497Z"
   },
   {
    "duration": 32,
    "start_time": "2022-11-11T18:23:24.727Z"
   },
   {
    "duration": 35,
    "start_time": "2022-11-11T18:24:40.661Z"
   },
   {
    "duration": 42,
    "start_time": "2022-11-11T18:26:05.884Z"
   },
   {
    "duration": 53,
    "start_time": "2022-11-11T18:26:27.748Z"
   },
   {
    "duration": 52,
    "start_time": "2022-11-11T18:27:23.794Z"
   },
   {
    "duration": 58,
    "start_time": "2022-11-11T18:27:27.514Z"
   },
   {
    "duration": 4,
    "start_time": "2022-11-11T19:41:56.617Z"
   },
   {
    "duration": 10,
    "start_time": "2022-11-11T19:41:59.330Z"
   },
   {
    "duration": 10,
    "start_time": "2022-11-11T19:42:43.732Z"
   },
   {
    "duration": 15,
    "start_time": "2022-11-11T19:43:04.764Z"
   },
   {
    "duration": 216,
    "start_time": "2022-11-11T19:44:28.520Z"
   },
   {
    "duration": 129,
    "start_time": "2022-11-11T19:48:34.505Z"
   },
   {
    "duration": 165,
    "start_time": "2022-11-11T19:49:15.421Z"
   },
   {
    "duration": 160,
    "start_time": "2022-11-11T19:49:34.599Z"
   },
   {
    "duration": 216,
    "start_time": "2022-11-11T19:49:42.729Z"
   },
   {
    "duration": 195,
    "start_time": "2022-11-11T19:49:56.985Z"
   },
   {
    "duration": 381,
    "start_time": "2022-11-11T19:51:46.958Z"
   },
   {
    "duration": 55,
    "start_time": "2022-11-11T19:51:52.785Z"
   },
   {
    "duration": 46,
    "start_time": "2022-11-11T19:51:52.843Z"
   },
   {
    "duration": 5,
    "start_time": "2022-11-11T19:51:52.892Z"
   },
   {
    "duration": 32,
    "start_time": "2022-11-11T19:51:52.899Z"
   },
   {
    "duration": 11,
    "start_time": "2022-11-11T19:51:52.934Z"
   },
   {
    "duration": 38,
    "start_time": "2022-11-11T19:51:52.947Z"
   },
   {
    "duration": 9,
    "start_time": "2022-11-11T19:51:52.987Z"
   },
   {
    "duration": 42,
    "start_time": "2022-11-11T19:51:52.999Z"
   },
   {
    "duration": 248,
    "start_time": "2022-11-11T19:51:53.044Z"
   },
   {
    "duration": 17,
    "start_time": "2022-11-11T19:51:53.294Z"
   },
   {
    "duration": 3833,
    "start_time": "2022-11-11T19:51:53.315Z"
   },
   {
    "duration": 7,
    "start_time": "2022-11-11T19:51:57.150Z"
   },
   {
    "duration": 430,
    "start_time": "2022-11-11T19:51:57.159Z"
   },
   {
    "duration": 313,
    "start_time": "2022-11-11T19:51:57.592Z"
   },
   {
    "duration": 14,
    "start_time": "2022-11-11T19:51:57.908Z"
   },
   {
    "duration": 27,
    "start_time": "2022-11-11T19:51:57.924Z"
   },
   {
    "duration": 142,
    "start_time": "2022-11-11T19:51:57.954Z"
   },
   {
    "duration": 182,
    "start_time": "2022-11-11T19:51:58.098Z"
   },
   {
    "duration": 60,
    "start_time": "2022-11-11T19:51:58.282Z"
   },
   {
    "duration": 75,
    "start_time": "2022-11-11T19:51:58.344Z"
   },
   {
    "duration": 510,
    "start_time": "2022-11-11T19:53:17.703Z"
   },
   {
    "duration": 240,
    "start_time": "2022-11-11T19:56:20.319Z"
   },
   {
    "duration": 232,
    "start_time": "2022-11-11T19:57:16.209Z"
   },
   {
    "duration": 383,
    "start_time": "2022-11-11T19:57:51.876Z"
   },
   {
    "duration": 259,
    "start_time": "2022-11-11T20:00:20.431Z"
   },
   {
    "duration": 172,
    "start_time": "2022-11-11T20:01:14.796Z"
   },
   {
    "duration": 153,
    "start_time": "2022-11-11T20:01:29.215Z"
   },
   {
    "duration": 168,
    "start_time": "2022-11-11T20:01:30.949Z"
   },
   {
    "duration": 418,
    "start_time": "2022-11-11T20:37:19.596Z"
   },
   {
    "duration": 958,
    "start_time": "2022-11-11T20:38:45.902Z"
   },
   {
    "duration": 10,
    "start_time": "2022-11-11T20:39:00.903Z"
   },
   {
    "duration": 13,
    "start_time": "2022-11-11T20:39:10.032Z"
   },
   {
    "duration": 33,
    "start_time": "2022-11-11T20:39:13.497Z"
   },
   {
    "duration": 9,
    "start_time": "2022-11-11T20:39:37.656Z"
   },
   {
    "duration": 10,
    "start_time": "2022-11-11T20:40:11.913Z"
   },
   {
    "duration": 71,
    "start_time": "2022-11-11T20:41:45.102Z"
   },
   {
    "duration": 13,
    "start_time": "2022-11-11T20:41:53.947Z"
   },
   {
    "duration": 11,
    "start_time": "2022-11-11T20:43:51.964Z"
   },
   {
    "duration": 9,
    "start_time": "2022-11-11T20:46:01.349Z"
   },
   {
    "duration": 11,
    "start_time": "2022-11-11T20:46:10.328Z"
   },
   {
    "duration": 37,
    "start_time": "2022-11-11T20:46:51.972Z"
   },
   {
    "duration": 42,
    "start_time": "2022-11-11T20:47:08.110Z"
   },
   {
    "duration": 16,
    "start_time": "2022-11-11T20:47:28.439Z"
   },
   {
    "duration": 10,
    "start_time": "2022-11-11T20:58:35.938Z"
   },
   {
    "duration": 11,
    "start_time": "2022-11-11T20:58:36.139Z"
   },
   {
    "duration": 10,
    "start_time": "2022-11-11T20:58:36.320Z"
   },
   {
    "duration": 11,
    "start_time": "2022-11-11T20:58:36.488Z"
   },
   {
    "duration": 9,
    "start_time": "2022-11-11T20:58:36.661Z"
   },
   {
    "duration": 9,
    "start_time": "2022-11-11T20:58:36.827Z"
   },
   {
    "duration": 48,
    "start_time": "2022-11-11T20:58:39.567Z"
   },
   {
    "duration": 33,
    "start_time": "2022-11-11T20:58:39.616Z"
   },
   {
    "duration": 3,
    "start_time": "2022-11-11T20:58:39.651Z"
   },
   {
    "duration": 51,
    "start_time": "2022-11-11T20:58:39.655Z"
   },
   {
    "duration": 53,
    "start_time": "2022-11-11T20:58:39.709Z"
   },
   {
    "duration": 31,
    "start_time": "2022-11-11T20:58:39.764Z"
   },
   {
    "duration": 28,
    "start_time": "2022-11-11T20:58:39.797Z"
   },
   {
    "duration": 59,
    "start_time": "2022-11-11T20:58:39.826Z"
   },
   {
    "duration": 167,
    "start_time": "2022-11-11T20:58:39.887Z"
   },
   {
    "duration": 12,
    "start_time": "2022-11-11T20:58:40.056Z"
   },
   {
    "duration": 3537,
    "start_time": "2022-11-11T20:58:40.077Z"
   },
   {
    "duration": 6,
    "start_time": "2022-11-11T20:58:43.616Z"
   },
   {
    "duration": 473,
    "start_time": "2022-11-11T20:58:43.624Z"
   },
   {
    "duration": 364,
    "start_time": "2022-11-11T20:58:44.100Z"
   },
   {
    "duration": 17,
    "start_time": "2022-11-11T20:58:44.466Z"
   },
   {
    "duration": 8,
    "start_time": "2022-11-11T20:58:44.485Z"
   },
   {
    "duration": 126,
    "start_time": "2022-11-11T20:58:44.495Z"
   },
   {
    "duration": 190,
    "start_time": "2022-11-11T20:58:44.622Z"
   },
   {
    "duration": 64,
    "start_time": "2022-11-11T20:58:44.814Z"
   },
   {
    "duration": 50,
    "start_time": "2022-11-11T20:58:44.879Z"
   },
   {
    "duration": 184,
    "start_time": "2022-11-11T20:58:44.931Z"
   },
   {
    "duration": 157,
    "start_time": "2022-11-11T20:58:45.117Z"
   },
   {
    "duration": 134,
    "start_time": "2022-11-11T20:58:45.278Z"
   },
   {
    "duration": 11,
    "start_time": "2022-11-11T20:58:45.414Z"
   },
   {
    "duration": 11,
    "start_time": "2022-11-11T20:58:58.677Z"
   },
   {
    "duration": 13,
    "start_time": "2022-11-11T20:59:33.218Z"
   },
   {
    "duration": 14,
    "start_time": "2022-11-11T21:00:09.890Z"
   },
   {
    "duration": 14,
    "start_time": "2022-11-11T21:00:20.063Z"
   },
   {
    "duration": 6,
    "start_time": "2022-11-11T21:14:35.447Z"
   },
   {
    "duration": 195,
    "start_time": "2022-11-11T21:18:51.552Z"
   },
   {
    "duration": 177,
    "start_time": "2022-11-11T21:19:00.933Z"
   },
   {
    "duration": 160,
    "start_time": "2022-11-11T21:19:03.641Z"
   },
   {
    "duration": 31,
    "start_time": "2022-11-11T21:25:12.109Z"
   },
   {
    "duration": 743,
    "start_time": "2022-11-11T22:27:57.985Z"
   },
   {
    "duration": 55,
    "start_time": "2022-11-11T22:27:58.732Z"
   },
   {
    "duration": 4,
    "start_time": "2022-11-11T22:27:58.789Z"
   },
   {
    "duration": 37,
    "start_time": "2022-11-11T22:27:58.795Z"
   },
   {
    "duration": 10,
    "start_time": "2022-11-11T22:27:58.840Z"
   },
   {
    "duration": 30,
    "start_time": "2022-11-11T22:27:58.853Z"
   },
   {
    "duration": 6,
    "start_time": "2022-11-11T22:27:58.885Z"
   },
   {
    "duration": 32,
    "start_time": "2022-11-11T22:27:58.893Z"
   },
   {
    "duration": 204,
    "start_time": "2022-11-11T22:27:58.927Z"
   },
   {
    "duration": 15,
    "start_time": "2022-11-11T22:27:59.133Z"
   },
   {
    "duration": 3511,
    "start_time": "2022-11-11T22:27:59.150Z"
   },
   {
    "duration": 6,
    "start_time": "2022-11-11T22:28:02.663Z"
   },
   {
    "duration": 413,
    "start_time": "2022-11-11T22:28:02.671Z"
   },
   {
    "duration": 428,
    "start_time": "2022-11-11T22:28:03.087Z"
   },
   {
    "duration": 333,
    "start_time": "2022-11-11T22:28:03.517Z"
   },
   {
    "duration": 0,
    "start_time": "2022-11-11T22:28:03.856Z"
   },
   {
    "duration": 0,
    "start_time": "2022-11-11T22:28:03.858Z"
   },
   {
    "duration": 0,
    "start_time": "2022-11-11T22:28:03.860Z"
   },
   {
    "duration": 0,
    "start_time": "2022-11-11T22:28:03.861Z"
   },
   {
    "duration": 0,
    "start_time": "2022-11-11T22:28:03.863Z"
   },
   {
    "duration": 0,
    "start_time": "2022-11-11T22:28:03.864Z"
   },
   {
    "duration": 0,
    "start_time": "2022-11-11T22:28:03.868Z"
   },
   {
    "duration": 0,
    "start_time": "2022-11-11T22:28:03.869Z"
   },
   {
    "duration": 0,
    "start_time": "2022-11-11T22:28:03.871Z"
   },
   {
    "duration": 0,
    "start_time": "2022-11-11T22:28:03.872Z"
   },
   {
    "duration": 0,
    "start_time": "2022-11-11T22:28:03.874Z"
   },
   {
    "duration": 0,
    "start_time": "2022-11-11T22:28:03.876Z"
   },
   {
    "duration": 0,
    "start_time": "2022-11-11T22:28:03.878Z"
   },
   {
    "duration": 84,
    "start_time": "2022-11-12T01:33:38.791Z"
   },
   {
    "duration": 797,
    "start_time": "2022-11-12T09:20:00.643Z"
   },
   {
    "duration": 206,
    "start_time": "2022-11-12T09:20:01.442Z"
   },
   {
    "duration": 40,
    "start_time": "2022-11-12T09:20:01.727Z"
   },
   {
    "duration": 4,
    "start_time": "2022-11-12T09:20:02.287Z"
   },
   {
    "duration": 20,
    "start_time": "2022-11-12T09:20:02.694Z"
   },
   {
    "duration": 7,
    "start_time": "2022-11-12T09:20:03.279Z"
   },
   {
    "duration": 18,
    "start_time": "2022-11-12T09:20:03.698Z"
   },
   {
    "duration": 7,
    "start_time": "2022-11-12T09:20:03.896Z"
   },
   {
    "duration": 30,
    "start_time": "2022-11-12T09:20:04.309Z"
   },
   {
    "duration": 69,
    "start_time": "2022-11-12T09:20:04.719Z"
   },
   {
    "duration": 148,
    "start_time": "2022-11-12T09:20:05.704Z"
   },
   {
    "duration": 12,
    "start_time": "2022-11-12T09:20:06.314Z"
   },
   {
    "duration": 3127,
    "start_time": "2022-11-12T09:20:06.700Z"
   },
   {
    "duration": 6,
    "start_time": "2022-11-12T09:20:09.830Z"
   },
   {
    "duration": 351,
    "start_time": "2022-11-12T09:20:09.838Z"
   },
   {
    "duration": 372,
    "start_time": "2022-11-12T09:20:10.192Z"
   },
   {
    "duration": 251,
    "start_time": "2022-11-12T09:20:10.566Z"
   },
   {
    "duration": 160,
    "start_time": "2022-11-12T09:20:34.611Z"
   },
   {
    "duration": 18,
    "start_time": "2022-11-12T09:21:21.309Z"
   },
   {
    "duration": 26,
    "start_time": "2022-11-12T09:25:54.252Z"
   },
   {
    "duration": 144,
    "start_time": "2022-11-12T09:31:26.820Z"
   },
   {
    "duration": 11,
    "start_time": "2022-11-12T09:31:40.544Z"
   },
   {
    "duration": 120,
    "start_time": "2022-11-12T09:31:46.038Z"
   },
   {
    "duration": 253,
    "start_time": "2022-11-12T09:31:55.211Z"
   },
   {
    "duration": 275,
    "start_time": "2022-11-12T09:32:42.769Z"
   },
   {
    "duration": 143,
    "start_time": "2022-11-12T09:33:17.965Z"
   },
   {
    "duration": 195,
    "start_time": "2022-11-12T09:34:53.362Z"
   },
   {
    "duration": 3,
    "start_time": "2022-11-12T09:34:57.426Z"
   },
   {
    "duration": 56,
    "start_time": "2022-11-12T09:34:57.431Z"
   },
   {
    "duration": 34,
    "start_time": "2022-11-12T09:34:57.489Z"
   },
   {
    "duration": 26,
    "start_time": "2022-11-12T09:34:57.526Z"
   },
   {
    "duration": 3,
    "start_time": "2022-11-12T09:34:57.556Z"
   },
   {
    "duration": 36,
    "start_time": "2022-11-12T09:34:57.561Z"
   },
   {
    "duration": 8,
    "start_time": "2022-11-12T09:34:57.599Z"
   },
   {
    "duration": 17,
    "start_time": "2022-11-12T09:34:57.619Z"
   },
   {
    "duration": 4,
    "start_time": "2022-11-12T09:34:57.638Z"
   },
   {
    "duration": 29,
    "start_time": "2022-11-12T09:34:57.644Z"
   },
   {
    "duration": 95,
    "start_time": "2022-11-12T09:34:57.675Z"
   },
   {
    "duration": 188,
    "start_time": "2022-11-12T09:34:57.771Z"
   },
   {
    "duration": 269,
    "start_time": "2022-11-12T09:34:57.961Z"
   },
   {
    "duration": 3134,
    "start_time": "2022-11-12T09:34:58.232Z"
   },
   {
    "duration": 6,
    "start_time": "2022-11-12T09:35:01.368Z"
   },
   {
    "duration": 196,
    "start_time": "2022-11-12T09:35:01.376Z"
   },
   {
    "duration": 0,
    "start_time": "2022-11-12T09:35:01.574Z"
   },
   {
    "duration": 0,
    "start_time": "2022-11-12T09:35:01.576Z"
   },
   {
    "duration": 4,
    "start_time": "2022-11-12T09:35:19.905Z"
   },
   {
    "duration": 451,
    "start_time": "2022-11-12T09:35:21.261Z"
   },
   {
    "duration": 277,
    "start_time": "2022-11-12T09:35:25.751Z"
   },
   {
    "duration": 240,
    "start_time": "2022-11-12T09:35:49.323Z"
   },
   {
    "duration": 16,
    "start_time": "2022-11-12T09:35:53.262Z"
   },
   {
    "duration": 208,
    "start_time": "2022-11-12T09:35:55.926Z"
   },
   {
    "duration": 3,
    "start_time": "2022-11-12T09:36:23.084Z"
   },
   {
    "duration": 60,
    "start_time": "2022-11-12T09:36:23.089Z"
   },
   {
    "duration": 31,
    "start_time": "2022-11-12T09:36:23.150Z"
   },
   {
    "duration": 36,
    "start_time": "2022-11-12T09:36:23.183Z"
   },
   {
    "duration": 8,
    "start_time": "2022-11-12T09:36:23.221Z"
   },
   {
    "duration": 27,
    "start_time": "2022-11-12T09:36:23.231Z"
   },
   {
    "duration": 10,
    "start_time": "2022-11-12T09:36:23.260Z"
   },
   {
    "duration": 25,
    "start_time": "2022-11-12T09:36:23.272Z"
   },
   {
    "duration": 5,
    "start_time": "2022-11-12T09:36:23.298Z"
   },
   {
    "duration": 36,
    "start_time": "2022-11-12T09:36:23.304Z"
   },
   {
    "duration": 62,
    "start_time": "2022-11-12T09:36:23.341Z"
   },
   {
    "duration": 168,
    "start_time": "2022-11-12T09:36:23.419Z"
   },
   {
    "duration": 269,
    "start_time": "2022-11-12T09:36:23.589Z"
   },
   {
    "duration": 3125,
    "start_time": "2022-11-12T09:36:23.861Z"
   },
   {
    "duration": 5,
    "start_time": "2022-11-12T09:36:26.988Z"
   },
   {
    "duration": 310,
    "start_time": "2022-11-12T09:36:26.995Z"
   },
   {
    "duration": 260,
    "start_time": "2022-11-12T09:36:27.307Z"
   },
   {
    "duration": 15,
    "start_time": "2022-11-12T09:36:27.569Z"
   },
   {
    "duration": 12,
    "start_time": "2022-11-12T09:36:30.601Z"
   },
   {
    "duration": 10,
    "start_time": "2022-11-12T09:38:04.486Z"
   },
   {
    "duration": 11,
    "start_time": "2022-11-12T09:38:10.498Z"
   },
   {
    "duration": 11,
    "start_time": "2022-11-12T09:38:15.869Z"
   },
   {
    "duration": 6,
    "start_time": "2022-11-12T09:38:31.803Z"
   },
   {
    "duration": 70,
    "start_time": "2022-11-12T09:38:33.561Z"
   },
   {
    "duration": 167,
    "start_time": "2022-11-12T09:38:34.182Z"
   },
   {
    "duration": 150,
    "start_time": "2022-11-12T09:38:34.388Z"
   },
   {
    "duration": 118,
    "start_time": "2022-11-12T09:38:34.607Z"
   },
   {
    "duration": 47,
    "start_time": "2022-11-12T09:38:34.800Z"
   },
   {
    "duration": 26,
    "start_time": "2022-11-12T09:38:35.173Z"
   },
   {
    "duration": 148,
    "start_time": "2022-11-12T09:38:35.507Z"
   },
   {
    "duration": 128,
    "start_time": "2022-11-12T09:38:35.690Z"
   },
   {
    "duration": 127,
    "start_time": "2022-11-12T09:38:35.872Z"
   },
   {
    "duration": 615,
    "start_time": "2022-11-12T09:38:36.422Z"
   },
   {
    "duration": 42,
    "start_time": "2022-11-12T09:38:37.038Z"
   },
   {
    "duration": 0,
    "start_time": "2022-11-12T09:38:37.081Z"
   },
   {
    "duration": 167,
    "start_time": "2022-11-12T09:41:01.273Z"
   },
   {
    "duration": 166,
    "start_time": "2022-11-12T09:41:17.632Z"
   },
   {
    "duration": 167,
    "start_time": "2022-11-12T09:41:55.515Z"
   },
   {
    "duration": 44,
    "start_time": "2022-11-12T09:41:59.692Z"
   },
   {
    "duration": 49,
    "start_time": "2022-11-12T09:42:07.801Z"
   },
   {
    "duration": 146,
    "start_time": "2022-11-12T09:43:06.798Z"
   },
   {
    "duration": 170,
    "start_time": "2022-11-12T09:43:14.633Z"
   },
   {
    "duration": 51,
    "start_time": "2022-11-12T09:43:26.655Z"
   },
   {
    "duration": 190,
    "start_time": "2022-11-12T09:43:32.400Z"
   },
   {
    "duration": 57,
    "start_time": "2022-11-12T09:47:09.846Z"
   },
   {
    "duration": 406,
    "start_time": "2022-11-12T09:47:20.903Z"
   },
   {
    "duration": 381,
    "start_time": "2022-11-12T09:47:41.327Z"
   },
   {
    "duration": 586,
    "start_time": "2022-11-12T09:47:59.374Z"
   },
   {
    "duration": 380,
    "start_time": "2022-11-12T09:49:20.697Z"
   },
   {
    "duration": 431,
    "start_time": "2022-11-12T09:50:25.996Z"
   },
   {
    "duration": 21,
    "start_time": "2022-11-12T09:50:46.468Z"
   },
   {
    "duration": 19,
    "start_time": "2022-11-12T09:51:12.776Z"
   },
   {
    "duration": 16,
    "start_time": "2022-11-12T09:51:31.609Z"
   },
   {
    "duration": 420,
    "start_time": "2022-11-12T09:51:44.978Z"
   },
   {
    "duration": 418,
    "start_time": "2022-11-12T09:53:07.030Z"
   },
   {
    "duration": 564,
    "start_time": "2022-11-12T09:54:52.758Z"
   },
   {
    "duration": 431,
    "start_time": "2022-11-12T09:55:11.121Z"
   },
   {
    "duration": 396,
    "start_time": "2022-11-12T09:55:19.350Z"
   },
   {
    "duration": 411,
    "start_time": "2022-11-12T09:55:25.773Z"
   },
   {
    "duration": 564,
    "start_time": "2022-11-12T09:55:36.043Z"
   },
   {
    "duration": 798,
    "start_time": "2022-11-12T09:55:42.296Z"
   },
   {
    "duration": 567,
    "start_time": "2022-11-12T09:55:49.228Z"
   },
   {
    "duration": 645,
    "start_time": "2022-11-12T09:57:43.119Z"
   },
   {
    "duration": 604,
    "start_time": "2022-11-12T09:58:10.659Z"
   },
   {
    "duration": 514,
    "start_time": "2022-11-12T09:59:33.290Z"
   },
   {
    "duration": 216,
    "start_time": "2022-11-12T10:02:10.381Z"
   },
   {
    "duration": 641,
    "start_time": "2022-11-12T10:02:28.892Z"
   },
   {
    "duration": 145,
    "start_time": "2022-11-12T10:02:35.474Z"
   },
   {
    "duration": 129,
    "start_time": "2022-11-12T10:02:37.242Z"
   },
   {
    "duration": 140,
    "start_time": "2022-11-12T10:02:37.661Z"
   },
   {
    "duration": 15,
    "start_time": "2022-11-12T10:02:38.592Z"
   },
   {
    "duration": 46,
    "start_time": "2022-11-12T10:02:38.880Z"
   },
   {
    "duration": 14,
    "start_time": "2022-11-12T10:02:39.122Z"
   },
   {
    "duration": 29,
    "start_time": "2022-11-12T10:12:44.130Z"
   },
   {
    "duration": 24,
    "start_time": "2022-11-12T10:13:59.855Z"
   },
   {
    "duration": 32,
    "start_time": "2022-11-12T10:17:38.757Z"
   },
   {
    "duration": 27,
    "start_time": "2022-11-12T10:17:46.427Z"
   },
   {
    "duration": 54,
    "start_time": "2022-11-12T10:18:24.672Z"
   },
   {
    "duration": 31,
    "start_time": "2022-11-12T10:18:39.356Z"
   },
   {
    "duration": 28,
    "start_time": "2022-11-12T10:18:52.871Z"
   },
   {
    "duration": 3,
    "start_time": "2022-11-12T10:19:48.668Z"
   },
   {
    "duration": 50,
    "start_time": "2022-11-12T10:19:48.697Z"
   },
   {
    "duration": 40,
    "start_time": "2022-11-12T10:19:48.787Z"
   },
   {
    "duration": 873,
    "start_time": "2022-11-12T10:19:48.850Z"
   },
   {
    "duration": 0,
    "start_time": "2022-11-12T10:19:49.726Z"
   },
   {
    "duration": 0,
    "start_time": "2022-11-12T10:19:49.727Z"
   },
   {
    "duration": 0,
    "start_time": "2022-11-12T10:19:49.729Z"
   },
   {
    "duration": 0,
    "start_time": "2022-11-12T10:19:49.730Z"
   },
   {
    "duration": 0,
    "start_time": "2022-11-12T10:19:49.731Z"
   },
   {
    "duration": 0,
    "start_time": "2022-11-12T10:19:49.733Z"
   },
   {
    "duration": 0,
    "start_time": "2022-11-12T10:19:49.735Z"
   },
   {
    "duration": 0,
    "start_time": "2022-11-12T10:19:49.736Z"
   },
   {
    "duration": 0,
    "start_time": "2022-11-12T10:19:49.738Z"
   },
   {
    "duration": 0,
    "start_time": "2022-11-12T10:19:49.739Z"
   },
   {
    "duration": 0,
    "start_time": "2022-11-12T10:19:49.741Z"
   },
   {
    "duration": 0,
    "start_time": "2022-11-12T10:19:49.742Z"
   },
   {
    "duration": 264,
    "start_time": "2022-11-12T10:19:49.806Z"
   },
   {
    "duration": 16,
    "start_time": "2022-11-12T10:19:50.073Z"
   },
   {
    "duration": 28,
    "start_time": "2022-11-12T10:19:50.091Z"
   },
   {
    "duration": 5,
    "start_time": "2022-11-12T10:19:50.122Z"
   },
   {
    "duration": 68,
    "start_time": "2022-11-12T10:19:50.129Z"
   },
   {
    "duration": 187,
    "start_time": "2022-11-12T10:19:50.221Z"
   },
   {
    "duration": 182,
    "start_time": "2022-11-12T10:19:50.409Z"
   },
   {
    "duration": 59,
    "start_time": "2022-11-12T10:19:50.594Z"
   },
   {
    "duration": 650,
    "start_time": "2022-11-12T10:19:50.655Z"
   },
   {
    "duration": 160,
    "start_time": "2022-11-12T10:19:51.308Z"
   },
   {
    "duration": 134,
    "start_time": "2022-11-12T10:19:51.469Z"
   },
   {
    "duration": 142,
    "start_time": "2022-11-12T10:19:51.604Z"
   },
   {
    "duration": 13,
    "start_time": "2022-11-12T10:19:51.748Z"
   },
   {
    "duration": 12,
    "start_time": "2022-11-12T10:19:51.763Z"
   },
   {
    "duration": 3,
    "start_time": "2022-11-12T10:20:38.084Z"
   },
   {
    "duration": 32,
    "start_time": "2022-11-12T10:20:38.571Z"
   },
   {
    "duration": 16,
    "start_time": "2022-11-12T10:20:38.658Z"
   },
   {
    "duration": 8,
    "start_time": "2022-11-12T10:20:38.753Z"
   },
   {
    "duration": 19,
    "start_time": "2022-11-12T10:20:38.820Z"
   },
   {
    "duration": 5,
    "start_time": "2022-11-12T10:20:38.848Z"
   },
   {
    "duration": 167,
    "start_time": "2022-11-12T10:20:38.898Z"
   },
   {
    "duration": 73,
    "start_time": "2022-11-12T10:20:39.067Z"
   },
   {
    "duration": 155,
    "start_time": "2022-11-12T10:20:39.142Z"
   },
   {
    "duration": 304,
    "start_time": "2022-11-12T10:20:39.299Z"
   },
   {
    "duration": 3313,
    "start_time": "2022-11-12T10:20:39.604Z"
   },
   {
    "duration": 5,
    "start_time": "2022-11-12T10:20:42.920Z"
   },
   {
    "duration": 342,
    "start_time": "2022-11-12T10:20:42.927Z"
   },
   {
    "duration": 288,
    "start_time": "2022-11-12T10:20:43.271Z"
   },
   {
    "duration": 16,
    "start_time": "2022-11-12T10:20:43.560Z"
   },
   {
    "duration": 10,
    "start_time": "2022-11-12T10:20:43.578Z"
   },
   {
    "duration": 30,
    "start_time": "2022-11-12T10:20:43.591Z"
   },
   {
    "duration": 66,
    "start_time": "2022-11-12T10:20:43.622Z"
   },
   {
    "duration": 205,
    "start_time": "2022-11-12T10:20:43.690Z"
   },
   {
    "duration": 191,
    "start_time": "2022-11-12T10:20:43.896Z"
   },
   {
    "duration": 54,
    "start_time": "2022-11-12T10:20:44.089Z"
   },
   {
    "duration": 669,
    "start_time": "2022-11-12T10:20:44.144Z"
   },
   {
    "duration": 176,
    "start_time": "2022-11-12T10:20:44.815Z"
   },
   {
    "duration": 147,
    "start_time": "2022-11-12T10:20:44.993Z"
   },
   {
    "duration": 154,
    "start_time": "2022-11-12T10:20:45.142Z"
   },
   {
    "duration": 24,
    "start_time": "2022-11-12T10:20:45.298Z"
   },
   {
    "duration": 19,
    "start_time": "2022-11-12T10:20:45.324Z"
   },
   {
    "duration": 4,
    "start_time": "2022-11-12T10:22:58.832Z"
   },
   {
    "duration": 178,
    "start_time": "2022-11-12T10:23:21.387Z"
   },
   {
    "duration": 169,
    "start_time": "2022-11-12T10:29:20.043Z"
   },
   {
    "duration": 46,
    "start_time": "2022-11-12T10:29:34.138Z"
   },
   {
    "duration": 18,
    "start_time": "2022-11-12T10:29:39.320Z"
   },
   {
    "duration": 680,
    "start_time": "2022-11-12T10:29:54.029Z"
   },
   {
    "duration": 173,
    "start_time": "2022-11-12T10:29:58.691Z"
   },
   {
    "duration": 16,
    "start_time": "2022-11-12T10:30:52.011Z"
   },
   {
    "duration": 16,
    "start_time": "2022-11-12T10:34:01.227Z"
   },
   {
    "duration": 184,
    "start_time": "2022-11-12T10:35:55.819Z"
   },
   {
    "duration": 208,
    "start_time": "2022-11-12T10:39:06.619Z"
   },
   {
    "duration": 472,
    "start_time": "2022-11-12T10:40:04.521Z"
   },
   {
    "duration": 474,
    "start_time": "2022-11-12T10:41:41.012Z"
   },
   {
    "duration": 200,
    "start_time": "2022-11-12T10:41:51.167Z"
   },
   {
    "duration": 496,
    "start_time": "2022-11-12T10:42:27.970Z"
   },
   {
    "duration": 210,
    "start_time": "2022-11-12T10:44:43.428Z"
   },
   {
    "duration": 4,
    "start_time": "2022-11-12T10:45:11.676Z"
   },
   {
    "duration": 190,
    "start_time": "2022-11-12T10:45:21.826Z"
   },
   {
    "duration": 109,
    "start_time": "2022-11-12T11:20:48.230Z"
   },
   {
    "duration": 128,
    "start_time": "2022-11-12T11:21:48.367Z"
   },
   {
    "duration": 112,
    "start_time": "2022-11-12T11:22:02.628Z"
   },
   {
    "duration": 16,
    "start_time": "2022-11-12T11:22:08.246Z"
   },
   {
    "duration": 1849,
    "start_time": "2022-11-12T11:22:32.252Z"
   },
   {
    "duration": 1228,
    "start_time": "2022-11-12T11:22:53.031Z"
   },
   {
    "duration": 1849,
    "start_time": "2022-11-12T11:23:02.272Z"
   },
   {
    "duration": 142,
    "start_time": "2022-11-12T11:23:16.227Z"
   },
   {
    "duration": 2166,
    "start_time": "2022-11-12T11:23:36.163Z"
   },
   {
    "duration": 5,
    "start_time": "2022-11-12T11:25:16.705Z"
   },
   {
    "duration": 5,
    "start_time": "2022-11-12T11:25:24.790Z"
   },
   {
    "duration": 3,
    "start_time": "2022-11-12T11:26:51.715Z"
   },
   {
    "duration": 3,
    "start_time": "2022-11-12T11:26:57.430Z"
   },
   {
    "duration": 4,
    "start_time": "2022-11-12T11:27:10.259Z"
   },
   {
    "duration": 9,
    "start_time": "2022-11-12T11:27:12.519Z"
   },
   {
    "duration": 54,
    "start_time": "2022-11-12T11:27:46.664Z"
   },
   {
    "duration": 5,
    "start_time": "2022-11-12T11:27:49.443Z"
   },
   {
    "duration": 10,
    "start_time": "2022-11-12T11:28:55.869Z"
   },
   {
    "duration": 308,
    "start_time": "2022-11-12T11:30:27.835Z"
   },
   {
    "duration": 287,
    "start_time": "2022-11-12T11:30:34.051Z"
   },
   {
    "duration": 307,
    "start_time": "2022-11-12T11:30:38.263Z"
   },
   {
    "duration": 2,
    "start_time": "2022-11-12T11:45:43.589Z"
   },
   {
    "duration": 52,
    "start_time": "2022-11-12T11:45:43.594Z"
   },
   {
    "duration": 32,
    "start_time": "2022-11-12T11:45:43.648Z"
   },
   {
    "duration": 2,
    "start_time": "2022-11-12T11:45:43.682Z"
   },
   {
    "duration": 43,
    "start_time": "2022-11-12T11:45:43.686Z"
   },
   {
    "duration": 14,
    "start_time": "2022-11-12T11:45:43.731Z"
   },
   {
    "duration": 6,
    "start_time": "2022-11-12T11:45:43.747Z"
   },
   {
    "duration": 15,
    "start_time": "2022-11-12T11:45:43.754Z"
   },
   {
    "duration": 4,
    "start_time": "2022-11-12T11:45:43.771Z"
   },
   {
    "duration": 53,
    "start_time": "2022-11-12T11:45:43.777Z"
   },
   {
    "duration": 65,
    "start_time": "2022-11-12T11:45:43.832Z"
   },
   {
    "duration": 174,
    "start_time": "2022-11-12T11:45:43.899Z"
   },
   {
    "duration": 277,
    "start_time": "2022-11-12T11:45:44.076Z"
   },
   {
    "duration": 3375,
    "start_time": "2022-11-12T11:45:44.355Z"
   },
   {
    "duration": 5,
    "start_time": "2022-11-12T11:45:47.732Z"
   },
   {
    "duration": 305,
    "start_time": "2022-11-12T11:45:47.738Z"
   },
   {
    "duration": 292,
    "start_time": "2022-11-12T11:45:48.045Z"
   },
   {
    "duration": 251,
    "start_time": "2022-11-12T11:45:48.339Z"
   },
   {
    "duration": 27,
    "start_time": "2022-11-12T11:45:48.592Z"
   },
   {
    "duration": 11,
    "start_time": "2022-11-12T11:45:48.621Z"
   },
   {
    "duration": 4,
    "start_time": "2022-11-12T11:45:48.634Z"
   },
   {
    "duration": 82,
    "start_time": "2022-11-12T11:45:48.640Z"
   },
   {
    "duration": 201,
    "start_time": "2022-11-12T11:45:48.724Z"
   },
   {
    "duration": 206,
    "start_time": "2022-11-12T11:45:48.927Z"
   },
   {
    "duration": 55,
    "start_time": "2022-11-12T11:45:49.135Z"
   },
   {
    "duration": 622,
    "start_time": "2022-11-12T11:45:49.192Z"
   },
   {
    "duration": 141,
    "start_time": "2022-11-12T11:45:49.818Z"
   },
   {
    "duration": 169,
    "start_time": "2022-11-12T11:45:49.960Z"
   },
   {
    "duration": 171,
    "start_time": "2022-11-12T11:45:50.131Z"
   },
   {
    "duration": 22,
    "start_time": "2022-11-12T11:45:50.304Z"
   },
   {
    "duration": 23,
    "start_time": "2022-11-12T11:45:50.328Z"
   },
   {
    "duration": 160,
    "start_time": "2022-11-12T11:47:53.948Z"
   },
   {
    "duration": 836,
    "start_time": "2022-11-13T09:59:20.815Z"
   },
   {
    "duration": 104,
    "start_time": "2022-11-13T09:59:21.653Z"
   },
   {
    "duration": 39,
    "start_time": "2022-11-13T09:59:21.758Z"
   },
   {
    "duration": 3,
    "start_time": "2022-11-13T09:59:21.798Z"
   },
   {
    "duration": 36,
    "start_time": "2022-11-13T09:59:21.803Z"
   },
   {
    "duration": 16,
    "start_time": "2022-11-13T09:59:21.841Z"
   },
   {
    "duration": 7,
    "start_time": "2022-11-13T09:59:21.859Z"
   },
   {
    "duration": 18,
    "start_time": "2022-11-13T09:59:21.867Z"
   },
   {
    "duration": 21,
    "start_time": "2022-11-13T09:59:21.887Z"
   },
   {
    "duration": 26,
    "start_time": "2022-11-13T09:59:21.910Z"
   },
   {
    "duration": 89,
    "start_time": "2022-11-13T09:59:21.937Z"
   },
   {
    "duration": 191,
    "start_time": "2022-11-13T09:59:22.027Z"
   },
   {
    "duration": 285,
    "start_time": "2022-11-13T09:59:22.219Z"
   },
   {
    "duration": 3120,
    "start_time": "2022-11-13T09:59:22.506Z"
   },
   {
    "duration": 5,
    "start_time": "2022-11-13T09:59:25.627Z"
   },
   {
    "duration": 347,
    "start_time": "2022-11-13T09:59:25.634Z"
   },
   {
    "duration": 307,
    "start_time": "2022-11-13T09:59:25.983Z"
   },
   {
    "duration": 279,
    "start_time": "2022-11-13T09:59:26.291Z"
   },
   {
    "duration": 16,
    "start_time": "2022-11-13T09:59:26.572Z"
   },
   {
    "duration": 30,
    "start_time": "2022-11-13T09:59:26.590Z"
   },
   {
    "duration": 19,
    "start_time": "2022-11-13T09:59:26.622Z"
   },
   {
    "duration": 195,
    "start_time": "2022-11-13T09:59:26.642Z"
   },
   {
    "duration": 77,
    "start_time": "2022-11-13T09:59:26.839Z"
   },
   {
    "duration": 198,
    "start_time": "2022-11-13T09:59:26.917Z"
   },
   {
    "duration": 180,
    "start_time": "2022-11-13T09:59:27.117Z"
   },
   {
    "duration": 49,
    "start_time": "2022-11-13T09:59:27.298Z"
   },
   {
    "duration": 699,
    "start_time": "2022-11-13T09:59:27.349Z"
   },
   {
    "duration": 299,
    "start_time": "2022-11-13T09:59:28.051Z"
   },
   {
    "duration": 180,
    "start_time": "2022-11-13T09:59:28.352Z"
   },
   {
    "duration": 162,
    "start_time": "2022-11-13T09:59:28.534Z"
   },
   {
    "duration": 430,
    "start_time": "2022-11-13T09:59:28.705Z"
   },
   {
    "duration": 13,
    "start_time": "2022-11-13T09:59:29.137Z"
   },
   {
    "duration": 862,
    "start_time": "2022-11-13T10:58:32.568Z"
   },
   {
    "duration": 92,
    "start_time": "2022-11-13T10:58:33.433Z"
   },
   {
    "duration": 39,
    "start_time": "2022-11-13T10:58:33.527Z"
   },
   {
    "duration": 4,
    "start_time": "2022-11-13T10:58:33.567Z"
   },
   {
    "duration": 41,
    "start_time": "2022-11-13T10:58:33.573Z"
   },
   {
    "duration": 16,
    "start_time": "2022-11-13T10:58:33.616Z"
   },
   {
    "duration": 13,
    "start_time": "2022-11-13T10:58:33.634Z"
   },
   {
    "duration": 29,
    "start_time": "2022-11-13T10:58:33.649Z"
   },
   {
    "duration": 24,
    "start_time": "2022-11-13T10:58:33.680Z"
   },
   {
    "duration": 81,
    "start_time": "2022-11-13T10:58:33.705Z"
   },
   {
    "duration": 191,
    "start_time": "2022-11-13T10:58:33.788Z"
   },
   {
    "duration": 358,
    "start_time": "2022-11-13T10:58:33.981Z"
   },
   {
    "duration": 3181,
    "start_time": "2022-11-13T10:58:34.340Z"
   },
   {
    "duration": 5,
    "start_time": "2022-11-13T10:58:37.524Z"
   },
   {
    "duration": 270,
    "start_time": "2022-11-13T10:58:37.531Z"
   },
   {
    "duration": 296,
    "start_time": "2022-11-13T10:58:37.802Z"
   },
   {
    "duration": 261,
    "start_time": "2022-11-13T10:58:38.100Z"
   },
   {
    "duration": 23,
    "start_time": "2022-11-13T10:58:38.363Z"
   },
   {
    "duration": 12,
    "start_time": "2022-11-13T10:58:38.388Z"
   },
   {
    "duration": 6,
    "start_time": "2022-11-13T10:58:38.403Z"
   },
   {
    "duration": 193,
    "start_time": "2022-11-13T10:58:38.410Z"
   },
   {
    "duration": 82,
    "start_time": "2022-11-13T10:58:38.605Z"
   },
   {
    "duration": 195,
    "start_time": "2022-11-13T10:58:38.689Z"
   },
   {
    "duration": 201,
    "start_time": "2022-11-13T10:58:38.886Z"
   },
   {
    "duration": 47,
    "start_time": "2022-11-13T10:58:39.089Z"
   },
   {
    "duration": 743,
    "start_time": "2022-11-13T10:58:39.137Z"
   },
   {
    "duration": 167,
    "start_time": "2022-11-13T10:58:39.882Z"
   },
   {
    "duration": 159,
    "start_time": "2022-11-13T10:58:40.050Z"
   },
   {
    "duration": 152,
    "start_time": "2022-11-13T10:58:40.211Z"
   },
   {
    "duration": 426,
    "start_time": "2022-11-13T10:58:40.364Z"
   },
   {
    "duration": 14,
    "start_time": "2022-11-13T10:58:40.791Z"
   },
   {
    "duration": 164,
    "start_time": "2022-11-13T11:06:51.637Z"
   },
   {
    "duration": 294,
    "start_time": "2022-11-13T11:06:54.026Z"
   },
   {
    "duration": 161,
    "start_time": "2022-11-13T11:06:56.198Z"
   },
   {
    "duration": 705,
    "start_time": "2022-11-13T11:19:34.766Z"
   },
   {
    "duration": 51,
    "start_time": "2022-11-13T11:19:35.473Z"
   },
   {
    "duration": 48,
    "start_time": "2022-11-13T11:19:35.527Z"
   },
   {
    "duration": 4,
    "start_time": "2022-11-13T11:19:35.578Z"
   },
   {
    "duration": 38,
    "start_time": "2022-11-13T11:19:35.583Z"
   },
   {
    "duration": 16,
    "start_time": "2022-11-13T11:19:35.623Z"
   },
   {
    "duration": 38,
    "start_time": "2022-11-13T11:19:35.641Z"
   },
   {
    "duration": 6,
    "start_time": "2022-11-13T11:19:35.681Z"
   },
   {
    "duration": 28,
    "start_time": "2022-11-13T11:19:35.689Z"
   },
   {
    "duration": 88,
    "start_time": "2022-11-13T11:19:35.719Z"
   },
   {
    "duration": 181,
    "start_time": "2022-11-13T11:19:35.809Z"
   },
   {
    "duration": 296,
    "start_time": "2022-11-13T11:19:35.991Z"
   },
   {
    "duration": 3216,
    "start_time": "2022-11-13T11:19:36.290Z"
   },
   {
    "duration": 5,
    "start_time": "2022-11-13T11:19:39.507Z"
   },
   {
    "duration": 359,
    "start_time": "2022-11-13T11:19:39.514Z"
   },
   {
    "duration": 310,
    "start_time": "2022-11-13T11:19:39.878Z"
   },
   {
    "duration": 266,
    "start_time": "2022-11-13T11:19:40.190Z"
   },
   {
    "duration": 25,
    "start_time": "2022-11-13T11:19:40.458Z"
   },
   {
    "duration": 37,
    "start_time": "2022-11-13T11:19:40.485Z"
   },
   {
    "duration": 21,
    "start_time": "2022-11-13T11:19:40.524Z"
   },
   {
    "duration": 191,
    "start_time": "2022-11-13T11:19:40.547Z"
   },
   {
    "duration": 82,
    "start_time": "2022-11-13T11:19:40.740Z"
   },
   {
    "duration": 194,
    "start_time": "2022-11-13T11:19:40.823Z"
   },
   {
    "duration": 194,
    "start_time": "2022-11-13T11:19:41.019Z"
   },
   {
    "duration": 66,
    "start_time": "2022-11-13T11:19:41.215Z"
   },
   {
    "duration": 650,
    "start_time": "2022-11-13T11:19:41.282Z"
   },
   {
    "duration": 272,
    "start_time": "2022-11-13T11:19:41.933Z"
   },
   {
    "duration": 175,
    "start_time": "2022-11-13T11:19:42.207Z"
   },
   {
    "duration": 164,
    "start_time": "2022-11-13T11:19:42.384Z"
   },
   {
    "duration": 477,
    "start_time": "2022-11-13T11:19:42.549Z"
   },
   {
    "duration": 15,
    "start_time": "2022-11-13T11:19:43.027Z"
   },
   {
    "duration": 679,
    "start_time": "2022-11-13T11:41:20.294Z"
   },
   {
    "duration": 52,
    "start_time": "2022-11-13T11:41:20.975Z"
   },
   {
    "duration": 45,
    "start_time": "2022-11-13T11:41:21.028Z"
   },
   {
    "duration": 5,
    "start_time": "2022-11-13T11:41:21.075Z"
   },
   {
    "duration": 36,
    "start_time": "2022-11-13T11:41:21.082Z"
   },
   {
    "duration": 15,
    "start_time": "2022-11-13T11:41:21.120Z"
   },
   {
    "duration": 16,
    "start_time": "2022-11-13T11:41:21.137Z"
   },
   {
    "duration": 27,
    "start_time": "2022-11-13T11:41:21.155Z"
   },
   {
    "duration": 30,
    "start_time": "2022-11-13T11:41:21.184Z"
   },
   {
    "duration": 87,
    "start_time": "2022-11-13T11:41:21.215Z"
   },
   {
    "duration": 178,
    "start_time": "2022-11-13T11:41:21.304Z"
   },
   {
    "duration": 304,
    "start_time": "2022-11-13T11:41:21.484Z"
   },
   {
    "duration": 3308,
    "start_time": "2022-11-13T11:41:21.790Z"
   },
   {
    "duration": 7,
    "start_time": "2022-11-13T11:41:25.102Z"
   },
   {
    "duration": 357,
    "start_time": "2022-11-13T11:41:25.111Z"
   },
   {
    "duration": 303,
    "start_time": "2022-11-13T11:41:25.470Z"
   },
   {
    "duration": 261,
    "start_time": "2022-11-13T11:41:25.778Z"
   },
   {
    "duration": 16,
    "start_time": "2022-11-13T11:41:26.041Z"
   },
   {
    "duration": 25,
    "start_time": "2022-11-13T11:41:26.059Z"
   },
   {
    "duration": 6,
    "start_time": "2022-11-13T11:41:26.086Z"
   },
   {
    "duration": 187,
    "start_time": "2022-11-13T11:41:26.093Z"
   },
   {
    "duration": 71,
    "start_time": "2022-11-13T11:41:26.282Z"
   },
   {
    "duration": 223,
    "start_time": "2022-11-13T11:41:26.355Z"
   },
   {
    "duration": 187,
    "start_time": "2022-11-13T11:41:26.580Z"
   },
   {
    "duration": 55,
    "start_time": "2022-11-13T11:41:26.777Z"
   },
   {
    "duration": 666,
    "start_time": "2022-11-13T11:41:26.834Z"
   },
   {
    "duration": 279,
    "start_time": "2022-11-13T11:41:27.502Z"
   },
   {
    "duration": 172,
    "start_time": "2022-11-13T11:41:27.783Z"
   },
   {
    "duration": 169,
    "start_time": "2022-11-13T11:41:27.956Z"
   },
   {
    "duration": 457,
    "start_time": "2022-11-13T11:41:28.126Z"
   },
   {
    "duration": 14,
    "start_time": "2022-11-13T11:41:28.585Z"
   },
   {
    "duration": 574,
    "start_time": "2022-11-14T01:07:23.761Z"
   },
   {
    "duration": 49,
    "start_time": "2022-11-14T01:07:24.337Z"
   },
   {
    "duration": 36,
    "start_time": "2022-11-14T01:07:24.390Z"
   },
   {
    "duration": 3,
    "start_time": "2022-11-14T01:07:24.429Z"
   },
   {
    "duration": 33,
    "start_time": "2022-11-14T01:07:24.433Z"
   },
   {
    "duration": 14,
    "start_time": "2022-11-14T01:07:24.467Z"
   },
   {
    "duration": 33,
    "start_time": "2022-11-14T01:07:24.483Z"
   },
   {
    "duration": 4,
    "start_time": "2022-11-14T01:07:24.518Z"
   },
   {
    "duration": 25,
    "start_time": "2022-11-14T01:07:24.524Z"
   },
   {
    "duration": 78,
    "start_time": "2022-11-14T01:07:24.550Z"
   },
   {
    "duration": 148,
    "start_time": "2022-11-14T01:07:24.629Z"
   },
   {
    "duration": 258,
    "start_time": "2022-11-14T01:07:24.778Z"
   },
   {
    "duration": 2804,
    "start_time": "2022-11-14T01:07:25.039Z"
   },
   {
    "duration": 5,
    "start_time": "2022-11-14T01:07:27.845Z"
   },
   {
    "duration": 314,
    "start_time": "2022-11-14T01:07:27.851Z"
   },
   {
    "duration": 272,
    "start_time": "2022-11-14T01:07:28.167Z"
   },
   {
    "duration": 233,
    "start_time": "2022-11-14T01:07:28.440Z"
   },
   {
    "duration": 13,
    "start_time": "2022-11-14T01:07:28.675Z"
   },
   {
    "duration": 10,
    "start_time": "2022-11-14T01:07:28.705Z"
   },
   {
    "duration": 5,
    "start_time": "2022-11-14T01:07:28.716Z"
   },
   {
    "duration": 168,
    "start_time": "2022-11-14T01:07:28.722Z"
   },
   {
    "duration": 66,
    "start_time": "2022-11-14T01:07:28.892Z"
   },
   {
    "duration": 184,
    "start_time": "2022-11-14T01:07:28.960Z"
   },
   {
    "duration": 162,
    "start_time": "2022-11-14T01:07:29.145Z"
   },
   {
    "duration": 41,
    "start_time": "2022-11-14T01:07:29.308Z"
   },
   {
    "duration": 595,
    "start_time": "2022-11-14T01:07:29.350Z"
   },
   {
    "duration": 260,
    "start_time": "2022-11-14T01:07:29.946Z"
   },
   {
    "duration": 146,
    "start_time": "2022-11-14T01:07:30.208Z"
   },
   {
    "duration": 151,
    "start_time": "2022-11-14T01:07:30.355Z"
   },
   {
    "duration": 396,
    "start_time": "2022-11-14T01:07:30.508Z"
   },
   {
    "duration": 11,
    "start_time": "2022-11-14T01:07:30.906Z"
   },
   {
    "duration": 50,
    "start_time": "2022-11-14T06:13:33.233Z"
   },
   {
    "duration": 714,
    "start_time": "2022-11-14T06:13:39.481Z"
   },
   {
    "duration": 190,
    "start_time": "2022-11-14T06:13:40.197Z"
   },
   {
    "duration": 35,
    "start_time": "2022-11-14T06:13:40.388Z"
   },
   {
    "duration": 3,
    "start_time": "2022-11-14T06:13:40.424Z"
   },
   {
    "duration": 38,
    "start_time": "2022-11-14T06:13:40.430Z"
   },
   {
    "duration": 18,
    "start_time": "2022-11-14T06:13:40.470Z"
   },
   {
    "duration": 15,
    "start_time": "2022-11-14T06:13:40.489Z"
   },
   {
    "duration": 5,
    "start_time": "2022-11-14T06:13:40.505Z"
   },
   {
    "duration": 47,
    "start_time": "2022-11-14T06:13:40.512Z"
   },
   {
    "duration": 60,
    "start_time": "2022-11-14T06:13:40.561Z"
   },
   {
    "duration": 163,
    "start_time": "2022-11-14T06:13:40.622Z"
   },
   {
    "duration": 251,
    "start_time": "2022-11-14T06:13:40.787Z"
   },
   {
    "duration": 2801,
    "start_time": "2022-11-14T06:13:41.040Z"
   },
   {
    "duration": 5,
    "start_time": "2022-11-14T06:13:43.844Z"
   },
   {
    "duration": 325,
    "start_time": "2022-11-14T06:13:43.850Z"
   },
   {
    "duration": 284,
    "start_time": "2022-11-14T06:13:44.176Z"
   },
   {
    "duration": 261,
    "start_time": "2022-11-14T06:13:44.462Z"
   },
   {
    "duration": 24,
    "start_time": "2022-11-14T06:13:44.724Z"
   },
   {
    "duration": 9,
    "start_time": "2022-11-14T06:13:44.750Z"
   },
   {
    "duration": 4,
    "start_time": "2022-11-14T06:13:44.761Z"
   },
   {
    "duration": 180,
    "start_time": "2022-11-14T06:13:44.767Z"
   },
   {
    "duration": 61,
    "start_time": "2022-11-14T06:13:44.949Z"
   },
   {
    "duration": 198,
    "start_time": "2022-11-14T06:13:45.012Z"
   },
   {
    "duration": 177,
    "start_time": "2022-11-14T06:13:45.212Z"
   },
   {
    "duration": 157,
    "start_time": "2022-11-14T06:13:45.391Z"
   },
   {
    "duration": 51,
    "start_time": "2022-11-14T06:13:45.550Z"
   },
   {
    "duration": 697,
    "start_time": "2022-11-14T06:13:45.602Z"
   },
   {
    "duration": 154,
    "start_time": "2022-11-14T06:13:46.302Z"
   },
   {
    "duration": 162,
    "start_time": "2022-11-14T06:13:46.458Z"
   },
   {
    "duration": 156,
    "start_time": "2022-11-14T06:13:46.621Z"
   },
   {
    "duration": 382,
    "start_time": "2022-11-14T06:13:46.779Z"
   },
   {
    "duration": 13,
    "start_time": "2022-11-14T06:13:47.162Z"
   },
   {
    "duration": 179,
    "start_time": "2022-11-14T06:14:39.903Z"
   },
   {
    "duration": 379,
    "start_time": "2022-11-14T06:15:34.282Z"
   },
   {
    "duration": 357,
    "start_time": "2022-11-14T06:16:23.751Z"
   },
   {
    "duration": 272,
    "start_time": "2022-11-14T06:16:59.022Z"
   },
   {
    "duration": 263,
    "start_time": "2022-11-14T06:18:02.382Z"
   },
   {
    "duration": 280,
    "start_time": "2022-11-14T06:18:25.239Z"
   },
   {
    "duration": 373,
    "start_time": "2022-11-14T06:18:34.673Z"
   },
   {
    "duration": 439,
    "start_time": "2022-11-14T06:22:57.921Z"
   },
   {
    "duration": 444,
    "start_time": "2022-11-14T06:23:50.160Z"
   },
   {
    "duration": 607,
    "start_time": "2022-11-14T06:25:41.140Z"
   },
   {
    "duration": 595,
    "start_time": "2022-11-14T06:28:55.210Z"
   },
   {
    "duration": 508,
    "start_time": "2022-11-14T06:29:03.169Z"
   },
   {
    "duration": 513,
    "start_time": "2022-11-14T06:30:39.411Z"
   },
   {
    "duration": 578,
    "start_time": "2022-11-14T06:32:10.836Z"
   },
   {
    "duration": 680,
    "start_time": "2022-11-14T06:32:33.554Z"
   },
   {
    "duration": 505,
    "start_time": "2022-11-14T06:32:57.435Z"
   },
   {
    "duration": 636,
    "start_time": "2022-11-14T06:33:04.170Z"
   },
   {
    "duration": 496,
    "start_time": "2022-11-14T06:35:07.261Z"
   },
   {
    "duration": 501,
    "start_time": "2022-11-14T06:35:59.180Z"
   },
   {
    "duration": 483,
    "start_time": "2022-11-14T06:37:21.970Z"
   },
   {
    "duration": 566,
    "start_time": "2022-11-14T06:37:32.082Z"
   },
   {
    "duration": 54,
    "start_time": "2022-11-14T06:45:46.349Z"
   },
   {
    "duration": 15,
    "start_time": "2022-11-14T06:45:53.131Z"
   },
   {
    "duration": 16,
    "start_time": "2022-11-14T06:46:40.938Z"
   },
   {
    "duration": 14,
    "start_time": "2022-11-14T06:47:19.349Z"
   },
   {
    "duration": 1383,
    "start_time": "2022-11-14T06:47:27.402Z"
   },
   {
    "duration": 1000,
    "start_time": "2022-11-14T06:47:41.609Z"
   },
   {
    "duration": 735,
    "start_time": "2022-11-14T06:50:12.410Z"
   },
   {
    "duration": 1011,
    "start_time": "2022-11-14T06:50:18.829Z"
   },
   {
    "duration": 734,
    "start_time": "2022-11-14T06:51:28.781Z"
   },
   {
    "duration": 769,
    "start_time": "2022-11-14T06:52:21.135Z"
   },
   {
    "duration": 818,
    "start_time": "2022-11-14T06:52:37.729Z"
   },
   {
    "duration": 683,
    "start_time": "2022-11-14T06:52:47.629Z"
   },
   {
    "duration": 931,
    "start_time": "2022-11-14T06:53:07.929Z"
   },
   {
    "duration": 1168,
    "start_time": "2022-11-14T06:54:30.516Z"
   },
   {
    "duration": 868,
    "start_time": "2022-11-14T07:00:28.469Z"
   },
   {
    "duration": 1110,
    "start_time": "2022-11-14T07:01:12.368Z"
   },
   {
    "duration": 1411,
    "start_time": "2022-11-14T07:01:24.900Z"
   },
   {
    "duration": 14,
    "start_time": "2022-11-14T07:02:46.307Z"
   },
   {
    "duration": 19,
    "start_time": "2022-11-14T07:03:04.600Z"
   },
   {
    "duration": 6,
    "start_time": "2022-11-14T07:17:37.111Z"
   },
   {
    "duration": 15,
    "start_time": "2022-11-14T07:18:03.050Z"
   },
   {
    "duration": 43,
    "start_time": "2022-11-14T07:18:36.640Z"
   },
   {
    "duration": 26,
    "start_time": "2022-11-14T07:18:42.270Z"
   },
   {
    "duration": 11,
    "start_time": "2022-11-14T07:20:26.140Z"
   },
   {
    "duration": 11,
    "start_time": "2022-11-14T07:20:40.529Z"
   },
   {
    "duration": 126,
    "start_time": "2022-11-14T07:20:46.508Z"
   },
   {
    "duration": 190,
    "start_time": "2022-11-14T07:21:30.408Z"
   },
   {
    "duration": 149,
    "start_time": "2022-11-14T07:21:58.317Z"
   },
   {
    "duration": 154,
    "start_time": "2022-11-14T07:22:01.969Z"
   },
   {
    "duration": 138,
    "start_time": "2022-11-14T07:22:13.879Z"
   },
   {
    "duration": 44,
    "start_time": "2022-11-14T11:07:07.874Z"
   },
   {
    "duration": 742,
    "start_time": "2022-11-14T11:07:21.275Z"
   },
   {
    "duration": 86,
    "start_time": "2022-11-14T11:07:22.020Z"
   },
   {
    "duration": 33,
    "start_time": "2022-11-14T11:07:22.107Z"
   },
   {
    "duration": 3,
    "start_time": "2022-11-14T11:07:22.141Z"
   },
   {
    "duration": 37,
    "start_time": "2022-11-14T11:07:22.145Z"
   },
   {
    "duration": 15,
    "start_time": "2022-11-14T11:07:22.183Z"
   },
   {
    "duration": 15,
    "start_time": "2022-11-14T11:07:22.200Z"
   },
   {
    "duration": 5,
    "start_time": "2022-11-14T11:07:22.217Z"
   },
   {
    "duration": 26,
    "start_time": "2022-11-14T11:07:22.223Z"
   },
   {
    "duration": 75,
    "start_time": "2022-11-14T11:07:22.250Z"
   },
   {
    "duration": 161,
    "start_time": "2022-11-14T11:07:22.327Z"
   },
   {
    "duration": 262,
    "start_time": "2022-11-14T11:07:22.489Z"
   },
   {
    "duration": 2795,
    "start_time": "2022-11-14T11:07:22.753Z"
   },
   {
    "duration": 4,
    "start_time": "2022-11-14T11:07:25.550Z"
   },
   {
    "duration": 351,
    "start_time": "2022-11-14T11:07:25.556Z"
   },
   {
    "duration": 270,
    "start_time": "2022-11-14T11:07:25.908Z"
   },
   {
    "duration": 227,
    "start_time": "2022-11-14T11:07:26.179Z"
   },
   {
    "duration": 14,
    "start_time": "2022-11-14T11:07:26.407Z"
   },
   {
    "duration": 10,
    "start_time": "2022-11-14T11:07:26.422Z"
   },
   {
    "duration": 5,
    "start_time": "2022-11-14T11:07:26.433Z"
   },
   {
    "duration": 171,
    "start_time": "2022-11-14T11:07:26.439Z"
   },
   {
    "duration": 85,
    "start_time": "2022-11-14T11:07:26.611Z"
   },
   {
    "duration": 1080,
    "start_time": "2022-11-14T11:07:26.698Z"
   },
   {
    "duration": 169,
    "start_time": "2022-11-14T11:07:27.780Z"
   },
   {
    "duration": 242,
    "start_time": "2022-11-14T11:07:27.951Z"
   },
   {
    "duration": 264,
    "start_time": "2022-11-14T11:07:28.195Z"
   },
   {
    "duration": 50,
    "start_time": "2022-11-14T11:07:28.460Z"
   },
   {
    "duration": 540,
    "start_time": "2022-11-14T11:07:28.511Z"
   },
   {
    "duration": 7,
    "start_time": "2022-11-14T11:07:32.098Z"
   },
   {
    "duration": 7,
    "start_time": "2022-11-14T11:07:33.725Z"
   },
   {
    "duration": 8,
    "start_time": "2022-11-14T11:07:37.177Z"
   },
   {
    "duration": 6,
    "start_time": "2022-11-14T11:07:59.212Z"
   },
   {
    "duration": 6,
    "start_time": "2022-11-14T11:08:18.521Z"
   },
   {
    "duration": 7,
    "start_time": "2022-11-14T11:08:48.579Z"
   },
   {
    "duration": 9,
    "start_time": "2022-11-14T11:08:59.675Z"
   },
   {
    "duration": 10,
    "start_time": "2022-11-14T11:09:23.760Z"
   },
   {
    "duration": 74,
    "start_time": "2022-11-14T11:17:27.962Z"
   },
   {
    "duration": 16,
    "start_time": "2022-11-14T11:17:36.930Z"
   },
   {
    "duration": 464,
    "start_time": "2022-11-14T11:20:31.887Z"
   },
   {
    "duration": 469,
    "start_time": "2022-11-14T11:21:12.640Z"
   },
   {
    "duration": 608,
    "start_time": "2022-11-14T11:21:19.219Z"
   },
   {
    "duration": 7,
    "start_time": "2022-11-14T11:21:51.959Z"
   },
   {
    "duration": 7,
    "start_time": "2022-11-14T11:22:01.590Z"
   },
   {
    "duration": 9,
    "start_time": "2022-11-14T11:22:16.263Z"
   },
   {
    "duration": 3,
    "start_time": "2022-11-14T11:22:35.944Z"
   },
   {
    "duration": 4,
    "start_time": "2022-11-14T11:22:40.930Z"
   },
   {
    "duration": 456,
    "start_time": "2022-11-14T11:22:50.315Z"
   },
   {
    "duration": 6,
    "start_time": "2022-11-14T11:23:10.327Z"
   },
   {
    "duration": 458,
    "start_time": "2022-11-14T11:24:21.378Z"
   },
   {
    "duration": 480,
    "start_time": "2022-11-14T11:24:47.584Z"
   },
   {
    "duration": 499,
    "start_time": "2022-11-14T11:24:58.910Z"
   },
   {
    "duration": 555,
    "start_time": "2022-11-14T11:25:17.263Z"
   },
   {
    "duration": 67,
    "start_time": "2022-11-14T11:25:33.093Z"
   },
   {
    "duration": 9,
    "start_time": "2022-11-14T11:25:36.349Z"
   },
   {
    "duration": 10,
    "start_time": "2022-11-14T11:25:46.501Z"
   },
   {
    "duration": 475,
    "start_time": "2022-11-14T11:27:08.638Z"
   },
   {
    "duration": 466,
    "start_time": "2022-11-14T11:27:35.839Z"
   },
   {
    "duration": 3,
    "start_time": "2022-11-14T11:27:41.037Z"
   },
   {
    "duration": 454,
    "start_time": "2022-11-14T11:27:46.033Z"
   },
   {
    "duration": 454,
    "start_time": "2022-11-14T11:29:06.492Z"
   },
   {
    "duration": 538,
    "start_time": "2022-11-14T11:29:33.388Z"
   },
   {
    "duration": 502,
    "start_time": "2022-11-14T11:30:13.343Z"
   },
   {
    "duration": 449,
    "start_time": "2022-11-14T11:31:07.872Z"
   },
   {
    "duration": 441,
    "start_time": "2022-11-14T11:31:26.443Z"
   },
   {
    "duration": 6,
    "start_time": "2022-11-14T11:31:46.439Z"
   },
   {
    "duration": 440,
    "start_time": "2022-11-14T11:33:12.120Z"
   },
   {
    "duration": 533,
    "start_time": "2022-11-14T11:33:51.488Z"
   },
   {
    "duration": 473,
    "start_time": "2022-11-14T11:34:05.461Z"
   },
   {
    "duration": 9,
    "start_time": "2022-11-14T11:35:05.572Z"
   },
   {
    "duration": 6,
    "start_time": "2022-11-14T11:35:28.815Z"
   },
   {
    "duration": 505,
    "start_time": "2022-11-14T11:35:39.633Z"
   },
   {
    "duration": 5,
    "start_time": "2022-11-14T11:36:05.581Z"
   },
   {
    "duration": 6,
    "start_time": "2022-11-14T11:36:12.113Z"
   },
   {
    "duration": 8,
    "start_time": "2022-11-14T11:36:42.807Z"
   },
   {
    "duration": 9,
    "start_time": "2022-11-14T11:36:52.719Z"
   },
   {
    "duration": 544,
    "start_time": "2022-11-14T11:36:59.363Z"
   },
   {
    "duration": 613,
    "start_time": "2022-11-14T11:37:31.588Z"
   },
   {
    "duration": 473,
    "start_time": "2022-11-14T11:37:55.840Z"
   },
   {
    "duration": 507,
    "start_time": "2022-11-14T11:38:36.606Z"
   },
   {
    "duration": 673,
    "start_time": "2022-11-14T11:38:52.188Z"
   },
   {
    "duration": 830,
    "start_time": "2022-11-14T11:40:55.819Z"
   },
   {
    "duration": 173,
    "start_time": "2022-11-14T11:53:42.188Z"
   },
   {
    "duration": 68,
    "start_time": "2022-11-14T11:54:34.556Z"
   },
   {
    "duration": 159,
    "start_time": "2022-11-14T11:54:37.667Z"
   },
   {
    "duration": 135,
    "start_time": "2022-11-14T11:55:10.350Z"
   },
   {
    "duration": 140,
    "start_time": "2022-11-14T11:55:24.501Z"
   },
   {
    "duration": 159,
    "start_time": "2022-11-14T11:55:32.004Z"
   },
   {
    "duration": 120,
    "start_time": "2022-11-14T11:55:52.043Z"
   },
   {
    "duration": 133,
    "start_time": "2022-11-14T11:56:10.133Z"
   },
   {
    "duration": 153,
    "start_time": "2022-11-14T11:56:23.702Z"
   },
   {
    "duration": 305,
    "start_time": "2022-11-14T11:57:45.525Z"
   },
   {
    "duration": 161,
    "start_time": "2022-11-14T11:58:04.613Z"
   },
   {
    "duration": 171,
    "start_time": "2022-11-14T11:58:22.266Z"
   },
   {
    "duration": 159,
    "start_time": "2022-11-14T11:59:05.468Z"
   },
   {
    "duration": 162,
    "start_time": "2022-11-14T11:59:10.634Z"
   },
   {
    "duration": 188,
    "start_time": "2022-11-14T11:59:18.914Z"
   },
   {
    "duration": 167,
    "start_time": "2022-11-14T11:59:25.692Z"
   },
   {
    "duration": 154,
    "start_time": "2022-11-14T11:59:29.663Z"
   },
   {
    "duration": 165,
    "start_time": "2022-11-14T11:59:37.810Z"
   },
   {
    "duration": 190,
    "start_time": "2022-11-14T12:00:01.107Z"
   },
   {
    "duration": 604,
    "start_time": "2022-11-14T12:22:15.589Z"
   },
   {
    "duration": 47,
    "start_time": "2022-11-14T12:22:16.195Z"
   },
   {
    "duration": 33,
    "start_time": "2022-11-14T12:22:16.243Z"
   },
   {
    "duration": 3,
    "start_time": "2022-11-14T12:22:16.278Z"
   },
   {
    "duration": 33,
    "start_time": "2022-11-14T12:22:16.282Z"
   },
   {
    "duration": 12,
    "start_time": "2022-11-14T12:22:16.316Z"
   },
   {
    "duration": 12,
    "start_time": "2022-11-14T12:22:16.329Z"
   },
   {
    "duration": 5,
    "start_time": "2022-11-14T12:22:16.342Z"
   },
   {
    "duration": 46,
    "start_time": "2022-11-14T12:22:16.348Z"
   },
   {
    "duration": 62,
    "start_time": "2022-11-14T12:22:16.396Z"
   },
   {
    "duration": 170,
    "start_time": "2022-11-14T12:22:16.459Z"
   },
   {
    "duration": 271,
    "start_time": "2022-11-14T12:22:16.631Z"
   },
   {
    "duration": 2968,
    "start_time": "2022-11-14T12:22:16.904Z"
   },
   {
    "duration": 6,
    "start_time": "2022-11-14T12:22:19.875Z"
   },
   {
    "duration": 358,
    "start_time": "2022-11-14T12:22:19.883Z"
   },
   {
    "duration": 457,
    "start_time": "2022-11-14T12:22:20.242Z"
   },
   {
    "duration": 499,
    "start_time": "2022-11-14T12:22:20.701Z"
   },
   {
    "duration": 12,
    "start_time": "2022-11-14T12:22:21.201Z"
   },
   {
    "duration": 70,
    "start_time": "2022-11-14T12:22:21.214Z"
   },
   {
    "duration": 4,
    "start_time": "2022-11-14T12:22:21.286Z"
   },
   {
    "duration": 308,
    "start_time": "2022-11-14T12:22:21.292Z"
   },
   {
    "duration": 110,
    "start_time": "2022-11-14T12:22:21.601Z"
   },
   {
    "duration": 1425,
    "start_time": "2022-11-14T12:22:21.712Z"
   },
   {
    "duration": 187,
    "start_time": "2022-11-14T12:22:23.139Z"
   },
   {
    "duration": 277,
    "start_time": "2022-11-14T12:22:23.328Z"
   },
   {
    "duration": 288,
    "start_time": "2022-11-14T12:22:23.607Z"
   },
   {
    "duration": 57,
    "start_time": "2022-11-14T12:22:23.897Z"
   },
   {
    "duration": 642,
    "start_time": "2022-11-14T12:22:23.958Z"
   },
   {
    "duration": 834,
    "start_time": "2022-11-14T12:22:24.601Z"
   },
   {
    "duration": 162,
    "start_time": "2022-11-14T12:22:25.436Z"
   },
   {
    "duration": 178,
    "start_time": "2022-11-14T12:22:25.601Z"
   },
   {
    "duration": 229,
    "start_time": "2022-11-14T12:22:25.781Z"
   },
   {
    "duration": 368,
    "start_time": "2022-11-14T12:22:26.012Z"
   },
   {
    "duration": 11,
    "start_time": "2022-11-14T12:22:26.382Z"
   },
   {
    "duration": 178,
    "start_time": "2022-11-14T12:22:26.395Z"
   },
   {
    "duration": 183,
    "start_time": "2022-11-14T12:22:26.578Z"
   },
   {
    "duration": 694,
    "start_time": "2022-11-14T12:22:41.840Z"
   },
   {
    "duration": 49,
    "start_time": "2022-11-14T12:22:42.536Z"
   },
   {
    "duration": 38,
    "start_time": "2022-11-14T12:22:42.587Z"
   },
   {
    "duration": 4,
    "start_time": "2022-11-14T12:22:42.627Z"
   },
   {
    "duration": 47,
    "start_time": "2022-11-14T12:22:42.632Z"
   },
   {
    "duration": 14,
    "start_time": "2022-11-14T12:22:42.681Z"
   },
   {
    "duration": 14,
    "start_time": "2022-11-14T12:22:42.697Z"
   },
   {
    "duration": 6,
    "start_time": "2022-11-14T12:22:42.713Z"
   },
   {
    "duration": 32,
    "start_time": "2022-11-14T12:22:42.721Z"
   },
   {
    "duration": 77,
    "start_time": "2022-11-14T12:22:42.779Z"
   },
   {
    "duration": 183,
    "start_time": "2022-11-14T12:22:42.878Z"
   },
   {
    "duration": 271,
    "start_time": "2022-11-14T12:22:43.063Z"
   },
   {
    "duration": 2988,
    "start_time": "2022-11-14T12:22:43.336Z"
   },
   {
    "duration": 5,
    "start_time": "2022-11-14T12:22:46.326Z"
   },
   {
    "duration": 314,
    "start_time": "2022-11-14T12:22:46.332Z"
   },
   {
    "duration": 266,
    "start_time": "2022-11-14T12:22:46.647Z"
   },
   {
    "duration": 230,
    "start_time": "2022-11-14T12:22:46.915Z"
   },
   {
    "duration": 12,
    "start_time": "2022-11-14T12:22:47.147Z"
   },
   {
    "duration": 23,
    "start_time": "2022-11-14T12:22:47.160Z"
   },
   {
    "duration": 4,
    "start_time": "2022-11-14T12:22:47.185Z"
   },
   {
    "duration": 165,
    "start_time": "2022-11-14T12:22:47.191Z"
   },
   {
    "duration": 68,
    "start_time": "2022-11-14T12:22:47.357Z"
   },
   {
    "duration": 1163,
    "start_time": "2022-11-14T12:22:47.427Z"
   },
   {
    "duration": 169,
    "start_time": "2022-11-14T12:22:48.592Z"
   },
   {
    "duration": 277,
    "start_time": "2022-11-14T12:22:48.762Z"
   },
   {
    "duration": 309,
    "start_time": "2022-11-14T12:22:49.041Z"
   },
   {
    "duration": 56,
    "start_time": "2022-11-14T12:22:49.351Z"
   },
   {
    "duration": 647,
    "start_time": "2022-11-14T12:22:49.410Z"
   },
   {
    "duration": 769,
    "start_time": "2022-11-14T12:22:50.059Z"
   },
   {
    "duration": 161,
    "start_time": "2022-11-14T12:22:50.830Z"
   },
   {
    "duration": 155,
    "start_time": "2022-11-14T12:22:50.993Z"
   },
   {
    "duration": 237,
    "start_time": "2022-11-14T12:22:51.149Z"
   },
   {
    "duration": 378,
    "start_time": "2022-11-14T12:22:51.388Z"
   },
   {
    "duration": 16,
    "start_time": "2022-11-14T12:22:51.767Z"
   },
   {
    "duration": 158,
    "start_time": "2022-11-14T12:22:51.784Z"
   },
   {
    "duration": 179,
    "start_time": "2022-11-14T12:22:51.944Z"
   },
   {
    "duration": 587,
    "start_time": "2022-11-15T01:31:23.892Z"
   },
   {
    "duration": 64,
    "start_time": "2022-11-15T01:31:24.481Z"
   },
   {
    "duration": 31,
    "start_time": "2022-11-15T01:31:24.547Z"
   },
   {
    "duration": 3,
    "start_time": "2022-11-15T01:31:24.579Z"
   },
   {
    "duration": 33,
    "start_time": "2022-11-15T01:31:24.584Z"
   },
   {
    "duration": 12,
    "start_time": "2022-11-15T01:31:24.618Z"
   },
   {
    "duration": 11,
    "start_time": "2022-11-15T01:31:24.632Z"
   },
   {
    "duration": 5,
    "start_time": "2022-11-15T01:31:24.644Z"
   },
   {
    "duration": 42,
    "start_time": "2022-11-15T01:31:24.650Z"
   },
   {
    "duration": 93,
    "start_time": "2022-11-15T01:31:24.694Z"
   },
   {
    "duration": 153,
    "start_time": "2022-11-15T01:31:24.789Z"
   },
   {
    "duration": 243,
    "start_time": "2022-11-15T01:31:24.944Z"
   },
   {
    "duration": 2610,
    "start_time": "2022-11-15T01:31:25.189Z"
   },
   {
    "duration": 6,
    "start_time": "2022-11-15T01:31:27.802Z"
   },
   {
    "duration": 313,
    "start_time": "2022-11-15T01:31:27.809Z"
   },
   {
    "duration": 250,
    "start_time": "2022-11-15T01:31:28.124Z"
   },
   {
    "duration": 213,
    "start_time": "2022-11-15T01:31:28.376Z"
   },
   {
    "duration": 13,
    "start_time": "2022-11-15T01:31:28.590Z"
   },
   {
    "duration": 9,
    "start_time": "2022-11-15T01:31:28.604Z"
   },
   {
    "duration": 9,
    "start_time": "2022-11-15T01:31:28.615Z"
   },
   {
    "duration": 160,
    "start_time": "2022-11-15T01:31:28.626Z"
   },
   {
    "duration": 52,
    "start_time": "2022-11-15T01:31:28.788Z"
   },
   {
    "duration": 1018,
    "start_time": "2022-11-15T01:31:28.841Z"
   },
   {
    "duration": 156,
    "start_time": "2022-11-15T01:31:29.860Z"
   },
   {
    "duration": 258,
    "start_time": "2022-11-15T01:31:30.018Z"
   },
   {
    "duration": 261,
    "start_time": "2022-11-15T01:31:30.277Z"
   },
   {
    "duration": 53,
    "start_time": "2022-11-15T01:31:30.540Z"
   },
   {
    "duration": 507,
    "start_time": "2022-11-15T01:31:30.595Z"
   },
   {
    "duration": 678,
    "start_time": "2022-11-15T01:31:31.103Z"
   },
   {
    "duration": 134,
    "start_time": "2022-11-15T01:31:31.782Z"
   },
   {
    "duration": 133,
    "start_time": "2022-11-15T01:31:31.917Z"
   },
   {
    "duration": 227,
    "start_time": "2022-11-15T01:31:32.051Z"
   },
   {
    "duration": 383,
    "start_time": "2022-11-15T01:31:32.280Z"
   },
   {
    "duration": 14,
    "start_time": "2022-11-15T01:31:32.665Z"
   },
   {
    "duration": 151,
    "start_time": "2022-11-15T01:31:32.680Z"
   },
   {
    "duration": 163,
    "start_time": "2022-11-15T01:31:32.833Z"
   },
   {
    "duration": 9,
    "start_time": "2022-11-15T01:37:13.341Z"
   },
   {
    "duration": 11,
    "start_time": "2022-11-15T01:37:58.361Z"
   },
   {
    "duration": 6,
    "start_time": "2022-11-15T01:38:28.137Z"
   },
   {
    "duration": 5,
    "start_time": "2022-11-15T01:39:50.863Z"
   },
   {
    "duration": 891,
    "start_time": "2022-11-15T07:23:17.164Z"
   },
   {
    "duration": 118,
    "start_time": "2022-11-15T07:23:18.058Z"
   },
   {
    "duration": 43,
    "start_time": "2022-11-15T07:23:18.178Z"
   },
   {
    "duration": 4,
    "start_time": "2022-11-15T07:23:18.223Z"
   },
   {
    "duration": 56,
    "start_time": "2022-11-15T07:23:18.229Z"
   },
   {
    "duration": 19,
    "start_time": "2022-11-15T07:23:18.287Z"
   },
   {
    "duration": 17,
    "start_time": "2022-11-15T07:23:18.308Z"
   },
   {
    "duration": 10,
    "start_time": "2022-11-15T07:23:18.327Z"
   },
   {
    "duration": 74,
    "start_time": "2022-11-15T07:23:18.340Z"
   },
   {
    "duration": 107,
    "start_time": "2022-11-15T07:23:18.417Z"
   },
   {
    "duration": 194,
    "start_time": "2022-11-15T07:23:18.526Z"
   },
   {
    "duration": 364,
    "start_time": "2022-11-15T07:23:18.723Z"
   },
   {
    "duration": 871,
    "start_time": "2023-08-03T13:14:44.686Z"
   },
   {
    "duration": 125,
    "start_time": "2023-08-03T13:14:45.559Z"
   },
   {
    "duration": 47,
    "start_time": "2023-08-03T13:14:45.686Z"
   },
   {
    "duration": 4,
    "start_time": "2023-08-03T13:14:45.736Z"
   },
   {
    "duration": 83,
    "start_time": "2023-08-03T13:14:45.742Z"
   },
   {
    "duration": 13,
    "start_time": "2023-08-03T13:14:45.826Z"
   },
   {
    "duration": 27,
    "start_time": "2023-08-03T13:14:45.840Z"
   },
   {
    "duration": 23,
    "start_time": "2023-08-03T13:14:45.869Z"
   },
   {
    "duration": 58,
    "start_time": "2023-08-03T13:14:45.893Z"
   },
   {
    "duration": 113,
    "start_time": "2023-08-03T13:14:45.955Z"
   },
   {
    "duration": 178,
    "start_time": "2023-08-03T13:14:46.070Z"
   },
   {
    "duration": 244,
    "start_time": "2023-08-03T13:14:46.250Z"
   },
   {
    "duration": 2803,
    "start_time": "2023-08-03T13:14:46.495Z"
   },
   {
    "duration": 6,
    "start_time": "2023-08-03T13:14:49.314Z"
   },
   {
    "duration": 324,
    "start_time": "2023-08-03T13:14:49.321Z"
   },
   {
    "duration": 267,
    "start_time": "2023-08-03T13:14:49.647Z"
   },
   {
    "duration": 219,
    "start_time": "2023-08-03T13:14:49.916Z"
   },
   {
    "duration": 12,
    "start_time": "2023-08-03T13:14:50.137Z"
   },
   {
    "duration": 23,
    "start_time": "2023-08-03T13:14:50.150Z"
   },
   {
    "duration": 5,
    "start_time": "2023-08-03T13:14:50.174Z"
   },
   {
    "duration": 156,
    "start_time": "2023-08-03T13:14:50.180Z"
   },
   {
    "duration": 72,
    "start_time": "2023-08-03T13:14:50.337Z"
   },
   {
    "duration": 1049,
    "start_time": "2023-08-03T13:14:50.410Z"
   },
   {
    "duration": 174,
    "start_time": "2023-08-03T13:14:51.461Z"
   },
   {
    "duration": 252,
    "start_time": "2023-08-03T13:14:51.636Z"
   },
   {
    "duration": 266,
    "start_time": "2023-08-03T13:14:51.890Z"
   },
   {
    "duration": 55,
    "start_time": "2023-08-03T13:14:52.157Z"
   },
   {
    "duration": 536,
    "start_time": "2023-08-03T13:14:52.216Z"
   },
   {
    "duration": 685,
    "start_time": "2023-08-03T13:14:52.754Z"
   },
   {
    "duration": 150,
    "start_time": "2023-08-03T13:14:53.441Z"
   },
   {
    "duration": 153,
    "start_time": "2023-08-03T13:14:53.592Z"
   },
   {
    "duration": 223,
    "start_time": "2023-08-03T13:14:53.746Z"
   },
   {
    "duration": 406,
    "start_time": "2023-08-03T13:14:53.971Z"
   },
   {
    "duration": 12,
    "start_time": "2023-08-03T13:14:54.379Z"
   },
   {
    "duration": 150,
    "start_time": "2023-08-03T13:14:54.410Z"
   },
   {
    "duration": 174,
    "start_time": "2023-08-03T13:14:54.562Z"
   },
   {
    "duration": 4,
    "start_time": "2023-08-03T13:14:54.738Z"
   }
  ],
  "kernelspec": {
   "display_name": "Python 3 (ipykernel)",
   "language": "python",
   "name": "python3"
  },
  "language_info": {
   "codemirror_mode": {
    "name": "ipython",
    "version": 3
   },
   "file_extension": ".py",
   "mimetype": "text/x-python",
   "name": "python",
   "nbconvert_exporter": "python",
   "pygments_lexer": "ipython3",
   "version": "3.9.5"
  },
  "toc": {
   "base_numbering": 1,
   "nav_menu": {},
   "number_sections": true,
   "sideBar": true,
   "skip_h1_title": true,
   "title_cell": "Table of Contents",
   "title_sidebar": "Contents",
   "toc_cell": false,
   "toc_position": {
    "height": "calc(100% - 180px)",
    "left": "10px",
    "top": "150px",
    "width": "251.958px"
   },
   "toc_section_display": true,
   "toc_window_display": true
  }
 },
 "nbformat": 4,
 "nbformat_minor": 2
}
