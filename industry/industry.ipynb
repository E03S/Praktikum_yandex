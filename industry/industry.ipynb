{
 "cells": [
  {
   "cell_type": "markdown",
   "id": "9fa92ea7-a908-4d28-9c82-fc8eff0244ad",
   "metadata": {},
   "source": [
    "## Предобработка данных"
   ]
  },
  {
   "cell_type": "code",
   "execution_count": 1,
   "id": "f01fc71d-32d7-4c5e-b8ca-39e974647413",
   "metadata": {
    "tags": []
   },
   "outputs": [],
   "source": [
    "import pandas as pd\n",
    "import numpy as np\n",
    "import matplotlib.pyplot as plt \n",
    "import seaborn as sns"
   ]
  },
  {
   "cell_type": "code",
   "execution_count": 2,
   "id": "58bdc362-c7be-4a39-8660-9279bdfb5301",
   "metadata": {
    "tags": []
   },
   "outputs": [],
   "source": [
    "from sklearn.model_selection import train_test_split\n",
    "from sklearn.model_selection import cross_val_score\n",
    "from sklearn.model_selection import GridSearchCV\n",
    "from sklearn.metrics import mean_absolute_error"
   ]
  },
  {
   "cell_type": "code",
   "execution_count": 3,
   "id": "35fd1415-ef80-4a55-ba1b-1d57d973434c",
   "metadata": {
    "tags": []
   },
   "outputs": [],
   "source": [
    "from sklearn.ensemble import RandomForestRegressor\n",
    "from sklearn.linear_model import LinearRegression\n",
    "from catboost import CatBoostRegressor"
   ]
  },
  {
   "cell_type": "markdown",
   "id": "be666b3c-010c-48c0-aa65-f764f9c2ace8",
   "metadata": {},
   "source": [
    "импорт библиотек"
   ]
  },
  {
   "cell_type": "code",
   "execution_count": 4,
   "id": "23d8c425-34a8-4d90-ad37-186e91ea622d",
   "metadata": {
    "tags": []
   },
   "outputs": [],
   "source": [
    "try:\n",
    "    arc_new = pd.read_csv('/mnt/c/Users/pigal/Jupyter/ind_data/data_arc_new.csv')\n",
    "    bulk_new = pd.read_csv('/mnt/c/Users/pigal/Jupyter/ind_data/data_bulk_new.csv')\n",
    "    bulk_time_new = pd.read_csv('/mnt/c/Users/pigal/Jupyter/ind_data/data_bulk_time_new.csv')\n",
    "    gas_new = pd.read_csv('/mnt/c/Users/pigal/Jupyter/ind_data/data_gas_new.csv')\n",
    "    temp_new = pd.read_csv('/mnt/c/Users/pigal/Jupyter/ind_data/data_temp_new.csv')\n",
    "    wire_new = pd.read_csv('/mnt/c/Users/pigal/Jupyter/ind_data/data_wire_new.csv')\n",
    "    wire_time_new = pd.read_csv('/mnt/c/Users/pigal/Jupyter/ind_data/data_wire_time_new.csv')\n",
    "\n",
    "except:\n",
    "    arc_new = pd.read_csv('/datasets/data_arc_new.csv')\n",
    "    bulk_new = pd.read_csv('/datasets/data_bulk_new.csv')\n",
    "    bulk_time_new = pd.read_csv('/datasets/data_bulk_time_new.csv')\n",
    "    gas_new = pd.read_csv('/datasets/data_gas_new.csv')\n",
    "    temp_new = pd.read_csv('/datasets/data_temp_new.csv')\n",
    "    wire_new = pd.read_csv('/datasets/data_wire_new.csv')\n",
    "    wire_time_new = pd.read_csv('/datasets/data_wire_time_new.csv')"
   ]
  },
  {
   "cell_type": "markdown",
   "id": "42638489-66b9-460d-a6f7-279683958b0e",
   "metadata": {
    "tags": []
   },
   "source": [
    "импорт данных"
   ]
  },
  {
   "cell_type": "markdown",
   "id": "af39b1ac",
   "metadata": {},
   "source": [
    "## Анализ данных"
   ]
  },
  {
   "cell_type": "markdown",
   "id": "0e4a0c0d",
   "metadata": {},
   "source": [
    "данные об электродах"
   ]
  },
  {
   "cell_type": "code",
   "execution_count": 5,
   "id": "b12b57f9",
   "metadata": {},
   "outputs": [
    {
     "name": "stdout",
     "output_type": "stream",
     "text": [
      "<class 'pandas.core.frame.DataFrame'>\n",
      "RangeIndex: 14876 entries, 0 to 14875\n",
      "Data columns (total 5 columns):\n",
      " #   Column                Non-Null Count  Dtype  \n",
      "---  ------                --------------  -----  \n",
      " 0   key                   14876 non-null  int64  \n",
      " 1   Начало нагрева дугой  14876 non-null  object \n",
      " 2   Конец нагрева дугой   14876 non-null  object \n",
      " 3   Активная мощность     14876 non-null  float64\n",
      " 4   Реактивная мощность   14876 non-null  float64\n",
      "dtypes: float64(2), int64(1), object(2)\n",
      "memory usage: 581.2+ KB\n"
     ]
    },
    {
     "data": {
      "text/html": [
       "<div>\n",
       "<style scoped>\n",
       "    .dataframe tbody tr th:only-of-type {\n",
       "        vertical-align: middle;\n",
       "    }\n",
       "\n",
       "    .dataframe tbody tr th {\n",
       "        vertical-align: top;\n",
       "    }\n",
       "\n",
       "    .dataframe thead th {\n",
       "        text-align: right;\n",
       "    }\n",
       "</style>\n",
       "<table border=\"1\" class=\"dataframe\">\n",
       "  <thead>\n",
       "    <tr style=\"text-align: right;\">\n",
       "      <th></th>\n",
       "      <th>key</th>\n",
       "      <th>Начало нагрева дугой</th>\n",
       "      <th>Конец нагрева дугой</th>\n",
       "      <th>Активная мощность</th>\n",
       "      <th>Реактивная мощность</th>\n",
       "    </tr>\n",
       "  </thead>\n",
       "  <tbody>\n",
       "    <tr>\n",
       "      <th>7319</th>\n",
       "      <td>1588</td>\n",
       "      <td>2019-07-02 02:20:09</td>\n",
       "      <td>2019-07-02 02:21:04</td>\n",
       "      <td>0.444764</td>\n",
       "      <td>0.315227</td>\n",
       "    </tr>\n",
       "    <tr>\n",
       "      <th>13229</th>\n",
       "      <td>2879</td>\n",
       "      <td>2019-08-24 17:49:37</td>\n",
       "      <td>2019-08-24 17:52:58</td>\n",
       "      <td>0.649843</td>\n",
       "      <td>0.509748</td>\n",
       "    </tr>\n",
       "    <tr>\n",
       "      <th>2923</th>\n",
       "      <td>638</td>\n",
       "      <td>2019-05-27 18:07:47</td>\n",
       "      <td>2019-05-27 18:09:18</td>\n",
       "      <td>1.241074</td>\n",
       "      <td>0.834739</td>\n",
       "    </tr>\n",
       "    <tr>\n",
       "      <th>12640</th>\n",
       "      <td>2747</td>\n",
       "      <td>2019-08-19 20:17:54</td>\n",
       "      <td>2019-08-19 20:20:24</td>\n",
       "      <td>0.974501</td>\n",
       "      <td>0.635657</td>\n",
       "    </tr>\n",
       "    <tr>\n",
       "      <th>8831</th>\n",
       "      <td>1921</td>\n",
       "      <td>2019-07-19 09:35:52</td>\n",
       "      <td>2019-07-19 09:37:44</td>\n",
       "      <td>0.815795</td>\n",
       "      <td>0.601233</td>\n",
       "    </tr>\n",
       "  </tbody>\n",
       "</table>\n",
       "</div>"
      ],
      "text/plain": [
       "        key Начало нагрева дугой  Конец нагрева дугой  Активная мощность  \\\n",
       "7319   1588  2019-07-02 02:20:09  2019-07-02 02:21:04           0.444764   \n",
       "13229  2879  2019-08-24 17:49:37  2019-08-24 17:52:58           0.649843   \n",
       "2923    638  2019-05-27 18:07:47  2019-05-27 18:09:18           1.241074   \n",
       "12640  2747  2019-08-19 20:17:54  2019-08-19 20:20:24           0.974501   \n",
       "8831   1921  2019-07-19 09:35:52  2019-07-19 09:37:44           0.815795   \n",
       "\n",
       "       Реактивная мощность  \n",
       "7319              0.315227  \n",
       "13229             0.509748  \n",
       "2923              0.834739  \n",
       "12640             0.635657  \n",
       "8831              0.601233  "
      ]
     },
     "metadata": {},
     "output_type": "display_data"
    },
    {
     "data": {
      "text/plain": [
       "key                      3214\n",
       "Начало нагрева дугой    14876\n",
       "Конец нагрева дугой     14876\n",
       "Активная мощность       13846\n",
       "Реактивная мощность     14707\n",
       "dtype: int64"
      ]
     },
     "execution_count": 5,
     "metadata": {},
     "output_type": "execute_result"
    }
   ],
   "source": [
    "arc_new.info()\n",
    "display(arc_new.sample(5))\n",
    "#arc_new.corr()\n",
    "arc_new.nunique()"
   ]
  },
  {
   "cell_type": "code",
   "execution_count": 6,
   "id": "ff77a6fc",
   "metadata": {},
   "outputs": [
    {
     "data": {
      "text/html": [
       "<div>\n",
       "<style scoped>\n",
       "    .dataframe tbody tr th:only-of-type {\n",
       "        vertical-align: middle;\n",
       "    }\n",
       "\n",
       "    .dataframe tbody tr th {\n",
       "        vertical-align: top;\n",
       "    }\n",
       "\n",
       "    .dataframe thead th {\n",
       "        text-align: right;\n",
       "    }\n",
       "</style>\n",
       "<table border=\"1\" class=\"dataframe\">\n",
       "  <thead>\n",
       "    <tr style=\"text-align: right;\">\n",
       "      <th></th>\n",
       "      <th>Активная мощность</th>\n",
       "      <th>Реактивная мощность</th>\n",
       "    </tr>\n",
       "  </thead>\n",
       "  <tbody>\n",
       "    <tr>\n",
       "      <th>Активная мощность</th>\n",
       "      <td>1.000000</td>\n",
       "      <td>0.031164</td>\n",
       "    </tr>\n",
       "    <tr>\n",
       "      <th>Реактивная мощность</th>\n",
       "      <td>0.031164</td>\n",
       "      <td>1.000000</td>\n",
       "    </tr>\n",
       "  </tbody>\n",
       "</table>\n",
       "</div>"
      ],
      "text/plain": [
       "                     Активная мощность  Реактивная мощность\n",
       "Активная мощность             1.000000             0.031164\n",
       "Реактивная мощность           0.031164             1.000000"
      ]
     },
     "execution_count": 6,
     "metadata": {},
     "output_type": "execute_result"
    }
   ],
   "source": [
    "arc_new[['Активная мощность','Реактивная мощность']].corr()"
   ]
  },
  {
   "cell_type": "code",
   "execution_count": 7,
   "id": "9c36407a-cf36-4fd3-a74f-c0d42bba1152",
   "metadata": {},
   "outputs": [],
   "source": [
    "arc_new = arc_new.drop(arc_new[arc_new['Реактивная мощность'] < 0].index)"
   ]
  },
  {
   "cell_type": "code",
   "execution_count": 8,
   "id": "c0bfa09d",
   "metadata": {},
   "outputs": [
    {
     "data": {
      "text/plain": [
       "<AxesSubplot:>"
      ]
     },
     "execution_count": 8,
     "metadata": {},
     "output_type": "execute_result"
    },
    {
     "data": {
      "image/png": "[encoded data removed]",
      "text/plain": [
       "<Figure size 432x288 with 1 Axes>"
      ]
     },
     "metadata": {
      "needs_background": "light"
     },
     "output_type": "display_data"
    }
   ],
   "source": [
    "arc_new['Активная мощность'].hist()"
   ]
  },
  {
   "cell_type": "code",
   "execution_count": 9,
   "id": "9f2453fd",
   "metadata": {},
   "outputs": [
    {
     "data": {
      "text/html": [
       "<div>\n",
       "<style scoped>\n",
       "    .dataframe tbody tr th:only-of-type {\n",
       "        vertical-align: middle;\n",
       "    }\n",
       "\n",
       "    .dataframe tbody tr th {\n",
       "        vertical-align: top;\n",
       "    }\n",
       "\n",
       "    .dataframe thead th {\n",
       "        text-align: right;\n",
       "    }\n",
       "</style>\n",
       "<table border=\"1\" class=\"dataframe\">\n",
       "  <thead>\n",
       "    <tr style=\"text-align: right;\">\n",
       "      <th></th>\n",
       "      <th>Активная мощность</th>\n",
       "      <th>Реактивная мощность</th>\n",
       "    </tr>\n",
       "  </thead>\n",
       "  <tbody>\n",
       "    <tr>\n",
       "      <th>Активная мощность</th>\n",
       "      <td>1.000000</td>\n",
       "      <td>0.966373</td>\n",
       "    </tr>\n",
       "    <tr>\n",
       "      <th>Реактивная мощность</th>\n",
       "      <td>0.966373</td>\n",
       "      <td>1.000000</td>\n",
       "    </tr>\n",
       "  </tbody>\n",
       "</table>\n",
       "</div>"
      ],
      "text/plain": [
       "                     Активная мощность  Реактивная мощность\n",
       "Активная мощность             1.000000             0.966373\n",
       "Реактивная мощность           0.966373             1.000000"
      ]
     },
     "execution_count": 9,
     "metadata": {},
     "output_type": "execute_result"
    }
   ],
   "source": [
    "arc_new[['Активная мощность','Реактивная мощность']].corr()"
   ]
  },
  {
   "cell_type": "markdown",
   "id": "df1620f0",
   "metadata": {},
   "source": [
    "данные о сыпучих материалах"
   ]
  },
  {
   "cell_type": "code",
   "execution_count": 10,
   "id": "14a510dc",
   "metadata": {},
   "outputs": [
    {
     "name": "stdout",
     "output_type": "stream",
     "text": [
      "<class 'pandas.core.frame.DataFrame'>\n",
      "RangeIndex: 3129 entries, 0 to 3128\n",
      "Data columns (total 16 columns):\n",
      " #   Column   Non-Null Count  Dtype  \n",
      "---  ------   --------------  -----  \n",
      " 0   key      3129 non-null   int64  \n",
      " 1   Bulk 1   252 non-null    float64\n",
      " 2   Bulk 2   22 non-null     float64\n",
      " 3   Bulk 3   1298 non-null   float64\n",
      " 4   Bulk 4   1014 non-null   float64\n",
      " 5   Bulk 5   77 non-null     float64\n",
      " 6   Bulk 6   576 non-null    float64\n",
      " 7   Bulk 7   25 non-null     float64\n",
      " 8   Bulk 8   1 non-null      float64\n",
      " 9   Bulk 9   19 non-null     float64\n",
      " 10  Bulk 10  176 non-null    float64\n",
      " 11  Bulk 11  177 non-null    float64\n",
      " 12  Bulk 12  2450 non-null   float64\n",
      " 13  Bulk 13  18 non-null     float64\n",
      " 14  Bulk 14  2806 non-null   float64\n",
      " 15  Bulk 15  2248 non-null   float64\n",
      "dtypes: float64(15), int64(1)\n",
      "memory usage: 391.2 KB\n"
     ]
    },
    {
     "data": {
      "text/html": [
       "<div>\n",
       "<style scoped>\n",
       "    .dataframe tbody tr th:only-of-type {\n",
       "        vertical-align: middle;\n",
       "    }\n",
       "\n",
       "    .dataframe tbody tr th {\n",
       "        vertical-align: top;\n",
       "    }\n",
       "\n",
       "    .dataframe thead th {\n",
       "        text-align: right;\n",
       "    }\n",
       "</style>\n",
       "<table border=\"1\" class=\"dataframe\">\n",
       "  <thead>\n",
       "    <tr style=\"text-align: right;\">\n",
       "      <th></th>\n",
       "      <th>key</th>\n",
       "      <th>Bulk 1</th>\n",
       "      <th>Bulk 2</th>\n",
       "      <th>Bulk 3</th>\n",
       "      <th>Bulk 4</th>\n",
       "      <th>Bulk 5</th>\n",
       "      <th>Bulk 6</th>\n",
       "      <th>Bulk 7</th>\n",
       "      <th>Bulk 8</th>\n",
       "      <th>Bulk 9</th>\n",
       "      <th>Bulk 10</th>\n",
       "      <th>Bulk 11</th>\n",
       "      <th>Bulk 12</th>\n",
       "      <th>Bulk 13</th>\n",
       "      <th>Bulk 14</th>\n",
       "      <th>Bulk 15</th>\n",
       "    </tr>\n",
       "  </thead>\n",
       "  <tbody>\n",
       "    <tr>\n",
       "      <th>2449</th>\n",
       "      <td>2541</td>\n",
       "      <td>NaN</td>\n",
       "      <td>NaN</td>\n",
       "      <td>NaN</td>\n",
       "      <td>NaN</td>\n",
       "      <td>NaN</td>\n",
       "      <td>170.0</td>\n",
       "      <td>NaN</td>\n",
       "      <td>NaN</td>\n",
       "      <td>NaN</td>\n",
       "      <td>NaN</td>\n",
       "      <td>16.0</td>\n",
       "      <td>NaN</td>\n",
       "      <td>NaN</td>\n",
       "      <td>248.0</td>\n",
       "      <td>108.0</td>\n",
       "    </tr>\n",
       "    <tr>\n",
       "      <th>3054</th>\n",
       "      <td>3163</td>\n",
       "      <td>NaN</td>\n",
       "      <td>NaN</td>\n",
       "      <td>284.0</td>\n",
       "      <td>NaN</td>\n",
       "      <td>NaN</td>\n",
       "      <td>NaN</td>\n",
       "      <td>NaN</td>\n",
       "      <td>NaN</td>\n",
       "      <td>NaN</td>\n",
       "      <td>NaN</td>\n",
       "      <td>NaN</td>\n",
       "      <td>316.0</td>\n",
       "      <td>NaN</td>\n",
       "      <td>198.0</td>\n",
       "      <td>214.0</td>\n",
       "    </tr>\n",
       "    <tr>\n",
       "      <th>2244</th>\n",
       "      <td>2325</td>\n",
       "      <td>NaN</td>\n",
       "      <td>NaN</td>\n",
       "      <td>NaN</td>\n",
       "      <td>93.0</td>\n",
       "      <td>NaN</td>\n",
       "      <td>NaN</td>\n",
       "      <td>NaN</td>\n",
       "      <td>NaN</td>\n",
       "      <td>NaN</td>\n",
       "      <td>NaN</td>\n",
       "      <td>NaN</td>\n",
       "      <td>NaN</td>\n",
       "      <td>NaN</td>\n",
       "      <td>165.0</td>\n",
       "      <td>NaN</td>\n",
       "    </tr>\n",
       "    <tr>\n",
       "      <th>1835</th>\n",
       "      <td>1897</td>\n",
       "      <td>NaN</td>\n",
       "      <td>NaN</td>\n",
       "      <td>89.0</td>\n",
       "      <td>91.0</td>\n",
       "      <td>NaN</td>\n",
       "      <td>NaN</td>\n",
       "      <td>NaN</td>\n",
       "      <td>NaN</td>\n",
       "      <td>NaN</td>\n",
       "      <td>NaN</td>\n",
       "      <td>NaN</td>\n",
       "      <td>204.0</td>\n",
       "      <td>NaN</td>\n",
       "      <td>98.0</td>\n",
       "      <td>100.0</td>\n",
       "    </tr>\n",
       "    <tr>\n",
       "      <th>825</th>\n",
       "      <td>860</td>\n",
       "      <td>NaN</td>\n",
       "      <td>NaN</td>\n",
       "      <td>109.0</td>\n",
       "      <td>NaN</td>\n",
       "      <td>NaN</td>\n",
       "      <td>173.0</td>\n",
       "      <td>NaN</td>\n",
       "      <td>NaN</td>\n",
       "      <td>NaN</td>\n",
       "      <td>NaN</td>\n",
       "      <td>NaN</td>\n",
       "      <td>313.0</td>\n",
       "      <td>NaN</td>\n",
       "      <td>325.0</td>\n",
       "      <td>100.0</td>\n",
       "    </tr>\n",
       "  </tbody>\n",
       "</table>\n",
       "</div>"
      ],
      "text/plain": [
       "       key  Bulk 1  Bulk 2  Bulk 3  Bulk 4  Bulk 5  Bulk 6  Bulk 7  Bulk 8  \\\n",
       "2449  2541     NaN     NaN     NaN     NaN     NaN   170.0     NaN     NaN   \n",
       "3054  3163     NaN     NaN   284.0     NaN     NaN     NaN     NaN     NaN   \n",
       "2244  2325     NaN     NaN     NaN    93.0     NaN     NaN     NaN     NaN   \n",
       "1835  1897     NaN     NaN    89.0    91.0     NaN     NaN     NaN     NaN   \n",
       "825    860     NaN     NaN   109.0     NaN     NaN   173.0     NaN     NaN   \n",
       "\n",
       "      Bulk 9  Bulk 10  Bulk 11  Bulk 12  Bulk 13  Bulk 14  Bulk 15  \n",
       "2449     NaN      NaN     16.0      NaN      NaN    248.0    108.0  \n",
       "3054     NaN      NaN      NaN    316.0      NaN    198.0    214.0  \n",
       "2244     NaN      NaN      NaN      NaN      NaN    165.0      NaN  \n",
       "1835     NaN      NaN      NaN    204.0      NaN     98.0    100.0  \n",
       "825      NaN      NaN      NaN    313.0      NaN    325.0    100.0  "
      ]
     },
     "metadata": {},
     "output_type": "display_data"
    },
    {
     "data": {
      "text/plain": [
       "key        3129\n",
       "Bulk 1       47\n",
       "Bulk 2       15\n",
       "Bulk 3      278\n",
       "Bulk 4      206\n",
       "Bulk 5       55\n",
       "Bulk 6      205\n",
       "Bulk 7       25\n",
       "Bulk 8        1\n",
       "Bulk 9       10\n",
       "Bulk 10      77\n",
       "Bulk 11     101\n",
       "Bulk 12     331\n",
       "Bulk 13      14\n",
       "Bulk 14     284\n",
       "Bulk 15     156\n",
       "dtype: int64"
      ]
     },
     "execution_count": 10,
     "metadata": {},
     "output_type": "execute_result"
    }
   ],
   "source": [
    "bulk_new.info()\n",
    "display(bulk_new.sample(5))\n",
    "bulk_new.nunique()"
   ]
  },
  {
   "cell_type": "code",
   "execution_count": 11,
   "id": "c57fdfa3",
   "metadata": {},
   "outputs": [
    {
     "name": "stdout",
     "output_type": "stream",
     "text": [
      "key        3241.0\n",
      "Bulk 1      185.0\n",
      "Bulk 2      325.0\n",
      "Bulk 3      454.0\n",
      "Bulk 4      281.0\n",
      "Bulk 5      603.0\n",
      "Bulk 6      503.0\n",
      "Bulk 7      772.0\n",
      "Bulk 8       49.0\n",
      "Bulk 9      147.0\n",
      "Bulk 10     159.0\n",
      "Bulk 11     313.0\n",
      "Bulk 12    1849.0\n",
      "Bulk 13     305.0\n",
      "Bulk 14     636.0\n",
      "Bulk 15     405.0\n",
      "dtype: float64\n",
      "key        1622.0\n",
      "Bulk 1       31.0\n",
      "Bulk 2      251.5\n",
      "Bulk 3       97.5\n",
      "Bulk 4      102.0\n",
      "Bulk 5       86.0\n",
      "Bulk 6      100.0\n",
      "Bulk 7      298.0\n",
      "Bulk 8       49.0\n",
      "Bulk 9       68.0\n",
      "Bulk 10      86.5\n",
      "Bulk 11      64.0\n",
      "Bulk 12     208.0\n",
      "Bulk 13     155.5\n",
      "Bulk 14     151.0\n",
      "Bulk 15     160.0\n",
      "dtype: float64\n"
     ]
    },
    {
     "data": {
      "text/plain": [
       "key          1.0\n",
       "Bulk 1      10.0\n",
       "Bulk 2     228.0\n",
       "Bulk 3       6.0\n",
       "Bulk 4      12.0\n",
       "Bulk 5      11.0\n",
       "Bulk 6      17.0\n",
       "Bulk 7      47.0\n",
       "Bulk 8      49.0\n",
       "Bulk 9      63.0\n",
       "Bulk 10     24.0\n",
       "Bulk 11      8.0\n",
       "Bulk 12     53.0\n",
       "Bulk 13    151.0\n",
       "Bulk 14     16.0\n",
       "Bulk 15      1.0\n",
       "dtype: float64"
      ]
     },
     "execution_count": 11,
     "metadata": {},
     "output_type": "execute_result"
    }
   ],
   "source": [
    "print(bulk_new.max())\n",
    "print(bulk_new.median())\n",
    "bulk_new.min()"
   ]
  },
  {
   "cell_type": "code",
   "execution_count": 12,
   "id": "fedf0ca2",
   "metadata": {
    "scrolled": true
   },
   "outputs": [
    {
     "data": {
      "image/png": "[encoded data removed]",
      "text/plain": [
       "<Figure size 1440x864 with 2 Axes>"
      ]
     },
     "metadata": {
      "needs_background": "light"
     },
     "output_type": "display_data"
    }
   ],
   "source": [
    "plt.figure(figsize=(20, 12))\n",
    "plt.title('Корреляция признаков')\n",
    "sns.heatmap(bulk_new.corr(method='spearman'), annot = True, cmap=\"coolwarm\")\n",
    "plt.show()"
   ]
  },
  {
   "cell_type": "markdown",
   "id": "7af9b840",
   "metadata": {},
   "source": [
    "данные об времени подачи сыпучих материалов."
   ]
  },
  {
   "cell_type": "code",
   "execution_count": 13,
   "id": "1c94058f",
   "metadata": {},
   "outputs": [
    {
     "name": "stdout",
     "output_type": "stream",
     "text": [
      "<class 'pandas.core.frame.DataFrame'>\n",
      "RangeIndex: 3129 entries, 0 to 3128\n",
      "Data columns (total 16 columns):\n",
      " #   Column   Non-Null Count  Dtype \n",
      "---  ------   --------------  ----- \n",
      " 0   key      3129 non-null   int64 \n",
      " 1   Bulk 1   252 non-null    object\n",
      " 2   Bulk 2   22 non-null     object\n",
      " 3   Bulk 3   1298 non-null   object\n",
      " 4   Bulk 4   1014 non-null   object\n",
      " 5   Bulk 5   77 non-null     object\n",
      " 6   Bulk 6   576 non-null    object\n",
      " 7   Bulk 7   25 non-null     object\n",
      " 8   Bulk 8   1 non-null      object\n",
      " 9   Bulk 9   19 non-null     object\n",
      " 10  Bulk 10  176 non-null    object\n",
      " 11  Bulk 11  177 non-null    object\n",
      " 12  Bulk 12  2450 non-null   object\n",
      " 13  Bulk 13  18 non-null     object\n",
      " 14  Bulk 14  2806 non-null   object\n",
      " 15  Bulk 15  2248 non-null   object\n",
      "dtypes: int64(1), object(15)\n",
      "memory usage: 391.2+ KB\n"
     ]
    },
    {
     "data": {
      "text/html": [
       "<div>\n",
       "<style scoped>\n",
       "    .dataframe tbody tr th:only-of-type {\n",
       "        vertical-align: middle;\n",
       "    }\n",
       "\n",
       "    .dataframe tbody tr th {\n",
       "        vertical-align: top;\n",
       "    }\n",
       "\n",
       "    .dataframe thead th {\n",
       "        text-align: right;\n",
       "    }\n",
       "</style>\n",
       "<table border=\"1\" class=\"dataframe\">\n",
       "  <thead>\n",
       "    <tr style=\"text-align: right;\">\n",
       "      <th></th>\n",
       "      <th>key</th>\n",
       "      <th>Bulk 1</th>\n",
       "      <th>Bulk 2</th>\n",
       "      <th>Bulk 3</th>\n",
       "      <th>Bulk 4</th>\n",
       "      <th>Bulk 5</th>\n",
       "      <th>Bulk 6</th>\n",
       "      <th>Bulk 7</th>\n",
       "      <th>Bulk 8</th>\n",
       "      <th>Bulk 9</th>\n",
       "      <th>Bulk 10</th>\n",
       "      <th>Bulk 11</th>\n",
       "      <th>Bulk 12</th>\n",
       "      <th>Bulk 13</th>\n",
       "      <th>Bulk 14</th>\n",
       "      <th>Bulk 15</th>\n",
       "    </tr>\n",
       "  </thead>\n",
       "  <tbody>\n",
       "    <tr>\n",
       "      <th>2506</th>\n",
       "      <td>2601</td>\n",
       "      <td>NaN</td>\n",
       "      <td>NaN</td>\n",
       "      <td>2019-08-14 11:23:12</td>\n",
       "      <td>NaN</td>\n",
       "      <td>NaN</td>\n",
       "      <td>NaN</td>\n",
       "      <td>NaN</td>\n",
       "      <td>NaN</td>\n",
       "      <td>NaN</td>\n",
       "      <td>NaN</td>\n",
       "      <td>NaN</td>\n",
       "      <td>NaN</td>\n",
       "      <td>NaN</td>\n",
       "      <td>2019-08-14 11:17:44</td>\n",
       "      <td>2019-08-14 11:11:40</td>\n",
       "    </tr>\n",
       "    <tr>\n",
       "      <th>1281</th>\n",
       "      <td>1332</td>\n",
       "      <td>NaN</td>\n",
       "      <td>NaN</td>\n",
       "      <td>NaN</td>\n",
       "      <td>2019-06-22 12:30:59</td>\n",
       "      <td>NaN</td>\n",
       "      <td>NaN</td>\n",
       "      <td>NaN</td>\n",
       "      <td>NaN</td>\n",
       "      <td>NaN</td>\n",
       "      <td>NaN</td>\n",
       "      <td>NaN</td>\n",
       "      <td>2019-06-22 12:30:59</td>\n",
       "      <td>NaN</td>\n",
       "      <td>2019-06-22 12:30:59</td>\n",
       "      <td>2019-06-22 12:21:55</td>\n",
       "    </tr>\n",
       "    <tr>\n",
       "      <th>319</th>\n",
       "      <td>341</td>\n",
       "      <td>NaN</td>\n",
       "      <td>NaN</td>\n",
       "      <td>NaN</td>\n",
       "      <td>NaN</td>\n",
       "      <td>NaN</td>\n",
       "      <td>NaN</td>\n",
       "      <td>NaN</td>\n",
       "      <td>NaN</td>\n",
       "      <td>NaN</td>\n",
       "      <td>NaN</td>\n",
       "      <td>NaN</td>\n",
       "      <td>2019-05-16 15:59:47</td>\n",
       "      <td>NaN</td>\n",
       "      <td>2019-05-16 16:14:34</td>\n",
       "      <td>2019-05-16 16:14:34</td>\n",
       "    </tr>\n",
       "    <tr>\n",
       "      <th>1989</th>\n",
       "      <td>2060</td>\n",
       "      <td>NaN</td>\n",
       "      <td>NaN</td>\n",
       "      <td>NaN</td>\n",
       "      <td>NaN</td>\n",
       "      <td>NaN</td>\n",
       "      <td>NaN</td>\n",
       "      <td>NaN</td>\n",
       "      <td>NaN</td>\n",
       "      <td>NaN</td>\n",
       "      <td>NaN</td>\n",
       "      <td>NaN</td>\n",
       "      <td>NaN</td>\n",
       "      <td>NaN</td>\n",
       "      <td>2019-07-25 14:52:25</td>\n",
       "      <td>NaN</td>\n",
       "    </tr>\n",
       "    <tr>\n",
       "      <th>1806</th>\n",
       "      <td>1868</td>\n",
       "      <td>NaN</td>\n",
       "      <td>NaN</td>\n",
       "      <td>2019-07-11 18:25:47</td>\n",
       "      <td>NaN</td>\n",
       "      <td>NaN</td>\n",
       "      <td>NaN</td>\n",
       "      <td>NaN</td>\n",
       "      <td>NaN</td>\n",
       "      <td>NaN</td>\n",
       "      <td>NaN</td>\n",
       "      <td>NaN</td>\n",
       "      <td>NaN</td>\n",
       "      <td>NaN</td>\n",
       "      <td>2019-07-11 18:25:47</td>\n",
       "      <td>NaN</td>\n",
       "    </tr>\n",
       "  </tbody>\n",
       "</table>\n",
       "</div>"
      ],
      "text/plain": [
       "       key Bulk 1 Bulk 2               Bulk 3               Bulk 4 Bulk 5  \\\n",
       "2506  2601    NaN    NaN  2019-08-14 11:23:12                  NaN    NaN   \n",
       "1281  1332    NaN    NaN                  NaN  2019-06-22 12:30:59    NaN   \n",
       "319    341    NaN    NaN                  NaN                  NaN    NaN   \n",
       "1989  2060    NaN    NaN                  NaN                  NaN    NaN   \n",
       "1806  1868    NaN    NaN  2019-07-11 18:25:47                  NaN    NaN   \n",
       "\n",
       "     Bulk 6 Bulk 7 Bulk 8 Bulk 9 Bulk 10 Bulk 11              Bulk 12 Bulk 13  \\\n",
       "2506    NaN    NaN    NaN    NaN     NaN     NaN                  NaN     NaN   \n",
       "1281    NaN    NaN    NaN    NaN     NaN     NaN  2019-06-22 12:30:59     NaN   \n",
       "319     NaN    NaN    NaN    NaN     NaN     NaN  2019-05-16 15:59:47     NaN   \n",
       "1989    NaN    NaN    NaN    NaN     NaN     NaN                  NaN     NaN   \n",
       "1806    NaN    NaN    NaN    NaN     NaN     NaN                  NaN     NaN   \n",
       "\n",
       "                  Bulk 14              Bulk 15  \n",
       "2506  2019-08-14 11:17:44  2019-08-14 11:11:40  \n",
       "1281  2019-06-22 12:30:59  2019-06-22 12:21:55  \n",
       "319   2019-05-16 16:14:34  2019-05-16 16:14:34  \n",
       "1989  2019-07-25 14:52:25                  NaN  \n",
       "1806  2019-07-11 18:25:47                  NaN  "
      ]
     },
     "metadata": {},
     "output_type": "display_data"
    },
    {
     "data": {
      "text/plain": [
       "key        3129\n",
       "Bulk 1      252\n",
       "Bulk 2       22\n",
       "Bulk 3     1298\n",
       "Bulk 4     1014\n",
       "Bulk 5       77\n",
       "Bulk 6      576\n",
       "Bulk 7       25\n",
       "Bulk 8        1\n",
       "Bulk 9       19\n",
       "Bulk 10     176\n",
       "Bulk 11     177\n",
       "Bulk 12    2450\n",
       "Bulk 13      18\n",
       "Bulk 14    2806\n",
       "Bulk 15    2248\n",
       "dtype: int64"
      ]
     },
     "execution_count": 13,
     "metadata": {},
     "output_type": "execute_result"
    }
   ],
   "source": [
    "bulk_time_new.info()\n",
    "display(bulk_time_new.sample(5))\n",
    "bulk_time_new.nunique()"
   ]
  },
  {
   "cell_type": "markdown",
   "id": "d41e180a",
   "metadata": {},
   "source": [
    "Данные о температуре"
   ]
  },
  {
   "cell_type": "code",
   "execution_count": 14,
   "id": "10e605bc",
   "metadata": {},
   "outputs": [
    {
     "name": "stdout",
     "output_type": "stream",
     "text": [
      "<class 'pandas.core.frame.DataFrame'>\n",
      "RangeIndex: 18092 entries, 0 to 18091\n",
      "Data columns (total 3 columns):\n",
      " #   Column        Non-Null Count  Dtype  \n",
      "---  ------        --------------  -----  \n",
      " 0   key           18092 non-null  int64  \n",
      " 1   Время замера  18092 non-null  object \n",
      " 2   Температура   14665 non-null  float64\n",
      "dtypes: float64(1), int64(1), object(1)\n",
      "memory usage: 424.2+ KB\n"
     ]
    },
    {
     "data": {
      "text/html": [
       "<div>\n",
       "<style scoped>\n",
       "    .dataframe tbody tr th:only-of-type {\n",
       "        vertical-align: middle;\n",
       "    }\n",
       "\n",
       "    .dataframe tbody tr th {\n",
       "        vertical-align: top;\n",
       "    }\n",
       "\n",
       "    .dataframe thead th {\n",
       "        text-align: right;\n",
       "    }\n",
       "</style>\n",
       "<table border=\"1\" class=\"dataframe\">\n",
       "  <thead>\n",
       "    <tr style=\"text-align: right;\">\n",
       "      <th></th>\n",
       "      <th>key</th>\n",
       "      <th>Время замера</th>\n",
       "      <th>Температура</th>\n",
       "    </tr>\n",
       "  </thead>\n",
       "  <tbody>\n",
       "    <tr>\n",
       "      <th>10354</th>\n",
       "      <td>1853</td>\n",
       "      <td>2019-07-11 04:06:39</td>\n",
       "      <td>1600.0</td>\n",
       "    </tr>\n",
       "    <tr>\n",
       "      <th>5541</th>\n",
       "      <td>987</td>\n",
       "      <td>2019-06-10 13:49:59</td>\n",
       "      <td>1598.0</td>\n",
       "    </tr>\n",
       "    <tr>\n",
       "      <th>245</th>\n",
       "      <td>45</td>\n",
       "      <td>2019-05-05 02:36:37</td>\n",
       "      <td>1538.0</td>\n",
       "    </tr>\n",
       "    <tr>\n",
       "      <th>8993</th>\n",
       "      <td>1607</td>\n",
       "      <td>2019-07-02 18:17:35</td>\n",
       "      <td>1575.0</td>\n",
       "    </tr>\n",
       "    <tr>\n",
       "      <th>8762</th>\n",
       "      <td>1567</td>\n",
       "      <td>2019-07-01 09:55:30</td>\n",
       "      <td>1625.0</td>\n",
       "    </tr>\n",
       "  </tbody>\n",
       "</table>\n",
       "</div>"
      ],
      "text/plain": [
       "        key         Время замера  Температура\n",
       "10354  1853  2019-07-11 04:06:39       1600.0\n",
       "5541    987  2019-06-10 13:49:59       1598.0\n",
       "245      45  2019-05-05 02:36:37       1538.0\n",
       "8993   1607  2019-07-02 18:17:35       1575.0\n",
       "8762   1567  2019-07-01 09:55:30       1625.0"
      ]
     },
     "metadata": {},
     "output_type": "display_data"
    },
    {
     "data": {
      "text/plain": [
       "key              3216\n",
       "Время замера    18092\n",
       "Температура       172\n",
       "dtype: int64"
      ]
     },
     "execution_count": 14,
     "metadata": {},
     "output_type": "execute_result"
    }
   ],
   "source": [
    "temp_new.info()\n",
    "display(temp_new.sample(5))\n",
    "temp_new.nunique()"
   ]
  },
  {
   "cell_type": "code",
   "execution_count": 15,
   "id": "2ddc2375",
   "metadata": {},
   "outputs": [
    {
     "data": {
      "text/plain": [
       "key                               1\n",
       "Время замера    2019-05-03 11:02:04\n",
       "Температура                  1191.0\n",
       "dtype: object"
      ]
     },
     "execution_count": 15,
     "metadata": {},
     "output_type": "execute_result"
    }
   ],
   "source": [
    "temp_new.min()"
   ]
  },
  {
   "cell_type": "code",
   "execution_count": 16,
   "id": "07ff2c14",
   "metadata": {},
   "outputs": [
    {
     "data": {
      "text/plain": [
       "<AxesSubplot:>"
      ]
     },
     "execution_count": 16,
     "metadata": {},
     "output_type": "execute_result"
    },
    {
     "data": {
      "image/png": "[encoded data removed]",
      "text/plain": [
       "<Figure size 432x288 with 1 Axes>"
      ]
     },
     "metadata": {
      "needs_background": "light"
     },
     "output_type": "display_data"
    }
   ],
   "source": [
    "temp_new['Температура'].hist(bins =50)"
   ]
  },
  {
   "cell_type": "code",
   "execution_count": 17,
   "id": "149260b5-9b69-4c8a-b851-619128ee8ebc",
   "metadata": {},
   "outputs": [],
   "source": [
    "temp_new = temp_new.drop(temp_new[temp_new['Температура']<1450].index)"
   ]
  },
  {
   "cell_type": "code",
   "execution_count": 18,
   "id": "73531fd1",
   "metadata": {
    "scrolled": true
   },
   "outputs": [
    {
     "data": {
      "text/plain": [
       "<AxesSubplot:>"
      ]
     },
     "execution_count": 18,
     "metadata": {},
     "output_type": "execute_result"
    },
    {
     "data": {
      "image/png": "[encoded data removed]",
      "text/plain": [
       "<Figure size 432x288 with 1 Axes>"
      ]
     },
     "metadata": {
      "needs_background": "light"
     },
     "output_type": "display_data"
    }
   ],
   "source": [
    "temp_new['Температура'].hist(bins =50)"
   ]
  },
  {
   "cell_type": "markdown",
   "id": "1e68137b",
   "metadata": {},
   "source": [
    "данные о проволочных материалах (объём)"
   ]
  },
  {
   "cell_type": "code",
   "execution_count": 19,
   "id": "e53577c6",
   "metadata": {},
   "outputs": [
    {
     "name": "stdout",
     "output_type": "stream",
     "text": [
      "<class 'pandas.core.frame.DataFrame'>\n",
      "RangeIndex: 3081 entries, 0 to 3080\n",
      "Data columns (total 10 columns):\n",
      " #   Column  Non-Null Count  Dtype  \n",
      "---  ------  --------------  -----  \n",
      " 0   key     3081 non-null   int64  \n",
      " 1   Wire 1  3055 non-null   float64\n",
      " 2   Wire 2  1079 non-null   float64\n",
      " 3   Wire 3  63 non-null     float64\n",
      " 4   Wire 4  14 non-null     float64\n",
      " 5   Wire 5  1 non-null      float64\n",
      " 6   Wire 6  73 non-null     float64\n",
      " 7   Wire 7  11 non-null     float64\n",
      " 8   Wire 8  19 non-null     float64\n",
      " 9   Wire 9  29 non-null     float64\n",
      "dtypes: float64(9), int64(1)\n",
      "memory usage: 240.8 KB\n"
     ]
    },
    {
     "data": {
      "text/html": [
       "<div>\n",
       "<style scoped>\n",
       "    .dataframe tbody tr th:only-of-type {\n",
       "        vertical-align: middle;\n",
       "    }\n",
       "\n",
       "    .dataframe tbody tr th {\n",
       "        vertical-align: top;\n",
       "    }\n",
       "\n",
       "    .dataframe thead th {\n",
       "        text-align: right;\n",
       "    }\n",
       "</style>\n",
       "<table border=\"1\" class=\"dataframe\">\n",
       "  <thead>\n",
       "    <tr style=\"text-align: right;\">\n",
       "      <th></th>\n",
       "      <th>key</th>\n",
       "      <th>Wire 1</th>\n",
       "      <th>Wire 2</th>\n",
       "      <th>Wire 3</th>\n",
       "      <th>Wire 4</th>\n",
       "      <th>Wire 5</th>\n",
       "      <th>Wire 6</th>\n",
       "      <th>Wire 7</th>\n",
       "      <th>Wire 8</th>\n",
       "      <th>Wire 9</th>\n",
       "    </tr>\n",
       "  </thead>\n",
       "  <tbody>\n",
       "    <tr>\n",
       "      <th>2526</th>\n",
       "      <td>2659</td>\n",
       "      <td>64.253281</td>\n",
       "      <td>19.03096</td>\n",
       "      <td>NaN</td>\n",
       "      <td>NaN</td>\n",
       "      <td>NaN</td>\n",
       "      <td>NaN</td>\n",
       "      <td>NaN</td>\n",
       "      <td>NaN</td>\n",
       "      <td>NaN</td>\n",
       "    </tr>\n",
       "    <tr>\n",
       "      <th>84</th>\n",
       "      <td>99</td>\n",
       "      <td>70.106400</td>\n",
       "      <td>NaN</td>\n",
       "      <td>NaN</td>\n",
       "      <td>NaN</td>\n",
       "      <td>NaN</td>\n",
       "      <td>NaN</td>\n",
       "      <td>NaN</td>\n",
       "      <td>NaN</td>\n",
       "      <td>NaN</td>\n",
       "    </tr>\n",
       "    <tr>\n",
       "      <th>2178</th>\n",
       "      <td>2289</td>\n",
       "      <td>84.215042</td>\n",
       "      <td>17.10072</td>\n",
       "      <td>NaN</td>\n",
       "      <td>NaN</td>\n",
       "      <td>NaN</td>\n",
       "      <td>NaN</td>\n",
       "      <td>NaN</td>\n",
       "      <td>NaN</td>\n",
       "      <td>NaN</td>\n",
       "    </tr>\n",
       "    <tr>\n",
       "      <th>1634</th>\n",
       "      <td>1714</td>\n",
       "      <td>110.073601</td>\n",
       "      <td>9.10832</td>\n",
       "      <td>NaN</td>\n",
       "      <td>NaN</td>\n",
       "      <td>NaN</td>\n",
       "      <td>NaN</td>\n",
       "      <td>NaN</td>\n",
       "      <td>NaN</td>\n",
       "      <td>NaN</td>\n",
       "    </tr>\n",
       "    <tr>\n",
       "      <th>3072</th>\n",
       "      <td>3233</td>\n",
       "      <td>107.147033</td>\n",
       "      <td>NaN</td>\n",
       "      <td>NaN</td>\n",
       "      <td>NaN</td>\n",
       "      <td>NaN</td>\n",
       "      <td>NaN</td>\n",
       "      <td>NaN</td>\n",
       "      <td>NaN</td>\n",
       "      <td>NaN</td>\n",
       "    </tr>\n",
       "  </tbody>\n",
       "</table>\n",
       "</div>"
      ],
      "text/plain": [
       "       key      Wire 1    Wire 2  Wire 3  Wire 4  Wire 5  Wire 6  Wire 7  \\\n",
       "2526  2659   64.253281  19.03096     NaN     NaN     NaN     NaN     NaN   \n",
       "84      99   70.106400       NaN     NaN     NaN     NaN     NaN     NaN   \n",
       "2178  2289   84.215042  17.10072     NaN     NaN     NaN     NaN     NaN   \n",
       "1634  1714  110.073601   9.10832     NaN     NaN     NaN     NaN     NaN   \n",
       "3072  3233  107.147033       NaN     NaN     NaN     NaN     NaN     NaN   \n",
       "\n",
       "      Wire 8  Wire 9  \n",
       "2526     NaN     NaN  \n",
       "84       NaN     NaN  \n",
       "2178     NaN     NaN  \n",
       "1634     NaN     NaN  \n",
       "3072     NaN     NaN  "
      ]
     },
     "metadata": {},
     "output_type": "display_data"
    },
    {
     "data": {
      "text/plain": [
       "key       3081\n",
       "Wire 1    2251\n",
       "Wire 2     713\n",
       "Wire 3      56\n",
       "Wire 4      14\n",
       "Wire 5       1\n",
       "Wire 6      69\n",
       "Wire 7      10\n",
       "Wire 8      13\n",
       "Wire 9      25\n",
       "dtype: int64"
      ]
     },
     "execution_count": 19,
     "metadata": {},
     "output_type": "execute_result"
    }
   ],
   "source": [
    "wire_new.info()\n",
    "display(wire_new.sample(5))\n",
    "wire_new.nunique()"
   ]
  },
  {
   "cell_type": "code",
   "execution_count": 20,
   "id": "2e7ec68a",
   "metadata": {},
   "outputs": [
    {
     "data": {
      "image/png": "[encoded data removed]",
      "text/plain": [
       "<Figure size 1440x864 with 2 Axes>"
      ]
     },
     "metadata": {
      "needs_background": "light"
     },
     "output_type": "display_data"
    }
   ],
   "source": [
    "plt.figure(figsize=(20, 12))\n",
    "plt.title('Корреляция признаков')\n",
    "sns.heatmap(wire_new.corr(method='spearman'), annot = True, cmap=\"coolwarm\")\n",
    "plt.show()"
   ]
  },
  {
   "cell_type": "markdown",
   "id": "45a21db1",
   "metadata": {},
   "source": [
    "данные о проволочных материалах (время)"
   ]
  },
  {
   "cell_type": "code",
   "execution_count": 21,
   "id": "5de6d16e",
   "metadata": {
    "scrolled": true
   },
   "outputs": [
    {
     "name": "stdout",
     "output_type": "stream",
     "text": [
      "<class 'pandas.core.frame.DataFrame'>\n",
      "RangeIndex: 3081 entries, 0 to 3080\n",
      "Data columns (total 10 columns):\n",
      " #   Column  Non-Null Count  Dtype \n",
      "---  ------  --------------  ----- \n",
      " 0   key     3081 non-null   int64 \n",
      " 1   Wire 1  3055 non-null   object\n",
      " 2   Wire 2  1079 non-null   object\n",
      " 3   Wire 3  63 non-null     object\n",
      " 4   Wire 4  14 non-null     object\n",
      " 5   Wire 5  1 non-null      object\n",
      " 6   Wire 6  73 non-null     object\n",
      " 7   Wire 7  11 non-null     object\n",
      " 8   Wire 8  19 non-null     object\n",
      " 9   Wire 9  29 non-null     object\n",
      "dtypes: int64(1), object(9)\n",
      "memory usage: 240.8+ KB\n"
     ]
    },
    {
     "data": {
      "text/html": [
       "<div>\n",
       "<style scoped>\n",
       "    .dataframe tbody tr th:only-of-type {\n",
       "        vertical-align: middle;\n",
       "    }\n",
       "\n",
       "    .dataframe tbody tr th {\n",
       "        vertical-align: top;\n",
       "    }\n",
       "\n",
       "    .dataframe thead th {\n",
       "        text-align: right;\n",
       "    }\n",
       "</style>\n",
       "<table border=\"1\" class=\"dataframe\">\n",
       "  <thead>\n",
       "    <tr style=\"text-align: right;\">\n",
       "      <th></th>\n",
       "      <th>key</th>\n",
       "      <th>Wire 1</th>\n",
       "      <th>Wire 2</th>\n",
       "      <th>Wire 3</th>\n",
       "      <th>Wire 4</th>\n",
       "      <th>Wire 5</th>\n",
       "      <th>Wire 6</th>\n",
       "      <th>Wire 7</th>\n",
       "      <th>Wire 8</th>\n",
       "      <th>Wire 9</th>\n",
       "    </tr>\n",
       "  </thead>\n",
       "  <tbody>\n",
       "    <tr>\n",
       "      <th>614</th>\n",
       "      <td>650</td>\n",
       "      <td>2019-05-28 18:45:48</td>\n",
       "      <td>NaN</td>\n",
       "      <td>NaN</td>\n",
       "      <td>NaN</td>\n",
       "      <td>NaN</td>\n",
       "      <td>NaN</td>\n",
       "      <td>NaN</td>\n",
       "      <td>NaN</td>\n",
       "      <td>NaN</td>\n",
       "    </tr>\n",
       "    <tr>\n",
       "      <th>1317</th>\n",
       "      <td>1388</td>\n",
       "      <td>2019-06-24 19:28:50</td>\n",
       "      <td>NaN</td>\n",
       "      <td>NaN</td>\n",
       "      <td>NaN</td>\n",
       "      <td>NaN</td>\n",
       "      <td>NaN</td>\n",
       "      <td>NaN</td>\n",
       "      <td>NaN</td>\n",
       "      <td>NaN</td>\n",
       "    </tr>\n",
       "    <tr>\n",
       "      <th>1998</th>\n",
       "      <td>2095</td>\n",
       "      <td>2019-07-26 19:27:20</td>\n",
       "      <td>NaN</td>\n",
       "      <td>NaN</td>\n",
       "      <td>NaN</td>\n",
       "      <td>NaN</td>\n",
       "      <td>NaN</td>\n",
       "      <td>NaN</td>\n",
       "      <td>NaN</td>\n",
       "      <td>NaN</td>\n",
       "    </tr>\n",
       "    <tr>\n",
       "      <th>2511</th>\n",
       "      <td>2644</td>\n",
       "      <td>2019-08-16 01:02:42</td>\n",
       "      <td>NaN</td>\n",
       "      <td>NaN</td>\n",
       "      <td>NaN</td>\n",
       "      <td>NaN</td>\n",
       "      <td>NaN</td>\n",
       "      <td>NaN</td>\n",
       "      <td>NaN</td>\n",
       "      <td>NaN</td>\n",
       "    </tr>\n",
       "    <tr>\n",
       "      <th>750</th>\n",
       "      <td>803</td>\n",
       "      <td>2019-06-03 19:54:14</td>\n",
       "      <td>2019-06-03 19:52:44</td>\n",
       "      <td>NaN</td>\n",
       "      <td>NaN</td>\n",
       "      <td>NaN</td>\n",
       "      <td>NaN</td>\n",
       "      <td>NaN</td>\n",
       "      <td>NaN</td>\n",
       "      <td>NaN</td>\n",
       "    </tr>\n",
       "  </tbody>\n",
       "</table>\n",
       "</div>"
      ],
      "text/plain": [
       "       key               Wire 1               Wire 2 Wire 3 Wire 4 Wire 5  \\\n",
       "614    650  2019-05-28 18:45:48                  NaN    NaN    NaN    NaN   \n",
       "1317  1388  2019-06-24 19:28:50                  NaN    NaN    NaN    NaN   \n",
       "1998  2095  2019-07-26 19:27:20                  NaN    NaN    NaN    NaN   \n",
       "2511  2644  2019-08-16 01:02:42                  NaN    NaN    NaN    NaN   \n",
       "750    803  2019-06-03 19:54:14  2019-06-03 19:52:44    NaN    NaN    NaN   \n",
       "\n",
       "     Wire 6 Wire 7 Wire 8 Wire 9  \n",
       "614     NaN    NaN    NaN    NaN  \n",
       "1317    NaN    NaN    NaN    NaN  \n",
       "1998    NaN    NaN    NaN    NaN  \n",
       "2511    NaN    NaN    NaN    NaN  \n",
       "750     NaN    NaN    NaN    NaN  "
      ]
     },
     "metadata": {},
     "output_type": "display_data"
    },
    {
     "data": {
      "text/plain": [
       "key       3081\n",
       "Wire 1    3055\n",
       "Wire 2    1079\n",
       "Wire 3      63\n",
       "Wire 4      14\n",
       "Wire 5       1\n",
       "Wire 6      73\n",
       "Wire 7      11\n",
       "Wire 8      19\n",
       "Wire 9      29\n",
       "dtype: int64"
      ]
     },
     "execution_count": 21,
     "metadata": {},
     "output_type": "execute_result"
    }
   ],
   "source": [
    "wire_time_new.info()\n",
    "display(wire_time_new.sample(5))\n",
    "wire_time_new.nunique()"
   ]
  },
  {
   "cell_type": "markdown",
   "id": "a60b7b27",
   "metadata": {},
   "source": [
    "Были проанализированны данные, коллинеарны не многие признаки и данные не выглядят синтетическими. Нужно некоторые таблицы объеденить по key и отобрать нужные признаки.\n"
   ]
  },
  {
   "cell_type": "markdown",
   "id": "c2343e82",
   "metadata": {},
   "source": [
    "## Создание признаков"
   ]
  },
  {
   "cell_type": "markdown",
   "id": "f5f41242-792d-4cfa-8c27-26d400bbcb76",
   "metadata": {},
   "source": [
    "Добавим признак полной мощности"
   ]
  },
  {
   "cell_type": "code",
   "execution_count": 22,
   "id": "2480c030-7724-4c35-9f3e-7491583535bf",
   "metadata": {
    "tags": []
   },
   "outputs": [],
   "source": [
    "arc_new['full_power'] = (arc_new['Реактивная мощность']**2+arc_new['Активная мощность']**2)**0.5"
   ]
  },
  {
   "cell_type": "code",
   "execution_count": 23,
   "id": "26862e00-d53c-47b1-b2fa-6ab792c6273e",
   "metadata": {
    "tags": []
   },
   "outputs": [],
   "source": [
    "sum_arc = arc_new.groupby('key').sum()"
   ]
  },
  {
   "cell_type": "code",
   "execution_count": 24,
   "id": "8e639ee9-21c3-41e1-88ae-ef70b6054f3c",
   "metadata": {},
   "outputs": [],
   "source": [
    "#sum_arc = sum_arc.drop(['Начало нагрева дугой',\t'Конец нагрева дугой'],axis =1)"
   ]
  },
  {
   "cell_type": "code",
   "execution_count": 25,
   "id": "b28d4fe6-a7a7-4e21-b01a-a95062aead7a",
   "metadata": {},
   "outputs": [
    {
     "data": {
      "image/png": "[encoded data removed]",
      "text/plain": [
       "<Figure size 1440x864 with 2 Axes>"
      ]
     },
     "metadata": {
      "needs_background": "light"
     },
     "output_type": "display_data"
    }
   ],
   "source": [
    "plt.figure(figsize=(20, 12))\n",
    "plt.title('Корреляция признаков')\n",
    "sns.heatmap(sum_arc.corr(method='spearman'), annot = True, cmap=\"coolwarm\")\n",
    "plt.show()"
   ]
  },
  {
   "cell_type": "markdown",
   "id": "d7efd529-a997-423d-a9c5-e9ca2b82abab",
   "metadata": {},
   "source": [
    "все признаки коррелируют поэтому оставим только полную мощность"
   ]
  },
  {
   "cell_type": "markdown",
   "id": "9162b55c-135d-4664-8578-a36398327efa",
   "metadata": {},
   "source": [
    "Добавим конечную и начальную температуру"
   ]
  },
  {
   "cell_type": "code",
   "execution_count": 26,
   "id": "952b6e4c-0f70-4d03-b3c8-a8ea0e0b0b90",
   "metadata": {
    "tags": []
   },
   "outputs": [],
   "source": [
    "temp_agr = temp_new.groupby(['key']).first().merge(temp_new.groupby(['key']).last(), how = 'left', on = 'key')"
   ]
  },
  {
   "cell_type": "code",
   "execution_count": 27,
   "id": "5f01daf6-a9d6-4543-826b-bb9c0765b423",
   "metadata": {
    "scrolled": true,
    "tags": []
   },
   "outputs": [
    {
     "data": {
      "text/html": [
       "<div>\n",
       "<style scoped>\n",
       "    .dataframe tbody tr th:only-of-type {\n",
       "        vertical-align: middle;\n",
       "    }\n",
       "\n",
       "    .dataframe tbody tr th {\n",
       "        vertical-align: top;\n",
       "    }\n",
       "\n",
       "    .dataframe thead th {\n",
       "        text-align: right;\n",
       "    }\n",
       "</style>\n",
       "<table border=\"1\" class=\"dataframe\">\n",
       "  <thead>\n",
       "    <tr style=\"text-align: right;\">\n",
       "      <th></th>\n",
       "      <th>Время замера_x</th>\n",
       "      <th>Температура_x</th>\n",
       "      <th>Время замера_y</th>\n",
       "      <th>Температура_y</th>\n",
       "    </tr>\n",
       "    <tr>\n",
       "      <th>key</th>\n",
       "      <th></th>\n",
       "      <th></th>\n",
       "      <th></th>\n",
       "      <th></th>\n",
       "    </tr>\n",
       "  </thead>\n",
       "  <tbody>\n",
       "    <tr>\n",
       "      <th>1</th>\n",
       "      <td>2019-05-03 11:02:04</td>\n",
       "      <td>1571.0</td>\n",
       "      <td>2019-05-03 11:30:38</td>\n",
       "      <td>1613.0</td>\n",
       "    </tr>\n",
       "    <tr>\n",
       "      <th>2</th>\n",
       "      <td>2019-05-03 11:34:04</td>\n",
       "      <td>1581.0</td>\n",
       "      <td>2019-05-03 11:55:09</td>\n",
       "      <td>1602.0</td>\n",
       "    </tr>\n",
       "    <tr>\n",
       "      <th>3</th>\n",
       "      <td>2019-05-03 12:06:44</td>\n",
       "      <td>1596.0</td>\n",
       "      <td>2019-05-03 12:35:57</td>\n",
       "      <td>1599.0</td>\n",
       "    </tr>\n",
       "    <tr>\n",
       "      <th>4</th>\n",
       "      <td>2019-05-03 12:39:27</td>\n",
       "      <td>1601.0</td>\n",
       "      <td>2019-05-03 12:59:47</td>\n",
       "      <td>1625.0</td>\n",
       "    </tr>\n",
       "    <tr>\n",
       "      <th>5</th>\n",
       "      <td>2019-05-03 13:11:03</td>\n",
       "      <td>1576.0</td>\n",
       "      <td>2019-05-03 13:36:39</td>\n",
       "      <td>1602.0</td>\n",
       "    </tr>\n",
       "    <tr>\n",
       "      <th>...</th>\n",
       "      <td>...</td>\n",
       "      <td>...</td>\n",
       "      <td>...</td>\n",
       "      <td>...</td>\n",
       "    </tr>\n",
       "    <tr>\n",
       "      <th>3237</th>\n",
       "      <td>2019-09-06 11:31:15</td>\n",
       "      <td>1569.0</td>\n",
       "      <td>2019-09-06 11:55:45</td>\n",
       "      <td>1569.0</td>\n",
       "    </tr>\n",
       "    <tr>\n",
       "      <th>3238</th>\n",
       "      <td>2019-09-06 12:16:15</td>\n",
       "      <td>1584.0</td>\n",
       "      <td>2019-09-06 12:34:37</td>\n",
       "      <td>1584.0</td>\n",
       "    </tr>\n",
       "    <tr>\n",
       "      <th>3239</th>\n",
       "      <td>2019-09-06 14:16:50</td>\n",
       "      <td>1598.0</td>\n",
       "      <td>2019-09-06 15:09:55</td>\n",
       "      <td>1598.0</td>\n",
       "    </tr>\n",
       "    <tr>\n",
       "      <th>3240</th>\n",
       "      <td>2019-09-06 15:25:21</td>\n",
       "      <td>1617.0</td>\n",
       "      <td>2019-09-06 16:35:26</td>\n",
       "      <td>1617.0</td>\n",
       "    </tr>\n",
       "    <tr>\n",
       "      <th>3241</th>\n",
       "      <td>2019-09-06 16:48:55</td>\n",
       "      <td>1586.0</td>\n",
       "      <td>2019-09-06 17:30:05</td>\n",
       "      <td>1586.0</td>\n",
       "    </tr>\n",
       "  </tbody>\n",
       "</table>\n",
       "<p>3216 rows × 4 columns</p>\n",
       "</div>"
      ],
      "text/plain": [
       "           Время замера_x  Температура_x       Время замера_y  Температура_y\n",
       "key                                                                         \n",
       "1     2019-05-03 11:02:04         1571.0  2019-05-03 11:30:38         1613.0\n",
       "2     2019-05-03 11:34:04         1581.0  2019-05-03 11:55:09         1602.0\n",
       "3     2019-05-03 12:06:44         1596.0  2019-05-03 12:35:57         1599.0\n",
       "4     2019-05-03 12:39:27         1601.0  2019-05-03 12:59:47         1625.0\n",
       "5     2019-05-03 13:11:03         1576.0  2019-05-03 13:36:39         1602.0\n",
       "...                   ...            ...                  ...            ...\n",
       "3237  2019-09-06 11:31:15         1569.0  2019-09-06 11:55:45         1569.0\n",
       "3238  2019-09-06 12:16:15         1584.0  2019-09-06 12:34:37         1584.0\n",
       "3239  2019-09-06 14:16:50         1598.0  2019-09-06 15:09:55         1598.0\n",
       "3240  2019-09-06 15:25:21         1617.0  2019-09-06 16:35:26         1617.0\n",
       "3241  2019-09-06 16:48:55         1586.0  2019-09-06 17:30:05         1586.0\n",
       "\n",
       "[3216 rows x 4 columns]"
      ]
     },
     "execution_count": 27,
     "metadata": {},
     "output_type": "execute_result"
    }
   ],
   "source": [
    "temp_agr"
   ]
  },
  {
   "cell_type": "code",
   "execution_count": 28,
   "id": "35678670",
   "metadata": {
    "scrolled": true
   },
   "outputs": [],
   "source": [
    "temp_agr = temp_agr.drop(temp_agr[temp_agr['Температура_x'] == temp_agr['Температура_y']].index)"
   ]
  },
  {
   "cell_type": "code",
   "execution_count": 29,
   "id": "a6af7669",
   "metadata": {},
   "outputs": [
    {
     "data": {
      "text/html": [
       "<div>\n",
       "<style scoped>\n",
       "    .dataframe tbody tr th:only-of-type {\n",
       "        vertical-align: middle;\n",
       "    }\n",
       "\n",
       "    .dataframe tbody tr th {\n",
       "        vertical-align: top;\n",
       "    }\n",
       "\n",
       "    .dataframe thead th {\n",
       "        text-align: right;\n",
       "    }\n",
       "</style>\n",
       "<table border=\"1\" class=\"dataframe\">\n",
       "  <thead>\n",
       "    <tr style=\"text-align: right;\">\n",
       "      <th></th>\n",
       "      <th>Время замера_x</th>\n",
       "      <th>Температура_x</th>\n",
       "      <th>Время замера_y</th>\n",
       "      <th>Температура_y</th>\n",
       "    </tr>\n",
       "    <tr>\n",
       "      <th>key</th>\n",
       "      <th></th>\n",
       "      <th></th>\n",
       "      <th></th>\n",
       "      <th></th>\n",
       "    </tr>\n",
       "  </thead>\n",
       "  <tbody>\n",
       "    <tr>\n",
       "      <th>1</th>\n",
       "      <td>2019-05-03 11:02:04</td>\n",
       "      <td>1571.0</td>\n",
       "      <td>2019-05-03 11:30:38</td>\n",
       "      <td>1613.0</td>\n",
       "    </tr>\n",
       "    <tr>\n",
       "      <th>2</th>\n",
       "      <td>2019-05-03 11:34:04</td>\n",
       "      <td>1581.0</td>\n",
       "      <td>2019-05-03 11:55:09</td>\n",
       "      <td>1602.0</td>\n",
       "    </tr>\n",
       "    <tr>\n",
       "      <th>3</th>\n",
       "      <td>2019-05-03 12:06:44</td>\n",
       "      <td>1596.0</td>\n",
       "      <td>2019-05-03 12:35:57</td>\n",
       "      <td>1599.0</td>\n",
       "    </tr>\n",
       "    <tr>\n",
       "      <th>4</th>\n",
       "      <td>2019-05-03 12:39:27</td>\n",
       "      <td>1601.0</td>\n",
       "      <td>2019-05-03 12:59:47</td>\n",
       "      <td>1625.0</td>\n",
       "    </tr>\n",
       "    <tr>\n",
       "      <th>5</th>\n",
       "      <td>2019-05-03 13:11:03</td>\n",
       "      <td>1576.0</td>\n",
       "      <td>2019-05-03 13:36:39</td>\n",
       "      <td>1602.0</td>\n",
       "    </tr>\n",
       "    <tr>\n",
       "      <th>...</th>\n",
       "      <td>...</td>\n",
       "      <td>...</td>\n",
       "      <td>...</td>\n",
       "      <td>...</td>\n",
       "    </tr>\n",
       "    <tr>\n",
       "      <th>2496</th>\n",
       "      <td>2019-08-10 11:56:48</td>\n",
       "      <td>1554.0</td>\n",
       "      <td>2019-08-10 12:25:13</td>\n",
       "      <td>1591.0</td>\n",
       "    </tr>\n",
       "    <tr>\n",
       "      <th>2497</th>\n",
       "      <td>2019-08-10 12:37:26</td>\n",
       "      <td>1571.0</td>\n",
       "      <td>2019-08-10 12:53:28</td>\n",
       "      <td>1589.0</td>\n",
       "    </tr>\n",
       "    <tr>\n",
       "      <th>2498</th>\n",
       "      <td>2019-08-10 12:58:11</td>\n",
       "      <td>1591.0</td>\n",
       "      <td>2019-08-10 13:23:31</td>\n",
       "      <td>1594.0</td>\n",
       "    </tr>\n",
       "    <tr>\n",
       "      <th>2499</th>\n",
       "      <td>2019-08-10 13:33:21</td>\n",
       "      <td>1569.0</td>\n",
       "      <td>2019-08-10 13:58:58</td>\n",
       "      <td>1603.0</td>\n",
       "    </tr>\n",
       "    <tr>\n",
       "      <th>2561</th>\n",
       "      <td>2019-08-12 18:59:23</td>\n",
       "      <td>NaN</td>\n",
       "      <td>2019-08-12 19:21:45</td>\n",
       "      <td>NaN</td>\n",
       "    </tr>\n",
       "  </tbody>\n",
       "</table>\n",
       "<p>2433 rows × 4 columns</p>\n",
       "</div>"
      ],
      "text/plain": [
       "           Время замера_x  Температура_x       Время замера_y  Температура_y\n",
       "key                                                                         \n",
       "1     2019-05-03 11:02:04         1571.0  2019-05-03 11:30:38         1613.0\n",
       "2     2019-05-03 11:34:04         1581.0  2019-05-03 11:55:09         1602.0\n",
       "3     2019-05-03 12:06:44         1596.0  2019-05-03 12:35:57         1599.0\n",
       "4     2019-05-03 12:39:27         1601.0  2019-05-03 12:59:47         1625.0\n",
       "5     2019-05-03 13:11:03         1576.0  2019-05-03 13:36:39         1602.0\n",
       "...                   ...            ...                  ...            ...\n",
       "2496  2019-08-10 11:56:48         1554.0  2019-08-10 12:25:13         1591.0\n",
       "2497  2019-08-10 12:37:26         1571.0  2019-08-10 12:53:28         1589.0\n",
       "2498  2019-08-10 12:58:11         1591.0  2019-08-10 13:23:31         1594.0\n",
       "2499  2019-08-10 13:33:21         1569.0  2019-08-10 13:58:58         1603.0\n",
       "2561  2019-08-12 18:59:23            NaN  2019-08-12 19:21:45            NaN\n",
       "\n",
       "[2433 rows x 4 columns]"
      ]
     },
     "execution_count": 29,
     "metadata": {},
     "output_type": "execute_result"
    }
   ],
   "source": [
    "# проверка удаления\n",
    "temp_agr"
   ]
  },
  {
   "cell_type": "code",
   "execution_count": null,
   "id": "6ee285bf",
   "metadata": {},
   "outputs": [],
   "source": []
  },
  {
   "cell_type": "code",
   "execution_count": 30,
   "id": "f494574a",
   "metadata": {},
   "outputs": [
    {
     "data": {
      "text/plain": [
       "key                             534\n",
       "Время замера    2019-05-23 19:02:00\n",
       "Температура                  1601.0\n",
       "Name: 3000, dtype: object"
      ]
     },
     "execution_count": 30,
     "metadata": {},
     "output_type": "execute_result"
    }
   ],
   "source": [
    "temp_new.loc[3000]"
   ]
  },
  {
   "cell_type": "markdown",
   "id": "a94e641e-73c8-458e-9e25-7fc89615af23",
   "metadata": {},
   "source": [
    "Добавим полное время работы с ковшом"
   ]
  },
  {
   "cell_type": "code",
   "execution_count": 31,
   "id": "55746ab1-4033-43fd-8165-bef9efc326c9",
   "metadata": {
    "tags": []
   },
   "outputs": [],
   "source": [
    "time_dif = pd.to_datetime(temp_agr['Время замера_y']).dt.second  -  pd.to_datetime(temp_agr['Время замера_x']).dt.second\n",
    "time_dif += pd.to_datetime(temp_agr['Время замера_y']).dt.minute*60  -  pd.to_datetime(temp_agr['Время замера_x']).dt.minute*60\n",
    "time_dif += pd.to_datetime(temp_agr['Время замера_y']).dt.hour*3600  -  pd.to_datetime(temp_agr['Время замера_x']).dt.hour*3600\n",
    "time_dif.name = 'time_spent'"
   ]
  },
  {
   "cell_type": "code",
   "execution_count": 32,
   "id": "e8bccf9b-6107-4bcb-988b-d002a2561ae7",
   "metadata": {},
   "outputs": [],
   "source": [
    "temp_agr = temp_agr.merge(time_dif, left_on='key',right_index=True)"
   ]
  },
  {
   "cell_type": "code",
   "execution_count": 33,
   "id": "7b45cfcf-23ec-4420-9e97-3e819a950db1",
   "metadata": {
    "tags": []
   },
   "outputs": [],
   "source": [
    "temp_agr = temp_agr.dropna()\n",
    "temp_agr = temp_agr.drop(['Время замера_x','Время замера_y'],axis= 1)"
   ]
  },
  {
   "cell_type": "markdown",
   "id": "b147080a-073d-4d81-8808-5751926f71a7",
   "metadata": {},
   "source": [
    "добавим суммарные данные о проволочных материалах, общий добавленный объем и количество добавок"
   ]
  },
  {
   "cell_type": "code",
   "execution_count": 34,
   "id": "9c4b71a2-19fc-4363-946c-12d6e29eea4a",
   "metadata": {
    "tags": []
   },
   "outputs": [],
   "source": [
    "sum_w = pd.Series\n",
    "for i in range(1,10):\n",
    "    name = 'Wire ' + str(i) \n",
    "    j= wire_new.groupby('key').sum()[name]\n",
    "    if i == 1:\n",
    "        sum_w = j\n",
    "    else:\n",
    "        sum_w+=j\n",
    "sum_w.name = 'sum_wire'\n",
    "wire_new = wire_new.merge(sum_w,left_on = 'key',right_index=True)\n",
    "\n",
    "count_w = pd.Series\n",
    "for i in range(1,10):\n",
    "    name = 'Wire ' + str(i) \n",
    "    j = wire_new.groupby('key').count()[name]\n",
    "    if i == 1:\n",
    "        count_w = j\n",
    "    else:\n",
    "        count_w+=j\n",
    "count_w.name = 'count_wire'\n",
    "wire_new = wire_new.merge(count_w,left_on = 'key',right_index=True)"
   ]
  },
  {
   "cell_type": "code",
   "execution_count": 35,
   "id": "810ccff0-1440-47c6-a9c8-9c4f0146a703",
   "metadata": {},
   "outputs": [],
   "source": [
    "wire_agr = wire_new[['key','sum_wire', 'count_wire']]"
   ]
  },
  {
   "cell_type": "markdown",
   "id": "8d9ef3f6-ce0b-4c14-a042-1705d80b5541",
   "metadata": {},
   "source": [
    "добавим суммарные данные о подаче сыпучих материалов, общий добавленный объем и количество добавок"
   ]
  },
  {
   "cell_type": "code",
   "execution_count": 36,
   "id": "4a6936f4-50f0-41eb-8790-2b1db4bf2a21",
   "metadata": {
    "tags": []
   },
   "outputs": [],
   "source": [
    "sum_b = pd.Series\n",
    "for i in range(1,16):\n",
    "    name = 'Bulk ' + str(i) \n",
    "    j= bulk_new.groupby('key').sum()[name]\n",
    "    if i == 1:\n",
    "        sum_b = j\n",
    "    else:\n",
    "        sum_b+=j\n",
    "sum_b.name = 'sum_bulk'\n",
    "bulk_new = bulk_new.merge(sum_b,left_on = 'key',right_index=True)\n",
    "\n",
    "count_b = pd.Series\n",
    "for i in range(1,16):\n",
    "    name = 'Bulk ' + str(i) \n",
    "    j = bulk_new.groupby('key').count()[name]\n",
    "    if i == 1:\n",
    "        count_b = j\n",
    "    else:\n",
    "        count_b+=j\n",
    "count_b.name = 'count_bulk'\n",
    "bulk_new = bulk_new.merge(count_b,left_on = 'key',right_index=True)"
   ]
  },
  {
   "cell_type": "code",
   "execution_count": 37,
   "id": "0aa0dba5-5c6b-48bf-bcc4-656930986f2b",
   "metadata": {
    "tags": []
   },
   "outputs": [],
   "source": [
    "bulk_agr = bulk_new[['key','count_bulk','sum_bulk']]"
   ]
  },
  {
   "cell_type": "markdown",
   "id": "1fa83c60-afc4-4dd4-a075-d58cf5a0fd3a",
   "metadata": {},
   "source": [
    "объеденим данные в одну таблицу"
   ]
  },
  {
   "cell_type": "code",
   "execution_count": 38,
   "id": "4befbc76-66ff-4501-9616-748ba7c65525",
   "metadata": {
    "tags": []
   },
   "outputs": [],
   "source": [
    "all_use = temp_agr.merge(sum_arc['full_power'], how ='inner', on = 'key')\n",
    "all_use = all_use.merge(bulk_agr,how = 'inner', on = 'key')\n",
    "all_use = all_use.merge(wire_agr,how='inner',on= 'key')\n",
    "all_use = all_use.merge(gas_new,how='inner',on= 'key')\n",
    "all_use = all_use.merge(wire_new[['Wire 1','key']],how='inner',on= 'key') \n",
    "all_use = all_use.merge(bulk_new[['Bulk 14','Bulk 12','Bulk 15','key']],how='inner',on= 'key') "
   ]
  },
  {
   "cell_type": "code",
   "execution_count": 39,
   "id": "ac0a17ce",
   "metadata": {},
   "outputs": [],
   "source": [
    "all_use = all_use.fillna(0)"
   ]
  },
  {
   "cell_type": "code",
   "execution_count": 40,
   "id": "818f100b-8b67-4abf-a429-2a0b8d74ecdc",
   "metadata": {
    "scrolled": true,
    "tags": []
   },
   "outputs": [
    {
     "name": "stdout",
     "output_type": "stream",
     "text": [
      "<class 'pandas.core.frame.DataFrame'>\n",
      "Int64Index: 2292 entries, 0 to 2291\n",
      "Data columns (total 14 columns):\n",
      " #   Column         Non-Null Count  Dtype  \n",
      "---  ------         --------------  -----  \n",
      " 0   key            2292 non-null   int64  \n",
      " 1   Температура_x  2292 non-null   float64\n",
      " 2   Температура_y  2292 non-null   float64\n",
      " 3   time_spent     2292 non-null   int64  \n",
      " 4   full_power     2292 non-null   float64\n",
      " 5   count_bulk     2292 non-null   int64  \n",
      " 6   sum_bulk       2292 non-null   float64\n",
      " 7   sum_wire       2292 non-null   float64\n",
      " 8   count_wire     2292 non-null   int64  \n",
      " 9   Газ 1          2292 non-null   float64\n",
      " 10  Wire 1         2292 non-null   float64\n",
      " 11  Bulk 14        2292 non-null   float64\n",
      " 12  Bulk 12        2292 non-null   float64\n",
      " 13  Bulk 15        2292 non-null   float64\n",
      "dtypes: float64(10), int64(4)\n",
      "memory usage: 268.6 KB\n"
     ]
    }
   ],
   "source": [
    "all_use.info()"
   ]
  },
  {
   "cell_type": "code",
   "execution_count": 41,
   "id": "6c611a51-1a1c-44d4-9235-f41f9f4badc2",
   "metadata": {},
   "outputs": [
    {
     "data": {
      "image/png": "[encoded data removed]",
      "text/plain": [
       "<Figure size 1440x864 with 2 Axes>"
      ]
     },
     "metadata": {
      "needs_background": "light"
     },
     "output_type": "display_data"
    }
   ],
   "source": [
    "plt.figure(figsize=(20, 12))\n",
    "plt.title('Корреляция признаков')\n",
    "sns.heatmap(all_use.corr(method='spearman'), annot = True, cmap=\"coolwarm\")\n",
    "plt.show()"
   ]
  },
  {
   "cell_type": "markdown",
   "id": "38bc9d21-6d6b-4284-8d50-da16a792d89e",
   "metadata": {},
   "source": [
    "Полной корреляции между признаками не наблюдается, можно заметить корреляцию bulk 12 и полного Bulk, как и полной Wire и wire 1"
   ]
  },
  {
   "cell_type": "markdown",
   "id": "85ff4e57-dd35-4d3b-adfd-7a72bbbdef81",
   "metadata": {},
   "source": [
    "## Обучение моделей"
   ]
  },
  {
   "cell_type": "code",
   "execution_count": 42,
   "id": "bf35ccaf-aadc-47a1-bb70-e39eb613d021",
   "metadata": {
    "tags": []
   },
   "outputs": [],
   "source": [
    "#all_use = all_use.drop(['Начало нагрева дугой','Конец нагрева дугой', 'Реактивная мощность','Время замера','Bulk 1', 'Bulk 4', 'Bulk 7'], axis = 1) #12, 9, 14"
   ]
  },
  {
   "cell_type": "code",
   "execution_count": 43,
   "id": "06922af5-1129-4f30-9e00-14b23fad1bcf",
   "metadata": {},
   "outputs": [],
   "source": [
    "#all_use = all_use[['Газ 1','Wire 1','Wire 2','Bulk 15','Bulk 14','Bulk 12','Bulk 3','Активная мощность','Температура']]"
   ]
  },
  {
   "cell_type": "code",
   "execution_count": 44,
   "id": "2e9ac442",
   "metadata": {},
   "outputs": [
    {
     "data": {
      "text/html": [
       "<div>\n",
       "<style scoped>\n",
       "    .dataframe tbody tr th:only-of-type {\n",
       "        vertical-align: middle;\n",
       "    }\n",
       "\n",
       "    .dataframe tbody tr th {\n",
       "        vertical-align: top;\n",
       "    }\n",
       "\n",
       "    .dataframe thead th {\n",
       "        text-align: right;\n",
       "    }\n",
       "</style>\n",
       "<table border=\"1\" class=\"dataframe\">\n",
       "  <thead>\n",
       "    <tr style=\"text-align: right;\">\n",
       "      <th></th>\n",
       "      <th>key</th>\n",
       "      <th>Температура_x</th>\n",
       "      <th>Температура_y</th>\n",
       "      <th>time_spent</th>\n",
       "      <th>full_power</th>\n",
       "      <th>count_bulk</th>\n",
       "      <th>sum_bulk</th>\n",
       "      <th>sum_wire</th>\n",
       "      <th>count_wire</th>\n",
       "      <th>Газ 1</th>\n",
       "      <th>Wire 1</th>\n",
       "      <th>Bulk 14</th>\n",
       "      <th>Bulk 12</th>\n",
       "      <th>Bulk 15</th>\n",
       "    </tr>\n",
       "  </thead>\n",
       "  <tbody>\n",
       "    <tr>\n",
       "      <th>0</th>\n",
       "      <td>1</td>\n",
       "      <td>1571.0</td>\n",
       "      <td>1613.0</td>\n",
       "      <td>1714</td>\n",
       "      <td>3.718736</td>\n",
       "      <td>4</td>\n",
       "      <td>553.0</td>\n",
       "      <td>60.059998</td>\n",
       "      <td>1</td>\n",
       "      <td>29.749986</td>\n",
       "      <td>60.059998</td>\n",
       "      <td>150.0</td>\n",
       "      <td>206.0</td>\n",
       "      <td>154.0</td>\n",
       "    </tr>\n",
       "    <tr>\n",
       "      <th>1</th>\n",
       "      <td>2</td>\n",
       "      <td>1581.0</td>\n",
       "      <td>1602.0</td>\n",
       "      <td>1265</td>\n",
       "      <td>2.588349</td>\n",
       "      <td>4</td>\n",
       "      <td>582.0</td>\n",
       "      <td>96.052315</td>\n",
       "      <td>1</td>\n",
       "      <td>12.555561</td>\n",
       "      <td>96.052315</td>\n",
       "      <td>149.0</td>\n",
       "      <td>206.0</td>\n",
       "      <td>154.0</td>\n",
       "    </tr>\n",
       "    <tr>\n",
       "      <th>2</th>\n",
       "      <td>3</td>\n",
       "      <td>1596.0</td>\n",
       "      <td>1599.0</td>\n",
       "      <td>1753</td>\n",
       "      <td>5.019223</td>\n",
       "      <td>4</td>\n",
       "      <td>544.0</td>\n",
       "      <td>91.160157</td>\n",
       "      <td>1</td>\n",
       "      <td>28.554793</td>\n",
       "      <td>91.160157</td>\n",
       "      <td>152.0</td>\n",
       "      <td>205.0</td>\n",
       "      <td>153.0</td>\n",
       "    </tr>\n",
       "    <tr>\n",
       "      <th>3</th>\n",
       "      <td>4</td>\n",
       "      <td>1601.0</td>\n",
       "      <td>1625.0</td>\n",
       "      <td>1220</td>\n",
       "      <td>3.400038</td>\n",
       "      <td>4</td>\n",
       "      <td>595.0</td>\n",
       "      <td>89.063515</td>\n",
       "      <td>1</td>\n",
       "      <td>18.841219</td>\n",
       "      <td>89.063515</td>\n",
       "      <td>153.0</td>\n",
       "      <td>207.0</td>\n",
       "      <td>154.0</td>\n",
       "    </tr>\n",
       "    <tr>\n",
       "      <th>4</th>\n",
       "      <td>5</td>\n",
       "      <td>1576.0</td>\n",
       "      <td>1602.0</td>\n",
       "      <td>1536</td>\n",
       "      <td>2.816980</td>\n",
       "      <td>4</td>\n",
       "      <td>584.0</td>\n",
       "      <td>98.352796</td>\n",
       "      <td>2</td>\n",
       "      <td>5.413692</td>\n",
       "      <td>89.238236</td>\n",
       "      <td>151.0</td>\n",
       "      <td>203.0</td>\n",
       "      <td>152.0</td>\n",
       "    </tr>\n",
       "    <tr>\n",
       "      <th>...</th>\n",
       "      <td>...</td>\n",
       "      <td>...</td>\n",
       "      <td>...</td>\n",
       "      <td>...</td>\n",
       "      <td>...</td>\n",
       "      <td>...</td>\n",
       "      <td>...</td>\n",
       "      <td>...</td>\n",
       "      <td>...</td>\n",
       "      <td>...</td>\n",
       "      <td>...</td>\n",
       "      <td>...</td>\n",
       "      <td>...</td>\n",
       "      <td>...</td>\n",
       "    </tr>\n",
       "    <tr>\n",
       "      <th>2287</th>\n",
       "      <td>2495</td>\n",
       "      <td>1570.0</td>\n",
       "      <td>1591.0</td>\n",
       "      <td>1380</td>\n",
       "      <td>3.868721</td>\n",
       "      <td>5</td>\n",
       "      <td>719.0</td>\n",
       "      <td>89.150879</td>\n",
       "      <td>1</td>\n",
       "      <td>7.125735</td>\n",
       "      <td>89.150879</td>\n",
       "      <td>129.0</td>\n",
       "      <td>256.0</td>\n",
       "      <td>223.0</td>\n",
       "    </tr>\n",
       "    <tr>\n",
       "      <th>2288</th>\n",
       "      <td>2496</td>\n",
       "      <td>1554.0</td>\n",
       "      <td>1591.0</td>\n",
       "      <td>1705</td>\n",
       "      <td>5.070316</td>\n",
       "      <td>5</td>\n",
       "      <td>796.0</td>\n",
       "      <td>114.179527</td>\n",
       "      <td>1</td>\n",
       "      <td>9.412616</td>\n",
       "      <td>114.179527</td>\n",
       "      <td>129.0</td>\n",
       "      <td>256.0</td>\n",
       "      <td>226.0</td>\n",
       "    </tr>\n",
       "    <tr>\n",
       "      <th>2289</th>\n",
       "      <td>2497</td>\n",
       "      <td>1571.0</td>\n",
       "      <td>1589.0</td>\n",
       "      <td>962</td>\n",
       "      <td>4.360918</td>\n",
       "      <td>4</td>\n",
       "      <td>665.0</td>\n",
       "      <td>103.134723</td>\n",
       "      <td>2</td>\n",
       "      <td>6.271699</td>\n",
       "      <td>94.086723</td>\n",
       "      <td>124.0</td>\n",
       "      <td>230.0</td>\n",
       "      <td>226.0</td>\n",
       "    </tr>\n",
       "    <tr>\n",
       "      <th>2290</th>\n",
       "      <td>2498</td>\n",
       "      <td>1591.0</td>\n",
       "      <td>1594.0</td>\n",
       "      <td>1520</td>\n",
       "      <td>3.909917</td>\n",
       "      <td>5</td>\n",
       "      <td>733.0</td>\n",
       "      <td>118.110717</td>\n",
       "      <td>1</td>\n",
       "      <td>14.953657</td>\n",
       "      <td>118.110717</td>\n",
       "      <td>129.0</td>\n",
       "      <td>206.0</td>\n",
       "      <td>207.0</td>\n",
       "    </tr>\n",
       "    <tr>\n",
       "      <th>2291</th>\n",
       "      <td>2499</td>\n",
       "      <td>1569.0</td>\n",
       "      <td>1603.0</td>\n",
       "      <td>1537</td>\n",
       "      <td>2.169252</td>\n",
       "      <td>4</td>\n",
       "      <td>633.0</td>\n",
       "      <td>160.166238</td>\n",
       "      <td>2</td>\n",
       "      <td>11.336151</td>\n",
       "      <td>110.160958</td>\n",
       "      <td>126.0</td>\n",
       "      <td>233.0</td>\n",
       "      <td>227.0</td>\n",
       "    </tr>\n",
       "  </tbody>\n",
       "</table>\n",
       "<p>2292 rows × 14 columns</p>\n",
       "</div>"
      ],
      "text/plain": [
       "       key  Температура_x  Температура_y  time_spent  full_power  count_bulk  \\\n",
       "0        1         1571.0         1613.0        1714    3.718736           4   \n",
       "1        2         1581.0         1602.0        1265    2.588349           4   \n",
       "2        3         1596.0         1599.0        1753    5.019223           4   \n",
       "3        4         1601.0         1625.0        1220    3.400038           4   \n",
       "4        5         1576.0         1602.0        1536    2.816980           4   \n",
       "...    ...            ...            ...         ...         ...         ...   \n",
       "2287  2495         1570.0         1591.0        1380    3.868721           5   \n",
       "2288  2496         1554.0         1591.0        1705    5.070316           5   \n",
       "2289  2497         1571.0         1589.0         962    4.360918           4   \n",
       "2290  2498         1591.0         1594.0        1520    3.909917           5   \n",
       "2291  2499         1569.0         1603.0        1537    2.169252           4   \n",
       "\n",
       "      sum_bulk    sum_wire  count_wire      Газ 1      Wire 1  Bulk 14  \\\n",
       "0        553.0   60.059998           1  29.749986   60.059998    150.0   \n",
       "1        582.0   96.052315           1  12.555561   96.052315    149.0   \n",
       "2        544.0   91.160157           1  28.554793   91.160157    152.0   \n",
       "3        595.0   89.063515           1  18.841219   89.063515    153.0   \n",
       "4        584.0   98.352796           2   5.413692   89.238236    151.0   \n",
       "...        ...         ...         ...        ...         ...      ...   \n",
       "2287     719.0   89.150879           1   7.125735   89.150879    129.0   \n",
       "2288     796.0  114.179527           1   9.412616  114.179527    129.0   \n",
       "2289     665.0  103.134723           2   6.271699   94.086723    124.0   \n",
       "2290     733.0  118.110717           1  14.953657  118.110717    129.0   \n",
       "2291     633.0  160.166238           2  11.336151  110.160958    126.0   \n",
       "\n",
       "      Bulk 12  Bulk 15  \n",
       "0       206.0    154.0  \n",
       "1       206.0    154.0  \n",
       "2       205.0    153.0  \n",
       "3       207.0    154.0  \n",
       "4       203.0    152.0  \n",
       "...       ...      ...  \n",
       "2287    256.0    223.0  \n",
       "2288    256.0    226.0  \n",
       "2289    230.0    226.0  \n",
       "2290    206.0    207.0  \n",
       "2291    233.0    227.0  \n",
       "\n",
       "[2292 rows x 14 columns]"
      ]
     },
     "execution_count": 44,
     "metadata": {},
     "output_type": "execute_result"
    }
   ],
   "source": [
    "all_use"
   ]
  },
  {
   "cell_type": "code",
   "execution_count": null,
   "id": "8db7d4f2",
   "metadata": {},
   "outputs": [],
   "source": []
  },
  {
   "cell_type": "code",
   "execution_count": 45,
   "id": "cf8f99fd-3916-482f-a866-d66d3203b987",
   "metadata": {
    "tags": []
   },
   "outputs": [],
   "source": [
    "target = all_use['Температура_y']\n",
    "features = all_use.drop(['Температура_y','key'],axis = 1) "
   ]
  },
  {
   "cell_type": "code",
   "execution_count": 46,
   "id": "a8a0e738-5fa4-44d5-8d4f-435b8a99efb3",
   "metadata": {
    "tags": []
   },
   "outputs": [],
   "source": [
    "target_train, target_test, features_train, features_test = train_test_split(target,features, test_size = 0.1)"
   ]
  },
  {
   "cell_type": "code",
   "execution_count": 47,
   "id": "16a5d560-b02c-4935-af3a-c75c9acf8dae",
   "metadata": {
    "tags": []
   },
   "outputs": [],
   "source": [
    "model = CatBoostRegressor(verbose = 0)"
   ]
  },
  {
   "cell_type": "code",
   "execution_count": 48,
   "id": "cc14042d-4203-4c20-9daa-8eaf21514b36",
   "metadata": {
    "tags": []
   },
   "outputs": [
    {
     "name": "stdout",
     "output_type": "stream",
     "text": [
      "[-7.34106796 -6.64871305 -7.13680959 -6.65475672 -7.57896743]\n"
     ]
    }
   ],
   "source": [
    "print(cross_val_score(model, features_train, target_train, cv=5,scoring = 'neg_mean_absolute_error'))"
   ]
  },
  {
   "cell_type": "code",
   "execution_count": 49,
   "id": "8dfd1283-0bfc-4fb8-90e6-03b434ae7bcc",
   "metadata": {},
   "outputs": [],
   "source": [
    "model = LinearRegression()"
   ]
  },
  {
   "cell_type": "code",
   "execution_count": 50,
   "id": "0368d16f-c424-4ad3-96fc-6e204583f965",
   "metadata": {},
   "outputs": [
    {
     "name": "stdout",
     "output_type": "stream",
     "text": [
      "[-7.62137078 -6.88376732 -7.20789569 -6.97481123 -7.31956128]\n"
     ]
    }
   ],
   "source": [
    "print(cross_val_score(model, features_train, target_train, cv=5,scoring = 'neg_mean_absolute_error'))"
   ]
  },
  {
   "cell_type": "code",
   "execution_count": 51,
   "id": "b9560e80-b84b-4eb8-b8a3-1dd313ba758f",
   "metadata": {},
   "outputs": [],
   "source": [
    "model = RandomForestRegressor()"
   ]
  },
  {
   "cell_type": "code",
   "execution_count": 52,
   "id": "8172e853-f76b-4ec7-8d10-cb1cc283af51",
   "metadata": {
    "tags": []
   },
   "outputs": [
    {
     "name": "stdout",
     "output_type": "stream",
     "text": [
      "[-7.35496368 -6.80876513 -7.24667476 -6.74961165 -7.30157767]\n"
     ]
    }
   ],
   "source": [
    "print(cross_val_score(model, features_train, target_train, cv=5,scoring = 'neg_mean_absolute_error'))"
   ]
  },
  {
   "cell_type": "markdown",
   "id": "b547adfd-ab51-478e-a33e-e2a4bc94b7b6",
   "metadata": {},
   "source": [
    "Лучше всего показали себя модели CatBoost и RandomForestRegressor"
   ]
  },
  {
   "cell_type": "markdown",
   "id": "600d54a7-0b0f-4051-a97c-96e48503cc40",
   "metadata": {},
   "source": [
    "## Подбор гиперпараметров"
   ]
  },
  {
   "cell_type": "markdown",
   "id": "54eb4b47-f4b2-4bab-9b0e-0cdf4103abde",
   "metadata": {},
   "source": [
    "Рассмотрим подбор гиперпараметров для RandomForestRegressor"
   ]
  },
  {
   "cell_type": "code",
   "execution_count": 53,
   "id": "57cf3929-0fbd-403b-b7fc-9332cdff88a4",
   "metadata": {
    "tags": []
   },
   "outputs": [],
   "source": [
    "parameters = {'n_estimators':[50,100,150],'max_depth' :(None,4,8)}"
   ]
  },
  {
   "cell_type": "code",
   "execution_count": 54,
   "id": "cc7118e6-10ec-473a-87dd-3e8a163a9421",
   "metadata": {
    "tags": []
   },
   "outputs": [
    {
     "data": {
      "text/plain": [
       "GridSearchCV(estimator=RandomForestRegressor(),\n",
       "             param_grid={'max_depth': (None, 4, 8),\n",
       "                         'n_estimators': [50, 100, 150]},\n",
       "             return_train_score=True, scoring='neg_mean_absolute_error')"
      ]
     },
     "execution_count": 54,
     "metadata": {},
     "output_type": "execute_result"
    }
   ],
   "source": [
    "grid_search = GridSearchCV(model, parameters,return_train_score=True,scoring = 'neg_mean_absolute_error')\n",
    "grid_search.fit(features_train,target_train)"
   ]
  },
  {
   "cell_type": "code",
   "execution_count": 55,
   "id": "3737ea0c-c8dd-45aa-a04e-6bef41818461",
   "metadata": {
    "scrolled": true,
    "tags": []
   },
   "outputs": [
    {
     "data": {
      "text/plain": [
       "(RandomForestRegressor(max_depth=8), -7.064462648511741)"
      ]
     },
     "execution_count": 55,
     "metadata": {},
     "output_type": "execute_result"
    }
   ],
   "source": [
    "grid_search.best_estimator_, grid_search.best_score_"
   ]
  },
  {
   "cell_type": "markdown",
   "id": "63fa48fd",
   "metadata": {},
   "source": [
    "Для теста была выбрана модель CatBoostRegressor"
   ]
  },
  {
   "cell_type": "markdown",
   "id": "b2e7255c-67c0-4f6d-bce5-3f0f78aa6c30",
   "metadata": {},
   "source": [
    "## Тестирование"
   ]
  },
  {
   "cell_type": "code",
   "execution_count": 56,
   "id": "9570f7c9-8191-44f1-a64c-dbab2642f9f0",
   "metadata": {},
   "outputs": [],
   "source": [
    "model = CatBoostRegressor(verbose = 0)"
   ]
  },
  {
   "cell_type": "code",
   "execution_count": 57,
   "id": "ca37567f-6f82-4b3a-8d46-cd5ccf23d9a9",
   "metadata": {
    "scrolled": true
   },
   "outputs": [
    {
     "name": "stdout",
     "output_type": "stream",
     "text": [
      "6.581204505586839\n"
     ]
    }
   ],
   "source": [
    "model.fit(features_train,target_train)\n",
    "predict = model.predict(features_test)\n",
    "print(mean_absolute_error(target_test,predict))"
   ]
  },
  {
   "cell_type": "markdown",
   "id": "06f6f2a7",
   "metadata": {},
   "source": [
    "ошибка меньше 6.8"
   ]
  },
  {
   "cell_type": "code",
   "execution_count": 58,
   "id": "61c60f0d",
   "metadata": {},
   "outputs": [],
   "source": [
    "feature_names = features_train.columns\n",
    "importances = model.feature_importances_\n",
    "importances = pd.Series(importances, index=feature_names)"
   ]
  },
  {
   "cell_type": "code",
   "execution_count": 59,
   "id": "7e1952ca",
   "metadata": {},
   "outputs": [
    {
     "data": {
      "image/png": "[encoded data removed]",
      "text/plain": [
       "<Figure size 432x288 with 1 Axes>"
      ]
     },
     "metadata": {
      "needs_background": "light"
     },
     "output_type": "display_data"
    }
   ],
   "source": [
    "fig, ax = plt.subplots()\n",
    "importances.plot.bar(ax=ax)\n",
    "ax.set_title(\"Feature importances using MDI\")\n",
    "ax.set_ylabel(\"Mean decrease in impurity\")\n",
    "fig.tight_layout()"
   ]
  },
  {
   "cell_type": "markdown",
   "id": "a5ec22a9-486e-451c-8d9a-c45cd23dbbc0",
   "metadata": {},
   "source": [
    "самый важный признак начальная температура, но другие признаки кроме количство сыпучих материалов и количство проволочных материалов тоже важны\n"
   ]
  },
  {
   "cell_type": "markdown",
   "id": "107a6597-2d14-4a35-ac1e-2480d84e39b8",
   "metadata": {},
   "source": [
    "## Вывод"
   ]
  },
  {
   "cell_type": "markdown",
   "id": "aa355dec-93c4-4ef8-acd7-0fc7c09e7b67",
   "metadata": {},
   "source": [
    "В данной работе была рассмотрена часть процесса по обработке стали\n",
    "В частоности в данной работе, была произведена работа с данными, создание общей таблицы признаков с добавлением новых признаков. Обучены три модели  н сделанныха данны, лучше всего показали результаты модели Catboost и RandomForestRegressor. Произведен\n",
    "п Подбор гиперпараметров и анализ результатов обучен модели RandomForestRegressor. Которая и была выбрана как наилучшая. Результатом работы модели на тестовой выборке является средняя ошибка в 6.8  градусов, что я считаю приемлимой погрещностью при работе с тысячами градусов."
   ]
  },
  {
   "cell_type": "markdown",
   "id": "e8e92976-5232-4153-8d1c-7d17a5d2e412",
   "metadata": {},
   "source": [
    "Какие пункты плана были выполнены, а какие — нет. Почему?\n",
    "Какие трудности возникли и как вы их преодолели?\n",
    "Какие ключевые шаги в решении задачи вы выделили?\n",
    "Какие признаки использовали для обучения модели и какая предобработка этих признаков была выполнена?\n",
    "Какая ваша итоговая модель, какие у неё гиперпараметы и какое качество?"
   ]
  },
  {
   "cell_type": "markdown",
   "id": "1f922fab-f75a-413c-9d8a-9f77d270e854",
   "metadata": {},
   "source": [
    "## Отчет"
   ]
  },
  {
   "cell_type": "markdown",
   "id": "5b25d92b-e405-487b-a021-d471e1e5c13d",
   "metadata": {},
   "source": [
    "В данной работе были выполнены пункты:\n",
    " 1. Шаг создание общей таблицы признаков. Объединяя таблицы и сохраняя нужные признаки.\n",
    " 2. Обучение пробных моделей на данных.\n",
    " 3. Подбор гиперпараметров и анализ результатов обучения.\n",
    " 4. Отбор лучшей модели\n",
    " \n",
    " Данные шаги не вызвали особых трудностей благодаря предыдущим проектам. Использовались уже знакомые техники и приемы.\n",
    " \n",
    "Так же по совету Тимлида был добавлен пункт анализ важности факторов у модели-победителя.\n"
   ]
  },
  {
   "cell_type": "markdown",
   "id": "cd8018dc-bf52-4fa8-9363-01d12bd43a2e",
   "metadata": {},
   "source": [
    "Во время работы возникли трудности с адектватным выделением признаков, я потратил много времени чтобы понять какую температуру нужно оставить а какую убрать,\n",
    "так же возникла небольшая трудность при вычислении количества добавок как сыпучих материалов так и проволчных, но в итоге эти проблемы были решены."
   ]
  },
  {
   "cell_type": "markdown",
   "id": "011ca5be-ba91-4b88-907b-921f16017d5a",
   "metadata": {},
   "source": [
    "Ключевые шаги в данной задаче являются анализ данных и их предобработка, именно эти разделы потребовали больше всего внимания и размышлений, так же стоит отметить выбор модели и подбор гиперпараметров."
   ]
  },
  {
   "cell_type": "markdown",
   "id": "66bc8fc8-6007-403c-9769-9448ac28d521",
   "metadata": {},
   "source": [
    "Итоговая модель CatBoostRegressor(verbose = 0), данная модель показала результат 6.236 по метрике МАЕ, что находится ниже 6.8"
   ]
  },
  {
   "cell_type": "markdown",
   "id": "e955b0da-932c-4035-b0de-1d7a83fdfe50",
   "metadata": {},
   "source": [
    "Признаки на которых обучалась модель состоят из\n",
    "1. Температура_x - начальная температура ковша\n",
    "2. time_spent - время от начального измерения температуры до конечного измерения\n",
    "3. full_power - полная затраченная мощность получена по формуле (P^2 + Q^2)^0.5, где P - активная мощность а Q - реактивная мощность \n",
    "4. count_bulk - количество загрузок сыпучих материалов\n",
    "5. sum_bulk - суммарный объем сыпучих материалов\n",
    "6. sum_wire - суммарный объем проволочных материалов\n",
    "7. count_wire - количество загрузок проволочных материалов\n",
    "8. Газ 1 - данные о продувке сплава газом\n",
    "9. Wire 1 - добвленные проволчные материалы под номером 1 \n",
    "10. Bulk 14 - добвленные сыпучие материалы под номером 14 \n",
    "11. Bulk 12 - добвленные сыпучие материалы под номером 12\n",
    "12. Bulk 15 - добвленные сыпучие материалы под номером 15 \n"
   ]
  },
  {
   "cell_type": "markdown",
   "id": "b0e21c66-fed5-44e7-b2bf-468b4d465588",
   "metadata": {},
   "source": [
    "Признаки count_bulk и count_wire были получены подсчетом количества загрузки материалов под одиним ключем\n",
    "\n",
    "Признаки sum_bulk sum_wire были получены путем складывания всех объемов добавленных материалов под одиним ключем\n",
    "\n",
    "time_spent был получен переводом времени последнего измерения в секунды и вычетом из него временем первого измерения тоже в секундах"
   ]
  },
  {
   "cell_type": "markdown",
   "id": "f4eea475-0acd-4415-b56d-ddbe53f6df11",
   "metadata": {},
   "source": [
    "Сама модель CatBoostRegressor задавалась без гиперпараметров, для улучшения результатов можно увеличить количество ковшей, так же возможно стоит добавить признак средней температуры.  "
   ]
  },
  {
   "cell_type": "markdown",
   "id": "9a6126ff-5078-433a-963d-f9e389086f78",
   "metadata": {},
   "source": [
    "Хочется так же отметить что ошибка около 6 градусов для значений выраженных в тысячах достаточно хороший результат, это составляет около 0.42 процента"
   ]
  },
  {
   "cell_type": "code",
   "execution_count": null,
   "id": "977bad8d",
   "metadata": {},
   "outputs": [],
   "source": []
  }
 ],
 "metadata": {
  "ExecuteTimeLog": [
   {
    "duration": 1365,
    "start_time": "2023-06-05T05:09:36.035Z"
   },
   {
    "duration": 1919,
    "start_time": "2023-06-05T05:09:37.402Z"
   },
   {
    "duration": 61,
    "start_time": "2023-06-05T05:09:39.323Z"
   },
   {
    "duration": 546,
    "start_time": "2023-06-05T05:09:39.386Z"
   },
   {
    "duration": 8,
    "start_time": "2023-06-05T05:09:39.934Z"
   },
   {
    "duration": 23,
    "start_time": "2023-06-05T05:09:39.943Z"
   },
   {
    "duration": 5,
    "start_time": "2023-06-05T05:09:39.968Z"
   },
   {
    "duration": 16,
    "start_time": "2023-06-05T05:09:39.974Z"
   },
   {
    "duration": 153,
    "start_time": "2023-06-05T05:09:39.991Z"
   },
   {
    "duration": 465,
    "start_time": "2023-06-05T05:09:40.762Z"
   },
   {
    "duration": 574,
    "start_time": "2023-06-05T05:09:41.836Z"
   },
   {
    "duration": 17,
    "start_time": "2023-06-05T05:09:42.412Z"
   },
   {
    "duration": 42,
    "start_time": "2023-06-05T05:09:42.431Z"
   },
   {
    "duration": 7,
    "start_time": "2023-06-05T05:09:42.563Z"
   },
   {
    "duration": 10,
    "start_time": "2023-06-05T05:09:42.738Z"
   },
   {
    "duration": 12,
    "start_time": "2023-06-05T05:09:42.934Z"
   },
   {
    "duration": 55,
    "start_time": "2023-06-05T05:09:43.341Z"
   },
   {
    "duration": 4,
    "start_time": "2023-06-05T05:09:43.577Z"
   },
   {
    "duration": 95,
    "start_time": "2023-06-05T05:09:44.068Z"
   },
   {
    "duration": 5,
    "start_time": "2023-06-05T05:09:44.581Z"
   },
   {
    "duration": 19,
    "start_time": "2023-06-05T05:09:45.341Z"
   },
   {
    "duration": 1206,
    "start_time": "2023-06-05T08:02:24.337Z"
   },
   {
    "duration": 251,
    "start_time": "2023-06-05T08:02:25.545Z"
   },
   {
    "duration": 57,
    "start_time": "2023-06-05T08:02:25.797Z"
   },
   {
    "duration": 541,
    "start_time": "2023-06-05T08:02:28.186Z"
   },
   {
    "duration": 7,
    "start_time": "2023-06-05T08:02:29.555Z"
   },
   {
    "duration": 6,
    "start_time": "2023-06-05T08:02:30.710Z"
   },
   {
    "duration": 5,
    "start_time": "2023-06-05T08:02:33.685Z"
   },
   {
    "duration": 9,
    "start_time": "2023-06-05T08:02:34.258Z"
   },
   {
    "duration": 109,
    "start_time": "2023-06-05T08:02:35.642Z"
   },
   {
    "duration": 14,
    "start_time": "2023-06-05T08:02:43.735Z"
   },
   {
    "duration": 1082,
    "start_time": "2023-06-05T08:10:44.196Z"
   },
   {
    "duration": 206,
    "start_time": "2023-06-05T08:10:45.280Z"
   },
   {
    "duration": 59,
    "start_time": "2023-06-05T08:10:45.488Z"
   },
   {
    "duration": 193,
    "start_time": "2023-06-05T08:10:45.549Z"
   },
   {
    "duration": 7,
    "start_time": "2023-06-05T08:10:45.878Z"
   },
   {
    "duration": 5,
    "start_time": "2023-06-05T08:10:46.245Z"
   },
   {
    "duration": 4,
    "start_time": "2023-06-05T08:10:47.736Z"
   },
   {
    "duration": 7,
    "start_time": "2023-06-05T08:10:48.117Z"
   },
   {
    "duration": 3,
    "start_time": "2023-06-05T08:10:48.652Z"
   },
   {
    "duration": 376,
    "start_time": "2023-06-05T08:10:49.380Z"
   },
   {
    "duration": 16,
    "start_time": "2023-06-05T08:10:51.786Z"
   },
   {
    "duration": 20,
    "start_time": "2023-06-05T08:10:52.441Z"
   },
   {
    "duration": 13,
    "start_time": "2023-06-05T08:11:01.247Z"
   },
   {
    "duration": 8,
    "start_time": "2023-06-05T08:11:01.512Z"
   },
   {
    "duration": 7,
    "start_time": "2023-06-05T08:11:01.982Z"
   },
   {
    "duration": 11,
    "start_time": "2023-06-05T08:11:02.677Z"
   },
   {
    "duration": 46,
    "start_time": "2023-06-05T08:11:22.154Z"
   },
   {
    "duration": 55,
    "start_time": "2023-06-05T08:11:32.303Z"
   },
   {
    "duration": 48,
    "start_time": "2023-06-05T08:11:47.157Z"
   },
   {
    "duration": 904,
    "start_time": "2023-06-05T08:12:14.958Z"
   },
   {
    "duration": 800,
    "start_time": "2023-06-05T08:14:01.853Z"
   },
   {
    "duration": 11,
    "start_time": "2023-06-05T08:14:50.830Z"
   },
   {
    "duration": 31,
    "start_time": "2023-06-05T08:16:44.191Z"
   },
   {
    "duration": 19,
    "start_time": "2023-06-05T08:16:49.379Z"
   },
   {
    "duration": 1011,
    "start_time": "2023-06-05T08:17:10.270Z"
   },
   {
    "duration": 219,
    "start_time": "2023-06-05T08:17:11.282Z"
   },
   {
    "duration": 55,
    "start_time": "2023-06-05T08:17:11.502Z"
   },
   {
    "duration": 177,
    "start_time": "2023-06-05T08:17:11.559Z"
   },
   {
    "duration": 6,
    "start_time": "2023-06-05T08:17:11.738Z"
   },
   {
    "duration": 9,
    "start_time": "2023-06-05T08:17:11.745Z"
   },
   {
    "duration": 5,
    "start_time": "2023-06-05T08:17:12.164Z"
   },
   {
    "duration": 6,
    "start_time": "2023-06-05T08:17:12.369Z"
   },
   {
    "duration": 2,
    "start_time": "2023-06-05T08:17:12.871Z"
   },
   {
    "duration": 339,
    "start_time": "2023-06-05T08:17:13.329Z"
   },
   {
    "duration": 11,
    "start_time": "2023-06-05T08:17:15.545Z"
   },
   {
    "duration": 22,
    "start_time": "2023-06-05T08:17:16.667Z"
   },
   {
    "duration": 8,
    "start_time": "2023-06-05T08:17:18.037Z"
   },
   {
    "duration": 1047,
    "start_time": "2023-06-05T08:17:57.720Z"
   },
   {
    "duration": 207,
    "start_time": "2023-06-05T08:17:58.769Z"
   },
   {
    "duration": 52,
    "start_time": "2023-06-05T08:17:58.977Z"
   },
   {
    "duration": 166,
    "start_time": "2023-06-05T08:17:59.031Z"
   },
   {
    "duration": 6,
    "start_time": "2023-06-05T08:17:59.198Z"
   },
   {
    "duration": 17,
    "start_time": "2023-06-05T08:17:59.206Z"
   },
   {
    "duration": 10,
    "start_time": "2023-06-05T08:17:59.225Z"
   },
   {
    "duration": 38,
    "start_time": "2023-06-05T08:17:59.237Z"
   },
   {
    "duration": 33,
    "start_time": "2023-06-05T08:17:59.276Z"
   },
   {
    "duration": 344,
    "start_time": "2023-06-05T08:17:59.312Z"
   },
   {
    "duration": 15,
    "start_time": "2023-06-05T08:18:06.779Z"
   },
   {
    "duration": 15,
    "start_time": "2023-06-05T08:18:19.570Z"
   },
   {
    "duration": 24,
    "start_time": "2023-06-05T08:18:50.114Z"
   },
   {
    "duration": 123,
    "start_time": "2023-06-05T08:20:08.809Z"
   },
   {
    "duration": 6,
    "start_time": "2023-06-05T08:21:11.314Z"
   },
   {
    "duration": 14,
    "start_time": "2023-06-05T08:21:12.143Z"
   },
   {
    "duration": 1059,
    "start_time": "2023-06-05T08:21:47.165Z"
   },
   {
    "duration": 199,
    "start_time": "2023-06-05T08:21:48.226Z"
   },
   {
    "duration": 62,
    "start_time": "2023-06-05T08:21:48.426Z"
   },
   {
    "duration": 170,
    "start_time": "2023-06-05T08:21:48.489Z"
   },
   {
    "duration": 8,
    "start_time": "2023-06-05T08:21:48.661Z"
   },
   {
    "duration": 17,
    "start_time": "2023-06-05T08:21:48.671Z"
   },
   {
    "duration": 9,
    "start_time": "2023-06-05T08:21:48.690Z"
   },
   {
    "duration": 14,
    "start_time": "2023-06-05T08:21:48.701Z"
   },
   {
    "duration": 4,
    "start_time": "2023-06-05T08:21:48.717Z"
   },
   {
    "duration": 352,
    "start_time": "2023-06-05T08:21:48.724Z"
   },
   {
    "duration": 6,
    "start_time": "2023-06-05T08:21:51.503Z"
   },
   {
    "duration": 94,
    "start_time": "2023-06-05T08:21:52.218Z"
   },
   {
    "duration": 10,
    "start_time": "2023-06-05T08:21:55.244Z"
   },
   {
    "duration": 13,
    "start_time": "2023-06-05T08:22:01.368Z"
   },
   {
    "duration": 7,
    "start_time": "2023-06-05T08:22:06.050Z"
   },
   {
    "duration": 16,
    "start_time": "2023-06-05T08:25:45.675Z"
   },
   {
    "duration": 17,
    "start_time": "2023-06-05T08:26:03.920Z"
   },
   {
    "duration": 16,
    "start_time": "2023-06-05T08:27:51.662Z"
   },
   {
    "duration": 15,
    "start_time": "2023-06-05T08:28:00.323Z"
   },
   {
    "duration": 11,
    "start_time": "2023-06-05T08:28:09.869Z"
   },
   {
    "duration": 13,
    "start_time": "2023-06-05T08:28:16.601Z"
   },
   {
    "duration": 5,
    "start_time": "2023-06-05T08:28:19.944Z"
   },
   {
    "duration": 15,
    "start_time": "2023-06-05T08:29:06.953Z"
   },
   {
    "duration": 5,
    "start_time": "2023-06-05T08:30:37.741Z"
   },
   {
    "duration": 1032,
    "start_time": "2023-06-05T08:31:08.342Z"
   },
   {
    "duration": 190,
    "start_time": "2023-06-05T08:31:09.375Z"
   },
   {
    "duration": 58,
    "start_time": "2023-06-05T08:31:09.566Z"
   },
   {
    "duration": 170,
    "start_time": "2023-06-05T08:31:09.626Z"
   },
   {
    "duration": 6,
    "start_time": "2023-06-05T08:31:09.798Z"
   },
   {
    "duration": 29,
    "start_time": "2023-06-05T08:31:09.805Z"
   },
   {
    "duration": 21,
    "start_time": "2023-06-05T08:31:09.836Z"
   },
   {
    "duration": 30,
    "start_time": "2023-06-05T08:31:09.859Z"
   },
   {
    "duration": 19,
    "start_time": "2023-06-05T08:31:09.890Z"
   },
   {
    "duration": 364,
    "start_time": "2023-06-05T08:31:09.915Z"
   },
   {
    "duration": 13,
    "start_time": "2023-06-05T08:31:10.281Z"
   },
   {
    "duration": 20,
    "start_time": "2023-06-05T08:31:14.076Z"
   },
   {
    "duration": 15,
    "start_time": "2023-06-05T08:32:05.868Z"
   },
   {
    "duration": 12,
    "start_time": "2023-06-05T08:33:51.450Z"
   },
   {
    "duration": 5,
    "start_time": "2023-06-05T08:34:21.940Z"
   },
   {
    "duration": 160,
    "start_time": "2023-06-05T08:34:54.377Z"
   },
   {
    "duration": 4,
    "start_time": "2023-06-05T08:35:40.241Z"
   },
   {
    "duration": 5,
    "start_time": "2023-06-05T08:36:43.673Z"
   },
   {
    "duration": 1204,
    "start_time": "2023-06-05T08:38:30.041Z"
   },
   {
    "duration": 233,
    "start_time": "2023-06-05T08:38:31.247Z"
   },
   {
    "duration": 58,
    "start_time": "2023-06-05T08:38:31.481Z"
   },
   {
    "duration": 201,
    "start_time": "2023-06-05T08:38:31.541Z"
   },
   {
    "duration": 7,
    "start_time": "2023-06-05T08:38:31.744Z"
   },
   {
    "duration": 34,
    "start_time": "2023-06-05T08:38:31.753Z"
   },
   {
    "duration": 32,
    "start_time": "2023-06-05T08:38:31.788Z"
   },
   {
    "duration": 31,
    "start_time": "2023-06-05T08:38:31.824Z"
   },
   {
    "duration": 32,
    "start_time": "2023-06-05T08:38:31.857Z"
   },
   {
    "duration": 411,
    "start_time": "2023-06-05T08:38:31.892Z"
   },
   {
    "duration": 18,
    "start_time": "2023-06-05T08:38:32.310Z"
   },
   {
    "duration": 23,
    "start_time": "2023-06-05T08:38:32.330Z"
   },
   {
    "duration": 11,
    "start_time": "2023-06-05T08:38:32.355Z"
   },
   {
    "duration": 13,
    "start_time": "2023-06-05T08:38:32.367Z"
   },
   {
    "duration": 14,
    "start_time": "2023-06-05T08:38:32.382Z"
   },
   {
    "duration": 31,
    "start_time": "2023-06-05T08:38:32.398Z"
   },
   {
    "duration": 16,
    "start_time": "2023-06-05T08:38:32.431Z"
   },
   {
    "duration": 32,
    "start_time": "2023-06-05T08:38:32.448Z"
   },
   {
    "duration": 49,
    "start_time": "2023-06-05T08:38:32.482Z"
   },
   {
    "duration": 4,
    "start_time": "2023-06-05T08:38:32.533Z"
   },
   {
    "duration": 85,
    "start_time": "2023-06-05T08:38:32.538Z"
   },
   {
    "duration": 5,
    "start_time": "2023-06-05T08:38:32.628Z"
   },
   {
    "duration": 27,
    "start_time": "2023-06-05T08:38:32.635Z"
   },
   {
    "duration": 22,
    "start_time": "2023-06-05T08:38:32.664Z"
   },
   {
    "duration": 885,
    "start_time": "2023-06-05T08:38:32.688Z"
   },
   {
    "duration": 3,
    "start_time": "2023-06-05T08:38:33.574Z"
   },
   {
    "duration": 14,
    "start_time": "2023-06-05T08:38:33.578Z"
   },
   {
    "duration": 8,
    "start_time": "2023-06-05T08:38:33.594Z"
   },
   {
    "duration": 20,
    "start_time": "2023-06-05T08:38:33.604Z"
   },
   {
    "duration": 5,
    "start_time": "2023-06-05T08:38:33.625Z"
   },
   {
    "duration": 13137,
    "start_time": "2023-06-05T08:38:33.632Z"
   },
   {
    "duration": 2,
    "start_time": "2023-06-05T08:38:46.772Z"
   },
   {
    "duration": 44,
    "start_time": "2023-06-05T08:38:46.776Z"
   },
   {
    "duration": 2,
    "start_time": "2023-06-05T08:38:46.823Z"
   },
   {
    "duration": 4263,
    "start_time": "2023-06-05T08:38:46.828Z"
   },
   {
    "duration": 3,
    "start_time": "2023-06-05T08:38:51.092Z"
   },
   {
    "duration": 27727,
    "start_time": "2023-06-05T08:38:51.096Z"
   },
   {
    "duration": 6,
    "start_time": "2023-06-05T08:39:18.825Z"
   },
   {
    "duration": 5,
    "start_time": "2023-06-05T08:39:18.832Z"
   },
   {
    "duration": 993,
    "start_time": "2023-06-05T08:39:18.839Z"
   },
   {
    "duration": 1303,
    "start_time": "2023-06-05T08:43:24.797Z"
   },
   {
    "duration": 240,
    "start_time": "2023-06-05T08:43:26.102Z"
   },
   {
    "duration": 72,
    "start_time": "2023-06-05T08:43:26.344Z"
   },
   {
    "duration": 190,
    "start_time": "2023-06-05T08:43:26.425Z"
   },
   {
    "duration": 8,
    "start_time": "2023-06-05T08:43:26.617Z"
   },
   {
    "duration": 34,
    "start_time": "2023-06-05T08:43:26.627Z"
   },
   {
    "duration": 27,
    "start_time": "2023-06-05T08:43:26.662Z"
   },
   {
    "duration": 24,
    "start_time": "2023-06-05T08:43:26.691Z"
   },
   {
    "duration": 86,
    "start_time": "2023-06-05T08:43:26.717Z"
   },
   {
    "duration": 376,
    "start_time": "2023-06-05T08:43:26.806Z"
   },
   {
    "duration": 31,
    "start_time": "2023-06-05T08:43:27.184Z"
   },
   {
    "duration": 16,
    "start_time": "2023-06-05T08:43:27.223Z"
   },
   {
    "duration": 5,
    "start_time": "2023-06-05T08:43:27.240Z"
   },
   {
    "duration": 8,
    "start_time": "2023-06-05T08:43:27.247Z"
   },
   {
    "duration": 16,
    "start_time": "2023-06-05T08:43:27.257Z"
   },
   {
    "duration": 6,
    "start_time": "2023-06-05T08:43:27.275Z"
   },
   {
    "duration": 6,
    "start_time": "2023-06-05T08:43:27.283Z"
   },
   {
    "duration": 33,
    "start_time": "2023-06-05T08:43:27.290Z"
   },
   {
    "duration": 42,
    "start_time": "2023-06-05T08:43:27.325Z"
   },
   {
    "duration": 4,
    "start_time": "2023-06-05T08:43:27.368Z"
   },
   {
    "duration": 71,
    "start_time": "2023-06-05T08:43:27.373Z"
   },
   {
    "duration": 4,
    "start_time": "2023-06-05T08:43:27.446Z"
   },
   {
    "duration": 130,
    "start_time": "2023-06-05T08:43:27.452Z"
   },
   {
    "duration": 0,
    "start_time": "2023-06-05T08:43:27.584Z"
   },
   {
    "duration": 0,
    "start_time": "2023-06-05T08:43:27.585Z"
   },
   {
    "duration": 0,
    "start_time": "2023-06-05T08:43:27.586Z"
   },
   {
    "duration": 0,
    "start_time": "2023-06-05T08:43:27.587Z"
   },
   {
    "duration": 0,
    "start_time": "2023-06-05T08:43:27.589Z"
   },
   {
    "duration": 0,
    "start_time": "2023-06-05T08:43:27.590Z"
   },
   {
    "duration": 0,
    "start_time": "2023-06-05T08:43:27.592Z"
   },
   {
    "duration": 0,
    "start_time": "2023-06-05T08:43:27.593Z"
   },
   {
    "duration": 0,
    "start_time": "2023-06-05T08:43:27.593Z"
   },
   {
    "duration": 0,
    "start_time": "2023-06-05T08:43:27.607Z"
   },
   {
    "duration": 0,
    "start_time": "2023-06-05T08:43:27.608Z"
   },
   {
    "duration": 0,
    "start_time": "2023-06-05T08:43:27.608Z"
   },
   {
    "duration": 0,
    "start_time": "2023-06-05T08:43:27.609Z"
   },
   {
    "duration": 0,
    "start_time": "2023-06-05T08:43:27.610Z"
   },
   {
    "duration": 0,
    "start_time": "2023-06-05T08:43:27.610Z"
   },
   {
    "duration": 0,
    "start_time": "2023-06-05T08:43:27.611Z"
   },
   {
    "duration": 0,
    "start_time": "2023-06-05T08:43:27.612Z"
   },
   {
    "duration": 0,
    "start_time": "2023-06-05T08:43:27.612Z"
   },
   {
    "duration": 1147,
    "start_time": "2023-06-05T08:44:01.222Z"
   },
   {
    "duration": 256,
    "start_time": "2023-06-05T08:44:02.371Z"
   },
   {
    "duration": 86,
    "start_time": "2023-06-05T08:44:02.630Z"
   },
   {
    "duration": 182,
    "start_time": "2023-06-05T08:44:02.718Z"
   },
   {
    "duration": 7,
    "start_time": "2023-06-05T08:44:02.903Z"
   },
   {
    "duration": 12,
    "start_time": "2023-06-05T08:44:02.912Z"
   },
   {
    "duration": 4,
    "start_time": "2023-06-05T08:44:02.926Z"
   },
   {
    "duration": 7,
    "start_time": "2023-06-05T08:44:02.932Z"
   },
   {
    "duration": 2,
    "start_time": "2023-06-05T08:44:02.940Z"
   },
   {
    "duration": 354,
    "start_time": "2023-06-05T08:44:02.943Z"
   },
   {
    "duration": 25,
    "start_time": "2023-06-05T08:44:03.298Z"
   },
   {
    "duration": 16,
    "start_time": "2023-06-05T08:44:03.325Z"
   },
   {
    "duration": 5,
    "start_time": "2023-06-05T08:44:03.343Z"
   },
   {
    "duration": 12,
    "start_time": "2023-06-05T08:44:03.350Z"
   },
   {
    "duration": 25,
    "start_time": "2023-06-05T08:44:03.364Z"
   },
   {
    "duration": 45,
    "start_time": "2023-06-05T08:44:03.391Z"
   },
   {
    "duration": 65,
    "start_time": "2023-06-05T08:44:03.438Z"
   },
   {
    "duration": 118,
    "start_time": "2023-06-05T08:44:03.505Z"
   },
   {
    "duration": 52,
    "start_time": "2023-06-05T08:44:03.625Z"
   },
   {
    "duration": 4,
    "start_time": "2023-06-05T08:44:03.678Z"
   },
   {
    "duration": 83,
    "start_time": "2023-06-05T08:44:03.683Z"
   },
   {
    "duration": 3,
    "start_time": "2023-06-05T08:44:03.768Z"
   },
   {
    "duration": 25,
    "start_time": "2023-06-05T08:44:03.773Z"
   },
   {
    "duration": 33,
    "start_time": "2023-06-05T08:44:03.799Z"
   },
   {
    "duration": 22,
    "start_time": "2023-06-05T08:44:03.833Z"
   },
   {
    "duration": 1433,
    "start_time": "2023-06-05T08:44:03.856Z"
   },
   {
    "duration": 4,
    "start_time": "2023-06-05T08:44:05.290Z"
   },
   {
    "duration": 18,
    "start_time": "2023-06-05T08:44:05.296Z"
   },
   {
    "duration": 10,
    "start_time": "2023-06-05T08:44:05.316Z"
   },
   {
    "duration": 10,
    "start_time": "2023-06-05T08:44:05.327Z"
   },
   {
    "duration": 12,
    "start_time": "2023-06-05T08:44:05.338Z"
   },
   {
    "duration": 17915,
    "start_time": "2023-06-05T08:44:05.351Z"
   },
   {
    "duration": 3,
    "start_time": "2023-06-05T08:44:23.268Z"
   },
   {
    "duration": 38,
    "start_time": "2023-06-05T08:44:23.272Z"
   },
   {
    "duration": 6,
    "start_time": "2023-06-05T08:44:23.313Z"
   },
   {
    "duration": 18,
    "start_time": "2023-06-05T08:44:23.324Z"
   },
   {
    "duration": 3,
    "start_time": "2023-06-05T08:44:23.343Z"
   },
   {
    "duration": 246,
    "start_time": "2023-06-05T08:44:23.348Z"
   },
   {
    "duration": 0,
    "start_time": "2023-06-05T08:44:23.596Z"
   },
   {
    "duration": 0,
    "start_time": "2023-06-05T08:44:23.608Z"
   },
   {
    "duration": 0,
    "start_time": "2023-06-05T08:44:23.608Z"
   },
   {
    "duration": 1037,
    "start_time": "2023-06-05T08:45:10.055Z"
   },
   {
    "duration": 253,
    "start_time": "2023-06-05T08:45:11.094Z"
   },
   {
    "duration": 59,
    "start_time": "2023-06-05T08:45:11.349Z"
   },
   {
    "duration": 173,
    "start_time": "2023-06-05T08:45:11.410Z"
   },
   {
    "duration": 7,
    "start_time": "2023-06-05T08:45:11.585Z"
   },
   {
    "duration": 7,
    "start_time": "2023-06-05T08:45:11.593Z"
   },
   {
    "duration": 7,
    "start_time": "2023-06-05T08:45:11.601Z"
   },
   {
    "duration": 9,
    "start_time": "2023-06-05T08:45:11.609Z"
   },
   {
    "duration": 7,
    "start_time": "2023-06-05T08:45:11.619Z"
   },
   {
    "duration": 343,
    "start_time": "2023-06-05T08:45:11.628Z"
   },
   {
    "duration": 13,
    "start_time": "2023-06-05T08:45:11.973Z"
   },
   {
    "duration": 27,
    "start_time": "2023-06-05T08:45:11.988Z"
   },
   {
    "duration": 5,
    "start_time": "2023-06-05T08:45:12.016Z"
   },
   {
    "duration": 12,
    "start_time": "2023-06-05T08:45:12.024Z"
   },
   {
    "duration": 31,
    "start_time": "2023-06-05T08:45:12.038Z"
   },
   {
    "duration": 7,
    "start_time": "2023-06-05T08:45:12.071Z"
   },
   {
    "duration": 14,
    "start_time": "2023-06-05T08:45:12.079Z"
   },
   {
    "duration": 18,
    "start_time": "2023-06-05T08:45:12.094Z"
   },
   {
    "duration": 44,
    "start_time": "2023-06-05T08:45:12.113Z"
   },
   {
    "duration": 4,
    "start_time": "2023-06-05T08:45:12.159Z"
   },
   {
    "duration": 81,
    "start_time": "2023-06-05T08:45:12.164Z"
   },
   {
    "duration": 4,
    "start_time": "2023-06-05T08:45:12.247Z"
   },
   {
    "duration": 32,
    "start_time": "2023-06-05T08:45:12.252Z"
   },
   {
    "duration": 3,
    "start_time": "2023-06-05T08:45:12.286Z"
   },
   {
    "duration": 27,
    "start_time": "2023-06-05T08:45:12.290Z"
   },
   {
    "duration": 1394,
    "start_time": "2023-06-05T08:45:12.319Z"
   },
   {
    "duration": 2,
    "start_time": "2023-06-05T08:45:13.715Z"
   },
   {
    "duration": 9,
    "start_time": "2023-06-05T08:45:13.718Z"
   },
   {
    "duration": 8,
    "start_time": "2023-06-05T08:45:13.729Z"
   },
   {
    "duration": 10,
    "start_time": "2023-06-05T08:45:13.738Z"
   },
   {
    "duration": 5,
    "start_time": "2023-06-05T08:45:13.750Z"
   },
   {
    "duration": 18389,
    "start_time": "2023-06-05T08:45:13.757Z"
   },
   {
    "duration": 3,
    "start_time": "2023-06-05T08:45:32.147Z"
   },
   {
    "duration": 55,
    "start_time": "2023-06-05T08:45:32.151Z"
   },
   {
    "duration": 3,
    "start_time": "2023-06-05T08:45:32.209Z"
   },
   {
    "duration": 5690,
    "start_time": "2023-06-05T08:45:32.213Z"
   },
   {
    "duration": 2,
    "start_time": "2023-06-05T08:45:37.907Z"
   },
   {
    "duration": 37387,
    "start_time": "2023-06-05T08:45:37.911Z"
   },
   {
    "duration": 7,
    "start_time": "2023-06-05T08:46:15.300Z"
   },
   {
    "duration": 7,
    "start_time": "2023-06-05T08:46:15.309Z"
   },
   {
    "duration": 1377,
    "start_time": "2023-06-05T08:46:15.319Z"
   },
   {
    "duration": 1135,
    "start_time": "2023-06-05T08:46:18.082Z"
   },
   {
    "duration": 191,
    "start_time": "2023-06-05T08:46:19.219Z"
   },
   {
    "duration": 54,
    "start_time": "2023-06-05T08:46:19.412Z"
   },
   {
    "duration": 173,
    "start_time": "2023-06-05T08:46:19.468Z"
   },
   {
    "duration": 8,
    "start_time": "2023-06-05T08:46:19.642Z"
   },
   {
    "duration": 24,
    "start_time": "2023-06-05T08:46:19.652Z"
   },
   {
    "duration": 14,
    "start_time": "2023-06-05T08:46:19.678Z"
   },
   {
    "duration": 20,
    "start_time": "2023-06-05T08:46:19.694Z"
   },
   {
    "duration": 49,
    "start_time": "2023-06-05T08:46:19.716Z"
   },
   {
    "duration": 394,
    "start_time": "2023-06-05T08:46:19.768Z"
   },
   {
    "duration": 15,
    "start_time": "2023-06-05T08:46:20.164Z"
   },
   {
    "duration": 30,
    "start_time": "2023-06-05T08:46:20.181Z"
   },
   {
    "duration": 27,
    "start_time": "2023-06-05T08:46:20.214Z"
   },
   {
    "duration": 15,
    "start_time": "2023-06-05T08:46:20.243Z"
   },
   {
    "duration": 34,
    "start_time": "2023-06-05T08:46:20.260Z"
   },
   {
    "duration": 41,
    "start_time": "2023-06-05T08:46:20.296Z"
   },
   {
    "duration": 28,
    "start_time": "2023-06-05T08:46:20.339Z"
   },
   {
    "duration": 29,
    "start_time": "2023-06-05T08:46:20.369Z"
   },
   {
    "duration": 63,
    "start_time": "2023-06-05T08:46:20.400Z"
   },
   {
    "duration": 5,
    "start_time": "2023-06-05T08:46:20.465Z"
   },
   {
    "duration": 78,
    "start_time": "2023-06-05T08:46:20.471Z"
   },
   {
    "duration": 3,
    "start_time": "2023-06-05T08:46:20.551Z"
   },
   {
    "duration": 36,
    "start_time": "2023-06-05T08:46:20.555Z"
   },
   {
    "duration": 4,
    "start_time": "2023-06-05T08:46:20.593Z"
   },
   {
    "duration": 30,
    "start_time": "2023-06-05T08:46:20.598Z"
   },
   {
    "duration": 1407,
    "start_time": "2023-06-05T08:46:20.630Z"
   },
   {
    "duration": 3,
    "start_time": "2023-06-05T08:46:22.039Z"
   },
   {
    "duration": 4,
    "start_time": "2023-06-05T08:46:22.046Z"
   },
   {
    "duration": 13,
    "start_time": "2023-06-05T08:46:22.052Z"
   },
   {
    "duration": 29,
    "start_time": "2023-06-05T08:46:22.067Z"
   },
   {
    "duration": 12,
    "start_time": "2023-06-05T08:46:22.098Z"
   },
   {
    "duration": 17940,
    "start_time": "2023-06-05T08:46:22.111Z"
   },
   {
    "duration": 3,
    "start_time": "2023-06-05T08:46:40.053Z"
   },
   {
    "duration": 61,
    "start_time": "2023-06-05T08:46:40.058Z"
   },
   {
    "duration": 5,
    "start_time": "2023-06-05T08:46:40.121Z"
   },
   {
    "duration": 5939,
    "start_time": "2023-06-05T08:46:40.128Z"
   },
   {
    "duration": 2,
    "start_time": "2023-06-05T08:46:46.069Z"
   },
   {
    "duration": 36667,
    "start_time": "2023-06-05T08:46:46.073Z"
   },
   {
    "duration": 5,
    "start_time": "2023-06-05T08:47:22.742Z"
   },
   {
    "duration": 35,
    "start_time": "2023-06-05T08:47:22.748Z"
   },
   {
    "duration": 1411,
    "start_time": "2023-06-05T08:47:22.785Z"
   },
   {
    "duration": 3,
    "start_time": "2023-06-05T08:47:38.403Z"
   },
   {
    "duration": 2216,
    "start_time": "2023-06-05T08:47:38.517Z"
   },
   {
    "duration": 3,
    "start_time": "2023-06-05T08:47:45.036Z"
   },
   {
    "duration": 1376,
    "start_time": "2023-06-05T08:47:45.176Z"
   },
   {
    "duration": 3,
    "start_time": "2023-06-05T08:47:56.659Z"
   },
   {
    "duration": 1487,
    "start_time": "2023-06-05T08:47:56.805Z"
   },
   {
    "duration": 3,
    "start_time": "2023-06-05T08:48:03.026Z"
   },
   {
    "duration": 1751,
    "start_time": "2023-06-05T08:48:03.165Z"
   },
   {
    "duration": 3,
    "start_time": "2023-06-05T08:48:08.398Z"
   },
   {
    "duration": 1902,
    "start_time": "2023-06-05T08:48:08.512Z"
   },
   {
    "duration": 4,
    "start_time": "2023-06-05T08:48:12.647Z"
   },
   {
    "duration": 1791,
    "start_time": "2023-06-05T08:48:12.804Z"
   },
   {
    "duration": 3,
    "start_time": "2023-06-05T08:48:16.581Z"
   },
   {
    "duration": 2536,
    "start_time": "2023-06-05T08:48:16.699Z"
   },
   {
    "duration": 4,
    "start_time": "2023-06-05T08:48:22.337Z"
   },
   {
    "duration": 3418,
    "start_time": "2023-06-05T08:48:22.464Z"
   },
   {
    "duration": 4,
    "start_time": "2023-06-05T08:49:13.323Z"
   },
   {
    "duration": 1416,
    "start_time": "2023-06-05T08:49:13.468Z"
   },
   {
    "duration": 3,
    "start_time": "2023-06-05T08:49:31.245Z"
   },
   {
    "duration": 3624,
    "start_time": "2023-06-05T08:49:31.428Z"
   },
   {
    "duration": 4,
    "start_time": "2023-06-05T08:49:37.010Z"
   },
   {
    "duration": 3924,
    "start_time": "2023-06-05T08:49:37.398Z"
   },
   {
    "duration": 5,
    "start_time": "2023-06-05T08:50:51.931Z"
   },
   {
    "duration": 853,
    "start_time": "2023-06-05T08:50:52.461Z"
   },
   {
    "duration": 1075,
    "start_time": "2023-06-05T08:51:18.206Z"
   },
   {
    "duration": 250,
    "start_time": "2023-06-05T08:51:19.283Z"
   },
   {
    "duration": 55,
    "start_time": "2023-06-05T08:51:19.535Z"
   },
   {
    "duration": 171,
    "start_time": "2023-06-05T08:51:19.591Z"
   },
   {
    "duration": 6,
    "start_time": "2023-06-05T08:51:19.764Z"
   },
   {
    "duration": 11,
    "start_time": "2023-06-05T08:51:19.771Z"
   },
   {
    "duration": 43,
    "start_time": "2023-06-05T08:51:19.783Z"
   },
   {
    "duration": 15,
    "start_time": "2023-06-05T08:51:19.827Z"
   },
   {
    "duration": 26,
    "start_time": "2023-06-05T08:51:19.844Z"
   },
   {
    "duration": 382,
    "start_time": "2023-06-05T08:51:19.872Z"
   },
   {
    "duration": 13,
    "start_time": "2023-06-05T08:51:20.256Z"
   },
   {
    "duration": 20,
    "start_time": "2023-06-05T08:51:20.270Z"
   },
   {
    "duration": 17,
    "start_time": "2023-06-05T08:51:20.292Z"
   },
   {
    "duration": 20,
    "start_time": "2023-06-05T08:51:20.312Z"
   },
   {
    "duration": 20,
    "start_time": "2023-06-05T08:51:20.334Z"
   },
   {
    "duration": 11,
    "start_time": "2023-06-05T08:51:20.355Z"
   },
   {
    "duration": 20,
    "start_time": "2023-06-05T08:51:20.367Z"
   },
   {
    "duration": 11,
    "start_time": "2023-06-05T08:51:20.389Z"
   },
   {
    "duration": 36,
    "start_time": "2023-06-05T08:51:20.402Z"
   },
   {
    "duration": 3,
    "start_time": "2023-06-05T08:51:20.440Z"
   },
   {
    "duration": 74,
    "start_time": "2023-06-05T08:51:20.444Z"
   },
   {
    "duration": 3,
    "start_time": "2023-06-05T08:51:20.520Z"
   },
   {
    "duration": 25,
    "start_time": "2023-06-05T08:51:20.525Z"
   },
   {
    "duration": 4,
    "start_time": "2023-06-05T08:51:20.551Z"
   },
   {
    "duration": 12,
    "start_time": "2023-06-05T08:51:20.556Z"
   },
   {
    "duration": 1416,
    "start_time": "2023-06-05T08:51:20.569Z"
   },
   {
    "duration": 3,
    "start_time": "2023-06-05T08:51:21.986Z"
   },
   {
    "duration": 6,
    "start_time": "2023-06-05T08:51:21.990Z"
   },
   {
    "duration": 19,
    "start_time": "2023-06-05T08:51:21.997Z"
   },
   {
    "duration": 48,
    "start_time": "2023-06-05T08:51:22.018Z"
   },
   {
    "duration": 16,
    "start_time": "2023-06-05T08:51:22.067Z"
   },
   {
    "duration": 760,
    "start_time": "2023-06-05T08:51:22.084Z"
   },
   {
    "duration": 3,
    "start_time": "2023-06-05T08:51:22.845Z"
   },
   {
    "duration": 57,
    "start_time": "2023-06-05T08:51:22.849Z"
   },
   {
    "duration": 3,
    "start_time": "2023-06-05T08:51:22.908Z"
   },
   {
    "duration": 5565,
    "start_time": "2023-06-05T08:51:22.913Z"
   },
   {
    "duration": 2,
    "start_time": "2023-06-05T08:51:28.480Z"
   },
   {
    "duration": 36997,
    "start_time": "2023-06-05T08:51:28.483Z"
   },
   {
    "duration": 4,
    "start_time": "2023-06-05T08:52:05.481Z"
   },
   {
    "duration": 19,
    "start_time": "2023-06-05T08:52:05.486Z"
   },
   {
    "duration": 3376,
    "start_time": "2023-06-05T08:52:05.520Z"
   },
   {
    "duration": 1008,
    "start_time": "2023-06-05T08:52:23.270Z"
   },
   {
    "duration": 205,
    "start_time": "2023-06-05T08:52:24.280Z"
   },
   {
    "duration": 57,
    "start_time": "2023-06-05T08:52:24.486Z"
   },
   {
    "duration": 190,
    "start_time": "2023-06-05T08:52:24.545Z"
   },
   {
    "duration": 7,
    "start_time": "2023-06-05T08:52:24.737Z"
   },
   {
    "duration": 4,
    "start_time": "2023-06-05T08:52:24.745Z"
   },
   {
    "duration": 7,
    "start_time": "2023-06-05T08:52:24.751Z"
   },
   {
    "duration": 7,
    "start_time": "2023-06-05T08:52:24.759Z"
   },
   {
    "duration": 17,
    "start_time": "2023-06-05T08:52:24.767Z"
   },
   {
    "duration": 381,
    "start_time": "2023-06-05T08:52:24.785Z"
   },
   {
    "duration": 13,
    "start_time": "2023-06-05T08:52:25.167Z"
   },
   {
    "duration": 37,
    "start_time": "2023-06-05T08:52:25.181Z"
   },
   {
    "duration": 13,
    "start_time": "2023-06-05T08:52:25.220Z"
   },
   {
    "duration": 10,
    "start_time": "2023-06-05T08:52:25.235Z"
   },
   {
    "duration": 15,
    "start_time": "2023-06-05T08:52:25.247Z"
   },
   {
    "duration": 5,
    "start_time": "2023-06-05T08:52:25.265Z"
   },
   {
    "duration": 6,
    "start_time": "2023-06-05T08:52:25.272Z"
   },
   {
    "duration": 39,
    "start_time": "2023-06-05T08:52:25.279Z"
   },
   {
    "duration": 47,
    "start_time": "2023-06-05T08:52:25.320Z"
   },
   {
    "duration": 3,
    "start_time": "2023-06-05T08:52:25.369Z"
   },
   {
    "duration": 68,
    "start_time": "2023-06-05T08:52:25.373Z"
   },
   {
    "duration": 3,
    "start_time": "2023-06-05T08:52:25.443Z"
   },
   {
    "duration": 24,
    "start_time": "2023-06-05T08:52:25.448Z"
   },
   {
    "duration": 3,
    "start_time": "2023-06-05T08:52:25.473Z"
   },
   {
    "duration": 13,
    "start_time": "2023-06-05T08:52:25.478Z"
   },
   {
    "duration": 1389,
    "start_time": "2023-06-05T08:52:25.492Z"
   },
   {
    "duration": 2,
    "start_time": "2023-06-05T08:52:26.883Z"
   },
   {
    "duration": 13,
    "start_time": "2023-06-05T08:52:26.886Z"
   },
   {
    "duration": 19,
    "start_time": "2023-06-05T08:52:26.901Z"
   },
   {
    "duration": 8,
    "start_time": "2023-06-05T08:52:26.921Z"
   },
   {
    "duration": 5,
    "start_time": "2023-06-05T08:52:26.930Z"
   },
   {
    "duration": 17906,
    "start_time": "2023-06-05T08:52:26.936Z"
   },
   {
    "duration": 2,
    "start_time": "2023-06-05T08:52:44.844Z"
   },
   {
    "duration": 74,
    "start_time": "2023-06-05T08:52:44.847Z"
   },
   {
    "duration": 2,
    "start_time": "2023-06-05T08:52:44.923Z"
   },
   {
    "duration": 5696,
    "start_time": "2023-06-05T08:52:44.927Z"
   },
   {
    "duration": 3,
    "start_time": "2023-06-05T08:52:50.625Z"
   },
   {
    "duration": 37063,
    "start_time": "2023-06-05T08:52:50.630Z"
   },
   {
    "duration": 4,
    "start_time": "2023-06-05T08:53:27.694Z"
   },
   {
    "duration": 5,
    "start_time": "2023-06-05T08:53:27.706Z"
   },
   {
    "duration": 3356,
    "start_time": "2023-06-05T08:53:27.714Z"
   },
   {
    "duration": 1046,
    "start_time": "2023-06-05T08:56:46.443Z"
   },
   {
    "duration": 203,
    "start_time": "2023-06-05T08:56:47.491Z"
   },
   {
    "duration": 62,
    "start_time": "2023-06-05T08:56:47.695Z"
   },
   {
    "duration": 188,
    "start_time": "2023-06-05T08:56:47.759Z"
   },
   {
    "duration": 33,
    "start_time": "2023-06-05T08:56:47.948Z"
   },
   {
    "duration": 8,
    "start_time": "2023-06-05T08:56:47.982Z"
   },
   {
    "duration": 8,
    "start_time": "2023-06-05T08:56:47.991Z"
   },
   {
    "duration": 149,
    "start_time": "2023-06-05T08:56:48.001Z"
   },
   {
    "duration": 9,
    "start_time": "2023-06-05T08:56:48.152Z"
   },
   {
    "duration": 59,
    "start_time": "2023-06-05T08:56:48.164Z"
   },
   {
    "duration": 12,
    "start_time": "2023-06-05T08:56:48.224Z"
   },
   {
    "duration": 1303,
    "start_time": "2023-06-05T08:56:48.237Z"
   },
   {
    "duration": 29,
    "start_time": "2023-06-05T08:56:49.542Z"
   },
   {
    "duration": 32,
    "start_time": "2023-06-05T08:56:49.572Z"
   },
   {
    "duration": 11,
    "start_time": "2023-06-05T08:56:49.605Z"
   },
   {
    "duration": 200,
    "start_time": "2023-06-05T08:56:49.618Z"
   },
   {
    "duration": 5,
    "start_time": "2023-06-05T08:56:49.820Z"
   },
   {
    "duration": 218,
    "start_time": "2023-06-05T08:56:49.827Z"
   },
   {
    "duration": 26,
    "start_time": "2023-06-05T08:56:50.047Z"
   },
   {
    "duration": 729,
    "start_time": "2023-06-05T08:56:50.074Z"
   },
   {
    "duration": 25,
    "start_time": "2023-06-05T08:56:50.817Z"
   },
   {
    "duration": 25,
    "start_time": "2023-06-05T08:56:50.843Z"
   },
   {
    "duration": 22,
    "start_time": "2023-06-05T08:56:50.870Z"
   },
   {
    "duration": 23,
    "start_time": "2023-06-05T08:56:50.894Z"
   },
   {
    "duration": 358,
    "start_time": "2023-06-05T08:56:50.919Z"
   },
   {
    "duration": 13,
    "start_time": "2023-06-05T08:56:51.279Z"
   },
   {
    "duration": 54,
    "start_time": "2023-06-05T08:56:51.294Z"
   },
   {
    "duration": 8,
    "start_time": "2023-06-05T08:56:51.351Z"
   },
   {
    "duration": 25,
    "start_time": "2023-06-05T08:56:51.361Z"
   },
   {
    "duration": 41,
    "start_time": "2023-06-05T08:56:51.387Z"
   },
   {
    "duration": 18,
    "start_time": "2023-06-05T08:56:51.429Z"
   },
   {
    "duration": 13,
    "start_time": "2023-06-05T08:56:51.449Z"
   },
   {
    "duration": 19,
    "start_time": "2023-06-05T08:56:51.463Z"
   },
   {
    "duration": 67,
    "start_time": "2023-06-05T08:56:51.483Z"
   },
   {
    "duration": 3,
    "start_time": "2023-06-05T08:56:51.552Z"
   },
   {
    "duration": 121,
    "start_time": "2023-06-05T08:56:51.556Z"
   },
   {
    "duration": 3,
    "start_time": "2023-06-05T08:56:51.678Z"
   },
   {
    "duration": 47,
    "start_time": "2023-06-05T08:56:51.683Z"
   },
   {
    "duration": 16,
    "start_time": "2023-06-05T08:56:51.732Z"
   },
   {
    "duration": 42,
    "start_time": "2023-06-05T08:56:51.750Z"
   },
   {
    "duration": 1401,
    "start_time": "2023-06-05T08:56:51.793Z"
   },
   {
    "duration": 10,
    "start_time": "2023-06-05T08:56:53.196Z"
   },
   {
    "duration": 39,
    "start_time": "2023-06-05T08:56:53.209Z"
   },
   {
    "duration": 38,
    "start_time": "2023-06-05T08:56:53.250Z"
   },
   {
    "duration": 16,
    "start_time": "2023-06-05T08:56:53.291Z"
   },
   {
    "duration": 6,
    "start_time": "2023-06-05T08:56:53.309Z"
   },
   {
    "duration": 17282,
    "start_time": "2023-06-05T08:56:53.317Z"
   },
   {
    "duration": 2,
    "start_time": "2023-06-05T08:57:10.601Z"
   },
   {
    "duration": 44,
    "start_time": "2023-06-05T08:57:10.605Z"
   },
   {
    "duration": 2,
    "start_time": "2023-06-05T08:57:10.651Z"
   },
   {
    "duration": 6176,
    "start_time": "2023-06-05T08:57:10.710Z"
   },
   {
    "duration": 2,
    "start_time": "2023-06-05T08:57:16.888Z"
   },
   {
    "duration": 40929,
    "start_time": "2023-06-05T08:57:16.892Z"
   },
   {
    "duration": 4,
    "start_time": "2023-06-05T08:57:57.822Z"
   },
   {
    "duration": 8,
    "start_time": "2023-06-05T08:57:57.827Z"
   },
   {
    "duration": 3573,
    "start_time": "2023-06-05T08:57:57.836Z"
   },
   {
    "duration": 1067,
    "start_time": "2023-06-05T09:03:04.527Z"
   },
   {
    "duration": 227,
    "start_time": "2023-06-05T09:03:05.595Z"
   },
   {
    "duration": 53,
    "start_time": "2023-06-05T09:03:05.823Z"
   },
   {
    "duration": 187,
    "start_time": "2023-06-05T09:03:05.877Z"
   },
   {
    "duration": 32,
    "start_time": "2023-06-05T09:03:06.066Z"
   },
   {
    "duration": 19,
    "start_time": "2023-06-05T09:03:06.100Z"
   },
   {
    "duration": 11,
    "start_time": "2023-06-05T09:03:06.120Z"
   },
   {
    "duration": 149,
    "start_time": "2023-06-05T09:03:06.133Z"
   },
   {
    "duration": 8,
    "start_time": "2023-06-05T09:03:06.284Z"
   },
   {
    "duration": 41,
    "start_time": "2023-06-05T09:03:06.293Z"
   },
   {
    "duration": 33,
    "start_time": "2023-06-05T09:03:06.336Z"
   },
   {
    "duration": 1266,
    "start_time": "2023-06-05T09:03:06.371Z"
   },
   {
    "duration": 29,
    "start_time": "2023-06-05T09:03:07.638Z"
   },
   {
    "duration": 20,
    "start_time": "2023-06-05T09:03:07.670Z"
   },
   {
    "duration": 27,
    "start_time": "2023-06-05T09:03:07.691Z"
   },
   {
    "duration": 168,
    "start_time": "2023-06-05T09:03:07.719Z"
   },
   {
    "duration": 6,
    "start_time": "2023-06-05T09:03:07.889Z"
   },
   {
    "duration": 172,
    "start_time": "2023-06-05T09:03:07.911Z"
   },
   {
    "duration": 41,
    "start_time": "2023-06-05T09:03:08.085Z"
   },
   {
    "duration": 652,
    "start_time": "2023-06-05T09:03:08.127Z"
   },
   {
    "duration": 40,
    "start_time": "2023-06-05T09:03:08.781Z"
   },
   {
    "duration": 4,
    "start_time": "2023-06-05T09:03:08.822Z"
   },
   {
    "duration": 27,
    "start_time": "2023-06-05T09:03:08.827Z"
   },
   {
    "duration": 20,
    "start_time": "2023-06-05T09:03:08.855Z"
   },
   {
    "duration": 384,
    "start_time": "2023-06-05T09:03:08.877Z"
   },
   {
    "duration": 12,
    "start_time": "2023-06-05T09:03:09.263Z"
   },
   {
    "duration": 17,
    "start_time": "2023-06-05T09:03:09.277Z"
   },
   {
    "duration": 54,
    "start_time": "2023-06-05T09:03:09.295Z"
   },
   {
    "duration": 24,
    "start_time": "2023-06-05T09:03:09.351Z"
   },
   {
    "duration": 53,
    "start_time": "2023-06-05T09:03:09.377Z"
   },
   {
    "duration": 14,
    "start_time": "2023-06-05T09:03:09.432Z"
   },
   {
    "duration": 28,
    "start_time": "2023-06-05T09:03:09.447Z"
   },
   {
    "duration": 27,
    "start_time": "2023-06-05T09:03:09.477Z"
   },
   {
    "duration": 57,
    "start_time": "2023-06-05T09:03:09.506Z"
   },
   {
    "duration": 3,
    "start_time": "2023-06-05T09:03:09.565Z"
   },
   {
    "duration": 86,
    "start_time": "2023-06-05T09:03:09.569Z"
   },
   {
    "duration": 4,
    "start_time": "2023-06-05T09:03:09.656Z"
   },
   {
    "duration": 34,
    "start_time": "2023-06-05T09:03:09.661Z"
   },
   {
    "duration": 4,
    "start_time": "2023-06-05T09:03:09.696Z"
   },
   {
    "duration": 17,
    "start_time": "2023-06-05T09:03:09.707Z"
   },
   {
    "duration": 1272,
    "start_time": "2023-06-05T09:03:09.728Z"
   },
   {
    "duration": 9,
    "start_time": "2023-06-05T09:03:11.002Z"
   },
   {
    "duration": 10,
    "start_time": "2023-06-05T09:03:11.012Z"
   },
   {
    "duration": 5,
    "start_time": "2023-06-05T09:03:11.024Z"
   },
   {
    "duration": 8,
    "start_time": "2023-06-05T09:03:11.030Z"
   },
   {
    "duration": 13,
    "start_time": "2023-06-05T09:03:11.040Z"
   },
   {
    "duration": 17275,
    "start_time": "2023-06-05T09:03:11.055Z"
   },
   {
    "duration": 3,
    "start_time": "2023-06-05T09:03:28.332Z"
   },
   {
    "duration": 73,
    "start_time": "2023-06-05T09:03:28.338Z"
   },
   {
    "duration": 8,
    "start_time": "2023-06-05T09:03:28.416Z"
   },
   {
    "duration": 6153,
    "start_time": "2023-06-05T09:03:28.425Z"
   },
   {
    "duration": 2,
    "start_time": "2023-06-05T09:03:34.580Z"
   },
   {
    "duration": 40057,
    "start_time": "2023-06-05T09:03:34.584Z"
   },
   {
    "duration": 4,
    "start_time": "2023-06-05T09:04:14.643Z"
   },
   {
    "duration": 11,
    "start_time": "2023-06-05T09:04:14.648Z"
   },
   {
    "duration": 3431,
    "start_time": "2023-06-05T09:04:14.660Z"
   },
   {
    "duration": 1278,
    "start_time": "2023-06-05T09:31:11.804Z"
   },
   {
    "duration": 1495,
    "start_time": "2023-06-05T09:31:13.084Z"
   },
   {
    "duration": 63,
    "start_time": "2023-06-05T09:31:14.581Z"
   },
   {
    "duration": 542,
    "start_time": "2023-06-05T09:31:14.645Z"
   },
   {
    "duration": 32,
    "start_time": "2023-06-05T09:31:15.213Z"
   },
   {
    "duration": 9,
    "start_time": "2023-06-05T09:31:15.381Z"
   },
   {
    "duration": 6,
    "start_time": "2023-06-05T09:31:15.537Z"
   },
   {
    "duration": 134,
    "start_time": "2023-06-05T09:31:15.735Z"
   },
   {
    "duration": 8,
    "start_time": "2023-06-05T09:31:15.933Z"
   },
   {
    "duration": 28,
    "start_time": "2023-06-05T09:31:16.269Z"
   },
   {
    "duration": 12,
    "start_time": "2023-06-05T09:31:16.429Z"
   },
   {
    "duration": 1276,
    "start_time": "2023-06-05T09:31:16.601Z"
   },
   {
    "duration": 30,
    "start_time": "2023-06-05T09:31:17.879Z"
   },
   {
    "duration": 20,
    "start_time": "2023-06-05T09:31:17.910Z"
   },
   {
    "duration": 6,
    "start_time": "2023-06-05T09:31:17.931Z"
   },
   {
    "duration": 173,
    "start_time": "2023-06-05T09:31:17.938Z"
   },
   {
    "duration": 5,
    "start_time": "2023-06-05T09:31:18.113Z"
   },
   {
    "duration": 177,
    "start_time": "2023-06-05T09:31:18.119Z"
   },
   {
    "duration": 22,
    "start_time": "2023-06-05T09:31:19.153Z"
   },
   {
    "duration": 655,
    "start_time": "2023-06-05T09:31:19.695Z"
   },
   {
    "duration": 23,
    "start_time": "2023-06-05T09:31:21.908Z"
   },
   {
    "duration": 4,
    "start_time": "2023-06-05T09:31:25.499Z"
   },
   {
    "duration": 6,
    "start_time": "2023-06-05T09:31:26.382Z"
   },
   {
    "duration": 2,
    "start_time": "2023-06-05T09:31:26.822Z"
   },
   {
    "duration": 364,
    "start_time": "2023-06-05T09:31:26.995Z"
   },
   {
    "duration": 12,
    "start_time": "2023-06-05T09:31:29.349Z"
   },
   {
    "duration": 14,
    "start_time": "2023-06-05T09:31:30.309Z"
   },
   {
    "duration": 5,
    "start_time": "2023-06-05T09:31:31.085Z"
   },
   {
    "duration": 4,
    "start_time": "2023-06-05T09:31:31.893Z"
   },
   {
    "duration": 105,
    "start_time": "2023-06-05T09:32:16.552Z"
   },
   {
    "duration": 5,
    "start_time": "2023-06-05T09:32:38.135Z"
   },
   {
    "duration": 13,
    "start_time": "2023-06-05T09:33:53.177Z"
   },
   {
    "duration": 6,
    "start_time": "2023-06-05T09:33:53.724Z"
   },
   {
    "duration": 8,
    "start_time": "2023-06-05T09:33:54.253Z"
   },
   {
    "duration": 12,
    "start_time": "2023-06-05T09:33:54.942Z"
   },
   {
    "duration": 35,
    "start_time": "2023-06-05T09:34:02.392Z"
   },
   {
    "duration": 3,
    "start_time": "2023-06-05T09:34:02.941Z"
   },
   {
    "duration": 58,
    "start_time": "2023-06-05T09:34:03.745Z"
   },
   {
    "duration": 4,
    "start_time": "2023-06-05T09:34:04.218Z"
   },
   {
    "duration": 21,
    "start_time": "2023-06-05T09:34:05.953Z"
   },
   {
    "duration": 3,
    "start_time": "2023-06-05T09:34:06.483Z"
   },
   {
    "duration": 9,
    "start_time": "2023-06-05T09:34:07.814Z"
   },
   {
    "duration": 1238,
    "start_time": "2023-06-05T09:34:08.501Z"
   },
   {
    "duration": 2,
    "start_time": "2023-06-05T09:34:10.731Z"
   },
   {
    "duration": 2,
    "start_time": "2023-06-05T09:34:11.748Z"
   },
   {
    "duration": 20,
    "start_time": "2023-06-05T09:34:19.496Z"
   },
   {
    "duration": 4,
    "start_time": "2023-06-05T09:34:42.794Z"
   },
   {
    "duration": 5,
    "start_time": "2023-06-05T09:34:43.645Z"
   },
   {
    "duration": 2,
    "start_time": "2023-06-05T09:34:44.085Z"
   },
   {
    "duration": 17728,
    "start_time": "2023-06-05T09:34:44.753Z"
   },
   {
    "duration": 5,
    "start_time": "2023-06-05T09:35:02.483Z"
   },
   {
    "duration": 33,
    "start_time": "2023-06-05T09:36:06.899Z"
   },
   {
    "duration": 3,
    "start_time": "2023-06-05T09:36:07.419Z"
   },
   {
    "duration": 5773,
    "start_time": "2023-06-05T09:36:08.585Z"
   },
   {
    "duration": 1118,
    "start_time": "2023-06-05T09:44:31.652Z"
   },
   {
    "duration": 212,
    "start_time": "2023-06-05T09:44:32.772Z"
   },
   {
    "duration": 54,
    "start_time": "2023-06-05T09:44:32.986Z"
   },
   {
    "duration": 173,
    "start_time": "2023-06-05T09:44:33.042Z"
   },
   {
    "duration": 34,
    "start_time": "2023-06-05T09:44:33.217Z"
   },
   {
    "duration": 8,
    "start_time": "2023-06-05T09:44:33.253Z"
   },
   {
    "duration": 7,
    "start_time": "2023-06-05T09:44:33.262Z"
   },
   {
    "duration": 179,
    "start_time": "2023-06-05T09:44:33.270Z"
   },
   {
    "duration": 8,
    "start_time": "2023-06-05T09:44:33.450Z"
   },
   {
    "duration": 35,
    "start_time": "2023-06-05T09:44:33.461Z"
   },
   {
    "duration": 21,
    "start_time": "2023-06-05T09:44:33.497Z"
   },
   {
    "duration": 1261,
    "start_time": "2023-06-05T09:44:33.520Z"
   },
   {
    "duration": 32,
    "start_time": "2023-06-05T09:44:34.783Z"
   },
   {
    "duration": 21,
    "start_time": "2023-06-05T09:44:34.816Z"
   },
   {
    "duration": 7,
    "start_time": "2023-06-05T09:44:34.838Z"
   },
   {
    "duration": 212,
    "start_time": "2023-06-05T09:44:34.846Z"
   },
   {
    "duration": 6,
    "start_time": "2023-06-05T09:44:35.059Z"
   },
   {
    "duration": 228,
    "start_time": "2023-06-05T09:44:35.067Z"
   },
   {
    "duration": 32,
    "start_time": "2023-06-05T09:44:35.297Z"
   },
   {
    "duration": 704,
    "start_time": "2023-06-05T09:44:35.331Z"
   },
   {
    "duration": 23,
    "start_time": "2023-06-05T09:44:36.037Z"
   },
   {
    "duration": 13,
    "start_time": "2023-06-05T09:44:36.062Z"
   },
   {
    "duration": 38,
    "start_time": "2023-06-05T09:44:36.076Z"
   },
   {
    "duration": 21,
    "start_time": "2023-06-05T09:44:36.116Z"
   },
   {
    "duration": 341,
    "start_time": "2023-06-05T09:44:36.139Z"
   },
   {
    "duration": 13,
    "start_time": "2023-06-05T09:44:36.482Z"
   },
   {
    "duration": 21,
    "start_time": "2023-06-05T09:44:36.497Z"
   },
   {
    "duration": 29,
    "start_time": "2023-06-05T09:44:36.522Z"
   },
   {
    "duration": 8,
    "start_time": "2023-06-05T09:44:36.552Z"
   },
   {
    "duration": 32,
    "start_time": "2023-06-05T09:44:36.562Z"
   },
   {
    "duration": 20,
    "start_time": "2023-06-05T09:44:36.596Z"
   },
   {
    "duration": 7,
    "start_time": "2023-06-05T09:44:36.618Z"
   },
   {
    "duration": 8,
    "start_time": "2023-06-05T09:44:36.626Z"
   },
   {
    "duration": 40,
    "start_time": "2023-06-05T09:44:36.636Z"
   },
   {
    "duration": 4,
    "start_time": "2023-06-05T09:44:36.678Z"
   },
   {
    "duration": 78,
    "start_time": "2023-06-05T09:44:36.684Z"
   },
   {
    "duration": 3,
    "start_time": "2023-06-05T09:44:36.764Z"
   },
   {
    "duration": 36,
    "start_time": "2023-06-05T09:44:36.769Z"
   },
   {
    "duration": 3,
    "start_time": "2023-06-05T09:44:36.807Z"
   },
   {
    "duration": 40,
    "start_time": "2023-06-05T09:44:36.812Z"
   },
   {
    "duration": 1261,
    "start_time": "2023-06-05T09:44:36.854Z"
   },
   {
    "duration": 3,
    "start_time": "2023-06-05T09:44:38.116Z"
   },
   {
    "duration": 10,
    "start_time": "2023-06-05T09:44:38.120Z"
   },
   {
    "duration": 25,
    "start_time": "2023-06-05T09:44:38.131Z"
   },
   {
    "duration": 9,
    "start_time": "2023-06-05T09:44:38.157Z"
   },
   {
    "duration": 6,
    "start_time": "2023-06-05T09:44:38.167Z"
   },
   {
    "duration": 5,
    "start_time": "2023-06-05T09:44:38.175Z"
   },
   {
    "duration": 15466,
    "start_time": "2023-06-05T09:44:38.182Z"
   },
   {
    "duration": 4,
    "start_time": "2023-06-05T09:44:53.650Z"
   },
   {
    "duration": 50,
    "start_time": "2023-06-05T09:44:53.656Z"
   },
   {
    "duration": 2,
    "start_time": "2023-06-05T09:44:53.709Z"
   },
   {
    "duration": 5792,
    "start_time": "2023-06-05T09:44:53.713Z"
   },
   {
    "duration": 4,
    "start_time": "2023-06-05T09:44:59.507Z"
   },
   {
    "duration": 37206,
    "start_time": "2023-06-05T09:44:59.513Z"
   },
   {
    "duration": 3,
    "start_time": "2023-06-05T09:45:36.721Z"
   },
   {
    "duration": 31,
    "start_time": "2023-06-05T09:45:36.726Z"
   },
   {
    "duration": 3038,
    "start_time": "2023-06-05T09:45:36.759Z"
   },
   {
    "duration": 4,
    "start_time": "2023-06-05T09:46:11.167Z"
   },
   {
    "duration": 3,
    "start_time": "2023-06-05T09:47:23.096Z"
   },
   {
    "duration": 181,
    "start_time": "2023-06-05T09:47:41.217Z"
   },
   {
    "duration": 99,
    "start_time": "2023-06-05T09:47:46.310Z"
   },
   {
    "duration": 252,
    "start_time": "2023-06-05T09:48:15.702Z"
   },
   {
    "duration": 3,
    "start_time": "2023-06-05T09:51:37.581Z"
   },
   {
    "duration": 270,
    "start_time": "2023-06-05T09:51:38.046Z"
   },
   {
    "duration": 1064,
    "start_time": "2023-06-05T09:54:26.818Z"
   },
   {
    "duration": 199,
    "start_time": "2023-06-05T09:54:27.884Z"
   },
   {
    "duration": 56,
    "start_time": "2023-06-05T09:54:28.084Z"
   },
   {
    "duration": 183,
    "start_time": "2023-06-05T09:54:28.142Z"
   },
   {
    "duration": 32,
    "start_time": "2023-06-05T09:54:28.327Z"
   },
   {
    "duration": 7,
    "start_time": "2023-06-05T09:54:28.360Z"
   },
   {
    "duration": 12,
    "start_time": "2023-06-05T09:54:28.368Z"
   },
   {
    "duration": 141,
    "start_time": "2023-06-05T09:54:28.381Z"
   },
   {
    "duration": 8,
    "start_time": "2023-06-05T09:54:28.523Z"
   },
   {
    "duration": 26,
    "start_time": "2023-06-05T09:54:28.533Z"
   },
   {
    "duration": 12,
    "start_time": "2023-06-05T09:54:28.561Z"
   },
   {
    "duration": 1314,
    "start_time": "2023-06-05T09:54:28.575Z"
   },
   {
    "duration": 41,
    "start_time": "2023-06-05T09:54:29.890Z"
   },
   {
    "duration": 20,
    "start_time": "2023-06-05T09:54:29.934Z"
   },
   {
    "duration": 6,
    "start_time": "2023-06-05T09:54:29.955Z"
   },
   {
    "duration": 188,
    "start_time": "2023-06-05T09:54:29.962Z"
   },
   {
    "duration": 5,
    "start_time": "2023-06-05T09:54:30.151Z"
   },
   {
    "duration": 230,
    "start_time": "2023-06-05T09:54:30.158Z"
   },
   {
    "duration": 37,
    "start_time": "2023-06-05T09:54:30.389Z"
   },
   {
    "duration": 697,
    "start_time": "2023-06-05T09:54:30.427Z"
   },
   {
    "duration": 25,
    "start_time": "2023-06-05T09:54:31.126Z"
   },
   {
    "duration": 44,
    "start_time": "2023-06-05T09:54:31.152Z"
   },
   {
    "duration": 64,
    "start_time": "2023-06-05T09:54:31.197Z"
   },
   {
    "duration": 40,
    "start_time": "2023-06-05T09:54:31.263Z"
   },
   {
    "duration": 358,
    "start_time": "2023-06-05T09:54:31.305Z"
   },
   {
    "duration": 14,
    "start_time": "2023-06-05T09:54:31.665Z"
   },
   {
    "duration": 42,
    "start_time": "2023-06-05T09:54:31.681Z"
   },
   {
    "duration": 30,
    "start_time": "2023-06-05T09:54:31.724Z"
   },
   {
    "duration": 45,
    "start_time": "2023-06-05T09:54:31.756Z"
   },
   {
    "duration": 27,
    "start_time": "2023-06-05T09:54:31.802Z"
   },
   {
    "duration": 58,
    "start_time": "2023-06-05T09:54:31.830Z"
   },
   {
    "duration": 50,
    "start_time": "2023-06-05T09:54:31.889Z"
   },
   {
    "duration": 54,
    "start_time": "2023-06-05T09:54:31.940Z"
   },
   {
    "duration": 96,
    "start_time": "2023-06-05T09:54:31.995Z"
   },
   {
    "duration": 26,
    "start_time": "2023-06-05T09:54:32.093Z"
   },
   {
    "duration": 74,
    "start_time": "2023-06-05T09:54:32.120Z"
   },
   {
    "duration": 4,
    "start_time": "2023-06-05T09:54:32.196Z"
   },
   {
    "duration": 45,
    "start_time": "2023-06-05T09:54:32.202Z"
   },
   {
    "duration": 12,
    "start_time": "2023-06-05T09:54:32.249Z"
   },
   {
    "duration": 21,
    "start_time": "2023-06-05T09:54:32.263Z"
   },
   {
    "duration": 1353,
    "start_time": "2023-06-05T09:54:32.287Z"
   },
   {
    "duration": 2,
    "start_time": "2023-06-05T09:54:33.642Z"
   },
   {
    "duration": 29,
    "start_time": "2023-06-05T09:54:33.646Z"
   },
   {
    "duration": 38,
    "start_time": "2023-06-05T09:54:33.677Z"
   },
   {
    "duration": 8,
    "start_time": "2023-06-05T09:54:33.716Z"
   },
   {
    "duration": 8,
    "start_time": "2023-06-05T09:54:33.726Z"
   },
   {
    "duration": 5,
    "start_time": "2023-06-05T09:54:33.736Z"
   },
   {
    "duration": 18462,
    "start_time": "2023-06-05T09:54:33.742Z"
   },
   {
    "duration": 3,
    "start_time": "2023-06-05T09:54:52.215Z"
   },
   {
    "duration": 43,
    "start_time": "2023-06-05T09:54:52.220Z"
   },
   {
    "duration": 14,
    "start_time": "2023-06-05T09:54:52.265Z"
   },
   {
    "duration": 6104,
    "start_time": "2023-06-05T09:54:52.313Z"
   },
   {
    "duration": 3,
    "start_time": "2023-06-05T09:54:58.420Z"
   },
   {
    "duration": 37416,
    "start_time": "2023-06-05T09:54:58.425Z"
   },
   {
    "duration": 4,
    "start_time": "2023-06-05T09:55:35.842Z"
   },
   {
    "duration": 12,
    "start_time": "2023-06-05T09:55:35.848Z"
   },
   {
    "duration": 3333,
    "start_time": "2023-06-05T09:55:35.862Z"
   },
   {
    "duration": 4,
    "start_time": "2023-06-05T09:55:39.197Z"
   },
   {
    "duration": 279,
    "start_time": "2023-06-05T09:55:39.202Z"
   },
   {
    "duration": 4,
    "start_time": "2023-06-05T09:56:14.657Z"
   },
   {
    "duration": 3451,
    "start_time": "2023-06-05T09:56:14.993Z"
   },
   {
    "duration": 3,
    "start_time": "2023-06-05T10:31:19.870Z"
   },
   {
    "duration": 3,
    "start_time": "2023-06-05T10:31:20.301Z"
   },
   {
    "duration": 3,
    "start_time": "2023-06-05T10:31:20.468Z"
   },
   {
    "duration": 168,
    "start_time": "2023-06-05T10:31:20.873Z"
   },
   {
    "duration": 26,
    "start_time": "2023-06-05T10:31:21.946Z"
   },
   {
    "duration": 9,
    "start_time": "2023-06-05T10:31:22.120Z"
   },
   {
    "duration": 5,
    "start_time": "2023-06-05T10:31:22.295Z"
   },
   {
    "duration": 163,
    "start_time": "2023-06-05T10:31:22.462Z"
   },
   {
    "duration": 8,
    "start_time": "2023-06-05T10:31:22.969Z"
   },
   {
    "duration": 29,
    "start_time": "2023-06-05T10:31:23.350Z"
   },
   {
    "duration": 11,
    "start_time": "2023-06-05T10:31:23.517Z"
   },
   {
    "duration": 1162,
    "start_time": "2023-06-05T10:31:23.644Z"
   },
   {
    "duration": 29,
    "start_time": "2023-06-05T10:31:24.807Z"
   },
   {
    "duration": 19,
    "start_time": "2023-06-05T10:31:24.838Z"
   },
   {
    "duration": 11,
    "start_time": "2023-06-05T10:31:24.859Z"
   },
   {
    "duration": 179,
    "start_time": "2023-06-05T10:31:24.872Z"
   },
   {
    "duration": 5,
    "start_time": "2023-06-05T10:31:25.053Z"
   },
   {
    "duration": 172,
    "start_time": "2023-06-05T10:31:25.060Z"
   },
   {
    "duration": 21,
    "start_time": "2023-06-05T10:31:25.754Z"
   },
   {
    "duration": 610,
    "start_time": "2023-06-05T10:31:25.945Z"
   },
   {
    "duration": 24,
    "start_time": "2023-06-05T10:31:26.557Z"
   },
   {
    "duration": 5,
    "start_time": "2023-06-05T10:31:27.815Z"
   },
   {
    "duration": 6,
    "start_time": "2023-06-05T10:31:28.021Z"
   },
   {
    "duration": 3,
    "start_time": "2023-06-05T10:31:28.314Z"
   },
   {
    "duration": 345,
    "start_time": "2023-06-05T10:31:28.592Z"
   },
   {
    "duration": 13,
    "start_time": "2023-06-05T10:31:30.772Z"
   },
   {
    "duration": 14,
    "start_time": "2023-06-05T10:31:30.995Z"
   },
   {
    "duration": 6,
    "start_time": "2023-06-05T10:31:31.772Z"
   },
   {
    "duration": 5,
    "start_time": "2023-06-05T10:31:33.250Z"
   },
   {
    "duration": 5,
    "start_time": "2023-06-05T10:31:34.047Z"
   },
   {
    "duration": 14,
    "start_time": "2023-06-05T10:31:40.937Z"
   },
   {
    "duration": 6,
    "start_time": "2023-06-05T10:31:41.452Z"
   },
   {
    "duration": 8,
    "start_time": "2023-06-05T10:31:42.268Z"
   },
   {
    "duration": 40,
    "start_time": "2023-06-05T10:31:43.763Z"
   },
   {
    "duration": 4,
    "start_time": "2023-06-05T10:31:45.977Z"
   },
   {
    "duration": 60,
    "start_time": "2023-06-05T10:31:48.133Z"
   },
   {
    "duration": 4,
    "start_time": "2023-06-05T10:31:49.125Z"
   },
   {
    "duration": 22,
    "start_time": "2023-06-05T10:31:50.207Z"
   },
   {
    "duration": 3,
    "start_time": "2023-06-05T10:31:50.472Z"
   },
   {
    "duration": 12,
    "start_time": "2023-06-05T10:31:52.550Z"
   },
   {
    "duration": 1293,
    "start_time": "2023-06-05T10:31:55.422Z"
   },
   {
    "duration": 10,
    "start_time": "2023-06-05T10:32:57.108Z"
   },
   {
    "duration": 10,
    "start_time": "2023-06-05T10:34:23.991Z"
   },
   {
    "duration": 10,
    "start_time": "2023-06-05T10:34:33.533Z"
   },
   {
    "duration": 5,
    "start_time": "2023-06-05T10:39:01.175Z"
   },
   {
    "duration": 11,
    "start_time": "2023-06-05T10:39:02.224Z"
   },
   {
    "duration": 1056,
    "start_time": "2023-06-05T10:39:16.506Z"
   },
   {
    "duration": 196,
    "start_time": "2023-06-05T10:39:17.563Z"
   },
   {
    "duration": 59,
    "start_time": "2023-06-05T10:39:17.760Z"
   },
   {
    "duration": 169,
    "start_time": "2023-06-05T10:39:17.821Z"
   },
   {
    "duration": 32,
    "start_time": "2023-06-05T10:39:17.991Z"
   },
   {
    "duration": 8,
    "start_time": "2023-06-05T10:39:18.024Z"
   },
   {
    "duration": 12,
    "start_time": "2023-06-05T10:39:18.033Z"
   },
   {
    "duration": 138,
    "start_time": "2023-06-05T10:39:18.047Z"
   },
   {
    "duration": 8,
    "start_time": "2023-06-05T10:39:18.186Z"
   },
   {
    "duration": 31,
    "start_time": "2023-06-05T10:39:18.205Z"
   },
   {
    "duration": 11,
    "start_time": "2023-06-05T10:39:18.238Z"
   },
   {
    "duration": 1235,
    "start_time": "2023-06-05T10:39:18.250Z"
   },
   {
    "duration": 30,
    "start_time": "2023-06-05T10:39:19.487Z"
   },
   {
    "duration": 20,
    "start_time": "2023-06-05T10:39:19.518Z"
   },
   {
    "duration": 6,
    "start_time": "2023-06-05T10:39:19.539Z"
   },
   {
    "duration": 179,
    "start_time": "2023-06-05T10:39:19.546Z"
   },
   {
    "duration": 5,
    "start_time": "2023-06-05T10:39:19.727Z"
   },
   {
    "duration": 196,
    "start_time": "2023-06-05T10:39:19.734Z"
   },
   {
    "duration": 23,
    "start_time": "2023-06-05T10:39:19.931Z"
   },
   {
    "duration": 656,
    "start_time": "2023-06-05T10:39:19.956Z"
   },
   {
    "duration": 24,
    "start_time": "2023-06-05T10:39:20.614Z"
   },
   {
    "duration": 5,
    "start_time": "2023-06-05T10:39:20.640Z"
   },
   {
    "duration": 34,
    "start_time": "2023-06-05T10:39:20.646Z"
   },
   {
    "duration": 7,
    "start_time": "2023-06-05T10:39:20.682Z"
   },
   {
    "duration": 368,
    "start_time": "2023-06-05T10:39:20.690Z"
   },
   {
    "duration": 13,
    "start_time": "2023-06-05T10:39:21.060Z"
   },
   {
    "duration": 14,
    "start_time": "2023-06-05T10:39:21.074Z"
   },
   {
    "duration": 5,
    "start_time": "2023-06-05T10:39:21.105Z"
   },
   {
    "duration": 17,
    "start_time": "2023-06-05T10:39:21.111Z"
   },
   {
    "duration": 826,
    "start_time": "2023-06-05T10:39:21.129Z"
   },
   {
    "duration": 0,
    "start_time": "2023-06-05T10:39:21.957Z"
   },
   {
    "duration": 0,
    "start_time": "2023-06-05T10:39:21.958Z"
   },
   {
    "duration": 0,
    "start_time": "2023-06-05T10:39:21.959Z"
   },
   {
    "duration": 0,
    "start_time": "2023-06-05T10:39:21.960Z"
   },
   {
    "duration": 0,
    "start_time": "2023-06-05T10:39:21.961Z"
   },
   {
    "duration": 0,
    "start_time": "2023-06-05T10:39:21.962Z"
   },
   {
    "duration": 0,
    "start_time": "2023-06-05T10:39:21.963Z"
   },
   {
    "duration": 0,
    "start_time": "2023-06-05T10:39:21.963Z"
   },
   {
    "duration": 0,
    "start_time": "2023-06-05T10:39:21.964Z"
   },
   {
    "duration": 0,
    "start_time": "2023-06-05T10:39:21.965Z"
   },
   {
    "duration": 0,
    "start_time": "2023-06-05T10:39:21.966Z"
   },
   {
    "duration": 0,
    "start_time": "2023-06-05T10:39:21.967Z"
   },
   {
    "duration": 0,
    "start_time": "2023-06-05T10:39:21.968Z"
   },
   {
    "duration": 0,
    "start_time": "2023-06-05T10:39:21.969Z"
   },
   {
    "duration": 0,
    "start_time": "2023-06-05T10:39:21.969Z"
   },
   {
    "duration": 0,
    "start_time": "2023-06-05T10:39:21.970Z"
   },
   {
    "duration": 0,
    "start_time": "2023-06-05T10:39:21.971Z"
   },
   {
    "duration": 0,
    "start_time": "2023-06-05T10:39:21.972Z"
   },
   {
    "duration": 0,
    "start_time": "2023-06-05T10:39:21.973Z"
   },
   {
    "duration": 0,
    "start_time": "2023-06-05T10:39:21.974Z"
   },
   {
    "duration": 0,
    "start_time": "2023-06-05T10:39:21.975Z"
   },
   {
    "duration": 0,
    "start_time": "2023-06-05T10:39:21.976Z"
   },
   {
    "duration": 0,
    "start_time": "2023-06-05T10:39:21.976Z"
   },
   {
    "duration": 0,
    "start_time": "2023-06-05T10:39:21.978Z"
   },
   {
    "duration": 0,
    "start_time": "2023-06-05T10:39:21.979Z"
   },
   {
    "duration": 0,
    "start_time": "2023-06-05T10:39:21.980Z"
   },
   {
    "duration": 0,
    "start_time": "2023-06-05T10:39:21.981Z"
   },
   {
    "duration": 0,
    "start_time": "2023-06-05T10:39:21.982Z"
   },
   {
    "duration": 0,
    "start_time": "2023-06-05T10:39:21.982Z"
   },
   {
    "duration": 0,
    "start_time": "2023-06-05T10:39:21.983Z"
   },
   {
    "duration": 1077,
    "start_time": "2023-06-05T10:39:38.429Z"
   },
   {
    "duration": 203,
    "start_time": "2023-06-05T10:39:39.508Z"
   },
   {
    "duration": 57,
    "start_time": "2023-06-05T10:39:39.713Z"
   },
   {
    "duration": 173,
    "start_time": "2023-06-05T10:39:39.772Z"
   },
   {
    "duration": 35,
    "start_time": "2023-06-05T10:39:39.946Z"
   },
   {
    "duration": 7,
    "start_time": "2023-06-05T10:39:39.983Z"
   },
   {
    "duration": 15,
    "start_time": "2023-06-05T10:39:39.991Z"
   },
   {
    "duration": 136,
    "start_time": "2023-06-05T10:39:40.007Z"
   },
   {
    "duration": 7,
    "start_time": "2023-06-05T10:39:40.145Z"
   },
   {
    "duration": 26,
    "start_time": "2023-06-05T10:39:40.155Z"
   },
   {
    "duration": 27,
    "start_time": "2023-06-05T10:39:40.183Z"
   },
   {
    "duration": 1215,
    "start_time": "2023-06-05T10:39:40.211Z"
   },
   {
    "duration": 37,
    "start_time": "2023-06-05T10:39:41.427Z"
   },
   {
    "duration": 32,
    "start_time": "2023-06-05T10:39:41.466Z"
   },
   {
    "duration": 8,
    "start_time": "2023-06-05T10:39:41.499Z"
   },
   {
    "duration": 192,
    "start_time": "2023-06-05T10:39:41.508Z"
   },
   {
    "duration": 6,
    "start_time": "2023-06-05T10:39:41.701Z"
   },
   {
    "duration": 169,
    "start_time": "2023-06-05T10:39:41.709Z"
   },
   {
    "duration": 28,
    "start_time": "2023-06-05T10:39:41.879Z"
   },
   {
    "duration": 704,
    "start_time": "2023-06-05T10:39:41.909Z"
   },
   {
    "duration": 29,
    "start_time": "2023-06-05T10:39:42.615Z"
   },
   {
    "duration": 4,
    "start_time": "2023-06-05T10:39:42.646Z"
   },
   {
    "duration": 12,
    "start_time": "2023-06-05T10:39:42.651Z"
   },
   {
    "duration": 3,
    "start_time": "2023-06-05T10:39:42.664Z"
   },
   {
    "duration": 377,
    "start_time": "2023-06-05T10:39:42.668Z"
   },
   {
    "duration": 13,
    "start_time": "2023-06-05T10:39:43.047Z"
   },
   {
    "duration": 12,
    "start_time": "2023-06-05T10:39:43.062Z"
   },
   {
    "duration": 16,
    "start_time": "2023-06-05T10:39:43.078Z"
   },
   {
    "duration": 25,
    "start_time": "2023-06-05T10:39:43.095Z"
   },
   {
    "duration": 10,
    "start_time": "2023-06-05T10:39:43.122Z"
   },
   {
    "duration": 26,
    "start_time": "2023-06-05T10:39:43.134Z"
   },
   {
    "duration": 21,
    "start_time": "2023-06-05T10:39:43.162Z"
   },
   {
    "duration": 14,
    "start_time": "2023-06-05T10:39:43.185Z"
   },
   {
    "duration": 46,
    "start_time": "2023-06-05T10:39:43.201Z"
   },
   {
    "duration": 4,
    "start_time": "2023-06-05T10:39:43.248Z"
   },
   {
    "duration": 67,
    "start_time": "2023-06-05T10:39:43.253Z"
   },
   {
    "duration": 3,
    "start_time": "2023-06-05T10:39:43.322Z"
   },
   {
    "duration": 23,
    "start_time": "2023-06-05T10:39:43.327Z"
   },
   {
    "duration": 4,
    "start_time": "2023-06-05T10:39:43.352Z"
   },
   {
    "duration": 10,
    "start_time": "2023-06-05T10:39:43.357Z"
   },
   {
    "duration": 1317,
    "start_time": "2023-06-05T10:39:43.369Z"
   },
   {
    "duration": 2,
    "start_time": "2023-06-05T10:39:44.688Z"
   },
   {
    "duration": 19,
    "start_time": "2023-06-05T10:39:44.691Z"
   },
   {
    "duration": 35,
    "start_time": "2023-06-05T10:39:44.712Z"
   },
   {
    "duration": 4,
    "start_time": "2023-06-05T10:39:44.749Z"
   },
   {
    "duration": 10,
    "start_time": "2023-06-05T10:39:44.754Z"
   },
   {
    "duration": 27,
    "start_time": "2023-06-05T10:39:44.765Z"
   },
   {
    "duration": 14407,
    "start_time": "2023-06-05T10:39:44.793Z"
   },
   {
    "duration": 2,
    "start_time": "2023-06-05T10:39:59.202Z"
   },
   {
    "duration": 27,
    "start_time": "2023-06-05T10:39:59.205Z"
   },
   {
    "duration": 3,
    "start_time": "2023-06-05T10:39:59.234Z"
   },
   {
    "duration": 4537,
    "start_time": "2023-06-05T10:39:59.238Z"
   },
   {
    "duration": 2,
    "start_time": "2023-06-05T10:40:03.777Z"
   },
   {
    "duration": 28311,
    "start_time": "2023-06-05T10:40:03.781Z"
   },
   {
    "duration": 4,
    "start_time": "2023-06-05T10:40:32.094Z"
   },
   {
    "duration": 17,
    "start_time": "2023-06-05T10:40:32.099Z"
   },
   {
    "duration": 3086,
    "start_time": "2023-06-05T10:40:32.117Z"
   },
   {
    "duration": 3,
    "start_time": "2023-06-05T10:40:35.204Z"
   },
   {
    "duration": 332,
    "start_time": "2023-06-05T10:40:35.208Z"
   },
   {
    "duration": 3,
    "start_time": "2023-06-05T11:00:53.645Z"
   },
   {
    "duration": 2,
    "start_time": "2023-06-05T11:00:54.111Z"
   },
   {
    "duration": 2,
    "start_time": "2023-06-05T11:00:54.293Z"
   },
   {
    "duration": 162,
    "start_time": "2023-06-05T11:00:54.667Z"
   },
   {
    "duration": 30,
    "start_time": "2023-06-05T11:00:55.373Z"
   },
   {
    "duration": 8,
    "start_time": "2023-06-05T11:00:55.572Z"
   },
   {
    "duration": 5,
    "start_time": "2023-06-05T11:00:55.713Z"
   },
   {
    "duration": 115,
    "start_time": "2023-06-05T11:00:55.880Z"
   },
   {
    "duration": 9,
    "start_time": "2023-06-05T11:00:56.229Z"
   },
   {
    "duration": 27,
    "start_time": "2023-06-05T11:00:56.847Z"
   },
   {
    "duration": 11,
    "start_time": "2023-06-05T11:00:57.236Z"
   },
   {
    "duration": 1066,
    "start_time": "2023-06-05T11:00:57.427Z"
   },
   {
    "duration": 45,
    "start_time": "2023-06-05T11:00:58.494Z"
   },
   {
    "duration": 32,
    "start_time": "2023-06-05T11:00:58.541Z"
   },
   {
    "duration": 34,
    "start_time": "2023-06-05T11:00:58.575Z"
   },
   {
    "duration": 172,
    "start_time": "2023-06-05T11:00:58.611Z"
   },
   {
    "duration": 6,
    "start_time": "2023-06-05T11:00:58.784Z"
   },
   {
    "duration": 168,
    "start_time": "2023-06-05T11:00:58.903Z"
   },
   {
    "duration": 23,
    "start_time": "2023-06-05T11:00:59.234Z"
   },
   {
    "duration": 638,
    "start_time": "2023-06-05T11:00:59.408Z"
   },
   {
    "duration": 24,
    "start_time": "2023-06-05T11:01:00.048Z"
   },
   {
    "duration": 5,
    "start_time": "2023-06-05T11:01:00.312Z"
   },
   {
    "duration": 8,
    "start_time": "2023-06-05T11:01:00.469Z"
   },
   {
    "duration": 3,
    "start_time": "2023-06-05T11:01:00.621Z"
   },
   {
    "duration": 376,
    "start_time": "2023-06-05T11:01:00.781Z"
   },
   {
    "duration": 13,
    "start_time": "2023-06-05T11:01:02.054Z"
   },
   {
    "duration": 15,
    "start_time": "2023-06-05T11:01:02.500Z"
   },
   {
    "duration": 6,
    "start_time": "2023-06-05T11:01:03.077Z"
   },
   {
    "duration": 13,
    "start_time": "2023-06-05T11:01:03.712Z"
   },
   {
    "duration": 4,
    "start_time": "2023-06-05T11:01:05.725Z"
   },
   {
    "duration": 14,
    "start_time": "2023-06-05T11:03:12.825Z"
   },
   {
    "duration": 8,
    "start_time": "2023-06-05T11:03:13.291Z"
   },
   {
    "duration": 7,
    "start_time": "2023-06-05T11:03:13.688Z"
   },
   {
    "duration": 137,
    "start_time": "2023-06-05T11:03:15.241Z"
   },
   {
    "duration": 4,
    "start_time": "2023-06-05T11:03:15.637Z"
   },
   {
    "duration": 60,
    "start_time": "2023-06-05T11:03:15.902Z"
   },
   {
    "duration": 4,
    "start_time": "2023-06-05T11:03:16.074Z"
   },
   {
    "duration": 31,
    "start_time": "2023-06-05T11:03:17.129Z"
   },
   {
    "duration": 4,
    "start_time": "2023-06-05T11:03:17.308Z"
   },
   {
    "duration": 10,
    "start_time": "2023-06-05T11:03:18.911Z"
   },
   {
    "duration": 1282,
    "start_time": "2023-06-05T11:03:30.693Z"
   },
   {
    "duration": 3,
    "start_time": "2023-06-05T11:03:33.076Z"
   },
   {
    "duration": 2,
    "start_time": "2023-06-05T11:03:33.561Z"
   },
   {
    "duration": 22,
    "start_time": "2023-06-05T11:03:34.307Z"
   },
   {
    "duration": 3,
    "start_time": "2023-06-05T11:03:40.080Z"
   },
   {
    "duration": 5,
    "start_time": "2023-06-05T11:03:41.098Z"
   },
   {
    "duration": 3,
    "start_time": "2023-06-05T11:03:41.612Z"
   },
   {
    "duration": 16182,
    "start_time": "2023-06-05T11:03:42.056Z"
   },
   {
    "duration": 3,
    "start_time": "2023-06-05T11:03:58.240Z"
   },
   {
    "duration": 36,
    "start_time": "2023-06-05T11:03:58.244Z"
   },
   {
    "duration": 2,
    "start_time": "2023-06-05T11:03:58.307Z"
   },
   {
    "duration": 4560,
    "start_time": "2023-06-05T11:03:58.311Z"
   },
   {
    "duration": 1127,
    "start_time": "2023-08-03T14:10:20.352Z"
   },
   {
    "duration": 285,
    "start_time": "2023-08-03T14:10:21.480Z"
   },
   {
    "duration": 64,
    "start_time": "2023-08-03T14:10:21.766Z"
   },
   {
    "duration": 840,
    "start_time": "2023-08-03T14:10:21.832Z"
   },
   {
    "duration": 56,
    "start_time": "2023-08-03T14:10:22.674Z"
   },
   {
    "duration": 10,
    "start_time": "2023-08-03T14:10:22.732Z"
   },
   {
    "duration": 6,
    "start_time": "2023-08-03T14:10:22.744Z"
   },
   {
    "duration": 195,
    "start_time": "2023-08-03T14:10:22.752Z"
   },
   {
    "duration": 10,
    "start_time": "2023-08-03T14:10:22.949Z"
   },
   {
    "duration": 51,
    "start_time": "2023-08-03T14:10:22.962Z"
   },
   {
    "duration": 28,
    "start_time": "2023-08-03T14:10:23.014Z"
   },
   {
    "duration": 1330,
    "start_time": "2023-08-03T14:10:23.044Z"
   },
   {
    "duration": 43,
    "start_time": "2023-08-03T14:10:24.376Z"
   },
   {
    "duration": 35,
    "start_time": "2023-08-03T14:10:24.420Z"
   },
   {
    "duration": 7,
    "start_time": "2023-08-03T14:10:24.456Z"
   },
   {
    "duration": 182,
    "start_time": "2023-08-03T14:10:24.465Z"
   },
   {
    "duration": 5,
    "start_time": "2023-08-03T14:10:24.649Z"
   },
   {
    "duration": 200,
    "start_time": "2023-08-03T14:10:24.655Z"
   },
   {
    "duration": 23,
    "start_time": "2023-08-03T14:10:24.857Z"
   },
   {
    "duration": 750,
    "start_time": "2023-08-03T14:10:24.882Z"
   },
   {
    "duration": 26,
    "start_time": "2023-08-03T14:10:25.633Z"
   },
   {
    "duration": 15,
    "start_time": "2023-08-03T14:10:25.661Z"
   },
   {
    "duration": 17,
    "start_time": "2023-08-03T14:10:25.678Z"
   },
   {
    "duration": 14,
    "start_time": "2023-08-03T14:10:25.705Z"
   },
   {
    "duration": 425,
    "start_time": "2023-08-03T14:10:25.721Z"
   },
   {
    "duration": 20,
    "start_time": "2023-08-03T14:10:26.148Z"
   },
   {
    "duration": 34,
    "start_time": "2023-08-03T14:10:26.170Z"
   },
   {
    "duration": 7,
    "start_time": "2023-08-03T14:10:26.210Z"
   },
   {
    "duration": 26,
    "start_time": "2023-08-03T14:10:26.219Z"
   },
   {
    "duration": 7,
    "start_time": "2023-08-03T14:10:26.247Z"
   },
   {
    "duration": 30,
    "start_time": "2023-08-03T14:10:26.256Z"
   },
   {
    "duration": 17,
    "start_time": "2023-08-03T14:10:26.288Z"
   },
   {
    "duration": 19,
    "start_time": "2023-08-03T14:10:26.307Z"
   },
   {
    "duration": 53,
    "start_time": "2023-08-03T14:10:26.328Z"
   },
   {
    "duration": 4,
    "start_time": "2023-08-03T14:10:26.383Z"
   },
   {
    "duration": 77,
    "start_time": "2023-08-03T14:10:26.400Z"
   },
   {
    "duration": 4,
    "start_time": "2023-08-03T14:10:26.479Z"
   },
   {
    "duration": 40,
    "start_time": "2023-08-03T14:10:26.486Z"
   },
   {
    "duration": 4,
    "start_time": "2023-08-03T14:10:26.528Z"
   },
   {
    "duration": 13,
    "start_time": "2023-08-03T14:10:26.534Z"
   },
   {
    "duration": 1355,
    "start_time": "2023-08-03T14:10:26.549Z"
   },
   {
    "duration": 3,
    "start_time": "2023-08-03T14:10:27.905Z"
   },
   {
    "duration": 13,
    "start_time": "2023-08-03T14:10:27.909Z"
   },
   {
    "duration": 26,
    "start_time": "2023-08-03T14:10:27.924Z"
   },
   {
    "duration": 4,
    "start_time": "2023-08-03T14:10:27.952Z"
   },
   {
    "duration": 11,
    "start_time": "2023-08-03T14:10:27.958Z"
   },
   {
    "duration": 17,
    "start_time": "2023-08-03T14:10:27.971Z"
   },
   {
    "duration": 16971,
    "start_time": "2023-08-03T14:10:27.989Z"
   },
   {
    "duration": 3,
    "start_time": "2023-08-03T14:10:44.961Z"
   },
   {
    "duration": 86,
    "start_time": "2023-08-03T14:10:44.965Z"
   },
   {
    "duration": 47,
    "start_time": "2023-08-03T14:10:45.052Z"
   },
   {
    "duration": 5692,
    "start_time": "2023-08-03T14:10:45.101Z"
   },
   {
    "duration": 2,
    "start_time": "2023-08-03T14:10:50.799Z"
   },
   {
    "duration": 35023,
    "start_time": "2023-08-03T14:10:50.803Z"
   },
   {
    "duration": 7,
    "start_time": "2023-08-03T14:11:25.827Z"
   },
   {
    "duration": 34,
    "start_time": "2023-08-03T14:11:25.835Z"
   },
   {
    "duration": 4923,
    "start_time": "2023-08-03T14:11:25.870Z"
   },
   {
    "duration": 4,
    "start_time": "2023-08-03T14:11:30.795Z"
   },
   {
    "duration": 348,
    "start_time": "2023-08-03T14:11:30.800Z"
   }
  ],
  "kernelspec": {
   "display_name": "Python 3 (ipykernel)",
   "language": "python",
   "name": "python3"
  },
  "language_info": {
   "codemirror_mode": {
    "name": "ipython",
    "version": 3
   },
   "file_extension": ".py",
   "mimetype": "text/x-python",
   "name": "python",
   "nbconvert_exporter": "python",
   "pygments_lexer": "ipython3",
   "version": "3.9.5"
  },
  "toc": {
   "base_numbering": 1,
   "nav_menu": {},
   "number_sections": true,
   "sideBar": true,
   "skip_h1_title": true,
   "title_cell": "Table of Contents",
   "title_sidebar": "Contents",
   "toc_cell": false,
   "toc_position": {},
   "toc_section_display": true,
   "toc_window_display": false
  }
 },
 "nbformat": 4,
 "nbformat_minor": 5
}
