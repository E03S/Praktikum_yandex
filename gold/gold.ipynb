{
 "cells": [
  {
   "cell_type": "markdown",
   "metadata": {
    "toc": true
   },
   "source": [
    "<h1>Содержание<span class=\"tocSkip\"></span></h1>\n",
    "<div class=\"toc\"><ul class=\"toc-item\"><li><span><a href=\"#Подготовка-данных\" data-toc-modified-id=\"Подготовка-данных-1\"><span class=\"toc-item-num\">1&nbsp;&nbsp;</span>Подготовка данных</a></span></li><li><span><a href=\"#Анализ-данных\" data-toc-modified-id=\"Анализ-данных-2\"><span class=\"toc-item-num\">2&nbsp;&nbsp;</span>Анализ данных</a></span></li><li><span><a href=\"#Модель\" data-toc-modified-id=\"Модель-3\"><span class=\"toc-item-num\">3&nbsp;&nbsp;</span>Модель</a></span></li><li><span><a href=\"#Чек-лист-готовности-проекта\" data-toc-modified-id=\"Чек-лист-готовности-проекта-4\"><span class=\"toc-item-num\">4&nbsp;&nbsp;</span>Чек-лист готовности проекта</a></span></li></ul></div>"
   ]
  },
  {
   "cell_type": "markdown",
   "metadata": {},
   "source": [
    "# Восстановление золота из руды"
   ]
  },
  {
   "cell_type": "markdown",
   "metadata": {},
   "source": [
    "Подготовьте прототип модели машинного обучения для «Цифры». Компания разрабатывает решения для эффективной работы промышленных предприятий.\n",
    "\n",
    "Модель должна предсказать коэффициент восстановления золота из золотосодержащей руды. Используйте данные с параметрами добычи и очистки. \n",
    "\n",
    "Модель поможет оптимизировать производство, чтобы не запускать предприятие с убыточными характеристиками.\n",
    "\n",
    "Вам нужно:\n",
    "\n",
    "1. Подготовить данные;\n",
    "2. Провести исследовательский анализ данных;\n",
    "3. Построить и обучить модель.\n",
    "\n",
    "Чтобы выполнить проект, обращайтесь к библиотекам *pandas*, *matplotlib* и *sklearn.* Вам поможет их документация."
   ]
  },
  {
   "cell_type": "markdown",
   "metadata": {},
   "source": [
    "## Подготовка данных"
   ]
  },
  {
   "cell_type": "code",
   "execution_count": 1,
   "metadata": {},
   "outputs": [],
   "source": [
    "import pandas as pd\n",
    "import numpy as np\n",
    "\n",
    "from sklearn.metrics import mean_absolute_error\n",
    "from sklearn.metrics import make_scorer\n",
    "\n",
    "from sklearn.ensemble import RandomForestRegressor\n",
    "from sklearn.linear_model import LinearRegression\n",
    "from sklearn.dummy import DummyRegressor\n",
    "\n",
    "from sklearn.model_selection import cross_val_score\n",
    "from sklearn.model_selection import GridSearchCV\n",
    "\n",
    "from seaborn import kdeplot"
   ]
  },
  {
   "cell_type": "code",
   "execution_count": 2,
   "metadata": {},
   "outputs": [],
   "source": [
    "train = pd.read_csv('/datasets/gold_recovery_train_new.csv')\n",
    "test = pd.read_csv('/datasets/gold_recovery_test_new.csv')\n",
    "full = pd.read_csv('/datasets/gold_recovery_full_new.csv')"
   ]
  },
  {
   "cell_type": "markdown",
   "metadata": {},
   "source": [
    "Рассмотрим данные"
   ]
  },
  {
   "cell_type": "code",
   "execution_count": 3,
   "metadata": {},
   "outputs": [
    {
     "name": "stdout",
     "output_type": "stream",
     "text": [
      "<class 'pandas.core.frame.DataFrame'>\n",
      "RangeIndex: 14149 entries, 0 to 14148\n",
      "Data columns (total 87 columns):\n",
      " #   Column                                              Non-Null Count  Dtype  \n",
      "---  ------                                              --------------  -----  \n",
      " 0   date                                                14149 non-null  object \n",
      " 1   final.output.concentrate_ag                         14148 non-null  float64\n",
      " 2   final.output.concentrate_pb                         14148 non-null  float64\n",
      " 3   final.output.concentrate_sol                        13938 non-null  float64\n",
      " 4   final.output.concentrate_au                         14149 non-null  float64\n",
      " 5   final.output.recovery                               14149 non-null  float64\n",
      " 6   final.output.tail_ag                                14149 non-null  float64\n",
      " 7   final.output.tail_pb                                14049 non-null  float64\n",
      " 8   final.output.tail_sol                               14144 non-null  float64\n",
      " 9   final.output.tail_au                                14149 non-null  float64\n",
      " 10  primary_cleaner.input.sulfate                       14129 non-null  float64\n",
      " 11  primary_cleaner.input.depressant                    14117 non-null  float64\n",
      " 12  primary_cleaner.input.feed_size                     14149 non-null  float64\n",
      " 13  primary_cleaner.input.xanthate                      14049 non-null  float64\n",
      " 14  primary_cleaner.output.concentrate_ag               14149 non-null  float64\n",
      " 15  primary_cleaner.output.concentrate_pb               14063 non-null  float64\n",
      " 16  primary_cleaner.output.concentrate_sol              13863 non-null  float64\n",
      " 17  primary_cleaner.output.concentrate_au               14149 non-null  float64\n",
      " 18  primary_cleaner.output.tail_ag                      14148 non-null  float64\n",
      " 19  primary_cleaner.output.tail_pb                      14134 non-null  float64\n",
      " 20  primary_cleaner.output.tail_sol                     14103 non-null  float64\n",
      " 21  primary_cleaner.output.tail_au                      14149 non-null  float64\n",
      " 22  primary_cleaner.state.floatbank8_a_air              14145 non-null  float64\n",
      " 23  primary_cleaner.state.floatbank8_a_level            14148 non-null  float64\n",
      " 24  primary_cleaner.state.floatbank8_b_air              14145 non-null  float64\n",
      " 25  primary_cleaner.state.floatbank8_b_level            14148 non-null  float64\n",
      " 26  primary_cleaner.state.floatbank8_c_air              14147 non-null  float64\n",
      " 27  primary_cleaner.state.floatbank8_c_level            14148 non-null  float64\n",
      " 28  primary_cleaner.state.floatbank8_d_air              14146 non-null  float64\n",
      " 29  primary_cleaner.state.floatbank8_d_level            14148 non-null  float64\n",
      " 30  rougher.calculation.sulfate_to_au_concentrate       14148 non-null  float64\n",
      " 31  rougher.calculation.floatbank10_sulfate_to_au_feed  14148 non-null  float64\n",
      " 32  rougher.calculation.floatbank11_sulfate_to_au_feed  14148 non-null  float64\n",
      " 33  rougher.calculation.au_pb_ratio                     14149 non-null  float64\n",
      " 34  rougher.input.feed_ag                               14149 non-null  float64\n",
      " 35  rougher.input.feed_pb                               14049 non-null  float64\n",
      " 36  rougher.input.feed_rate                             14141 non-null  float64\n",
      " 37  rougher.input.feed_size                             14005 non-null  float64\n",
      " 38  rougher.input.feed_sol                              14071 non-null  float64\n",
      " 39  rougher.input.feed_au                               14149 non-null  float64\n",
      " 40  rougher.input.floatbank10_sulfate                   14120 non-null  float64\n",
      " 41  rougher.input.floatbank10_xanthate                  14141 non-null  float64\n",
      " 42  rougher.input.floatbank11_sulfate                   14113 non-null  float64\n",
      " 43  rougher.input.floatbank11_xanthate                  13721 non-null  float64\n",
      " 44  rougher.output.concentrate_ag                       14149 non-null  float64\n",
      " 45  rougher.output.concentrate_pb                       14149 non-null  float64\n",
      " 46  rougher.output.concentrate_sol                      14127 non-null  float64\n",
      " 47  rougher.output.concentrate_au                       14149 non-null  float64\n",
      " 48  rougher.output.recovery                             14149 non-null  float64\n",
      " 49  rougher.output.tail_ag                              14148 non-null  float64\n",
      " 50  rougher.output.tail_pb                              14149 non-null  float64\n",
      " 51  rougher.output.tail_sol                             14149 non-null  float64\n",
      " 52  rougher.output.tail_au                              14149 non-null  float64\n",
      " 53  rougher.state.floatbank10_a_air                     14148 non-null  float64\n",
      " 54  rougher.state.floatbank10_a_level                   14148 non-null  float64\n",
      " 55  rougher.state.floatbank10_b_air                     14148 non-null  float64\n",
      " 56  rougher.state.floatbank10_b_level                   14148 non-null  float64\n",
      " 57  rougher.state.floatbank10_c_air                     14148 non-null  float64\n",
      " 58  rougher.state.floatbank10_c_level                   14148 non-null  float64\n",
      " 59  rougher.state.floatbank10_d_air                     14149 non-null  float64\n",
      " 60  rougher.state.floatbank10_d_level                   14149 non-null  float64\n",
      " 61  rougher.state.floatbank10_e_air                     13713 non-null  float64\n",
      " 62  rougher.state.floatbank10_e_level                   14149 non-null  float64\n",
      " 63  rougher.state.floatbank10_f_air                     14149 non-null  float64\n",
      " 64  rougher.state.floatbank10_f_level                   14149 non-null  float64\n",
      " 65  secondary_cleaner.output.tail_ag                    14147 non-null  float64\n",
      " 66  secondary_cleaner.output.tail_pb                    14139 non-null  float64\n",
      " 67  secondary_cleaner.output.tail_sol                   12544 non-null  float64\n",
      " 68  secondary_cleaner.output.tail_au                    14149 non-null  float64\n",
      " 69  secondary_cleaner.state.floatbank2_a_air            13932 non-null  float64\n",
      " 70  secondary_cleaner.state.floatbank2_a_level          14148 non-null  float64\n",
      " 71  secondary_cleaner.state.floatbank2_b_air            14128 non-null  float64\n",
      " 72  secondary_cleaner.state.floatbank2_b_level          14148 non-null  float64\n",
      " 73  secondary_cleaner.state.floatbank3_a_air            14145 non-null  float64\n",
      " 74  secondary_cleaner.state.floatbank3_a_level          14148 non-null  float64\n",
      " 75  secondary_cleaner.state.floatbank3_b_air            14148 non-null  float64\n",
      " 76  secondary_cleaner.state.floatbank3_b_level          14148 non-null  float64\n",
      " 77  secondary_cleaner.state.floatbank4_a_air            14143 non-null  float64\n",
      " 78  secondary_cleaner.state.floatbank4_a_level          14148 non-null  float64\n",
      " 79  secondary_cleaner.state.floatbank4_b_air            14148 non-null  float64\n",
      " 80  secondary_cleaner.state.floatbank4_b_level          14148 non-null  float64\n",
      " 81  secondary_cleaner.state.floatbank5_a_air            14148 non-null  float64\n",
      " 82  secondary_cleaner.state.floatbank5_a_level          14148 non-null  float64\n",
      " 83  secondary_cleaner.state.floatbank5_b_air            14148 non-null  float64\n",
      " 84  secondary_cleaner.state.floatbank5_b_level          14148 non-null  float64\n",
      " 85  secondary_cleaner.state.floatbank6_a_air            14147 non-null  float64\n",
      " 86  secondary_cleaner.state.floatbank6_a_level          14148 non-null  float64\n",
      "dtypes: float64(86), object(1)\n",
      "memory usage: 9.4+ MB\n",
      "None\n"
     ]
    },
    {
     "data": {
      "text/html": [
       "<div>\n",
       "<style scoped>\n",
       "    .dataframe tbody tr th:only-of-type {\n",
       "        vertical-align: middle;\n",
       "    }\n",
       "\n",
       "    .dataframe tbody tr th {\n",
       "        vertical-align: top;\n",
       "    }\n",
       "\n",
       "    .dataframe thead th {\n",
       "        text-align: right;\n",
       "    }\n",
       "</style>\n",
       "<table border=\"1\" class=\"dataframe\">\n",
       "  <thead>\n",
       "    <tr style=\"text-align: right;\">\n",
       "      <th></th>\n",
       "      <th>date</th>\n",
       "      <th>final.output.concentrate_ag</th>\n",
       "      <th>final.output.concentrate_pb</th>\n",
       "      <th>final.output.concentrate_sol</th>\n",
       "      <th>final.output.concentrate_au</th>\n",
       "      <th>final.output.recovery</th>\n",
       "      <th>final.output.tail_ag</th>\n",
       "      <th>final.output.tail_pb</th>\n",
       "      <th>final.output.tail_sol</th>\n",
       "      <th>final.output.tail_au</th>\n",
       "      <th>...</th>\n",
       "      <th>secondary_cleaner.state.floatbank4_a_air</th>\n",
       "      <th>secondary_cleaner.state.floatbank4_a_level</th>\n",
       "      <th>secondary_cleaner.state.floatbank4_b_air</th>\n",
       "      <th>secondary_cleaner.state.floatbank4_b_level</th>\n",
       "      <th>secondary_cleaner.state.floatbank5_a_air</th>\n",
       "      <th>secondary_cleaner.state.floatbank5_a_level</th>\n",
       "      <th>secondary_cleaner.state.floatbank5_b_air</th>\n",
       "      <th>secondary_cleaner.state.floatbank5_b_level</th>\n",
       "      <th>secondary_cleaner.state.floatbank6_a_air</th>\n",
       "      <th>secondary_cleaner.state.floatbank6_a_level</th>\n",
       "    </tr>\n",
       "  </thead>\n",
       "  <tbody>\n",
       "    <tr>\n",
       "      <th>249</th>\n",
       "      <td>2016-01-27 01:00:00</td>\n",
       "      <td>5.695072</td>\n",
       "      <td>10.874554</td>\n",
       "      <td>7.472660</td>\n",
       "      <td>45.297058</td>\n",
       "      <td>69.243334</td>\n",
       "      <td>11.434546</td>\n",
       "      <td>2.097967</td>\n",
       "      <td>17.464952</td>\n",
       "      <td>3.124930</td>\n",
       "      <td>...</td>\n",
       "      <td>14.994810</td>\n",
       "      <td>-550.789404</td>\n",
       "      <td>13.026961</td>\n",
       "      <td>-550.039211</td>\n",
       "      <td>10.005100</td>\n",
       "      <td>-600.245761</td>\n",
       "      <td>7.987370</td>\n",
       "      <td>-599.418943</td>\n",
       "      <td>11.942529</td>\n",
       "      <td>-599.097570</td>\n",
       "    </tr>\n",
       "    <tr>\n",
       "      <th>3558</th>\n",
       "      <td>2016-07-13 09:59:59</td>\n",
       "      <td>6.326910</td>\n",
       "      <td>10.945428</td>\n",
       "      <td>16.072064</td>\n",
       "      <td>42.008668</td>\n",
       "      <td>52.286761</td>\n",
       "      <td>8.509839</td>\n",
       "      <td>1.939656</td>\n",
       "      <td>11.365951</td>\n",
       "      <td>3.145759</td>\n",
       "      <td>...</td>\n",
       "      <td>14.947909</td>\n",
       "      <td>-399.543455</td>\n",
       "      <td>4.981157</td>\n",
       "      <td>-399.013350</td>\n",
       "      <td>9.935251</td>\n",
       "      <td>-301.357915</td>\n",
       "      <td>4.911127</td>\n",
       "      <td>-399.687719</td>\n",
       "      <td>24.984794</td>\n",
       "      <td>-451.229856</td>\n",
       "    </tr>\n",
       "    <tr>\n",
       "      <th>9758</th>\n",
       "      <td>2017-08-31 12:59:59</td>\n",
       "      <td>3.005500</td>\n",
       "      <td>11.814406</td>\n",
       "      <td>9.671744</td>\n",
       "      <td>46.382427</td>\n",
       "      <td>62.716335</td>\n",
       "      <td>6.110957</td>\n",
       "      <td>4.151190</td>\n",
       "      <td>13.774416</td>\n",
       "      <td>2.975744</td>\n",
       "      <td>...</td>\n",
       "      <td>13.978298</td>\n",
       "      <td>-501.451245</td>\n",
       "      <td>10.972512</td>\n",
       "      <td>-399.923073</td>\n",
       "      <td>13.983377</td>\n",
       "      <td>-501.369821</td>\n",
       "      <td>11.040378</td>\n",
       "      <td>-500.256530</td>\n",
       "      <td>14.994855</td>\n",
       "      <td>-500.968324</td>\n",
       "    </tr>\n",
       "    <tr>\n",
       "      <th>1889</th>\n",
       "      <td>2016-04-18 21:00:00</td>\n",
       "      <td>4.759732</td>\n",
       "      <td>10.376865</td>\n",
       "      <td>8.927999</td>\n",
       "      <td>46.487279</td>\n",
       "      <td>65.398220</td>\n",
       "      <td>8.163433</td>\n",
       "      <td>2.279054</td>\n",
       "      <td>12.239511</td>\n",
       "      <td>2.872482</td>\n",
       "      <td>...</td>\n",
       "      <td>13.996845</td>\n",
       "      <td>-499.953800</td>\n",
       "      <td>11.951851</td>\n",
       "      <td>-499.808658</td>\n",
       "      <td>12.977468</td>\n",
       "      <td>-499.474281</td>\n",
       "      <td>11.054713</td>\n",
       "      <td>-499.977419</td>\n",
       "      <td>19.988930</td>\n",
       "      <td>-500.059422</td>\n",
       "    </tr>\n",
       "    <tr>\n",
       "      <th>4375</th>\n",
       "      <td>2016-08-18 12:59:59</td>\n",
       "      <td>5.846858</td>\n",
       "      <td>9.443849</td>\n",
       "      <td>11.988641</td>\n",
       "      <td>44.984467</td>\n",
       "      <td>69.350046</td>\n",
       "      <td>10.652106</td>\n",
       "      <td>2.963806</td>\n",
       "      <td>11.225636</td>\n",
       "      <td>4.064642</td>\n",
       "      <td>...</td>\n",
       "      <td>18.023594</td>\n",
       "      <td>-399.922632</td>\n",
       "      <td>10.072223</td>\n",
       "      <td>-399.929963</td>\n",
       "      <td>14.998444</td>\n",
       "      <td>-398.242797</td>\n",
       "      <td>4.961322</td>\n",
       "      <td>-400.109599</td>\n",
       "      <td>19.978994</td>\n",
       "      <td>-500.114453</td>\n",
       "    </tr>\n",
       "  </tbody>\n",
       "</table>\n",
       "<p>5 rows × 87 columns</p>\n",
       "</div>"
      ],
      "text/plain": [
       "                     date  final.output.concentrate_ag  \\\n",
       "249   2016-01-27 01:00:00                     5.695072   \n",
       "3558  2016-07-13 09:59:59                     6.326910   \n",
       "9758  2017-08-31 12:59:59                     3.005500   \n",
       "1889  2016-04-18 21:00:00                     4.759732   \n",
       "4375  2016-08-18 12:59:59                     5.846858   \n",
       "\n",
       "      final.output.concentrate_pb  final.output.concentrate_sol  \\\n",
       "249                     10.874554                      7.472660   \n",
       "3558                    10.945428                     16.072064   \n",
       "9758                    11.814406                      9.671744   \n",
       "1889                    10.376865                      8.927999   \n",
       "4375                     9.443849                     11.988641   \n",
       "\n",
       "      final.output.concentrate_au  final.output.recovery  \\\n",
       "249                     45.297058              69.243334   \n",
       "3558                    42.008668              52.286761   \n",
       "9758                    46.382427              62.716335   \n",
       "1889                    46.487279              65.398220   \n",
       "4375                    44.984467              69.350046   \n",
       "\n",
       "      final.output.tail_ag  final.output.tail_pb  final.output.tail_sol  \\\n",
       "249              11.434546              2.097967              17.464952   \n",
       "3558              8.509839              1.939656              11.365951   \n",
       "9758              6.110957              4.151190              13.774416   \n",
       "1889              8.163433              2.279054              12.239511   \n",
       "4375             10.652106              2.963806              11.225636   \n",
       "\n",
       "      final.output.tail_au  ...  secondary_cleaner.state.floatbank4_a_air  \\\n",
       "249               3.124930  ...                                 14.994810   \n",
       "3558              3.145759  ...                                 14.947909   \n",
       "9758              2.975744  ...                                 13.978298   \n",
       "1889              2.872482  ...                                 13.996845   \n",
       "4375              4.064642  ...                                 18.023594   \n",
       "\n",
       "      secondary_cleaner.state.floatbank4_a_level  \\\n",
       "249                                  -550.789404   \n",
       "3558                                 -399.543455   \n",
       "9758                                 -501.451245   \n",
       "1889                                 -499.953800   \n",
       "4375                                 -399.922632   \n",
       "\n",
       "      secondary_cleaner.state.floatbank4_b_air  \\\n",
       "249                                  13.026961   \n",
       "3558                                  4.981157   \n",
       "9758                                 10.972512   \n",
       "1889                                 11.951851   \n",
       "4375                                 10.072223   \n",
       "\n",
       "      secondary_cleaner.state.floatbank4_b_level  \\\n",
       "249                                  -550.039211   \n",
       "3558                                 -399.013350   \n",
       "9758                                 -399.923073   \n",
       "1889                                 -499.808658   \n",
       "4375                                 -399.929963   \n",
       "\n",
       "      secondary_cleaner.state.floatbank5_a_air  \\\n",
       "249                                  10.005100   \n",
       "3558                                  9.935251   \n",
       "9758                                 13.983377   \n",
       "1889                                 12.977468   \n",
       "4375                                 14.998444   \n",
       "\n",
       "      secondary_cleaner.state.floatbank5_a_level  \\\n",
       "249                                  -600.245761   \n",
       "3558                                 -301.357915   \n",
       "9758                                 -501.369821   \n",
       "1889                                 -499.474281   \n",
       "4375                                 -398.242797   \n",
       "\n",
       "      secondary_cleaner.state.floatbank5_b_air  \\\n",
       "249                                   7.987370   \n",
       "3558                                  4.911127   \n",
       "9758                                 11.040378   \n",
       "1889                                 11.054713   \n",
       "4375                                  4.961322   \n",
       "\n",
       "      secondary_cleaner.state.floatbank5_b_level  \\\n",
       "249                                  -599.418943   \n",
       "3558                                 -399.687719   \n",
       "9758                                 -500.256530   \n",
       "1889                                 -499.977419   \n",
       "4375                                 -400.109599   \n",
       "\n",
       "      secondary_cleaner.state.floatbank6_a_air  \\\n",
       "249                                  11.942529   \n",
       "3558                                 24.984794   \n",
       "9758                                 14.994855   \n",
       "1889                                 19.988930   \n",
       "4375                                 19.978994   \n",
       "\n",
       "      secondary_cleaner.state.floatbank6_a_level  \n",
       "249                                  -599.097570  \n",
       "3558                                 -451.229856  \n",
       "9758                                 -500.968324  \n",
       "1889                                 -500.059422  \n",
       "4375                                 -500.114453  \n",
       "\n",
       "[5 rows x 87 columns]"
      ]
     },
     "metadata": {},
     "output_type": "display_data"
    }
   ],
   "source": [
    "print(train.info())\n",
    "display(train.sample(5))"
   ]
  },
  {
   "cell_type": "code",
   "execution_count": 4,
   "metadata": {
    "scrolled": true
   },
   "outputs": [
    {
     "name": "stdout",
     "output_type": "stream",
     "text": [
      "<class 'pandas.core.frame.DataFrame'>\n",
      "RangeIndex: 5290 entries, 0 to 5289\n",
      "Data columns (total 53 columns):\n",
      " #   Column                                      Non-Null Count  Dtype  \n",
      "---  ------                                      --------------  -----  \n",
      " 0   date                                        5290 non-null   object \n",
      " 1   primary_cleaner.input.sulfate               5286 non-null   float64\n",
      " 2   primary_cleaner.input.depressant            5285 non-null   float64\n",
      " 3   primary_cleaner.input.feed_size             5290 non-null   float64\n",
      " 4   primary_cleaner.input.xanthate              5286 non-null   float64\n",
      " 5   primary_cleaner.state.floatbank8_a_air      5290 non-null   float64\n",
      " 6   primary_cleaner.state.floatbank8_a_level    5290 non-null   float64\n",
      " 7   primary_cleaner.state.floatbank8_b_air      5290 non-null   float64\n",
      " 8   primary_cleaner.state.floatbank8_b_level    5290 non-null   float64\n",
      " 9   primary_cleaner.state.floatbank8_c_air      5290 non-null   float64\n",
      " 10  primary_cleaner.state.floatbank8_c_level    5290 non-null   float64\n",
      " 11  primary_cleaner.state.floatbank8_d_air      5290 non-null   float64\n",
      " 12  primary_cleaner.state.floatbank8_d_level    5290 non-null   float64\n",
      " 13  rougher.input.feed_ag                       5290 non-null   float64\n",
      " 14  rougher.input.feed_pb                       5290 non-null   float64\n",
      " 15  rougher.input.feed_rate                     5287 non-null   float64\n",
      " 16  rougher.input.feed_size                     5289 non-null   float64\n",
      " 17  rougher.input.feed_sol                      5269 non-null   float64\n",
      " 18  rougher.input.feed_au                       5290 non-null   float64\n",
      " 19  rougher.input.floatbank10_sulfate           5285 non-null   float64\n",
      " 20  rougher.input.floatbank10_xanthate          5290 non-null   float64\n",
      " 21  rougher.input.floatbank11_sulfate           5282 non-null   float64\n",
      " 22  rougher.input.floatbank11_xanthate          5265 non-null   float64\n",
      " 23  rougher.state.floatbank10_a_air             5290 non-null   float64\n",
      " 24  rougher.state.floatbank10_a_level           5290 non-null   float64\n",
      " 25  rougher.state.floatbank10_b_air             5290 non-null   float64\n",
      " 26  rougher.state.floatbank10_b_level           5290 non-null   float64\n",
      " 27  rougher.state.floatbank10_c_air             5290 non-null   float64\n",
      " 28  rougher.state.floatbank10_c_level           5290 non-null   float64\n",
      " 29  rougher.state.floatbank10_d_air             5290 non-null   float64\n",
      " 30  rougher.state.floatbank10_d_level           5290 non-null   float64\n",
      " 31  rougher.state.floatbank10_e_air             5290 non-null   float64\n",
      " 32  rougher.state.floatbank10_e_level           5290 non-null   float64\n",
      " 33  rougher.state.floatbank10_f_air             5290 non-null   float64\n",
      " 34  rougher.state.floatbank10_f_level           5290 non-null   float64\n",
      " 35  secondary_cleaner.state.floatbank2_a_air    5287 non-null   float64\n",
      " 36  secondary_cleaner.state.floatbank2_a_level  5290 non-null   float64\n",
      " 37  secondary_cleaner.state.floatbank2_b_air    5288 non-null   float64\n",
      " 38  secondary_cleaner.state.floatbank2_b_level  5290 non-null   float64\n",
      " 39  secondary_cleaner.state.floatbank3_a_air    5281 non-null   float64\n",
      " 40  secondary_cleaner.state.floatbank3_a_level  5290 non-null   float64\n",
      " 41  secondary_cleaner.state.floatbank3_b_air    5290 non-null   float64\n",
      " 42  secondary_cleaner.state.floatbank3_b_level  5290 non-null   float64\n",
      " 43  secondary_cleaner.state.floatbank4_a_air    5290 non-null   float64\n",
      " 44  secondary_cleaner.state.floatbank4_a_level  5290 non-null   float64\n",
      " 45  secondary_cleaner.state.floatbank4_b_air    5290 non-null   float64\n",
      " 46  secondary_cleaner.state.floatbank4_b_level  5290 non-null   float64\n",
      " 47  secondary_cleaner.state.floatbank5_a_air    5290 non-null   float64\n",
      " 48  secondary_cleaner.state.floatbank5_a_level  5290 non-null   float64\n",
      " 49  secondary_cleaner.state.floatbank5_b_air    5290 non-null   float64\n",
      " 50  secondary_cleaner.state.floatbank5_b_level  5290 non-null   float64\n",
      " 51  secondary_cleaner.state.floatbank6_a_air    5290 non-null   float64\n",
      " 52  secondary_cleaner.state.floatbank6_a_level  5290 non-null   float64\n",
      "dtypes: float64(52), object(1)\n",
      "memory usage: 2.1+ MB\n",
      "None\n"
     ]
    },
    {
     "data": {
      "text/html": [
       "<div>\n",
       "<style scoped>\n",
       "    .dataframe tbody tr th:only-of-type {\n",
       "        vertical-align: middle;\n",
       "    }\n",
       "\n",
       "    .dataframe tbody tr th {\n",
       "        vertical-align: top;\n",
       "    }\n",
       "\n",
       "    .dataframe thead th {\n",
       "        text-align: right;\n",
       "    }\n",
       "</style>\n",
       "<table border=\"1\" class=\"dataframe\">\n",
       "  <thead>\n",
       "    <tr style=\"text-align: right;\">\n",
       "      <th></th>\n",
       "      <th>date</th>\n",
       "      <th>primary_cleaner.input.sulfate</th>\n",
       "      <th>primary_cleaner.input.depressant</th>\n",
       "      <th>primary_cleaner.input.feed_size</th>\n",
       "      <th>primary_cleaner.input.xanthate</th>\n",
       "      <th>primary_cleaner.state.floatbank8_a_air</th>\n",
       "      <th>primary_cleaner.state.floatbank8_a_level</th>\n",
       "      <th>primary_cleaner.state.floatbank8_b_air</th>\n",
       "      <th>primary_cleaner.state.floatbank8_b_level</th>\n",
       "      <th>primary_cleaner.state.floatbank8_c_air</th>\n",
       "      <th>...</th>\n",
       "      <th>secondary_cleaner.state.floatbank4_a_air</th>\n",
       "      <th>secondary_cleaner.state.floatbank4_a_level</th>\n",
       "      <th>secondary_cleaner.state.floatbank4_b_air</th>\n",
       "      <th>secondary_cleaner.state.floatbank4_b_level</th>\n",
       "      <th>secondary_cleaner.state.floatbank5_a_air</th>\n",
       "      <th>secondary_cleaner.state.floatbank5_a_level</th>\n",
       "      <th>secondary_cleaner.state.floatbank5_b_air</th>\n",
       "      <th>secondary_cleaner.state.floatbank5_b_level</th>\n",
       "      <th>secondary_cleaner.state.floatbank6_a_air</th>\n",
       "      <th>secondary_cleaner.state.floatbank6_a_level</th>\n",
       "    </tr>\n",
       "  </thead>\n",
       "  <tbody>\n",
       "    <tr>\n",
       "      <th>1915</th>\n",
       "      <td>2016-12-01 14:59:59</td>\n",
       "      <td>219.904328</td>\n",
       "      <td>8.524649</td>\n",
       "      <td>7.10</td>\n",
       "      <td>1.496001</td>\n",
       "      <td>1498.985509</td>\n",
       "      <td>-499.921891</td>\n",
       "      <td>1501.987914</td>\n",
       "      <td>-499.440550</td>\n",
       "      <td>1503.272231</td>\n",
       "      <td>...</td>\n",
       "      <td>18.043935</td>\n",
       "      <td>-500.837653</td>\n",
       "      <td>15.975826</td>\n",
       "      <td>-500.266636</td>\n",
       "      <td>15.415065</td>\n",
       "      <td>-500.323686</td>\n",
       "      <td>12.028234</td>\n",
       "      <td>-500.096181</td>\n",
       "      <td>22.000581</td>\n",
       "      <td>-499.867008</td>\n",
       "    </tr>\n",
       "    <tr>\n",
       "      <th>5123</th>\n",
       "      <td>2017-12-23 17:59:59</td>\n",
       "      <td>226.122776</td>\n",
       "      <td>14.978960</td>\n",
       "      <td>7.60</td>\n",
       "      <td>1.283607</td>\n",
       "      <td>1599.075139</td>\n",
       "      <td>-400.273562</td>\n",
       "      <td>1601.174348</td>\n",
       "      <td>-407.524491</td>\n",
       "      <td>1377.807878</td>\n",
       "      <td>...</td>\n",
       "      <td>20.023738</td>\n",
       "      <td>-498.714066</td>\n",
       "      <td>15.064413</td>\n",
       "      <td>-499.716469</td>\n",
       "      <td>10.981089</td>\n",
       "      <td>-499.400692</td>\n",
       "      <td>7.941606</td>\n",
       "      <td>-500.056006</td>\n",
       "      <td>11.982941</td>\n",
       "      <td>-499.121686</td>\n",
       "    </tr>\n",
       "    <tr>\n",
       "      <th>4090</th>\n",
       "      <td>2017-11-08 21:59:59</td>\n",
       "      <td>242.190285</td>\n",
       "      <td>10.976608</td>\n",
       "      <td>7.93</td>\n",
       "      <td>1.706002</td>\n",
       "      <td>1600.761153</td>\n",
       "      <td>-500.565031</td>\n",
       "      <td>1601.026048</td>\n",
       "      <td>-507.066381</td>\n",
       "      <td>1486.948822</td>\n",
       "      <td>...</td>\n",
       "      <td>20.995834</td>\n",
       "      <td>-500.163855</td>\n",
       "      <td>18.937432</td>\n",
       "      <td>-502.798845</td>\n",
       "      <td>14.940412</td>\n",
       "      <td>-501.945285</td>\n",
       "      <td>9.572934</td>\n",
       "      <td>-499.884659</td>\n",
       "      <td>15.999222</td>\n",
       "      <td>-500.771418</td>\n",
       "    </tr>\n",
       "    <tr>\n",
       "      <th>162</th>\n",
       "      <td>2016-09-07 23:59:59</td>\n",
       "      <td>134.173942</td>\n",
       "      <td>7.996379</td>\n",
       "      <td>7.87</td>\n",
       "      <td>0.501864</td>\n",
       "      <td>1295.452943</td>\n",
       "      <td>-499.683259</td>\n",
       "      <td>1299.142031</td>\n",
       "      <td>-499.884498</td>\n",
       "      <td>1302.667131</td>\n",
       "      <td>...</td>\n",
       "      <td>8.004832</td>\n",
       "      <td>-500.165776</td>\n",
       "      <td>4.919914</td>\n",
       "      <td>-601.170383</td>\n",
       "      <td>7.894918</td>\n",
       "      <td>-600.317470</td>\n",
       "      <td>3.033896</td>\n",
       "      <td>-599.666283</td>\n",
       "      <td>20.026784</td>\n",
       "      <td>-599.903514</td>\n",
       "    </tr>\n",
       "    <tr>\n",
       "      <th>2755</th>\n",
       "      <td>2017-09-10 15:59:59</td>\n",
       "      <td>150.184820</td>\n",
       "      <td>5.020122</td>\n",
       "      <td>6.71</td>\n",
       "      <td>1.043625</td>\n",
       "      <td>1301.949870</td>\n",
       "      <td>-499.617367</td>\n",
       "      <td>1300.475399</td>\n",
       "      <td>-499.362875</td>\n",
       "      <td>1299.671728</td>\n",
       "      <td>...</td>\n",
       "      <td>12.673214</td>\n",
       "      <td>-505.421181</td>\n",
       "      <td>9.771336</td>\n",
       "      <td>-408.505423</td>\n",
       "      <td>12.683196</td>\n",
       "      <td>-499.504193</td>\n",
       "      <td>10.011462</td>\n",
       "      <td>-499.995963</td>\n",
       "      <td>13.633606</td>\n",
       "      <td>-499.490636</td>\n",
       "    </tr>\n",
       "  </tbody>\n",
       "</table>\n",
       "<p>5 rows × 53 columns</p>\n",
       "</div>"
      ],
      "text/plain": [
       "                     date  primary_cleaner.input.sulfate  \\\n",
       "1915  2016-12-01 14:59:59                     219.904328   \n",
       "5123  2017-12-23 17:59:59                     226.122776   \n",
       "4090  2017-11-08 21:59:59                     242.190285   \n",
       "162   2016-09-07 23:59:59                     134.173942   \n",
       "2755  2017-09-10 15:59:59                     150.184820   \n",
       "\n",
       "      primary_cleaner.input.depressant  primary_cleaner.input.feed_size  \\\n",
       "1915                          8.524649                             7.10   \n",
       "5123                         14.978960                             7.60   \n",
       "4090                         10.976608                             7.93   \n",
       "162                           7.996379                             7.87   \n",
       "2755                          5.020122                             6.71   \n",
       "\n",
       "      primary_cleaner.input.xanthate  primary_cleaner.state.floatbank8_a_air  \\\n",
       "1915                        1.496001                             1498.985509   \n",
       "5123                        1.283607                             1599.075139   \n",
       "4090                        1.706002                             1600.761153   \n",
       "162                         0.501864                             1295.452943   \n",
       "2755                        1.043625                             1301.949870   \n",
       "\n",
       "      primary_cleaner.state.floatbank8_a_level  \\\n",
       "1915                               -499.921891   \n",
       "5123                               -400.273562   \n",
       "4090                               -500.565031   \n",
       "162                                -499.683259   \n",
       "2755                               -499.617367   \n",
       "\n",
       "      primary_cleaner.state.floatbank8_b_air  \\\n",
       "1915                             1501.987914   \n",
       "5123                             1601.174348   \n",
       "4090                             1601.026048   \n",
       "162                              1299.142031   \n",
       "2755                             1300.475399   \n",
       "\n",
       "      primary_cleaner.state.floatbank8_b_level  \\\n",
       "1915                               -499.440550   \n",
       "5123                               -407.524491   \n",
       "4090                               -507.066381   \n",
       "162                                -499.884498   \n",
       "2755                               -499.362875   \n",
       "\n",
       "      primary_cleaner.state.floatbank8_c_air  ...  \\\n",
       "1915                             1503.272231  ...   \n",
       "5123                             1377.807878  ...   \n",
       "4090                             1486.948822  ...   \n",
       "162                              1302.667131  ...   \n",
       "2755                             1299.671728  ...   \n",
       "\n",
       "      secondary_cleaner.state.floatbank4_a_air  \\\n",
       "1915                                 18.043935   \n",
       "5123                                 20.023738   \n",
       "4090                                 20.995834   \n",
       "162                                   8.004832   \n",
       "2755                                 12.673214   \n",
       "\n",
       "      secondary_cleaner.state.floatbank4_a_level  \\\n",
       "1915                                 -500.837653   \n",
       "5123                                 -498.714066   \n",
       "4090                                 -500.163855   \n",
       "162                                  -500.165776   \n",
       "2755                                 -505.421181   \n",
       "\n",
       "      secondary_cleaner.state.floatbank4_b_air  \\\n",
       "1915                                 15.975826   \n",
       "5123                                 15.064413   \n",
       "4090                                 18.937432   \n",
       "162                                   4.919914   \n",
       "2755                                  9.771336   \n",
       "\n",
       "      secondary_cleaner.state.floatbank4_b_level  \\\n",
       "1915                                 -500.266636   \n",
       "5123                                 -499.716469   \n",
       "4090                                 -502.798845   \n",
       "162                                  -601.170383   \n",
       "2755                                 -408.505423   \n",
       "\n",
       "      secondary_cleaner.state.floatbank5_a_air  \\\n",
       "1915                                 15.415065   \n",
       "5123                                 10.981089   \n",
       "4090                                 14.940412   \n",
       "162                                   7.894918   \n",
       "2755                                 12.683196   \n",
       "\n",
       "      secondary_cleaner.state.floatbank5_a_level  \\\n",
       "1915                                 -500.323686   \n",
       "5123                                 -499.400692   \n",
       "4090                                 -501.945285   \n",
       "162                                  -600.317470   \n",
       "2755                                 -499.504193   \n",
       "\n",
       "      secondary_cleaner.state.floatbank5_b_air  \\\n",
       "1915                                 12.028234   \n",
       "5123                                  7.941606   \n",
       "4090                                  9.572934   \n",
       "162                                   3.033896   \n",
       "2755                                 10.011462   \n",
       "\n",
       "      secondary_cleaner.state.floatbank5_b_level  \\\n",
       "1915                                 -500.096181   \n",
       "5123                                 -500.056006   \n",
       "4090                                 -499.884659   \n",
       "162                                  -599.666283   \n",
       "2755                                 -499.995963   \n",
       "\n",
       "      secondary_cleaner.state.floatbank6_a_air  \\\n",
       "1915                                 22.000581   \n",
       "5123                                 11.982941   \n",
       "4090                                 15.999222   \n",
       "162                                  20.026784   \n",
       "2755                                 13.633606   \n",
       "\n",
       "      secondary_cleaner.state.floatbank6_a_level  \n",
       "1915                                 -499.867008  \n",
       "5123                                 -499.121686  \n",
       "4090                                 -500.771418  \n",
       "162                                  -599.903514  \n",
       "2755                                 -499.490636  \n",
       "\n",
       "[5 rows x 53 columns]"
      ]
     },
     "metadata": {},
     "output_type": "display_data"
    }
   ],
   "source": [
    "print(test.info())\n",
    "display(test.sample(5))"
   ]
  },
  {
   "cell_type": "markdown",
   "metadata": {},
   "source": [
    "В тестовой выборке нет output и calculation, т.е. никаких данных о рассчетах и характеристиках процесса "
   ]
  },
  {
   "cell_type": "code",
   "execution_count": 5,
   "metadata": {
    "scrolled": true
   },
   "outputs": [
    {
     "name": "stdout",
     "output_type": "stream",
     "text": [
      "<class 'pandas.core.frame.DataFrame'>\n",
      "RangeIndex: 19439 entries, 0 to 19438\n",
      "Data columns (total 87 columns):\n",
      " #   Column                                              Non-Null Count  Dtype  \n",
      "---  ------                                              --------------  -----  \n",
      " 0   date                                                19439 non-null  object \n",
      " 1   final.output.concentrate_ag                         19438 non-null  float64\n",
      " 2   final.output.concentrate_pb                         19438 non-null  float64\n",
      " 3   final.output.concentrate_sol                        19228 non-null  float64\n",
      " 4   final.output.concentrate_au                         19439 non-null  float64\n",
      " 5   final.output.recovery                               19439 non-null  float64\n",
      " 6   final.output.tail_ag                                19438 non-null  float64\n",
      " 7   final.output.tail_pb                                19338 non-null  float64\n",
      " 8   final.output.tail_sol                               19433 non-null  float64\n",
      " 9   final.output.tail_au                                19439 non-null  float64\n",
      " 10  primary_cleaner.input.sulfate                       19415 non-null  float64\n",
      " 11  primary_cleaner.input.depressant                    19402 non-null  float64\n",
      " 12  primary_cleaner.input.feed_size                     19439 non-null  float64\n",
      " 13  primary_cleaner.input.xanthate                      19335 non-null  float64\n",
      " 14  primary_cleaner.output.concentrate_ag               19439 non-null  float64\n",
      " 15  primary_cleaner.output.concentrate_pb               19323 non-null  float64\n",
      " 16  primary_cleaner.output.concentrate_sol              19069 non-null  float64\n",
      " 17  primary_cleaner.output.concentrate_au               19439 non-null  float64\n",
      " 18  primary_cleaner.output.tail_ag                      19435 non-null  float64\n",
      " 19  primary_cleaner.output.tail_pb                      19418 non-null  float64\n",
      " 20  primary_cleaner.output.tail_sol                     19377 non-null  float64\n",
      " 21  primary_cleaner.output.tail_au                      19439 non-null  float64\n",
      " 22  primary_cleaner.state.floatbank8_a_air              19435 non-null  float64\n",
      " 23  primary_cleaner.state.floatbank8_a_level            19438 non-null  float64\n",
      " 24  primary_cleaner.state.floatbank8_b_air              19435 non-null  float64\n",
      " 25  primary_cleaner.state.floatbank8_b_level            19438 non-null  float64\n",
      " 26  primary_cleaner.state.floatbank8_c_air              19437 non-null  float64\n",
      " 27  primary_cleaner.state.floatbank8_c_level            19438 non-null  float64\n",
      " 28  primary_cleaner.state.floatbank8_d_air              19436 non-null  float64\n",
      " 29  primary_cleaner.state.floatbank8_d_level            19438 non-null  float64\n",
      " 30  rougher.calculation.sulfate_to_au_concentrate       19437 non-null  float64\n",
      " 31  rougher.calculation.floatbank10_sulfate_to_au_feed  19437 non-null  float64\n",
      " 32  rougher.calculation.floatbank11_sulfate_to_au_feed  19437 non-null  float64\n",
      " 33  rougher.calculation.au_pb_ratio                     19439 non-null  float64\n",
      " 34  rougher.input.feed_ag                               19439 non-null  float64\n",
      " 35  rougher.input.feed_pb                               19339 non-null  float64\n",
      " 36  rougher.input.feed_rate                             19428 non-null  float64\n",
      " 37  rougher.input.feed_size                             19294 non-null  float64\n",
      " 38  rougher.input.feed_sol                              19340 non-null  float64\n",
      " 39  rougher.input.feed_au                               19439 non-null  float64\n",
      " 40  rougher.input.floatbank10_sulfate                   19405 non-null  float64\n",
      " 41  rougher.input.floatbank10_xanthate                  19431 non-null  float64\n",
      " 42  rougher.input.floatbank11_sulfate                   19395 non-null  float64\n",
      " 43  rougher.input.floatbank11_xanthate                  18986 non-null  float64\n",
      " 44  rougher.output.concentrate_ag                       19439 non-null  float64\n",
      " 45  rougher.output.concentrate_pb                       19439 non-null  float64\n",
      " 46  rougher.output.concentrate_sol                      19416 non-null  float64\n",
      " 47  rougher.output.concentrate_au                       19439 non-null  float64\n",
      " 48  rougher.output.recovery                             19439 non-null  float64\n",
      " 49  rougher.output.tail_ag                              19438 non-null  float64\n",
      " 50  rougher.output.tail_pb                              19439 non-null  float64\n",
      " 51  rougher.output.tail_sol                             19439 non-null  float64\n",
      " 52  rougher.output.tail_au                              19439 non-null  float64\n",
      " 53  rougher.state.floatbank10_a_air                     19438 non-null  float64\n",
      " 54  rougher.state.floatbank10_a_level                   19438 non-null  float64\n",
      " 55  rougher.state.floatbank10_b_air                     19438 non-null  float64\n",
      " 56  rougher.state.floatbank10_b_level                   19438 non-null  float64\n",
      " 57  rougher.state.floatbank10_c_air                     19438 non-null  float64\n",
      " 58  rougher.state.floatbank10_c_level                   19438 non-null  float64\n",
      " 59  rougher.state.floatbank10_d_air                     19439 non-null  float64\n",
      " 60  rougher.state.floatbank10_d_level                   19439 non-null  float64\n",
      " 61  rougher.state.floatbank10_e_air                     19003 non-null  float64\n",
      " 62  rougher.state.floatbank10_e_level                   19439 non-null  float64\n",
      " 63  rougher.state.floatbank10_f_air                     19439 non-null  float64\n",
      " 64  rougher.state.floatbank10_f_level                   19439 non-null  float64\n",
      " 65  secondary_cleaner.output.tail_ag                    19437 non-null  float64\n",
      " 66  secondary_cleaner.output.tail_pb                    19427 non-null  float64\n",
      " 67  secondary_cleaner.output.tail_sol                   17691 non-null  float64\n",
      " 68  secondary_cleaner.output.tail_au                    19439 non-null  float64\n",
      " 69  secondary_cleaner.state.floatbank2_a_air            19219 non-null  float64\n",
      " 70  secondary_cleaner.state.floatbank2_a_level          19438 non-null  float64\n",
      " 71  secondary_cleaner.state.floatbank2_b_air            19416 non-null  float64\n",
      " 72  secondary_cleaner.state.floatbank2_b_level          19438 non-null  float64\n",
      " 73  secondary_cleaner.state.floatbank3_a_air            19426 non-null  float64\n",
      " 74  secondary_cleaner.state.floatbank3_a_level          19438 non-null  float64\n",
      " 75  secondary_cleaner.state.floatbank3_b_air            19438 non-null  float64\n",
      " 76  secondary_cleaner.state.floatbank3_b_level          19438 non-null  float64\n",
      " 77  secondary_cleaner.state.floatbank4_a_air            19433 non-null  float64\n",
      " 78  secondary_cleaner.state.floatbank4_a_level          19438 non-null  float64\n",
      " 79  secondary_cleaner.state.floatbank4_b_air            19438 non-null  float64\n",
      " 80  secondary_cleaner.state.floatbank4_b_level          19438 non-null  float64\n",
      " 81  secondary_cleaner.state.floatbank5_a_air            19438 non-null  float64\n",
      " 82  secondary_cleaner.state.floatbank5_a_level          19438 non-null  float64\n",
      " 83  secondary_cleaner.state.floatbank5_b_air            19438 non-null  float64\n",
      " 84  secondary_cleaner.state.floatbank5_b_level          19438 non-null  float64\n",
      " 85  secondary_cleaner.state.floatbank6_a_air            19437 non-null  float64\n",
      " 86  secondary_cleaner.state.floatbank6_a_level          19438 non-null  float64\n",
      "dtypes: float64(86), object(1)\n",
      "memory usage: 12.9+ MB\n",
      "None\n"
     ]
    },
    {
     "data": {
      "text/html": [
       "<div>\n",
       "<style scoped>\n",
       "    .dataframe tbody tr th:only-of-type {\n",
       "        vertical-align: middle;\n",
       "    }\n",
       "\n",
       "    .dataframe tbody tr th {\n",
       "        vertical-align: top;\n",
       "    }\n",
       "\n",
       "    .dataframe thead th {\n",
       "        text-align: right;\n",
       "    }\n",
       "</style>\n",
       "<table border=\"1\" class=\"dataframe\">\n",
       "  <thead>\n",
       "    <tr style=\"text-align: right;\">\n",
       "      <th></th>\n",
       "      <th>date</th>\n",
       "      <th>final.output.concentrate_ag</th>\n",
       "      <th>final.output.concentrate_pb</th>\n",
       "      <th>final.output.concentrate_sol</th>\n",
       "      <th>final.output.concentrate_au</th>\n",
       "      <th>final.output.recovery</th>\n",
       "      <th>final.output.tail_ag</th>\n",
       "      <th>final.output.tail_pb</th>\n",
       "      <th>final.output.tail_sol</th>\n",
       "      <th>final.output.tail_au</th>\n",
       "      <th>...</th>\n",
       "      <th>secondary_cleaner.state.floatbank4_a_air</th>\n",
       "      <th>secondary_cleaner.state.floatbank4_a_level</th>\n",
       "      <th>secondary_cleaner.state.floatbank4_b_air</th>\n",
       "      <th>secondary_cleaner.state.floatbank4_b_level</th>\n",
       "      <th>secondary_cleaner.state.floatbank5_a_air</th>\n",
       "      <th>secondary_cleaner.state.floatbank5_a_level</th>\n",
       "      <th>secondary_cleaner.state.floatbank5_b_air</th>\n",
       "      <th>secondary_cleaner.state.floatbank5_b_level</th>\n",
       "      <th>secondary_cleaner.state.floatbank6_a_air</th>\n",
       "      <th>secondary_cleaner.state.floatbank6_a_level</th>\n",
       "    </tr>\n",
       "  </thead>\n",
       "  <tbody>\n",
       "    <tr>\n",
       "      <th>6946</th>\n",
       "      <td>2016-12-16 09:59:59</td>\n",
       "      <td>5.506764</td>\n",
       "      <td>8.952837</td>\n",
       "      <td>12.740754</td>\n",
       "      <td>44.789519</td>\n",
       "      <td>71.061853</td>\n",
       "      <td>12.344760</td>\n",
       "      <td>3.444166</td>\n",
       "      <td>7.204628</td>\n",
       "      <td>3.746639</td>\n",
       "      <td>...</td>\n",
       "      <td>16.987622</td>\n",
       "      <td>-500.233625</td>\n",
       "      <td>14.914701</td>\n",
       "      <td>-504.704268</td>\n",
       "      <td>17.046296</td>\n",
       "      <td>-500.403374</td>\n",
       "      <td>11.989519</td>\n",
       "      <td>-499.697806</td>\n",
       "      <td>20.973426</td>\n",
       "      <td>-500.260253</td>\n",
       "    </tr>\n",
       "    <tr>\n",
       "      <th>16835</th>\n",
       "      <td>2018-04-12 13:59:59</td>\n",
       "      <td>4.660003</td>\n",
       "      <td>8.162267</td>\n",
       "      <td>8.906735</td>\n",
       "      <td>47.875348</td>\n",
       "      <td>82.968368</td>\n",
       "      <td>12.768926</td>\n",
       "      <td>2.488483</td>\n",
       "      <td>6.466985</td>\n",
       "      <td>1.836589</td>\n",
       "      <td>...</td>\n",
       "      <td>23.005904</td>\n",
       "      <td>-502.604162</td>\n",
       "      <td>15.964322</td>\n",
       "      <td>-500.117601</td>\n",
       "      <td>18.046667</td>\n",
       "      <td>-501.373563</td>\n",
       "      <td>12.035478</td>\n",
       "      <td>-500.146844</td>\n",
       "      <td>12.981964</td>\n",
       "      <td>-500.676309</td>\n",
       "    </tr>\n",
       "    <tr>\n",
       "      <th>5986</th>\n",
       "      <td>2016-11-04 22:59:59</td>\n",
       "      <td>3.712091</td>\n",
       "      <td>10.406476</td>\n",
       "      <td>10.469988</td>\n",
       "      <td>46.465418</td>\n",
       "      <td>69.085302</td>\n",
       "      <td>7.841450</td>\n",
       "      <td>2.709056</td>\n",
       "      <td>10.944302</td>\n",
       "      <td>2.895283</td>\n",
       "      <td>...</td>\n",
       "      <td>14.993114</td>\n",
       "      <td>-501.456348</td>\n",
       "      <td>13.061716</td>\n",
       "      <td>-500.461075</td>\n",
       "      <td>17.375873</td>\n",
       "      <td>-499.913069</td>\n",
       "      <td>13.992913</td>\n",
       "      <td>-499.828767</td>\n",
       "      <td>21.976553</td>\n",
       "      <td>-500.832722</td>\n",
       "    </tr>\n",
       "    <tr>\n",
       "      <th>4061</th>\n",
       "      <td>2016-08-03 22:59:59</td>\n",
       "      <td>4.280660</td>\n",
       "      <td>10.898610</td>\n",
       "      <td>7.846398</td>\n",
       "      <td>44.105842</td>\n",
       "      <td>58.966012</td>\n",
       "      <td>7.727834</td>\n",
       "      <td>2.446389</td>\n",
       "      <td>7.133148</td>\n",
       "      <td>3.101218</td>\n",
       "      <td>...</td>\n",
       "      <td>19.956965</td>\n",
       "      <td>-400.135147</td>\n",
       "      <td>10.025701</td>\n",
       "      <td>-399.975433</td>\n",
       "      <td>9.839160</td>\n",
       "      <td>-400.782742</td>\n",
       "      <td>4.950314</td>\n",
       "      <td>-400.262082</td>\n",
       "      <td>22.993549</td>\n",
       "      <td>-499.918578</td>\n",
       "    </tr>\n",
       "    <tr>\n",
       "      <th>1012</th>\n",
       "      <td>2016-02-29 14:00:00</td>\n",
       "      <td>4.217395</td>\n",
       "      <td>10.214484</td>\n",
       "      <td>11.060427</td>\n",
       "      <td>46.095665</td>\n",
       "      <td>75.549211</td>\n",
       "      <td>10.786032</td>\n",
       "      <td>0.501195</td>\n",
       "      <td>10.407575</td>\n",
       "      <td>2.037250</td>\n",
       "      <td>...</td>\n",
       "      <td>14.047722</td>\n",
       "      <td>-499.411497</td>\n",
       "      <td>13.905822</td>\n",
       "      <td>-500.009480</td>\n",
       "      <td>12.031596</td>\n",
       "      <td>-501.021241</td>\n",
       "      <td>10.034108</td>\n",
       "      <td>-499.347813</td>\n",
       "      <td>20.012875</td>\n",
       "      <td>-502.999098</td>\n",
       "    </tr>\n",
       "  </tbody>\n",
       "</table>\n",
       "<p>5 rows × 87 columns</p>\n",
       "</div>"
      ],
      "text/plain": [
       "                      date  final.output.concentrate_ag  \\\n",
       "6946   2016-12-16 09:59:59                     5.506764   \n",
       "16835  2018-04-12 13:59:59                     4.660003   \n",
       "5986   2016-11-04 22:59:59                     3.712091   \n",
       "4061   2016-08-03 22:59:59                     4.280660   \n",
       "1012   2016-02-29 14:00:00                     4.217395   \n",
       "\n",
       "       final.output.concentrate_pb  final.output.concentrate_sol  \\\n",
       "6946                      8.952837                     12.740754   \n",
       "16835                     8.162267                      8.906735   \n",
       "5986                     10.406476                     10.469988   \n",
       "4061                     10.898610                      7.846398   \n",
       "1012                     10.214484                     11.060427   \n",
       "\n",
       "       final.output.concentrate_au  final.output.recovery  \\\n",
       "6946                     44.789519              71.061853   \n",
       "16835                    47.875348              82.968368   \n",
       "5986                     46.465418              69.085302   \n",
       "4061                     44.105842              58.966012   \n",
       "1012                     46.095665              75.549211   \n",
       "\n",
       "       final.output.tail_ag  final.output.tail_pb  final.output.tail_sol  \\\n",
       "6946              12.344760              3.444166               7.204628   \n",
       "16835             12.768926              2.488483               6.466985   \n",
       "5986               7.841450              2.709056              10.944302   \n",
       "4061               7.727834              2.446389               7.133148   \n",
       "1012              10.786032              0.501195              10.407575   \n",
       "\n",
       "       final.output.tail_au  ...  secondary_cleaner.state.floatbank4_a_air  \\\n",
       "6946               3.746639  ...                                 16.987622   \n",
       "16835              1.836589  ...                                 23.005904   \n",
       "5986               2.895283  ...                                 14.993114   \n",
       "4061               3.101218  ...                                 19.956965   \n",
       "1012               2.037250  ...                                 14.047722   \n",
       "\n",
       "       secondary_cleaner.state.floatbank4_a_level  \\\n",
       "6946                                  -500.233625   \n",
       "16835                                 -502.604162   \n",
       "5986                                  -501.456348   \n",
       "4061                                  -400.135147   \n",
       "1012                                  -499.411497   \n",
       "\n",
       "       secondary_cleaner.state.floatbank4_b_air  \\\n",
       "6946                                  14.914701   \n",
       "16835                                 15.964322   \n",
       "5986                                  13.061716   \n",
       "4061                                  10.025701   \n",
       "1012                                  13.905822   \n",
       "\n",
       "       secondary_cleaner.state.floatbank4_b_level  \\\n",
       "6946                                  -504.704268   \n",
       "16835                                 -500.117601   \n",
       "5986                                  -500.461075   \n",
       "4061                                  -399.975433   \n",
       "1012                                  -500.009480   \n",
       "\n",
       "       secondary_cleaner.state.floatbank5_a_air  \\\n",
       "6946                                  17.046296   \n",
       "16835                                 18.046667   \n",
       "5986                                  17.375873   \n",
       "4061                                   9.839160   \n",
       "1012                                  12.031596   \n",
       "\n",
       "       secondary_cleaner.state.floatbank5_a_level  \\\n",
       "6946                                  -500.403374   \n",
       "16835                                 -501.373563   \n",
       "5986                                  -499.913069   \n",
       "4061                                  -400.782742   \n",
       "1012                                  -501.021241   \n",
       "\n",
       "       secondary_cleaner.state.floatbank5_b_air  \\\n",
       "6946                                  11.989519   \n",
       "16835                                 12.035478   \n",
       "5986                                  13.992913   \n",
       "4061                                   4.950314   \n",
       "1012                                  10.034108   \n",
       "\n",
       "       secondary_cleaner.state.floatbank5_b_level  \\\n",
       "6946                                  -499.697806   \n",
       "16835                                 -500.146844   \n",
       "5986                                  -499.828767   \n",
       "4061                                  -400.262082   \n",
       "1012                                  -499.347813   \n",
       "\n",
       "       secondary_cleaner.state.floatbank6_a_air  \\\n",
       "6946                                  20.973426   \n",
       "16835                                 12.981964   \n",
       "5986                                  21.976553   \n",
       "4061                                  22.993549   \n",
       "1012                                  20.012875   \n",
       "\n",
       "       secondary_cleaner.state.floatbank6_a_level  \n",
       "6946                                  -500.260253  \n",
       "16835                                 -500.676309  \n",
       "5986                                  -500.832722  \n",
       "4061                                  -499.918578  \n",
       "1012                                  -502.999098  \n",
       "\n",
       "[5 rows x 87 columns]"
      ]
     },
     "metadata": {},
     "output_type": "display_data"
    }
   ],
   "source": [
    "print(full.info())\n",
    "display(full.sample(5))"
   ]
  },
  {
   "cell_type": "markdown",
   "metadata": {},
   "source": [
    "Проверим данные на явные дупликаты"
   ]
  },
  {
   "cell_type": "code",
   "execution_count": 6,
   "metadata": {},
   "outputs": [
    {
     "name": "stdout",
     "output_type": "stream",
     "text": [
      "0\n",
      "0\n",
      "0\n"
     ]
    }
   ],
   "source": [
    "print(test.duplicated().sum())\n",
    "print(train.duplicated().sum())\n",
    "print(full.duplicated().sum())"
   ]
  },
  {
   "cell_type": "markdown",
   "metadata": {},
   "source": [
    "Вычислим количество пропусков"
   ]
  },
  {
   "cell_type": "code",
   "execution_count": 7,
   "metadata": {
    "scrolled": true
   },
   "outputs": [
    {
     "name": "stdout",
     "output_type": "stream",
     "text": [
      "90\n",
      "4100\n",
      "4481\n"
     ]
    }
   ],
   "source": [
    "print(test.isna().sum().sum())\n",
    "print(train.isna().sum().sum())\n",
    "print(full.isna().sum().sum())"
   ]
  },
  {
   "cell_type": "markdown",
   "metadata": {},
   "source": [
    "удалим пропуски"
   ]
  },
  {
   "cell_type": "code",
   "execution_count": 8,
   "metadata": {},
   "outputs": [],
   "source": [
    "test = test.interpolate()\n",
    "train = train.interpolate()\n",
    "full = full.interpolate()"
   ]
  },
  {
   "cell_type": "markdown",
   "metadata": {},
   "source": [
    "Проверим правильность рассчета эффективности обогащения"
   ]
  },
  {
   "cell_type": "code",
   "execution_count": 9,
   "metadata": {},
   "outputs": [],
   "source": [
    "c = train['rougher.output.concentrate_au']\n",
    "f = train['rougher.input.feed_au']\n",
    "t = train['rougher.output.tail_au']"
   ]
  },
  {
   "cell_type": "code",
   "execution_count": 10,
   "metadata": {},
   "outputs": [],
   "source": [
    "rec = (c*(f-t))/(f*(c-t))*100"
   ]
  },
  {
   "cell_type": "code",
   "execution_count": 11,
   "metadata": {},
   "outputs": [
    {
     "name": "stdout",
     "output_type": "stream",
     "text": [
      "82.70450164550293\n",
      "82.70450164550293\n"
     ]
    }
   ],
   "source": [
    "print(train['rougher.output.recovery'].mean())\n",
    "print(rec.mean())"
   ]
  },
  {
   "cell_type": "code",
   "execution_count": 12,
   "metadata": {
    "scrolled": true
   },
   "outputs": [
    {
     "data": {
      "text/plain": [
       "9.73512347450521e-15"
      ]
     },
     "execution_count": 12,
     "metadata": {},
     "output_type": "execute_result"
    }
   ],
   "source": [
    "mean_absolute_error(train['rougher.output.recovery'],rec)"
   ]
  },
  {
   "cell_type": "markdown",
   "metadata": {},
   "source": [
    "Ошибка пренебрежимо мала, значения рассчитанны точно"
   ]
  },
  {
   "cell_type": "markdown",
   "metadata": {},
   "source": [
    "## Анализ данных"
   ]
  },
  {
   "cell_type": "markdown",
   "metadata": {},
   "source": [
    "Рассмотрм концентрации на всех этапов"
   ]
  },
  {
   "cell_type": "code",
   "execution_count": 13,
   "metadata": {},
   "outputs": [
    {
     "data": {
      "text/plain": [
       "<AxesSubplot:>"
      ]
     },
     "execution_count": 13,
     "metadata": {},
     "output_type": "execute_result"
    },
    {
     "data": {
      "image/png": "[encoded data removed]",
      "text/plain": [
       "<Figure size 432x288 with 1 Axes>"
      ]
     },
     "metadata": {
      "needs_background": "light"
     },
     "output_type": "display_data"
    }
   ],
   "source": [
    "#final.output.concentrate_ag, final.output.concentrate_pb, final.output.concentrate_au \n",
    "\n",
    "train['final.output.concentrate_ag'].hist(alpha=0.3,bins=30,color='silver')\n",
    "train['final.output.concentrate_pb'].hist(alpha=0.3,bins=30,color='black')\n",
    "train['final.output.concentrate_au'].hist(alpha=0.3,bins=30,color='gold')"
   ]
  },
  {
   "cell_type": "code",
   "execution_count": 14,
   "metadata": {},
   "outputs": [
    {
     "data": {
      "text/plain": [
       "<AxesSubplot:>"
      ]
     },
     "execution_count": 14,
     "metadata": {},
     "output_type": "execute_result"
    },
    {
     "data": {
      "image/png": "[encoded data removed]",
      "text/plain": [
       "<Figure size 432x288 with 1 Axes>"
      ]
     },
     "metadata": {
      "needs_background": "light"
     },
     "output_type": "display_data"
    }
   ],
   "source": [
    "train['primary_cleaner.output.concentrate_ag'].hist(alpha=0.3,bins=30,color='silver')\n",
    "train['primary_cleaner.output.concentrate_pb'].hist(alpha=0.3,bins=30,color='black')\n",
    "train['primary_cleaner.output.concentrate_au'].hist(alpha=0.3,bins=30,color='gold')"
   ]
  },
  {
   "cell_type": "code",
   "execution_count": 15,
   "metadata": {
    "scrolled": false
   },
   "outputs": [
    {
     "data": {
      "text/plain": [
       "<AxesSubplot:>"
      ]
     },
     "execution_count": 15,
     "metadata": {},
     "output_type": "execute_result"
    },
    {
     "data": {
      "image/png": "[encoded data removed]",
      "text/plain": [
       "<Figure size 432x288 with 1 Axes>"
      ]
     },
     "metadata": {
      "needs_background": "light"
     },
     "output_type": "display_data"
    }
   ],
   "source": [
    "train['rougher.output.concentrate_ag'].hist(alpha=0.3,bins=30,color='silver')\n",
    "train['rougher.output.concentrate_pb'].hist(alpha=0.3,bins=30,color='black')\n",
    "train['rougher.output.concentrate_au'].hist(alpha=0.3,bins=30,color='gold')"
   ]
  },
  {
   "cell_type": "code",
   "execution_count": 16,
   "metadata": {},
   "outputs": [
    {
     "data": {
      "text/plain": [
       "<AxesSubplot:>"
      ]
     },
     "execution_count": 16,
     "metadata": {},
     "output_type": "execute_result"
    },
    {
     "data": {
      "image/png": "[encoded data removed]",
      "text/plain": [
       "<Figure size 432x288 with 1 Axes>"
      ]
     },
     "metadata": {
      "needs_background": "light"
     },
     "output_type": "display_data"
    }
   ],
   "source": [
    "train['rougher.input.feed_ag'].hist(alpha=0.3,bins=30,color='silver')\n",
    "train['rougher.input.feed_pb'].hist(alpha=0.3,bins=30,color='black')\n",
    "train['rougher.input.feed_au'].hist(alpha=0.3,bins=30,color='gold')"
   ]
  },
  {
   "cell_type": "markdown",
   "metadata": {},
   "source": [
    "Видно что с каждым этапом концентрация золота увеличивается"
   ]
  },
  {
   "cell_type": "markdown",
   "metadata": {},
   "source": [
    "Рассмотрим расспределение размера гранул "
   ]
  },
  {
   "cell_type": "code",
   "execution_count": 17,
   "metadata": {},
   "outputs": [
    {
     "data": {
      "text/plain": [
       "<AxesSubplot:xlabel='rougher.input.feed_size', ylabel='Density'>"
      ]
     },
     "execution_count": 17,
     "metadata": {},
     "output_type": "execute_result"
    },
    {
     "data": {
      "image/png": "[encoded data removed]",
      "text/plain": [
       "<Figure size 432x288 with 1 Axes>"
      ]
     },
     "metadata": {
      "needs_background": "light"
     },
     "output_type": "display_data"
    }
   ],
   "source": [
    "kdeplot(train['rougher.input.feed_size'])\n",
    "kdeplot(test['rougher.input.feed_size'])"
   ]
  },
  {
   "cell_type": "code",
   "execution_count": 18,
   "metadata": {},
   "outputs": [
    {
     "data": {
      "text/plain": [
       "<AxesSubplot:xlabel='primary_cleaner.input.feed_size', ylabel='Density'>"
      ]
     },
     "execution_count": 18,
     "metadata": {},
     "output_type": "execute_result"
    },
    {
     "data": {
      "image/png": "[encoded data removed]",
      "text/plain": [
       "<Figure size 432x288 with 1 Axes>"
      ]
     },
     "metadata": {
      "needs_background": "light"
     },
     "output_type": "display_data"
    }
   ],
   "source": [
    "kdeplot(train['primary_cleaner.input.feed_size'])\n",
    "kdeplot(test['primary_cleaner.input.feed_size'])"
   ]
  },
  {
   "cell_type": "markdown",
   "metadata": {},
   "source": [
    "Распределения схожи"
   ]
  },
  {
   "cell_type": "code",
   "execution_count": 19,
   "metadata": {},
   "outputs": [],
   "source": [
    "train = train.drop(train[(train['rougher.input.feed_sol']+train['rougher.input.feed_au']+train['rougher.input.feed_pb']+train['rougher.input.feed_ag'])==0].index)\n",
    "train = train.drop(train[(train['rougher.output.concentrate_sol']+train['rougher.output.concentrate_ag'] +train['rougher.output.concentrate_au']+train['rougher.output.concentrate_pb'])==0].index)\n",
    "train = train.drop(train[(train['primary_cleaner.output.concentrate_sol']+train['primary_cleaner.output.concentrate_ag'] +train['primary_cleaner.output.concentrate_au']+train['primary_cleaner.output.concentrate_pb'])==0].index)\n",
    "train = train.drop(train[(train['final.output.concentrate_sol']+train['final.output.concentrate_ag']+ train['final.output.concentrate_au']+train['final.output.concentrate_pb'])==0].index)"
   ]
  },
  {
   "cell_type": "code",
   "execution_count": 20,
   "metadata": {},
   "outputs": [],
   "source": [
    "#rougher.input\n",
    "#rougher.output\n",
    "#primary_cleaner.output\n",
    "#final.output\n",
    "\n",
    "r_in = train['rougher.input.feed_sol']+train['rougher.input.feed_au']+train['rougher.input.feed_pb']+train['rougher.input.feed_ag']"
   ]
  },
  {
   "cell_type": "code",
   "execution_count": 21,
   "metadata": {},
   "outputs": [],
   "source": [
    "r_out = train['rougher.output.concentrate_sol']+train['rougher.output.concentrate_ag']+train['rougher.output.concentrate_au']+train['rougher.output.concentrate_pb']"
   ]
  },
  {
   "cell_type": "code",
   "execution_count": 22,
   "metadata": {},
   "outputs": [],
   "source": [
    "prime_out = train['primary_cleaner.output.concentrate_sol']+train['primary_cleaner.output.concentrate_ag']+train['primary_cleaner.output.concentrate_au']+train['primary_cleaner.output.concentrate_pb']"
   ]
  },
  {
   "cell_type": "code",
   "execution_count": 23,
   "metadata": {},
   "outputs": [],
   "source": [
    "f_out = train['final.output.concentrate_sol']+train['final.output.concentrate_ag']+train['final.output.concentrate_au']+train['final.output.concentrate_pb']"
   ]
  },
  {
   "cell_type": "code",
   "execution_count": 24,
   "metadata": {
    "scrolled": true
   },
   "outputs": [
    {
     "data": {
      "text/plain": [
       "<AxesSubplot:>"
      ]
     },
     "execution_count": 24,
     "metadata": {},
     "output_type": "execute_result"
    },
    {
     "data": {
      "image/png": "[encoded data removed]",
      "text/plain": [
       "<Figure size 432x288 with 1 Axes>"
      ]
     },
     "metadata": {
      "needs_background": "light"
     },
     "output_type": "display_data"
    }
   ],
   "source": [
    "r_in.hist(bins=30,alpha=0.3,color='red')\n",
    "r_out.hist(bins=30,alpha=0.3,color='green')\n",
    "prime_out.hist(bins=30,alpha=0.3, color='blue')\n",
    "f_out.hist(bins=30,alpha=0.3,color='black')"
   ]
  },
  {
   "cell_type": "markdown",
   "metadata": {},
   "source": [
    "Суммарная концентрация на всех этапах увеличивается но пренебрежимо мало"
   ]
  },
  {
   "cell_type": "markdown",
   "metadata": {},
   "source": [
    "ПОдготовим данные для сегмента 4"
   ]
  },
  {
   "cell_type": "code",
   "execution_count": 25,
   "metadata": {},
   "outputs": [],
   "source": [
    "train_use = train[np.hstack((test.columns.values,['rougher.output.recovery','final.output.recovery'])) ]\n",
    "test_use = test.drop(['date'],axis=1)"
   ]
  },
  {
   "cell_type": "markdown",
   "metadata": {},
   "source": [
    "## Модель"
   ]
  },
  {
   "cell_type": "markdown",
   "metadata": {},
   "source": [
    "Введем функцию sMAPE"
   ]
  },
  {
   "cell_type": "code",
   "execution_count": 26,
   "metadata": {},
   "outputs": [],
   "source": [
    "def sMAPE(true, predict):\n",
    "    return 100/len(true)*np.sum(2*np.abs(true-predict)/(np.abs(true)+np.abs(predict)))"
   ]
  },
  {
   "cell_type": "code",
   "execution_count": 27,
   "metadata": {},
   "outputs": [],
   "source": [
    "def total_sMAPE(smape_r,smape_f):\n",
    "    return 0.25*smape_r+0.75*smape_f"
   ]
  },
  {
   "cell_type": "markdown",
   "metadata": {},
   "source": [
    "Рассмотрим RandomForestRegressor"
   ]
  },
  {
   "cell_type": "code",
   "execution_count": 28,
   "metadata": {},
   "outputs": [],
   "source": [
    "model = RandomForestRegressor()\n",
    "param_grid = {'max_depth':[2,4,8],'n_estimators':[50,100,150]}"
   ]
  },
  {
   "cell_type": "markdown",
   "metadata": {},
   "source": [
    "Выделим features и targets"
   ]
  },
  {
   "cell_type": "code",
   "execution_count": 29,
   "metadata": {},
   "outputs": [],
   "source": [
    "train_use_feat = train_use.drop(['date','final.output.recovery','rougher.output.recovery'],axis=1)\n",
    "train_use_targ = train_use['final.output.recovery']"
   ]
  },
  {
   "cell_type": "code",
   "execution_count": 30,
   "metadata": {},
   "outputs": [],
   "source": [
    "smape_score = make_scorer(sMAPE,greater_is_better = False)\n",
    "grid = GridSearchCV(model, param_grid, scoring = smape_score,cv=4,n_jobs=-1)"
   ]
  },
  {
   "cell_type": "markdown",
   "metadata": {},
   "source": [
    "Найдем наилучшие параметры"
   ]
  },
  {
   "cell_type": "code",
   "execution_count": 31,
   "metadata": {},
   "outputs": [
    {
     "name": "stdout",
     "output_type": "stream",
     "text": [
      "{'max_depth': 2, 'n_estimators': 100}\n",
      "-9.63863370201194\n"
     ]
    }
   ],
   "source": [
    "grid.fit(train_use_feat,train_use_targ)\n",
    "print(grid.best_params_)\n",
    "smap_r = grid.best_score_\n",
    "print(smap_r)"
   ]
  },
  {
   "cell_type": "code",
   "execution_count": 32,
   "metadata": {},
   "outputs": [
    {
     "name": "stdout",
     "output_type": "stream",
     "text": [
      "{'max_depth': 8, 'n_estimators': 50}\n",
      "-7.716564033336443\n"
     ]
    }
   ],
   "source": [
    "train_use_targ = train_use['rougher.output.recovery']\n",
    "grid.fit(train_use_feat,train_use_targ)\n",
    "print(grid.best_params_)\n",
    "smap_f = grid.best_score_\n",
    "print(smap_f)"
   ]
  },
  {
   "cell_type": "markdown",
   "metadata": {},
   "source": [
    "Посчитаем конечную sMAPE"
   ]
  },
  {
   "cell_type": "code",
   "execution_count": 33,
   "metadata": {
    "scrolled": true
   },
   "outputs": [
    {
     "name": "stdout",
     "output_type": "stream",
     "text": [
      "8.197081450505317\n"
     ]
    }
   ],
   "source": [
    "print(total_sMAPE(-smap_r,-smap_f))"
   ]
  },
  {
   "cell_type": "markdown",
   "metadata": {},
   "source": [
    "Теперь для сравнения рассмотрим LinearRegression"
   ]
  },
  {
   "cell_type": "code",
   "execution_count": 34,
   "metadata": {},
   "outputs": [],
   "source": [
    "model_sec = LinearRegression()\n",
    "train_use_targ_f = train_use['final.output.recovery']\n",
    "train_use_targ_r = train_use['rougher.output.recovery']"
   ]
  },
  {
   "cell_type": "code",
   "execution_count": 35,
   "metadata": {},
   "outputs": [
    {
     "name": "stdout",
     "output_type": "stream",
     "text": [
      "9.783174910161454\n"
     ]
    }
   ],
   "source": [
    "score = cross_val_score(model,train_use_feat,train_use_targ_f, cv=5, scoring =smape_score)\n",
    "smap_f_2 = -score.mean()\n",
    "print( smap_f_2 )"
   ]
  },
  {
   "cell_type": "code",
   "execution_count": 36,
   "metadata": {},
   "outputs": [
    {
     "name": "stdout",
     "output_type": "stream",
     "text": [
      "7.295733597330845\n"
     ]
    }
   ],
   "source": [
    "score = cross_val_score(model,train_use_feat,train_use_targ_r, cv=5, scoring =smape_score)\n",
    "smap_r_2 = -score.mean()\n",
    "print( smap_r_2 )"
   ]
  },
  {
   "cell_type": "code",
   "execution_count": 37,
   "metadata": {},
   "outputs": [
    {
     "name": "stdout",
     "output_type": "stream",
     "text": [
      "9.161314581953802\n"
     ]
    }
   ],
   "source": [
    "print(total_sMAPE(smap_r_2,smap_f_2))"
   ]
  },
  {
   "cell_type": "markdown",
   "metadata": {},
   "source": [
    "Видно что итоговая ошибка стала больше поэтому в итоге будем использовать лес "
   ]
  },
  {
   "cell_type": "code",
   "execution_count": 38,
   "metadata": {},
   "outputs": [],
   "source": [
    "model = RandomForestRegressor( max_depth = 2, n_estimators = 150)\n",
    "model.fit(train_use_feat,train_use_targ_r)\n",
    "predict_r = model.predict(test_use)"
   ]
  },
  {
   "cell_type": "code",
   "execution_count": 39,
   "metadata": {},
   "outputs": [],
   "source": [
    "model = RandomForestRegressor( max_depth = 4, n_estimators = 150)\n",
    "model.fit(train_use_feat,train_use_targ_f)\n",
    "predict_f = model.predict(test_use)"
   ]
  },
  {
   "cell_type": "code",
   "execution_count": 40,
   "metadata": {},
   "outputs": [],
   "source": [
    "true = test.merge(full[['rougher.output.recovery', 'final.output.recovery', 'date']],\n",
    "                         how = 'inner', on= 'date')\n",
    "true_r = true['rougher.output.recovery']\n",
    "true_f = true['final.output.recovery']"
   ]
  },
  {
   "cell_type": "code",
   "execution_count": 41,
   "metadata": {},
   "outputs": [],
   "source": [
    "final_f = sMAPE(true_f,predict_f)\n",
    "final_r = sMAPE(true_r,predict_r)"
   ]
  },
  {
   "cell_type": "markdown",
   "metadata": {},
   "source": [
    "Получим финальную ошибку"
   ]
  },
  {
   "cell_type": "code",
   "execution_count": 42,
   "metadata": {},
   "outputs": [
    {
     "name": "stdout",
     "output_type": "stream",
     "text": [
      "9.482975143876851\n"
     ]
    }
   ],
   "source": [
    "print(total_sMAPE(final_r,final_f))"
   ]
  },
  {
   "cell_type": "code",
   "execution_count": 43,
   "metadata": {},
   "outputs": [
    {
     "name": "stdout",
     "output_type": "stream",
     "text": [
      "14.447328240609433\n"
     ]
    }
   ],
   "source": [
    "model_comp = DummyRegressor()\n",
    "model_comp.fit(train_use_feat,train_use_targ_f)\n",
    "predict_comp_f = model.predict(test_use)\n",
    "model_comp.fit(train_use_feat,train_use_targ_r)\n",
    "predict_comp_r = model.predict(test_use)\n",
    "\n",
    "final_comp_f = sMAPE(true_f,predict_comp_f)\n",
    "final_comp_r = sMAPE(true_r,predict_comp_r)\n",
    "\n",
    "print(total_sMAPE(final_comp_r,final_comp_f))"
   ]
  },
  {
   "cell_type": "markdown",
   "metadata": {},
   "source": [
    "RandomForest оказался лучше чем DummyRegressor"
   ]
  },
  {
   "cell_type": "markdown",
   "metadata": {},
   "source": [
    "# Вывод"
   ]
  },
  {
   "cell_type": "markdown",
   "metadata": {},
   "source": [
    "В данном проекте был изучен процесс фильтрации золота, но основе анализа данных мы подтвердили пригодность использования моделей, эффективность моделей была оцененна с помощью параметра sMAPE."
   ]
  }
 ],
 "metadata": {
  "ExecuteTimeLog": [
   {
    "duration": 403,
    "start_time": "2023-02-08T13:18:56.848Z"
   },
   {
    "duration": 3319,
    "start_time": "2023-02-08T13:18:57.253Z"
   },
   {
    "duration": 86,
    "start_time": "2023-02-08T13:19:00.574Z"
   },
   {
    "duration": 0,
    "start_time": "2023-02-08T13:19:00.662Z"
   },
   {
    "duration": 0,
    "start_time": "2023-02-08T13:19:00.664Z"
   },
   {
    "duration": 38,
    "start_time": "2023-02-08T13:19:11.565Z"
   },
   {
    "duration": 38,
    "start_time": "2023-02-08T13:19:22.634Z"
   },
   {
    "duration": 45,
    "start_time": "2023-02-08T13:19:33.226Z"
   },
   {
    "duration": 20,
    "start_time": "2023-02-08T13:19:45.731Z"
   },
   {
    "duration": 25,
    "start_time": "2023-02-08T13:19:46.049Z"
   },
   {
    "duration": 24,
    "start_time": "2023-02-08T13:19:49.705Z"
   },
   {
    "duration": 29,
    "start_time": "2023-02-08T13:19:55.687Z"
   },
   {
    "duration": 30,
    "start_time": "2023-02-08T13:20:04.191Z"
   },
   {
    "duration": 44,
    "start_time": "2023-02-09T19:18:53.553Z"
   },
   {
    "duration": 379,
    "start_time": "2023-02-09T19:18:58.479Z"
   },
   {
    "duration": 3127,
    "start_time": "2023-02-09T19:18:58.860Z"
   },
   {
    "duration": 39,
    "start_time": "2023-02-09T19:19:01.989Z"
   },
   {
    "duration": 31,
    "start_time": "2023-02-09T19:19:02.030Z"
   },
   {
    "duration": 32,
    "start_time": "2023-02-09T19:19:02.063Z"
   },
   {
    "duration": 32,
    "start_time": "2023-02-09T19:19:21.288Z"
   },
   {
    "duration": 44,
    "start_time": "2023-02-09T19:19:27.057Z"
   },
   {
    "duration": 121,
    "start_time": "2023-02-09T19:19:37.160Z"
   },
   {
    "duration": 249,
    "start_time": "2023-02-09T19:19:55.186Z"
   },
   {
    "duration": 11,
    "start_time": "2023-02-09T19:20:06.794Z"
   },
   {
    "duration": 187,
    "start_time": "2023-02-09T19:20:08.956Z"
   },
   {
    "duration": 19,
    "start_time": "2023-02-09T19:20:42.114Z"
   },
   {
    "duration": 16,
    "start_time": "2023-02-09T19:20:52.186Z"
   },
   {
    "duration": 13,
    "start_time": "2023-02-09T19:20:57.803Z"
   },
   {
    "duration": 7,
    "start_time": "2023-02-09T19:22:39.416Z"
   },
   {
    "duration": 14,
    "start_time": "2023-02-09T19:23:05.218Z"
   },
   {
    "duration": 28,
    "start_time": "2023-02-09T19:23:58.927Z"
   },
   {
    "duration": 5,
    "start_time": "2023-02-09T19:28:35.823Z"
   },
   {
    "duration": 86,
    "start_time": "2023-02-09T20:12:55.564Z"
   },
   {
    "duration": 2,
    "start_time": "2023-02-09T20:14:16.455Z"
   },
   {
    "duration": 4,
    "start_time": "2023-02-09T20:14:16.957Z"
   },
   {
    "duration": 7,
    "start_time": "2023-02-09T20:15:38.455Z"
   },
   {
    "duration": 650,
    "start_time": "2023-02-09T20:15:42.960Z"
   },
   {
    "duration": 722,
    "start_time": "2023-02-09T20:15:43.612Z"
   },
   {
    "duration": 40,
    "start_time": "2023-02-09T20:15:44.336Z"
   },
   {
    "duration": 26,
    "start_time": "2023-02-09T20:15:44.378Z"
   },
   {
    "duration": 54,
    "start_time": "2023-02-09T20:15:44.406Z"
   },
   {
    "duration": 220,
    "start_time": "2023-02-09T20:15:44.462Z"
   },
   {
    "duration": 14,
    "start_time": "2023-02-09T20:15:44.683Z"
   },
   {
    "duration": 49,
    "start_time": "2023-02-09T20:15:44.699Z"
   },
   {
    "duration": 3,
    "start_time": "2023-02-09T20:15:44.751Z"
   },
   {
    "duration": 5,
    "start_time": "2023-02-09T20:15:44.757Z"
   },
   {
    "duration": 5,
    "start_time": "2023-02-09T20:15:44.764Z"
   },
   {
    "duration": 4,
    "start_time": "2023-02-09T21:55:50.213Z"
   },
   {
    "duration": 5,
    "start_time": "2023-02-09T21:56:10.857Z"
   },
   {
    "duration": 5,
    "start_time": "2023-02-09T21:56:11.589Z"
   },
   {
    "duration": 4,
    "start_time": "2023-02-09T21:56:23.004Z"
   },
   {
    "duration": 5,
    "start_time": "2023-02-09T21:56:23.322Z"
   },
   {
    "duration": 1455,
    "start_time": "2023-02-10T19:33:45.894Z"
   },
   {
    "duration": 5423,
    "start_time": "2023-02-10T19:33:47.352Z"
   },
   {
    "duration": 73,
    "start_time": "2023-02-10T19:33:52.777Z"
   },
   {
    "duration": 59,
    "start_time": "2023-02-10T19:33:52.852Z"
   },
   {
    "duration": 48,
    "start_time": "2023-02-10T19:33:52.914Z"
   },
   {
    "duration": 325,
    "start_time": "2023-02-10T19:33:52.964Z"
   },
   {
    "duration": 24,
    "start_time": "2023-02-10T19:33:53.294Z"
   },
   {
    "duration": 78,
    "start_time": "2023-02-10T19:33:53.320Z"
   },
   {
    "duration": 5,
    "start_time": "2023-02-10T19:33:53.402Z"
   },
   {
    "duration": 41,
    "start_time": "2023-02-10T19:33:53.409Z"
   },
   {
    "duration": 14,
    "start_time": "2023-02-10T19:33:53.452Z"
   },
   {
    "duration": 11,
    "start_time": "2023-02-10T19:33:53.468Z"
   },
   {
    "duration": 72,
    "start_time": "2023-02-10T19:33:53.481Z"
   },
   {
    "duration": 1978,
    "start_time": "2023-02-10T19:33:53.557Z"
   },
   {
    "duration": 9,
    "start_time": "2023-02-10T19:34:33.540Z"
   },
   {
    "duration": 14,
    "start_time": "2023-02-10T19:34:59.301Z"
   },
   {
    "duration": 7,
    "start_time": "2023-02-10T19:35:05.052Z"
   },
   {
    "duration": 11,
    "start_time": "2023-02-10T19:35:08.867Z"
   },
   {
    "duration": 13,
    "start_time": "2023-02-10T19:35:30.025Z"
   },
   {
    "duration": 22,
    "start_time": "2023-02-10T19:35:33.250Z"
   },
   {
    "duration": 1399,
    "start_time": "2023-02-10T19:44:56.416Z"
   },
   {
    "duration": 1456,
    "start_time": "2023-02-10T19:45:22.013Z"
   },
   {
    "duration": 1358,
    "start_time": "2023-02-10T19:46:31.839Z"
   },
   {
    "duration": 1276,
    "start_time": "2023-02-10T19:46:58.360Z"
   },
   {
    "duration": 1195,
    "start_time": "2023-02-10T19:46:59.638Z"
   },
   {
    "duration": 69,
    "start_time": "2023-02-10T19:47:00.835Z"
   },
   {
    "duration": 42,
    "start_time": "2023-02-10T19:47:00.909Z"
   },
   {
    "duration": 99,
    "start_time": "2023-02-10T19:47:00.953Z"
   },
   {
    "duration": 287,
    "start_time": "2023-02-10T19:47:01.054Z"
   },
   {
    "duration": 15,
    "start_time": "2023-02-10T19:47:01.343Z"
   },
   {
    "duration": 160,
    "start_time": "2023-02-10T19:47:01.359Z"
   },
   {
    "duration": 18,
    "start_time": "2023-02-10T19:47:01.532Z"
   },
   {
    "duration": 64,
    "start_time": "2023-02-10T19:47:01.552Z"
   },
   {
    "duration": 68,
    "start_time": "2023-02-10T19:47:01.629Z"
   },
   {
    "duration": 50,
    "start_time": "2023-02-10T19:47:01.701Z"
   },
   {
    "duration": 34,
    "start_time": "2023-02-10T19:47:01.753Z"
   },
   {
    "duration": 1536,
    "start_time": "2023-02-10T19:47:01.790Z"
   },
   {
    "duration": 864,
    "start_time": "2023-02-10T19:47:21.254Z"
   },
   {
    "duration": 239,
    "start_time": "2023-02-10T19:48:15.827Z"
   },
   {
    "duration": 1712,
    "start_time": "2023-02-10T19:49:26.153Z"
   },
   {
    "duration": 0,
    "start_time": "2023-02-10T19:49:27.867Z"
   },
   {
    "duration": 210,
    "start_time": "2023-02-10T19:50:09.030Z"
   },
   {
    "duration": 199,
    "start_time": "2023-02-10T19:50:09.242Z"
   },
   {
    "duration": 287,
    "start_time": "2023-02-10T19:51:12.265Z"
   },
   {
    "duration": 359,
    "start_time": "2023-02-10T19:51:12.554Z"
   },
   {
    "duration": 251,
    "start_time": "2023-02-10T19:51:12.916Z"
   },
   {
    "duration": 15,
    "start_time": "2023-02-10T19:51:32.295Z"
   },
   {
    "duration": 17,
    "start_time": "2023-02-10T19:51:37.508Z"
   },
   {
    "duration": 340,
    "start_time": "2023-02-10T19:52:21.658Z"
   },
   {
    "duration": 324,
    "start_time": "2023-02-10T19:52:50.435Z"
   },
   {
    "duration": 308,
    "start_time": "2023-02-10T19:53:09.151Z"
   },
   {
    "duration": 498,
    "start_time": "2023-02-10T19:53:49.244Z"
   },
   {
    "duration": 288,
    "start_time": "2023-02-10T19:53:49.744Z"
   },
   {
    "duration": 356,
    "start_time": "2023-02-10T19:53:50.034Z"
   },
   {
    "duration": 357,
    "start_time": "2023-02-10T20:01:06.171Z"
   },
   {
    "duration": 296,
    "start_time": "2023-02-10T20:01:59.240Z"
   },
   {
    "duration": 7,
    "start_time": "2023-02-10T20:02:40.013Z"
   },
   {
    "duration": 6,
    "start_time": "2023-02-10T20:02:51.628Z"
   },
   {
    "duration": 7,
    "start_time": "2023-02-10T20:03:00.041Z"
   },
   {
    "duration": 322,
    "start_time": "2023-02-10T20:04:38.808Z"
   },
   {
    "duration": 351,
    "start_time": "2023-02-10T20:04:53.963Z"
   },
   {
    "duration": 543,
    "start_time": "2023-02-10T20:05:25.979Z"
   },
   {
    "duration": 353,
    "start_time": "2023-02-10T20:05:26.525Z"
   },
   {
    "duration": 1149,
    "start_time": "2023-02-10T22:08:17.383Z"
   },
   {
    "duration": 734,
    "start_time": "2023-02-10T22:08:18.534Z"
   },
   {
    "duration": 60,
    "start_time": "2023-02-10T22:08:19.269Z"
   },
   {
    "duration": 32,
    "start_time": "2023-02-10T22:08:19.331Z"
   },
   {
    "duration": 63,
    "start_time": "2023-02-10T22:08:19.364Z"
   },
   {
    "duration": 268,
    "start_time": "2023-02-10T22:08:19.429Z"
   },
   {
    "duration": 16,
    "start_time": "2023-02-10T22:08:19.702Z"
   },
   {
    "duration": 30,
    "start_time": "2023-02-10T22:08:19.720Z"
   },
   {
    "duration": 4,
    "start_time": "2023-02-10T22:08:19.751Z"
   },
   {
    "duration": 4,
    "start_time": "2023-02-10T22:08:19.758Z"
   },
   {
    "duration": 8,
    "start_time": "2023-02-10T22:08:19.780Z"
   },
   {
    "duration": 33,
    "start_time": "2023-02-10T22:08:19.789Z"
   },
   {
    "duration": 7,
    "start_time": "2023-02-10T22:08:19.824Z"
   },
   {
    "duration": 513,
    "start_time": "2023-02-10T22:08:19.833Z"
   },
   {
    "duration": 264,
    "start_time": "2023-02-10T22:08:20.348Z"
   },
   {
    "duration": 286,
    "start_time": "2023-02-10T22:08:20.614Z"
   },
   {
    "duration": 342,
    "start_time": "2023-02-10T22:08:20.902Z"
   },
   {
    "duration": 288,
    "start_time": "2023-02-10T22:08:21.246Z"
   },
   {
    "duration": 4,
    "start_time": "2023-02-10T22:08:21.536Z"
   },
   {
    "duration": 1364,
    "start_time": "2023-02-10T22:09:53.953Z"
   },
   {
    "duration": 6,
    "start_time": "2023-02-10T22:10:09.537Z"
   },
   {
    "duration": 4,
    "start_time": "2023-02-10T22:10:26.262Z"
   },
   {
    "duration": 4,
    "start_time": "2023-02-10T22:10:26.418Z"
   },
   {
    "duration": 4,
    "start_time": "2023-02-10T22:11:44.716Z"
   },
   {
    "duration": 5,
    "start_time": "2023-02-10T22:12:34.815Z"
   },
   {
    "duration": 4,
    "start_time": "2023-02-10T22:12:34.961Z"
   },
   {
    "duration": 5,
    "start_time": "2023-02-10T22:12:35.124Z"
   },
   {
    "duration": 5,
    "start_time": "2023-02-10T22:12:35.454Z"
   },
   {
    "duration": 68,
    "start_time": "2023-02-10T22:13:07.405Z"
   },
   {
    "duration": 321,
    "start_time": "2023-02-10T22:13:29.223Z"
   },
   {
    "duration": 417,
    "start_time": "2023-02-10T22:13:43.446Z"
   },
   {
    "duration": 46,
    "start_time": "2023-02-11T10:08:43.751Z"
   },
   {
    "duration": 1057,
    "start_time": "2023-02-11T10:08:49.480Z"
   },
   {
    "duration": 1818,
    "start_time": "2023-02-11T10:08:50.539Z"
   },
   {
    "duration": 39,
    "start_time": "2023-02-11T10:08:52.359Z"
   },
   {
    "duration": 28,
    "start_time": "2023-02-11T10:08:52.399Z"
   },
   {
    "duration": 32,
    "start_time": "2023-02-11T10:08:52.429Z"
   },
   {
    "duration": 251,
    "start_time": "2023-02-11T10:08:52.463Z"
   },
   {
    "duration": 14,
    "start_time": "2023-02-11T10:08:52.717Z"
   },
   {
    "duration": 29,
    "start_time": "2023-02-11T10:08:52.733Z"
   },
   {
    "duration": 4,
    "start_time": "2023-02-11T10:08:52.764Z"
   },
   {
    "duration": 31,
    "start_time": "2023-02-11T10:08:52.769Z"
   },
   {
    "duration": 7,
    "start_time": "2023-02-11T10:08:52.801Z"
   },
   {
    "duration": 6,
    "start_time": "2023-02-11T10:08:52.809Z"
   },
   {
    "duration": 12,
    "start_time": "2023-02-11T10:08:52.816Z"
   },
   {
    "duration": 593,
    "start_time": "2023-02-11T10:08:52.830Z"
   },
   {
    "duration": 217,
    "start_time": "2023-02-11T10:08:53.425Z"
   },
   {
    "duration": 220,
    "start_time": "2023-02-11T10:08:53.643Z"
   },
   {
    "duration": 375,
    "start_time": "2023-02-11T10:08:53.864Z"
   },
   {
    "duration": 283,
    "start_time": "2023-02-11T10:08:54.241Z"
   },
   {
    "duration": 4,
    "start_time": "2023-02-11T10:08:54.525Z"
   },
   {
    "duration": 7,
    "start_time": "2023-02-11T10:08:54.531Z"
   },
   {
    "duration": 7,
    "start_time": "2023-02-11T10:08:54.540Z"
   },
   {
    "duration": 39,
    "start_time": "2023-02-11T10:08:54.548Z"
   },
   {
    "duration": 0,
    "start_time": "2023-02-11T10:08:54.589Z"
   },
   {
    "duration": 45,
    "start_time": "2023-02-11T10:09:09.821Z"
   },
   {
    "duration": 5,
    "start_time": "2023-02-11T10:09:23.927Z"
   },
   {
    "duration": 4,
    "start_time": "2023-02-11T10:09:25.385Z"
   },
   {
    "duration": 4,
    "start_time": "2023-02-11T10:09:25.771Z"
   },
   {
    "duration": 45,
    "start_time": "2023-02-11T10:09:26.331Z"
   },
   {
    "duration": 3,
    "start_time": "2023-02-11T10:09:37.102Z"
   },
   {
    "duration": 329,
    "start_time": "2023-02-11T10:09:38.444Z"
   },
   {
    "duration": 239,
    "start_time": "2023-02-11T10:10:02.161Z"
   },
   {
    "duration": 1166,
    "start_time": "2023-02-11T21:14:21.975Z"
   },
   {
    "duration": 3468,
    "start_time": "2023-02-11T21:14:23.143Z"
   },
   {
    "duration": 49,
    "start_time": "2023-02-11T21:14:26.612Z"
   },
   {
    "duration": 35,
    "start_time": "2023-02-11T21:14:26.663Z"
   },
   {
    "duration": 39,
    "start_time": "2023-02-11T21:14:26.701Z"
   },
   {
    "duration": 287,
    "start_time": "2023-02-11T21:14:26.741Z"
   },
   {
    "duration": 19,
    "start_time": "2023-02-11T21:14:27.030Z"
   },
   {
    "duration": 52,
    "start_time": "2023-02-11T21:14:27.051Z"
   },
   {
    "duration": 3,
    "start_time": "2023-02-11T21:14:27.104Z"
   },
   {
    "duration": 9,
    "start_time": "2023-02-11T21:14:27.109Z"
   },
   {
    "duration": 6,
    "start_time": "2023-02-11T21:14:27.119Z"
   },
   {
    "duration": 12,
    "start_time": "2023-02-11T21:14:27.127Z"
   },
   {
    "duration": 849,
    "start_time": "2023-02-11T21:14:27.140Z"
   },
   {
    "duration": 0,
    "start_time": "2023-02-11T21:14:27.991Z"
   },
   {
    "duration": 0,
    "start_time": "2023-02-11T21:14:27.993Z"
   },
   {
    "duration": 0,
    "start_time": "2023-02-11T21:14:27.994Z"
   },
   {
    "duration": 0,
    "start_time": "2023-02-11T21:14:27.995Z"
   },
   {
    "duration": 0,
    "start_time": "2023-02-11T21:14:27.996Z"
   },
   {
    "duration": 0,
    "start_time": "2023-02-11T21:14:27.997Z"
   },
   {
    "duration": 0,
    "start_time": "2023-02-11T21:14:27.999Z"
   },
   {
    "duration": 0,
    "start_time": "2023-02-11T21:14:27.999Z"
   },
   {
    "duration": 0,
    "start_time": "2023-02-11T21:14:28.000Z"
   },
   {
    "duration": 0,
    "start_time": "2023-02-11T21:14:28.001Z"
   },
   {
    "duration": 0,
    "start_time": "2023-02-11T21:14:28.002Z"
   },
   {
    "duration": 0,
    "start_time": "2023-02-11T21:14:28.003Z"
   },
   {
    "duration": 0,
    "start_time": "2023-02-11T21:14:28.005Z"
   },
   {
    "duration": 0,
    "start_time": "2023-02-11T21:14:28.006Z"
   },
   {
    "duration": 0,
    "start_time": "2023-02-11T21:14:28.007Z"
   },
   {
    "duration": 0,
    "start_time": "2023-02-11T21:14:28.008Z"
   },
   {
    "duration": 9,
    "start_time": "2023-02-11T21:16:02.088Z"
   },
   {
    "duration": 68,
    "start_time": "2023-02-11T21:16:22.981Z"
   },
   {
    "duration": 10,
    "start_time": "2023-02-11T21:16:27.927Z"
   },
   {
    "duration": 3,
    "start_time": "2023-02-11T21:17:11.385Z"
   },
   {
    "duration": 5,
    "start_time": "2023-02-11T21:17:14.358Z"
   },
   {
    "duration": 623,
    "start_time": "2023-02-11T21:21:16.090Z"
   },
   {
    "duration": 10,
    "start_time": "2023-02-11T21:21:37.317Z"
   },
   {
    "duration": 100,
    "start_time": "2023-02-11T21:22:26.321Z"
   },
   {
    "duration": 9,
    "start_time": "2023-02-11T21:22:38.500Z"
   },
   {
    "duration": 725,
    "start_time": "2023-02-11T21:22:40.561Z"
   },
   {
    "duration": 264,
    "start_time": "2023-02-11T21:22:41.288Z"
   },
   {
    "duration": 344,
    "start_time": "2023-02-11T21:22:41.553Z"
   },
   {
    "duration": 305,
    "start_time": "2023-02-11T21:22:41.900Z"
   },
   {
    "duration": 299,
    "start_time": "2023-02-11T21:22:42.207Z"
   },
   {
    "duration": 4,
    "start_time": "2023-02-11T21:22:42.508Z"
   },
   {
    "duration": 6,
    "start_time": "2023-02-11T21:22:42.513Z"
   },
   {
    "duration": 5,
    "start_time": "2023-02-11T21:22:42.520Z"
   },
   {
    "duration": 5,
    "start_time": "2023-02-11T21:22:42.527Z"
   },
   {
    "duration": 300,
    "start_time": "2023-02-11T21:22:42.534Z"
   },
   {
    "duration": 3,
    "start_time": "2023-02-11T21:22:42.836Z"
   },
   {
    "duration": 6,
    "start_time": "2023-02-11T21:22:42.841Z"
   },
   {
    "duration": 19,
    "start_time": "2023-02-11T21:22:42.849Z"
   },
   {
    "duration": 31,
    "start_time": "2023-02-11T21:22:43.057Z"
   },
   {
    "duration": 3,
    "start_time": "2023-02-11T21:22:43.249Z"
   },
   {
    "duration": 12,
    "start_time": "2023-02-11T21:22:44.108Z"
   },
   {
    "duration": 1246,
    "start_time": "2023-02-11T21:23:04.559Z"
   },
   {
    "duration": 16,
    "start_time": "2023-02-11T21:23:30.282Z"
   },
   {
    "duration": 1247,
    "start_time": "2023-02-11T21:25:57.194Z"
   },
   {
    "duration": 1259,
    "start_time": "2023-02-11T21:26:28.102Z"
   },
   {
    "duration": 1293,
    "start_time": "2023-02-11T21:26:54.221Z"
   },
   {
    "duration": 14,
    "start_time": "2023-02-11T21:27:04.283Z"
   },
   {
    "duration": 5,
    "start_time": "2023-02-11T21:27:41.824Z"
   },
   {
    "duration": 3,
    "start_time": "2023-02-11T21:27:43.385Z"
   },
   {
    "duration": 1696,
    "start_time": "2023-02-11T21:27:43.526Z"
   },
   {
    "duration": 8,
    "start_time": "2023-02-11T21:34:01.997Z"
   },
   {
    "duration": 3,
    "start_time": "2023-02-11T21:34:02.196Z"
   },
   {
    "duration": 5,
    "start_time": "2023-02-11T21:35:13.023Z"
   },
   {
    "duration": 7,
    "start_time": "2023-02-11T21:35:13.417Z"
   },
   {
    "duration": 7,
    "start_time": "2023-02-11T21:35:26.162Z"
   },
   {
    "duration": 5,
    "start_time": "2023-02-11T21:35:27.464Z"
   },
   {
    "duration": 9,
    "start_time": "2023-02-11T21:35:27.625Z"
   },
   {
    "duration": 13,
    "start_time": "2023-02-11T21:35:27.804Z"
   },
   {
    "duration": 4,
    "start_time": "2023-02-11T21:35:27.946Z"
   },
   {
    "duration": 2143,
    "start_time": "2023-02-11T21:35:28.103Z"
   },
   {
    "duration": 6,
    "start_time": "2023-02-11T21:35:42.453Z"
   },
   {
    "duration": 14055,
    "start_time": "2023-02-11T21:35:42.657Z"
   },
   {
    "duration": 4,
    "start_time": "2023-02-11T21:36:56.514Z"
   },
   {
    "duration": 10,
    "start_time": "2023-02-11T21:36:56.700Z"
   },
   {
    "duration": 9,
    "start_time": "2023-02-11T21:36:56.864Z"
   },
   {
    "duration": 8949,
    "start_time": "2023-02-11T21:36:57.091Z"
   },
   {
    "duration": 0,
    "start_time": "2023-02-11T21:37:06.042Z"
   },
   {
    "duration": 1307,
    "start_time": "2023-02-11T21:37:26.287Z"
   },
   {
    "duration": 853,
    "start_time": "2023-02-11T21:37:27.596Z"
   },
   {
    "duration": 64,
    "start_time": "2023-02-11T21:37:28.452Z"
   },
   {
    "duration": 33,
    "start_time": "2023-02-11T21:37:28.517Z"
   },
   {
    "duration": 48,
    "start_time": "2023-02-11T21:37:28.552Z"
   },
   {
    "duration": 282,
    "start_time": "2023-02-11T21:37:28.601Z"
   },
   {
    "duration": 28,
    "start_time": "2023-02-11T21:37:28.888Z"
   },
   {
    "duration": 31,
    "start_time": "2023-02-11T21:37:28.918Z"
   },
   {
    "duration": 3,
    "start_time": "2023-02-11T21:37:28.951Z"
   },
   {
    "duration": 48,
    "start_time": "2023-02-11T21:37:28.956Z"
   },
   {
    "duration": 22,
    "start_time": "2023-02-11T21:37:29.006Z"
   },
   {
    "duration": 14,
    "start_time": "2023-02-11T21:37:29.030Z"
   },
   {
    "duration": 7,
    "start_time": "2023-02-11T21:37:29.046Z"
   },
   {
    "duration": 678,
    "start_time": "2023-02-11T21:37:29.056Z"
   },
   {
    "duration": 324,
    "start_time": "2023-02-11T21:37:29.737Z"
   },
   {
    "duration": 389,
    "start_time": "2023-02-11T21:37:30.068Z"
   },
   {
    "duration": 297,
    "start_time": "2023-02-11T21:37:30.459Z"
   },
   {
    "duration": 355,
    "start_time": "2023-02-11T21:37:30.758Z"
   },
   {
    "duration": 5,
    "start_time": "2023-02-11T21:37:31.118Z"
   },
   {
    "duration": 34,
    "start_time": "2023-02-11T21:37:31.125Z"
   },
   {
    "duration": 64,
    "start_time": "2023-02-11T21:37:31.162Z"
   },
   {
    "duration": 27,
    "start_time": "2023-02-11T21:37:31.228Z"
   },
   {
    "duration": 335,
    "start_time": "2023-02-11T21:37:31.258Z"
   },
   {
    "duration": 4,
    "start_time": "2023-02-11T21:37:31.594Z"
   },
   {
    "duration": 33,
    "start_time": "2023-02-11T21:37:31.600Z"
   },
   {
    "duration": 24,
    "start_time": "2023-02-11T21:37:31.635Z"
   },
   {
    "duration": 58,
    "start_time": "2023-02-11T21:37:31.661Z"
   },
   {
    "duration": 19,
    "start_time": "2023-02-11T21:37:31.721Z"
   },
   {
    "duration": 160,
    "start_time": "2023-02-11T21:37:31.741Z"
   },
   {
    "duration": 0,
    "start_time": "2023-02-11T21:37:31.903Z"
   },
   {
    "duration": 0,
    "start_time": "2023-02-11T21:37:31.904Z"
   },
   {
    "duration": 3,
    "start_time": "2023-02-11T21:37:40.821Z"
   },
   {
    "duration": 49566,
    "start_time": "2023-02-11T21:37:41.297Z"
   },
   {
    "duration": 0,
    "start_time": "2023-02-11T21:38:30.879Z"
   },
   {
    "duration": 1488,
    "start_time": "2023-02-11T21:38:34.604Z"
   },
   {
    "duration": 1104,
    "start_time": "2023-02-11T21:38:36.096Z"
   },
   {
    "duration": 59,
    "start_time": "2023-02-11T21:38:37.201Z"
   },
   {
    "duration": 81,
    "start_time": "2023-02-11T21:38:37.267Z"
   },
   {
    "duration": 52,
    "start_time": "2023-02-11T21:38:37.351Z"
   },
   {
    "duration": 332,
    "start_time": "2023-02-11T21:38:37.405Z"
   },
   {
    "duration": 17,
    "start_time": "2023-02-11T21:38:37.739Z"
   },
   {
    "duration": 54,
    "start_time": "2023-02-11T21:38:37.757Z"
   },
   {
    "duration": 28,
    "start_time": "2023-02-11T21:38:37.814Z"
   },
   {
    "duration": 20,
    "start_time": "2023-02-11T21:38:37.844Z"
   },
   {
    "duration": 60,
    "start_time": "2023-02-11T21:38:37.866Z"
   },
   {
    "duration": 26,
    "start_time": "2023-02-11T21:38:37.929Z"
   },
   {
    "duration": 64,
    "start_time": "2023-02-11T21:38:37.957Z"
   },
   {
    "duration": 551,
    "start_time": "2023-02-11T21:38:38.024Z"
   },
   {
    "duration": 243,
    "start_time": "2023-02-11T21:38:38.582Z"
   },
   {
    "duration": 384,
    "start_time": "2023-02-11T21:38:38.827Z"
   },
   {
    "duration": 287,
    "start_time": "2023-02-11T21:38:39.213Z"
   },
   {
    "duration": 442,
    "start_time": "2023-02-11T21:38:39.504Z"
   },
   {
    "duration": 15,
    "start_time": "2023-02-11T21:38:39.954Z"
   },
   {
    "duration": 122,
    "start_time": "2023-02-11T21:38:39.976Z"
   },
   {
    "duration": 141,
    "start_time": "2023-02-11T21:38:40.105Z"
   },
   {
    "duration": 12,
    "start_time": "2023-02-11T21:38:40.248Z"
   },
   {
    "duration": 407,
    "start_time": "2023-02-11T21:38:40.262Z"
   },
   {
    "duration": 4,
    "start_time": "2023-02-11T21:38:40.674Z"
   },
   {
    "duration": 45,
    "start_time": "2023-02-11T21:38:40.683Z"
   },
   {
    "duration": 11,
    "start_time": "2023-02-11T21:38:40.730Z"
   },
   {
    "duration": 14,
    "start_time": "2023-02-11T21:38:40.743Z"
   },
   {
    "duration": 45,
    "start_time": "2023-02-11T21:38:40.759Z"
   },
   {
    "duration": 16,
    "start_time": "2023-02-11T21:38:40.808Z"
   },
   {
    "duration": 254270,
    "start_time": "2023-02-11T21:38:40.826Z"
   },
   {
    "duration": 0,
    "start_time": "2023-02-11T21:42:55.099Z"
   },
   {
    "duration": 1315,
    "start_time": "2023-02-11T21:46:07.284Z"
   },
   {
    "duration": 1000,
    "start_time": "2023-02-11T21:46:08.608Z"
   },
   {
    "duration": 77,
    "start_time": "2023-02-11T21:46:09.615Z"
   },
   {
    "duration": 39,
    "start_time": "2023-02-11T21:46:09.703Z"
   },
   {
    "duration": 66,
    "start_time": "2023-02-11T21:46:09.745Z"
   },
   {
    "duration": 330,
    "start_time": "2023-02-11T21:46:09.818Z"
   },
   {
    "duration": 40,
    "start_time": "2023-02-11T21:46:10.151Z"
   },
   {
    "duration": 37,
    "start_time": "2023-02-11T21:46:10.196Z"
   },
   {
    "duration": 3,
    "start_time": "2023-02-11T21:46:10.235Z"
   },
   {
    "duration": 25,
    "start_time": "2023-02-11T21:46:10.240Z"
   },
   {
    "duration": 50,
    "start_time": "2023-02-11T21:46:10.269Z"
   },
   {
    "duration": 6,
    "start_time": "2023-02-11T21:46:10.322Z"
   },
   {
    "duration": 11,
    "start_time": "2023-02-11T21:46:10.330Z"
   },
   {
    "duration": 580,
    "start_time": "2023-02-11T21:46:10.345Z"
   },
   {
    "duration": 315,
    "start_time": "2023-02-11T21:46:10.927Z"
   },
   {
    "duration": 350,
    "start_time": "2023-02-11T21:46:11.243Z"
   },
   {
    "duration": 281,
    "start_time": "2023-02-11T21:46:11.601Z"
   },
   {
    "duration": 345,
    "start_time": "2023-02-11T21:46:11.889Z"
   },
   {
    "duration": 4,
    "start_time": "2023-02-11T21:46:12.238Z"
   },
   {
    "duration": 67,
    "start_time": "2023-02-11T21:46:12.245Z"
   },
   {
    "duration": 7,
    "start_time": "2023-02-11T21:46:12.314Z"
   },
   {
    "duration": 8,
    "start_time": "2023-02-11T21:46:12.323Z"
   },
   {
    "duration": 347,
    "start_time": "2023-02-11T21:46:12.333Z"
   },
   {
    "duration": 9,
    "start_time": "2023-02-11T21:46:12.684Z"
   },
   {
    "duration": 34,
    "start_time": "2023-02-11T21:46:12.697Z"
   },
   {
    "duration": 12,
    "start_time": "2023-02-11T21:46:12.733Z"
   },
   {
    "duration": 12,
    "start_time": "2023-02-11T21:46:12.746Z"
   },
   {
    "duration": 55,
    "start_time": "2023-02-11T21:46:12.760Z"
   },
   {
    "duration": 6,
    "start_time": "2023-02-11T21:46:12.817Z"
   },
   {
    "duration": 324849,
    "start_time": "2023-02-11T21:46:12.824Z"
   },
   {
    "duration": 0,
    "start_time": "2023-02-11T21:51:37.678Z"
   },
   {
    "duration": 1331,
    "start_time": "2023-02-11T21:51:42.017Z"
   },
   {
    "duration": 879,
    "start_time": "2023-02-11T21:51:43.350Z"
   },
   {
    "duration": 54,
    "start_time": "2023-02-11T21:51:44.230Z"
   },
   {
    "duration": 37,
    "start_time": "2023-02-11T21:51:44.289Z"
   },
   {
    "duration": 65,
    "start_time": "2023-02-11T21:51:44.329Z"
   },
   {
    "duration": 316,
    "start_time": "2023-02-11T21:51:44.405Z"
   },
   {
    "duration": 21,
    "start_time": "2023-02-11T21:51:44.723Z"
   },
   {
    "duration": 98,
    "start_time": "2023-02-11T21:51:44.746Z"
   },
   {
    "duration": 3,
    "start_time": "2023-02-11T21:51:44.847Z"
   },
   {
    "duration": 18,
    "start_time": "2023-02-11T21:51:44.852Z"
   },
   {
    "duration": 62,
    "start_time": "2023-02-11T21:51:44.873Z"
   },
   {
    "duration": 14,
    "start_time": "2023-02-11T21:51:44.938Z"
   },
   {
    "duration": 37,
    "start_time": "2023-02-11T21:51:44.954Z"
   },
   {
    "duration": 668,
    "start_time": "2023-02-11T21:51:44.994Z"
   },
   {
    "duration": 351,
    "start_time": "2023-02-11T21:51:45.664Z"
   },
   {
    "duration": 377,
    "start_time": "2023-02-11T21:51:46.018Z"
   },
   {
    "duration": 303,
    "start_time": "2023-02-11T21:51:46.399Z"
   },
   {
    "duration": 317,
    "start_time": "2023-02-11T21:51:46.704Z"
   },
   {
    "duration": 7,
    "start_time": "2023-02-11T21:51:47.023Z"
   },
   {
    "duration": 13,
    "start_time": "2023-02-11T21:51:47.033Z"
   },
   {
    "duration": 71,
    "start_time": "2023-02-11T21:51:47.048Z"
   },
   {
    "duration": 15,
    "start_time": "2023-02-11T21:51:47.121Z"
   },
   {
    "duration": 297,
    "start_time": "2023-02-11T21:51:47.138Z"
   },
   {
    "duration": 3,
    "start_time": "2023-02-11T21:51:47.437Z"
   },
   {
    "duration": 7,
    "start_time": "2023-02-11T21:51:47.442Z"
   },
   {
    "duration": 16,
    "start_time": "2023-02-11T21:51:47.451Z"
   },
   {
    "duration": 21,
    "start_time": "2023-02-11T21:51:47.469Z"
   },
   {
    "duration": 47,
    "start_time": "2023-02-11T21:51:47.495Z"
   },
   {
    "duration": 14,
    "start_time": "2023-02-11T21:51:47.545Z"
   },
   {
    "duration": 167030,
    "start_time": "2023-02-11T21:51:47.561Z"
   },
   {
    "duration": 0,
    "start_time": "2023-02-11T21:54:34.599Z"
   },
   {
    "duration": 1367,
    "start_time": "2023-02-11T21:54:52.872Z"
   },
   {
    "duration": 1063,
    "start_time": "2023-02-11T21:54:54.243Z"
   },
   {
    "duration": 72,
    "start_time": "2023-02-11T21:54:55.313Z"
   },
   {
    "duration": 47,
    "start_time": "2023-02-11T21:54:55.392Z"
   },
   {
    "duration": 71,
    "start_time": "2023-02-11T21:54:55.447Z"
   },
   {
    "duration": 384,
    "start_time": "2023-02-11T21:54:55.522Z"
   },
   {
    "duration": 30,
    "start_time": "2023-02-11T21:54:55.910Z"
   },
   {
    "duration": 125,
    "start_time": "2023-02-11T21:54:55.944Z"
   },
   {
    "duration": 45,
    "start_time": "2023-02-11T21:54:56.071Z"
   },
   {
    "duration": 23,
    "start_time": "2023-02-11T21:54:56.123Z"
   },
   {
    "duration": 12,
    "start_time": "2023-02-11T21:54:56.151Z"
   },
   {
    "duration": 83,
    "start_time": "2023-02-11T21:54:56.170Z"
   },
   {
    "duration": 85,
    "start_time": "2023-02-11T21:54:56.256Z"
   },
   {
    "duration": 780,
    "start_time": "2023-02-11T21:54:56.353Z"
   },
   {
    "duration": 354,
    "start_time": "2023-02-11T21:54:57.146Z"
   },
   {
    "duration": 424,
    "start_time": "2023-02-11T21:54:57.506Z"
   },
   {
    "duration": 334,
    "start_time": "2023-02-11T21:54:57.935Z"
   },
   {
    "duration": 379,
    "start_time": "2023-02-11T21:54:58.273Z"
   },
   {
    "duration": 6,
    "start_time": "2023-02-11T21:54:58.654Z"
   },
   {
    "duration": 153,
    "start_time": "2023-02-11T21:54:58.667Z"
   },
   {
    "duration": 39,
    "start_time": "2023-02-11T21:54:58.822Z"
   },
   {
    "duration": 43,
    "start_time": "2023-02-11T21:54:58.863Z"
   },
   {
    "duration": 396,
    "start_time": "2023-02-11T21:54:58.908Z"
   },
   {
    "duration": 5,
    "start_time": "2023-02-11T21:54:59.306Z"
   },
   {
    "duration": 33,
    "start_time": "2023-02-11T21:54:59.313Z"
   },
   {
    "duration": 9,
    "start_time": "2023-02-11T21:54:59.348Z"
   },
   {
    "duration": 12,
    "start_time": "2023-02-11T21:54:59.358Z"
   },
   {
    "duration": 73,
    "start_time": "2023-02-11T21:54:59.372Z"
   },
   {
    "duration": 21,
    "start_time": "2023-02-11T21:54:59.448Z"
   },
   {
    "duration": 1400,
    "start_time": "2023-02-11T21:57:44.833Z"
   },
   {
    "duration": 1058,
    "start_time": "2023-02-11T21:57:46.236Z"
   },
   {
    "duration": 54,
    "start_time": "2023-02-11T21:57:47.299Z"
   },
   {
    "duration": 42,
    "start_time": "2023-02-11T21:57:47.355Z"
   },
   {
    "duration": 56,
    "start_time": "2023-02-11T21:57:47.399Z"
   },
   {
    "duration": 280,
    "start_time": "2023-02-11T21:57:47.458Z"
   },
   {
    "duration": 15,
    "start_time": "2023-02-11T21:57:47.740Z"
   },
   {
    "duration": 44,
    "start_time": "2023-02-11T21:57:47.769Z"
   },
   {
    "duration": 29,
    "start_time": "2023-02-11T21:57:47.818Z"
   },
   {
    "duration": 14,
    "start_time": "2023-02-11T21:57:47.849Z"
   },
   {
    "duration": 52,
    "start_time": "2023-02-11T21:57:47.865Z"
   },
   {
    "duration": 57,
    "start_time": "2023-02-11T21:57:47.919Z"
   },
   {
    "duration": 60,
    "start_time": "2023-02-11T21:57:47.980Z"
   },
   {
    "duration": 586,
    "start_time": "2023-02-11T21:57:48.044Z"
   },
   {
    "duration": 342,
    "start_time": "2023-02-11T21:57:48.632Z"
   },
   {
    "duration": 427,
    "start_time": "2023-02-11T21:57:48.977Z"
   },
   {
    "duration": 328,
    "start_time": "2023-02-11T21:57:49.405Z"
   },
   {
    "duration": 360,
    "start_time": "2023-02-11T21:57:49.738Z"
   },
   {
    "duration": 4,
    "start_time": "2023-02-11T21:57:50.099Z"
   },
   {
    "duration": 20,
    "start_time": "2023-02-11T21:57:50.105Z"
   },
   {
    "duration": 19,
    "start_time": "2023-02-11T21:57:50.129Z"
   },
   {
    "duration": 16,
    "start_time": "2023-02-11T21:57:50.150Z"
   },
   {
    "duration": 470,
    "start_time": "2023-02-11T21:57:50.175Z"
   },
   {
    "duration": 6,
    "start_time": "2023-02-11T21:57:50.647Z"
   },
   {
    "duration": 4,
    "start_time": "2023-02-11T21:57:50.655Z"
   },
   {
    "duration": 8,
    "start_time": "2023-02-11T21:57:50.671Z"
   },
   {
    "duration": 38,
    "start_time": "2023-02-11T21:57:50.691Z"
   },
   {
    "duration": 10,
    "start_time": "2023-02-11T21:57:50.731Z"
   },
   {
    "duration": 15,
    "start_time": "2023-02-11T21:57:50.743Z"
   },
   {
    "duration": 67720,
    "start_time": "2023-02-11T21:57:50.760Z"
   },
   {
    "duration": 0,
    "start_time": "2023-02-11T21:58:58.482Z"
   },
   {
    "duration": 0,
    "start_time": "2023-02-11T21:58:58.483Z"
   },
   {
    "duration": 66657,
    "start_time": "2023-02-11T22:00:43.717Z"
   },
   {
    "duration": 59,
    "start_time": "2023-02-11T22:02:23.996Z"
   },
   {
    "duration": 14,
    "start_time": "2023-02-11T22:03:07.456Z"
   },
   {
    "duration": 104,
    "start_time": "2023-02-11T22:03:11.936Z"
   },
   {
    "duration": 9,
    "start_time": "2023-02-11T22:03:23.302Z"
   },
   {
    "duration": 537921,
    "start_time": "2023-02-11T22:05:01.130Z"
   },
   {
    "duration": 541597,
    "start_time": "2023-02-11T22:13:59.054Z"
   },
   {
    "duration": 1533,
    "start_time": "2023-02-11T22:24:04.955Z"
   },
   {
    "duration": 1072,
    "start_time": "2023-02-11T22:24:06.490Z"
   },
   {
    "duration": 65,
    "start_time": "2023-02-11T22:24:07.564Z"
   },
   {
    "duration": 51,
    "start_time": "2023-02-11T22:24:07.632Z"
   },
   {
    "duration": 48,
    "start_time": "2023-02-11T22:24:07.689Z"
   },
   {
    "duration": 303,
    "start_time": "2023-02-11T22:24:07.740Z"
   },
   {
    "duration": 41,
    "start_time": "2023-02-11T22:24:08.045Z"
   },
   {
    "duration": 56,
    "start_time": "2023-02-11T22:24:08.090Z"
   },
   {
    "duration": 3,
    "start_time": "2023-02-11T22:24:08.148Z"
   },
   {
    "duration": 59,
    "start_time": "2023-02-11T22:24:08.153Z"
   },
   {
    "duration": 23,
    "start_time": "2023-02-11T22:24:08.214Z"
   },
   {
    "duration": 6,
    "start_time": "2023-02-11T22:24:08.239Z"
   },
   {
    "duration": 9,
    "start_time": "2023-02-11T22:24:08.247Z"
   },
   {
    "duration": 579,
    "start_time": "2023-02-11T22:24:08.258Z"
   },
   {
    "duration": 294,
    "start_time": "2023-02-11T22:24:08.839Z"
   },
   {
    "duration": 401,
    "start_time": "2023-02-11T22:24:09.137Z"
   },
   {
    "duration": 330,
    "start_time": "2023-02-11T22:24:09.539Z"
   },
   {
    "duration": 317,
    "start_time": "2023-02-11T22:24:09.878Z"
   },
   {
    "duration": 6,
    "start_time": "2023-02-11T22:24:10.197Z"
   },
   {
    "duration": 34,
    "start_time": "2023-02-11T22:24:10.204Z"
   },
   {
    "duration": 10,
    "start_time": "2023-02-11T22:24:10.243Z"
   },
   {
    "duration": 5,
    "start_time": "2023-02-11T22:24:10.255Z"
   },
   {
    "duration": 422,
    "start_time": "2023-02-11T22:24:10.262Z"
   },
   {
    "duration": 13,
    "start_time": "2023-02-11T22:24:10.693Z"
   },
   {
    "duration": 25,
    "start_time": "2023-02-11T22:24:10.709Z"
   },
   {
    "duration": 9,
    "start_time": "2023-02-11T22:24:10.736Z"
   },
   {
    "duration": 10,
    "start_time": "2023-02-11T22:24:10.746Z"
   },
   {
    "duration": 33,
    "start_time": "2023-02-11T22:24:10.761Z"
   },
   {
    "duration": 36,
    "start_time": "2023-02-11T22:24:10.799Z"
   },
   {
    "duration": 511488,
    "start_time": "2023-02-11T22:24:10.837Z"
   },
   {
    "duration": 532692,
    "start_time": "2023-02-11T22:32:42.333Z"
   },
   {
    "duration": 4,
    "start_time": "2023-02-11T22:41:35.029Z"
   },
   {
    "duration": 4,
    "start_time": "2023-02-11T22:42:55.294Z"
   },
   {
    "duration": 4,
    "start_time": "2023-02-11T22:43:04.509Z"
   },
   {
    "duration": 3,
    "start_time": "2023-02-11T23:15:53.620Z"
   },
   {
    "duration": 190913,
    "start_time": "2023-02-11T23:15:53.767Z"
   },
   {
    "duration": 192489,
    "start_time": "2023-02-11T23:19:04.682Z"
   },
   {
    "duration": 10088,
    "start_time": "2023-02-11T23:26:43.891Z"
   },
   {
    "duration": 19014,
    "start_time": "2023-02-11T23:26:53.981Z"
   },
   {
    "duration": 102,
    "start_time": "2023-02-11T23:27:12.997Z"
   },
   {
    "duration": 4,
    "start_time": "2023-02-11T23:27:18.136Z"
   },
   {
    "duration": 4,
    "start_time": "2023-02-11T23:27:26.155Z"
   },
   {
    "duration": 17,
    "start_time": "2023-02-11T23:27:48.726Z"
   },
   {
    "duration": 23,
    "start_time": "2023-02-11T23:28:18.970Z"
   },
   {
    "duration": 25,
    "start_time": "2023-02-11T23:28:26.807Z"
   },
   {
    "duration": 19,
    "start_time": "2023-02-11T23:28:45.607Z"
   },
   {
    "duration": 19,
    "start_time": "2023-02-11T23:28:50.572Z"
   },
   {
    "duration": 19,
    "start_time": "2023-02-11T23:29:00.983Z"
   },
   {
    "duration": 3,
    "start_time": "2023-02-11T23:29:35.581Z"
   },
   {
    "duration": 3,
    "start_time": "2023-02-11T23:29:48.017Z"
   },
   {
    "duration": 4,
    "start_time": "2023-02-11T23:29:53.650Z"
   },
   {
    "duration": 4,
    "start_time": "2023-02-11T23:30:03.592Z"
   },
   {
    "duration": 6,
    "start_time": "2023-02-11T23:35:13.563Z"
   },
   {
    "duration": 6,
    "start_time": "2023-02-11T23:35:30.095Z"
   },
   {
    "duration": 9,
    "start_time": "2023-02-11T23:36:03.702Z"
   },
   {
    "duration": 5,
    "start_time": "2023-02-11T23:36:05.739Z"
   },
   {
    "duration": 4,
    "start_time": "2023-02-11T23:36:05.880Z"
   },
   {
    "duration": 8,
    "start_time": "2023-02-11T23:36:09.960Z"
   },
   {
    "duration": 3,
    "start_time": "2023-02-11T23:36:12.509Z"
   },
   {
    "duration": 3,
    "start_time": "2023-02-11T23:36:28.409Z"
   },
   {
    "duration": 73,
    "start_time": "2023-02-11T23:51:29.584Z"
   },
   {
    "duration": 1018,
    "start_time": "2023-02-11T23:51:36.819Z"
   },
   {
    "duration": 669,
    "start_time": "2023-02-11T23:51:37.839Z"
   },
   {
    "duration": 37,
    "start_time": "2023-02-11T23:51:38.509Z"
   },
   {
    "duration": 38,
    "start_time": "2023-02-11T23:51:38.548Z"
   },
   {
    "duration": 30,
    "start_time": "2023-02-11T23:51:38.588Z"
   },
   {
    "duration": 232,
    "start_time": "2023-02-11T23:51:38.620Z"
   },
   {
    "duration": 23,
    "start_time": "2023-02-11T23:51:38.854Z"
   },
   {
    "duration": 30,
    "start_time": "2023-02-11T23:51:38.879Z"
   },
   {
    "duration": 3,
    "start_time": "2023-02-11T23:51:38.910Z"
   },
   {
    "duration": 17,
    "start_time": "2023-02-11T23:51:38.915Z"
   },
   {
    "duration": 5,
    "start_time": "2023-02-11T23:51:38.934Z"
   },
   {
    "duration": 5,
    "start_time": "2023-02-11T23:51:38.940Z"
   },
   {
    "duration": 27,
    "start_time": "2023-02-11T23:51:38.947Z"
   },
   {
    "duration": 443,
    "start_time": "2023-02-11T23:51:38.976Z"
   },
   {
    "duration": 214,
    "start_time": "2023-02-11T23:51:39.421Z"
   },
   {
    "duration": 298,
    "start_time": "2023-02-11T23:51:39.636Z"
   },
   {
    "duration": 251,
    "start_time": "2023-02-11T23:51:39.936Z"
   },
   {
    "duration": 270,
    "start_time": "2023-02-11T23:51:40.189Z"
   },
   {
    "duration": 6,
    "start_time": "2023-02-11T23:51:40.461Z"
   },
   {
    "duration": 27,
    "start_time": "2023-02-11T23:51:40.469Z"
   },
   {
    "duration": 10,
    "start_time": "2023-02-11T23:51:40.497Z"
   },
   {
    "duration": 19,
    "start_time": "2023-02-11T23:51:40.508Z"
   },
   {
    "duration": 248,
    "start_time": "2023-02-11T23:51:40.528Z"
   },
   {
    "duration": 3,
    "start_time": "2023-02-11T23:51:40.777Z"
   },
   {
    "duration": 17,
    "start_time": "2023-02-11T23:51:40.781Z"
   },
   {
    "duration": 11,
    "start_time": "2023-02-11T23:51:40.799Z"
   },
   {
    "duration": 25,
    "start_time": "2023-02-11T23:51:40.811Z"
   },
   {
    "duration": 382976,
    "start_time": "2023-02-11T23:51:40.838Z"
   },
   {
    "duration": 407342,
    "start_time": "2023-02-11T23:58:03.815Z"
   },
   {
    "duration": 13,
    "start_time": "2023-02-12T00:04:51.159Z"
   },
   {
    "duration": 18,
    "start_time": "2023-02-12T00:04:51.177Z"
   },
   {
    "duration": 198285,
    "start_time": "2023-02-12T00:04:51.196Z"
   },
   {
    "duration": 195417,
    "start_time": "2023-02-12T00:08:09.483Z"
   },
   {
    "duration": 3,
    "start_time": "2023-02-12T00:11:24.902Z"
   },
   {
    "duration": 10427,
    "start_time": "2023-02-12T00:11:24.906Z"
   },
   {
    "duration": 18914,
    "start_time": "2023-02-12T00:11:35.335Z"
   },
   {
    "duration": 3,
    "start_time": "2023-02-12T00:11:54.251Z"
   },
   {
    "duration": 23,
    "start_time": "2023-02-12T00:11:54.255Z"
   },
   {
    "duration": 8,
    "start_time": "2023-02-12T00:11:54.280Z"
   },
   {
    "duration": 10,
    "start_time": "2023-02-12T00:11:54.289Z"
   },
   {
    "duration": 1198,
    "start_time": "2023-02-12T21:45:31.376Z"
   },
   {
    "duration": 3238,
    "start_time": "2023-02-12T21:45:32.577Z"
   },
   {
    "duration": 52,
    "start_time": "2023-02-12T21:45:35.818Z"
   },
   {
    "duration": 37,
    "start_time": "2023-02-12T21:45:35.872Z"
   },
   {
    "duration": 37,
    "start_time": "2023-02-12T21:45:36.958Z"
   },
   {
    "duration": 40,
    "start_time": "2023-02-12T21:46:22.718Z"
   },
   {
    "duration": 219,
    "start_time": "2023-02-12T21:46:24.131Z"
   },
   {
    "duration": 14,
    "start_time": "2023-02-12T21:46:25.579Z"
   },
   {
    "duration": 87,
    "start_time": "2023-02-12T21:46:27.241Z"
   },
   {
    "duration": 3,
    "start_time": "2023-02-12T21:46:30.119Z"
   },
   {
    "duration": 6,
    "start_time": "2023-02-12T21:46:30.641Z"
   },
   {
    "duration": 4,
    "start_time": "2023-02-12T21:46:31.275Z"
   },
   {
    "duration": 6,
    "start_time": "2023-02-12T21:46:35.642Z"
   },
   {
    "duration": 12,
    "start_time": "2023-02-12T21:46:53.004Z"
   },
   {
    "duration": 598,
    "start_time": "2023-02-12T21:46:55.180Z"
   },
   {
    "duration": 195,
    "start_time": "2023-02-12T21:46:57.980Z"
   },
   {
    "duration": 278,
    "start_time": "2023-02-12T21:46:58.379Z"
   },
   {
    "duration": 1222,
    "start_time": "2023-02-12T21:47:41.229Z"
   },
   {
    "duration": 228,
    "start_time": "2023-02-12T21:48:10.724Z"
   },
   {
    "duration": 7,
    "start_time": "2023-02-12T21:49:42.616Z"
   },
   {
    "duration": 52,
    "start_time": "2023-02-12T21:49:48.781Z"
   },
   {
    "duration": 320,
    "start_time": "2023-02-12T21:49:53.311Z"
   },
   {
    "duration": 328,
    "start_time": "2023-02-12T21:50:17.589Z"
   },
   {
    "duration": 16,
    "start_time": "2023-02-12T21:51:51.362Z"
   },
   {
    "duration": 12,
    "start_time": "2023-02-12T21:52:06.076Z"
   },
   {
    "duration": 1332,
    "start_time": "2023-02-12T21:52:25.472Z"
   },
   {
    "duration": 711,
    "start_time": "2023-02-12T21:52:26.807Z"
   },
   {
    "duration": 34,
    "start_time": "2023-02-12T21:52:27.520Z"
   },
   {
    "duration": 35,
    "start_time": "2023-02-12T21:52:27.556Z"
   },
   {
    "duration": 31,
    "start_time": "2023-02-12T21:52:27.592Z"
   },
   {
    "duration": 234,
    "start_time": "2023-02-12T21:52:27.624Z"
   },
   {
    "duration": 14,
    "start_time": "2023-02-12T21:52:27.867Z"
   },
   {
    "duration": 96,
    "start_time": "2023-02-12T21:52:27.882Z"
   },
   {
    "duration": 3,
    "start_time": "2023-02-12T21:52:27.979Z"
   },
   {
    "duration": 19,
    "start_time": "2023-02-12T21:52:27.984Z"
   },
   {
    "duration": 16,
    "start_time": "2023-02-12T21:52:28.004Z"
   },
   {
    "duration": 30,
    "start_time": "2023-02-12T21:52:28.022Z"
   },
   {
    "duration": 121,
    "start_time": "2023-02-12T21:52:28.053Z"
   },
   {
    "duration": 0,
    "start_time": "2023-02-12T21:52:28.176Z"
   },
   {
    "duration": 0,
    "start_time": "2023-02-12T21:52:28.177Z"
   },
   {
    "duration": 0,
    "start_time": "2023-02-12T21:52:28.177Z"
   },
   {
    "duration": 0,
    "start_time": "2023-02-12T21:52:28.178Z"
   },
   {
    "duration": 0,
    "start_time": "2023-02-12T21:52:28.179Z"
   },
   {
    "duration": 0,
    "start_time": "2023-02-12T21:52:28.180Z"
   },
   {
    "duration": 0,
    "start_time": "2023-02-12T21:52:28.180Z"
   },
   {
    "duration": 0,
    "start_time": "2023-02-12T21:52:28.181Z"
   },
   {
    "duration": 0,
    "start_time": "2023-02-12T21:52:28.182Z"
   },
   {
    "duration": 0,
    "start_time": "2023-02-12T21:52:28.183Z"
   },
   {
    "duration": 0,
    "start_time": "2023-02-12T21:52:28.184Z"
   },
   {
    "duration": 0,
    "start_time": "2023-02-12T21:52:28.185Z"
   },
   {
    "duration": 0,
    "start_time": "2023-02-12T21:52:28.185Z"
   },
   {
    "duration": 0,
    "start_time": "2023-02-12T21:52:28.186Z"
   },
   {
    "duration": 0,
    "start_time": "2023-02-12T21:52:28.187Z"
   },
   {
    "duration": 0,
    "start_time": "2023-02-12T21:52:28.188Z"
   },
   {
    "duration": 0,
    "start_time": "2023-02-12T21:52:28.189Z"
   },
   {
    "duration": 0,
    "start_time": "2023-02-12T21:52:28.190Z"
   },
   {
    "duration": 0,
    "start_time": "2023-02-12T21:52:28.190Z"
   },
   {
    "duration": 1,
    "start_time": "2023-02-12T21:52:28.191Z"
   },
   {
    "duration": 0,
    "start_time": "2023-02-12T21:52:28.192Z"
   },
   {
    "duration": 0,
    "start_time": "2023-02-12T21:52:28.193Z"
   },
   {
    "duration": 0,
    "start_time": "2023-02-12T21:52:28.194Z"
   },
   {
    "duration": 0,
    "start_time": "2023-02-12T21:52:28.195Z"
   },
   {
    "duration": 0,
    "start_time": "2023-02-12T21:52:28.196Z"
   },
   {
    "duration": 0,
    "start_time": "2023-02-12T21:52:28.197Z"
   },
   {
    "duration": 0,
    "start_time": "2023-02-12T21:52:28.198Z"
   },
   {
    "duration": 0,
    "start_time": "2023-02-12T21:52:28.198Z"
   },
   {
    "duration": 0,
    "start_time": "2023-02-12T21:52:28.199Z"
   },
   {
    "duration": 0,
    "start_time": "2023-02-12T21:52:28.200Z"
   },
   {
    "duration": 7,
    "start_time": "2023-02-12T21:53:03.939Z"
   },
   {
    "duration": 242,
    "start_time": "2023-02-12T21:53:06.997Z"
   },
   {
    "duration": 212,
    "start_time": "2023-02-12T21:53:07.271Z"
   },
   {
    "duration": 268,
    "start_time": "2023-02-12T21:53:08.021Z"
   },
   {
    "duration": 218,
    "start_time": "2023-02-12T21:53:08.511Z"
   },
   {
    "duration": 362,
    "start_time": "2023-02-12T21:53:15.546Z"
   },
   {
    "duration": 411,
    "start_time": "2023-02-12T21:53:15.909Z"
   },
   {
    "duration": 4,
    "start_time": "2023-02-12T21:53:33.474Z"
   },
   {
    "duration": 4,
    "start_time": "2023-02-12T21:53:33.843Z"
   },
   {
    "duration": 4,
    "start_time": "2023-02-12T21:53:34.170Z"
   },
   {
    "duration": 5,
    "start_time": "2023-02-12T21:53:34.480Z"
   },
   {
    "duration": 286,
    "start_time": "2023-02-12T21:53:34.842Z"
   },
   {
    "duration": 2,
    "start_time": "2023-02-12T21:55:08.515Z"
   },
   {
    "duration": 3,
    "start_time": "2023-02-12T21:55:10.166Z"
   },
   {
    "duration": 1410,
    "start_time": "2023-02-12T22:00:57.542Z"
   },
   {
    "duration": 690,
    "start_time": "2023-02-12T22:00:58.953Z"
   },
   {
    "duration": 46,
    "start_time": "2023-02-12T22:00:59.647Z"
   },
   {
    "duration": 30,
    "start_time": "2023-02-12T22:00:59.695Z"
   },
   {
    "duration": 61,
    "start_time": "2023-02-12T22:00:59.726Z"
   },
   {
    "duration": 235,
    "start_time": "2023-02-12T22:00:59.789Z"
   },
   {
    "duration": 14,
    "start_time": "2023-02-12T22:01:00.026Z"
   },
   {
    "duration": 100,
    "start_time": "2023-02-12T22:01:00.041Z"
   },
   {
    "duration": 3,
    "start_time": "2023-02-12T22:01:00.143Z"
   },
   {
    "duration": 11,
    "start_time": "2023-02-12T22:01:00.148Z"
   },
   {
    "duration": 8,
    "start_time": "2023-02-12T22:01:00.167Z"
   },
   {
    "duration": 11,
    "start_time": "2023-02-12T22:01:00.177Z"
   },
   {
    "duration": 16,
    "start_time": "2023-02-12T22:01:00.190Z"
   },
   {
    "duration": 246,
    "start_time": "2023-02-12T22:01:00.207Z"
   },
   {
    "duration": 238,
    "start_time": "2023-02-12T22:01:00.455Z"
   },
   {
    "duration": 320,
    "start_time": "2023-02-12T22:01:00.694Z"
   },
   {
    "duration": 244,
    "start_time": "2023-02-12T22:01:01.016Z"
   },
   {
    "duration": 358,
    "start_time": "2023-02-12T22:01:01.262Z"
   },
   {
    "duration": 422,
    "start_time": "2023-02-12T22:01:01.622Z"
   },
   {
    "duration": 4,
    "start_time": "2023-02-12T22:01:02.046Z"
   },
   {
    "duration": 10,
    "start_time": "2023-02-12T22:01:02.051Z"
   },
   {
    "duration": 4,
    "start_time": "2023-02-12T22:01:02.066Z"
   },
   {
    "duration": 9,
    "start_time": "2023-02-12T22:01:02.072Z"
   },
   {
    "duration": 257,
    "start_time": "2023-02-12T22:01:02.082Z"
   },
   {
    "duration": 3,
    "start_time": "2023-02-12T22:01:02.340Z"
   },
   {
    "duration": 9,
    "start_time": "2023-02-12T22:01:02.345Z"
   },
   {
    "duration": 10,
    "start_time": "2023-02-12T22:01:02.357Z"
   },
   {
    "duration": 10,
    "start_time": "2023-02-12T22:01:02.368Z"
   },
   {
    "duration": 8,
    "start_time": "2023-02-12T22:01:02.380Z"
   },
   {
    "duration": 525941,
    "start_time": "2023-02-12T22:01:02.390Z"
   },
   {
    "duration": 548378,
    "start_time": "2023-02-12T22:09:48.333Z"
   },
   {
    "duration": 3,
    "start_time": "2023-02-12T22:18:56.713Z"
   },
   {
    "duration": 5,
    "start_time": "2023-02-12T22:18:56.718Z"
   },
   {
    "duration": 286981,
    "start_time": "2023-02-12T22:18:56.725Z"
   },
   {
    "duration": 288686,
    "start_time": "2023-02-12T22:23:43.708Z"
   },
   {
    "duration": 4,
    "start_time": "2023-02-12T22:28:32.396Z"
   },
   {
    "duration": 15061,
    "start_time": "2023-02-12T22:28:32.402Z"
   },
   {
    "duration": 27371,
    "start_time": "2023-02-12T22:28:47.464Z"
   },
   {
    "duration": 161,
    "start_time": "2023-02-12T22:29:14.837Z"
   },
   {
    "duration": 0,
    "start_time": "2023-02-12T22:29:14.999Z"
   },
   {
    "duration": 0,
    "start_time": "2023-02-12T22:29:15.001Z"
   },
   {
    "duration": 14,
    "start_time": "2023-02-12T22:35:41.943Z"
   },
   {
    "duration": 13,
    "start_time": "2023-02-12T22:35:52.567Z"
   },
   {
    "duration": 21,
    "start_time": "2023-02-12T22:36:28.590Z"
   },
   {
    "duration": 19,
    "start_time": "2023-02-12T22:36:41.646Z"
   },
   {
    "duration": 20,
    "start_time": "2023-02-12T22:36:47.718Z"
   },
   {
    "duration": 13,
    "start_time": "2023-02-12T22:36:54.720Z"
   },
   {
    "duration": 72,
    "start_time": "2023-02-12T22:37:31.672Z"
   },
   {
    "duration": 20,
    "start_time": "2023-02-12T22:37:35.602Z"
   },
   {
    "duration": 20,
    "start_time": "2023-02-12T22:37:46.340Z"
   },
   {
    "duration": 19,
    "start_time": "2023-02-12T22:37:51.725Z"
   },
   {
    "duration": 8,
    "start_time": "2023-02-12T22:54:50.856Z"
   },
   {
    "duration": 14,
    "start_time": "2023-02-12T22:55:22.539Z"
   },
   {
    "duration": 12,
    "start_time": "2023-02-12T22:55:30.098Z"
   },
   {
    "duration": 19,
    "start_time": "2023-02-12T22:56:56.381Z"
   },
   {
    "duration": 7,
    "start_time": "2023-02-12T22:57:10.799Z"
   },
   {
    "duration": 2,
    "start_time": "2023-02-12T22:57:11.912Z"
   },
   {
    "duration": 3,
    "start_time": "2023-02-12T22:57:55.850Z"
   },
   {
    "duration": 55,
    "start_time": "2023-02-12T22:59:18.171Z"
   },
   {
    "duration": 85,
    "start_time": "2023-02-12T22:59:43.851Z"
   },
   {
    "duration": 179,
    "start_time": "2023-02-12T22:59:47.121Z"
   },
   {
    "duration": 61,
    "start_time": "2023-02-12T22:59:50.005Z"
   },
   {
    "duration": 61,
    "start_time": "2023-02-12T23:00:37.191Z"
   },
   {
    "duration": 12,
    "start_time": "2023-02-12T23:01:35.514Z"
   },
   {
    "duration": 11,
    "start_time": "2023-02-12T23:01:36.527Z"
   },
   {
    "duration": 11,
    "start_time": "2023-02-12T23:01:56.912Z"
   },
   {
    "duration": 12,
    "start_time": "2023-02-12T23:01:57.199Z"
   },
   {
    "duration": 27,
    "start_time": "2023-02-12T23:02:25.459Z"
   },
   {
    "duration": 12,
    "start_time": "2023-02-12T23:02:28.916Z"
   },
   {
    "duration": 25,
    "start_time": "2023-02-12T23:02:52.376Z"
   },
   {
    "duration": 14,
    "start_time": "2023-02-12T23:02:52.779Z"
   },
   {
    "duration": 22,
    "start_time": "2023-02-12T23:03:19.513Z"
   },
   {
    "duration": 14,
    "start_time": "2023-02-12T23:03:24.031Z"
   },
   {
    "duration": 21,
    "start_time": "2023-02-12T23:04:48.684Z"
   },
   {
    "duration": 15,
    "start_time": "2023-02-12T23:08:22.336Z"
   },
   {
    "duration": 22,
    "start_time": "2023-02-12T23:08:48.953Z"
   },
   {
    "duration": 6,
    "start_time": "2023-02-12T23:09:09.014Z"
   },
   {
    "duration": 3,
    "start_time": "2023-02-12T23:09:10.006Z"
   },
   {
    "duration": 54,
    "start_time": "2023-02-12T23:09:12.810Z"
   },
   {
    "duration": 54,
    "start_time": "2023-02-12T23:09:44.601Z"
   },
   {
    "duration": 98,
    "start_time": "2023-02-12T23:11:53.348Z"
   },
   {
    "duration": 1229,
    "start_time": "2023-02-12T23:12:10.226Z"
   },
   {
    "duration": 1215,
    "start_time": "2023-02-12T23:13:57.739Z"
   },
   {
    "duration": 1534,
    "start_time": "2023-02-12T23:15:21.923Z"
   },
   {
    "duration": 22,
    "start_time": "2023-02-12T23:16:10.683Z"
   },
   {
    "duration": 1465,
    "start_time": "2023-02-12T23:16:16.379Z"
   },
   {
    "duration": 1253,
    "start_time": "2023-02-12T23:16:27.700Z"
   },
   {
    "duration": 1344,
    "start_time": "2023-02-12T23:16:53.535Z"
   },
   {
    "duration": 31,
    "start_time": "2023-02-12T23:17:16.268Z"
   },
   {
    "duration": 20,
    "start_time": "2023-02-12T23:17:27.803Z"
   },
   {
    "duration": 24,
    "start_time": "2023-02-12T23:17:50.791Z"
   },
   {
    "duration": 5,
    "start_time": "2023-02-12T23:17:51.805Z"
   },
   {
    "duration": 1310,
    "start_time": "2023-02-12T23:17:52.295Z"
   },
   {
    "duration": 6,
    "start_time": "2023-02-12T23:18:24.462Z"
   },
   {
    "duration": 3,
    "start_time": "2023-02-12T23:18:55.520Z"
   },
   {
    "duration": 749,
    "start_time": "2023-02-12T23:18:55.525Z"
   },
   {
    "duration": 35,
    "start_time": "2023-02-12T23:18:56.283Z"
   },
   {
    "duration": 28,
    "start_time": "2023-02-12T23:18:56.320Z"
   },
   {
    "duration": 50,
    "start_time": "2023-02-12T23:18:56.350Z"
   },
   {
    "duration": 231,
    "start_time": "2023-02-12T23:18:56.401Z"
   },
   {
    "duration": 16,
    "start_time": "2023-02-12T23:18:56.633Z"
   },
   {
    "duration": 112,
    "start_time": "2023-02-12T23:18:56.650Z"
   },
   {
    "duration": 6,
    "start_time": "2023-02-12T23:18:56.763Z"
   },
   {
    "duration": 33,
    "start_time": "2023-02-12T23:18:56.774Z"
   },
   {
    "duration": 13,
    "start_time": "2023-02-12T23:18:56.809Z"
   },
   {
    "duration": 21,
    "start_time": "2023-02-12T23:18:56.824Z"
   },
   {
    "duration": 14,
    "start_time": "2023-02-12T23:18:56.847Z"
   },
   {
    "duration": 242,
    "start_time": "2023-02-12T23:18:56.863Z"
   },
   {
    "duration": 231,
    "start_time": "2023-02-12T23:18:57.107Z"
   },
   {
    "duration": 245,
    "start_time": "2023-02-12T23:18:57.339Z"
   },
   {
    "duration": 285,
    "start_time": "2023-02-12T23:18:57.589Z"
   },
   {
    "duration": 451,
    "start_time": "2023-02-12T23:18:57.878Z"
   },
   {
    "duration": 510,
    "start_time": "2023-02-12T23:18:58.331Z"
   },
   {
    "duration": 28,
    "start_time": "2023-02-12T23:19:01.448Z"
   },
   {
    "duration": 4,
    "start_time": "2023-02-12T23:19:01.837Z"
   },
   {
    "duration": 5,
    "start_time": "2023-02-12T23:19:02.338Z"
   },
   {
    "duration": 6,
    "start_time": "2023-02-12T23:19:02.699Z"
   },
   {
    "duration": 4,
    "start_time": "2023-02-12T23:19:03.084Z"
   },
   {
    "duration": 279,
    "start_time": "2023-02-12T23:19:04.004Z"
   },
   {
    "duration": 7,
    "start_time": "2023-02-12T23:20:01.613Z"
   },
   {
    "duration": 1372,
    "start_time": "2023-02-12T23:20:16.311Z"
   },
   {
    "duration": 760,
    "start_time": "2023-02-12T23:20:17.687Z"
   },
   {
    "duration": 49,
    "start_time": "2023-02-12T23:20:18.451Z"
   },
   {
    "duration": 28,
    "start_time": "2023-02-12T23:20:18.501Z"
   },
   {
    "duration": 67,
    "start_time": "2023-02-12T23:20:18.531Z"
   },
   {
    "duration": 246,
    "start_time": "2023-02-12T23:20:18.600Z"
   },
   {
    "duration": 35,
    "start_time": "2023-02-12T23:20:18.848Z"
   },
   {
    "duration": 99,
    "start_time": "2023-02-12T23:20:18.885Z"
   },
   {
    "duration": 3,
    "start_time": "2023-02-12T23:20:18.986Z"
   },
   {
    "duration": 10,
    "start_time": "2023-02-12T23:20:18.991Z"
   },
   {
    "duration": 6,
    "start_time": "2023-02-12T23:20:19.002Z"
   },
   {
    "duration": 7,
    "start_time": "2023-02-12T23:20:19.010Z"
   },
   {
    "duration": 260,
    "start_time": "2023-02-12T23:20:19.018Z"
   },
   {
    "duration": 222,
    "start_time": "2023-02-12T23:20:19.280Z"
   },
   {
    "duration": 305,
    "start_time": "2023-02-12T23:20:19.503Z"
   },
   {
    "duration": 250,
    "start_time": "2023-02-12T23:20:19.809Z"
   },
   {
    "duration": 372,
    "start_time": "2023-02-12T23:20:20.061Z"
   },
   {
    "duration": 417,
    "start_time": "2023-02-12T23:20:20.434Z"
   },
   {
    "duration": 40,
    "start_time": "2023-02-12T23:20:20.853Z"
   },
   {
    "duration": 4,
    "start_time": "2023-02-12T23:20:20.895Z"
   },
   {
    "duration": 13,
    "start_time": "2023-02-12T23:20:20.901Z"
   },
   {
    "duration": 13,
    "start_time": "2023-02-12T23:20:20.915Z"
   },
   {
    "duration": 12,
    "start_time": "2023-02-12T23:20:20.929Z"
   },
   {
    "duration": 265,
    "start_time": "2023-02-12T23:20:20.942Z"
   },
   {
    "duration": 7,
    "start_time": "2023-02-12T23:20:21.208Z"
   },
   {
    "duration": 6,
    "start_time": "2023-02-12T23:20:21.216Z"
   },
   {
    "duration": 2,
    "start_time": "2023-02-12T23:20:21.226Z"
   },
   {
    "duration": 7,
    "start_time": "2023-02-12T23:20:21.229Z"
   },
   {
    "duration": 9,
    "start_time": "2023-02-12T23:20:21.237Z"
   },
   {
    "duration": 28,
    "start_time": "2023-02-12T23:20:21.248Z"
   },
   {
    "duration": 495322,
    "start_time": "2023-02-12T23:20:21.282Z"
   },
   {
    "duration": 506204,
    "start_time": "2023-02-12T23:28:36.606Z"
   },
   {
    "duration": 4,
    "start_time": "2023-02-12T23:37:02.811Z"
   },
   {
    "duration": 7,
    "start_time": "2023-02-12T23:37:02.816Z"
   },
   {
    "duration": 254735,
    "start_time": "2023-02-12T23:37:02.824Z"
   },
   {
    "duration": 222274,
    "start_time": "2023-02-12T23:41:17.560Z"
   },
   {
    "duration": 3,
    "start_time": "2023-02-12T23:44:59.836Z"
   },
   {
    "duration": 13387,
    "start_time": "2023-02-12T23:44:59.840Z"
   },
   {
    "duration": 25172,
    "start_time": "2023-02-12T23:45:13.229Z"
   },
   {
    "duration": 14,
    "start_time": "2023-02-12T23:45:38.403Z"
   },
   {
    "duration": 6,
    "start_time": "2023-02-12T23:45:38.419Z"
   },
   {
    "duration": 4,
    "start_time": "2023-02-12T23:45:38.426Z"
   },
   {
    "duration": 87,
    "start_time": "2023-02-12T23:45:38.432Z"
   },
   {
    "duration": 0,
    "start_time": "2023-02-13T08:40:46.425Z"
   },
   {
    "duration": 0,
    "start_time": "2023-02-13T08:40:46.428Z"
   },
   {
    "duration": 0,
    "start_time": "2023-02-13T08:40:46.429Z"
   },
   {
    "duration": 3,
    "start_time": "2023-02-13T08:40:56.683Z"
   },
   {
    "duration": 6,
    "start_time": "2023-02-13T08:40:57.026Z"
   },
   {
    "duration": 5,
    "start_time": "2023-02-13T08:40:57.506Z"
   },
   {
    "duration": 5,
    "start_time": "2023-02-13T08:40:58.199Z"
   },
   {
    "duration": 4,
    "start_time": "2023-02-13T08:41:21.050Z"
   },
   {
    "duration": 4,
    "start_time": "2023-02-13T08:41:21.183Z"
   },
   {
    "duration": 5,
    "start_time": "2023-02-13T08:41:21.298Z"
   },
   {
    "duration": 1547,
    "start_time": "2023-02-13T18:09:58.505Z"
   },
   {
    "duration": 1843,
    "start_time": "2023-02-13T18:10:00.054Z"
   },
   {
    "duration": 41,
    "start_time": "2023-02-13T18:10:01.899Z"
   },
   {
    "duration": 28,
    "start_time": "2023-02-13T18:10:01.942Z"
   },
   {
    "duration": 50,
    "start_time": "2023-02-13T18:10:01.972Z"
   },
   {
    "duration": 230,
    "start_time": "2023-02-13T18:10:02.024Z"
   },
   {
    "duration": 13,
    "start_time": "2023-02-13T18:10:02.256Z"
   },
   {
    "duration": 105,
    "start_time": "2023-02-13T18:10:02.271Z"
   },
   {
    "duration": 3,
    "start_time": "2023-02-13T18:10:02.378Z"
   },
   {
    "duration": 9,
    "start_time": "2023-02-13T18:10:02.384Z"
   },
   {
    "duration": 11,
    "start_time": "2023-02-13T18:10:02.394Z"
   },
   {
    "duration": 6,
    "start_time": "2023-02-13T18:10:02.407Z"
   },
   {
    "duration": 238,
    "start_time": "2023-02-13T18:10:02.415Z"
   },
   {
    "duration": 301,
    "start_time": "2023-02-13T18:10:02.654Z"
   },
   {
    "duration": 255,
    "start_time": "2023-02-13T18:10:02.957Z"
   },
   {
    "duration": 255,
    "start_time": "2023-02-13T18:10:03.214Z"
   },
   {
    "duration": 382,
    "start_time": "2023-02-13T18:10:03.471Z"
   },
   {
    "duration": 454,
    "start_time": "2023-02-13T18:10:03.855Z"
   },
   {
    "duration": 28,
    "start_time": "2023-02-13T18:10:04.310Z"
   },
   {
    "duration": 4,
    "start_time": "2023-02-13T18:10:04.340Z"
   },
   {
    "duration": 17,
    "start_time": "2023-02-13T18:10:04.345Z"
   },
   {
    "duration": 6,
    "start_time": "2023-02-13T18:10:04.364Z"
   },
   {
    "duration": 33,
    "start_time": "2023-02-13T18:10:04.371Z"
   },
   {
    "duration": 263,
    "start_time": "2023-02-13T18:10:04.406Z"
   },
   {
    "duration": 7,
    "start_time": "2023-02-13T18:10:04.671Z"
   },
   {
    "duration": 6,
    "start_time": "2023-02-13T18:10:04.680Z"
   },
   {
    "duration": 15,
    "start_time": "2023-02-13T18:10:04.688Z"
   },
   {
    "duration": 2,
    "start_time": "2023-02-13T18:10:04.706Z"
   },
   {
    "duration": 13,
    "start_time": "2023-02-13T18:10:04.710Z"
   },
   {
    "duration": 8,
    "start_time": "2023-02-13T18:10:04.725Z"
   },
   {
    "duration": 494946,
    "start_time": "2023-02-13T18:10:04.735Z"
   },
   {
    "duration": 509704,
    "start_time": "2023-02-13T18:18:19.682Z"
   },
   {
    "duration": 4,
    "start_time": "2023-02-13T18:26:49.387Z"
   },
   {
    "duration": 22,
    "start_time": "2023-02-13T18:26:49.392Z"
   },
   {
    "duration": 263495,
    "start_time": "2023-02-13T18:26:49.416Z"
   },
   {
    "duration": 229738,
    "start_time": "2023-02-13T18:31:12.912Z"
   },
   {
    "duration": 4,
    "start_time": "2023-02-13T18:35:02.651Z"
   },
   {
    "duration": 13148,
    "start_time": "2023-02-13T18:35:02.656Z"
   },
   {
    "duration": 24962,
    "start_time": "2023-02-13T18:35:15.807Z"
   },
   {
    "duration": 13,
    "start_time": "2023-02-13T18:35:40.771Z"
   },
   {
    "duration": 6,
    "start_time": "2023-02-13T18:35:40.786Z"
   },
   {
    "duration": 23,
    "start_time": "2023-02-13T18:35:40.794Z"
   },
   {
    "duration": 62,
    "start_time": "2023-02-13T18:35:40.818Z"
   },
   {
    "duration": 1462,
    "start_time": "2023-08-03T13:37:09.919Z"
   },
   {
    "duration": 4901,
    "start_time": "2023-08-03T13:37:11.382Z"
   },
   {
    "duration": 41,
    "start_time": "2023-08-03T13:37:16.285Z"
   },
   {
    "duration": 55,
    "start_time": "2023-08-03T13:37:16.328Z"
   },
   {
    "duration": 44,
    "start_time": "2023-08-03T13:37:16.385Z"
   },
   {
    "duration": 233,
    "start_time": "2023-08-03T13:37:16.431Z"
   },
   {
    "duration": 13,
    "start_time": "2023-08-03T13:37:16.666Z"
   },
   {
    "duration": 104,
    "start_time": "2023-08-03T13:37:16.681Z"
   },
   {
    "duration": 4,
    "start_time": "2023-08-03T13:37:16.786Z"
   },
   {
    "duration": 9,
    "start_time": "2023-08-03T13:37:16.809Z"
   },
   {
    "duration": 11,
    "start_time": "2023-08-03T13:37:16.819Z"
   },
   {
    "duration": 8,
    "start_time": "2023-08-03T13:37:16.831Z"
   },
   {
    "duration": 215,
    "start_time": "2023-08-03T13:37:16.840Z"
   },
   {
    "duration": 200,
    "start_time": "2023-08-03T13:37:17.056Z"
   },
   {
    "duration": 280,
    "start_time": "2023-08-03T13:37:17.257Z"
   },
   {
    "duration": 241,
    "start_time": "2023-08-03T13:37:17.538Z"
   },
   {
    "duration": 376,
    "start_time": "2023-08-03T13:37:17.780Z"
   },
   {
    "duration": 427,
    "start_time": "2023-08-03T13:37:18.158Z"
   },
   {
    "duration": 34,
    "start_time": "2023-08-03T13:37:18.587Z"
   },
   {
    "duration": 5,
    "start_time": "2023-08-03T13:37:18.623Z"
   },
   {
    "duration": 10,
    "start_time": "2023-08-03T13:37:18.630Z"
   },
   {
    "duration": 10,
    "start_time": "2023-08-03T13:37:18.642Z"
   },
   {
    "duration": 6,
    "start_time": "2023-08-03T13:37:18.654Z"
   },
   {
    "duration": 276,
    "start_time": "2023-08-03T13:37:18.662Z"
   },
   {
    "duration": 6,
    "start_time": "2023-08-03T13:37:18.940Z"
   },
   {
    "duration": 18,
    "start_time": "2023-08-03T13:37:18.948Z"
   },
   {
    "duration": 10,
    "start_time": "2023-08-03T13:37:18.968Z"
   },
   {
    "duration": 27,
    "start_time": "2023-08-03T13:37:18.982Z"
   },
   {
    "duration": 27,
    "start_time": "2023-08-03T13:37:19.011Z"
   },
   {
    "duration": 19,
    "start_time": "2023-08-03T13:37:19.039Z"
   },
   {
    "duration": 573649,
    "start_time": "2023-08-03T13:37:19.059Z"
   },
   {
    "duration": 570972,
    "start_time": "2023-08-03T13:46:52.714Z"
   },
   {
    "duration": 2,
    "start_time": "2023-08-03T13:56:23.688Z"
   },
   {
    "duration": 30,
    "start_time": "2023-08-03T13:56:23.692Z"
   },
   {
    "duration": 286249,
    "start_time": "2023-08-03T13:56:23.724Z"
   },
   {
    "duration": 251700,
    "start_time": "2023-08-03T14:01:09.975Z"
   },
   {
    "duration": 3,
    "start_time": "2023-08-03T14:05:21.676Z"
   },
   {
    "duration": 15646,
    "start_time": "2023-08-03T14:05:21.681Z"
   },
   {
    "duration": 28565,
    "start_time": "2023-08-03T14:05:37.329Z"
   },
   {
    "duration": 31,
    "start_time": "2023-08-03T14:06:05.895Z"
   },
   {
    "duration": 18,
    "start_time": "2023-08-03T14:06:05.928Z"
   },
   {
    "duration": 27,
    "start_time": "2023-08-03T14:06:05.948Z"
   },
   {
    "duration": 60,
    "start_time": "2023-08-03T14:06:05.976Z"
   }
  ],
  "kernelspec": {
   "display_name": "Python 3 (ipykernel)",
   "language": "python",
   "name": "python3"
  },
  "language_info": {
   "codemirror_mode": {
    "name": "ipython",
    "version": 3
   },
   "file_extension": ".py",
   "mimetype": "text/x-python",
   "name": "python",
   "nbconvert_exporter": "python",
   "pygments_lexer": "ipython3",
   "version": "3.9.5"
  },
  "toc": {
   "base_numbering": 1,
   "nav_menu": {},
   "number_sections": true,
   "sideBar": true,
   "skip_h1_title": true,
   "title_cell": "Содержание",
   "title_sidebar": "Contents",
   "toc_cell": true,
   "toc_position": {
    "height": "calc(100% - 180px)",
    "left": "10px",
    "top": "150px",
    "width": "165px"
   },
   "toc_section_display": true,
   "toc_window_display": true
  }
 },
 "nbformat": 4,
 "nbformat_minor": 2
}
